{
  "cells": [
    {
      "cell_type": "code",
      "execution_count": null,
      "metadata": {
        "colab": {
          "base_uri": "https://localhost:8080/"
        },
        "id": "jsXWnc9abSrT",
        "outputId": "1f651520-f9c5-4db1-da46-b4db92bfec9b"
      },
      "outputs": [
        {
          "name": "stdout",
          "output_type": "stream",
          "text": [
            "Mounted at /content/drive\n"
          ]
        }
      ],
      "source": [
        "# from google.colab import drive\n",
        "# drive.mount('/content/drive')"
      ]
    },
    {
      "cell_type": "markdown",
      "metadata": {
        "id": "m9WrRVLYlLra"
      },
      "source": [
        "### 패키지 설치 & 라이브러리 import"
      ]
    },
    {
      "cell_type": "code",
      "execution_count": null,
      "metadata": {
        "colab": {
          "base_uri": "https://localhost:8080/"
        },
        "id": "2lPMKbVWF2Gq",
        "outputId": "1cad2f15-c23a-424d-aba9-368a353e264c"
      },
      "outputs": [
        {
          "output_type": "stream",
          "name": "stdout",
          "text": [
            "Collecting optuna\n",
            "  Downloading optuna-4.0.0-py3-none-any.whl.metadata (16 kB)\n",
            "Collecting alembic>=1.5.0 (from optuna)\n",
            "  Downloading alembic-1.13.3-py3-none-any.whl.metadata (7.4 kB)\n",
            "Collecting colorlog (from optuna)\n",
            "  Downloading colorlog-6.8.2-py3-none-any.whl.metadata (10 kB)\n",
            "Requirement already satisfied: numpy in /usr/local/lib/python3.10/dist-packages (from optuna) (1.26.4)\n",
            "Requirement already satisfied: packaging>=20.0 in /usr/local/lib/python3.10/dist-packages (from optuna) (24.1)\n",
            "Requirement already satisfied: sqlalchemy>=1.3.0 in /usr/local/lib/python3.10/dist-packages (from optuna) (2.0.35)\n",
            "Requirement already satisfied: tqdm in /usr/local/lib/python3.10/dist-packages (from optuna) (4.66.5)\n",
            "Requirement already satisfied: PyYAML in /usr/local/lib/python3.10/dist-packages (from optuna) (6.0.2)\n",
            "Collecting Mako (from alembic>=1.5.0->optuna)\n",
            "  Downloading Mako-1.3.5-py3-none-any.whl.metadata (2.9 kB)\n",
            "Requirement already satisfied: typing-extensions>=4 in /usr/local/lib/python3.10/dist-packages (from alembic>=1.5.0->optuna) (4.12.2)\n",
            "Requirement already satisfied: greenlet!=0.4.17 in /usr/local/lib/python3.10/dist-packages (from sqlalchemy>=1.3.0->optuna) (3.1.1)\n",
            "Requirement already satisfied: MarkupSafe>=0.9.2 in /usr/local/lib/python3.10/dist-packages (from Mako->alembic>=1.5.0->optuna) (3.0.1)\n",
            "Downloading optuna-4.0.0-py3-none-any.whl (362 kB)\n",
            "\u001b[2K   \u001b[90m━━━━━━━━━━━━━━━━━━━━━━━━━━━━━━━━━━━━━━━━\u001b[0m \u001b[32m362.8/362.8 kB\u001b[0m \u001b[31m14.6 MB/s\u001b[0m eta \u001b[36m0:00:00\u001b[0m\n",
            "\u001b[?25hDownloading alembic-1.13.3-py3-none-any.whl (233 kB)\n",
            "\u001b[2K   \u001b[90m━━━━━━━━━━━━━━━━━━━━━━━━━━━━━━━━━━━━━━━━\u001b[0m \u001b[32m233.2/233.2 kB\u001b[0m \u001b[31m8.8 MB/s\u001b[0m eta \u001b[36m0:00:00\u001b[0m\n",
            "\u001b[?25hDownloading colorlog-6.8.2-py3-none-any.whl (11 kB)\n",
            "Downloading Mako-1.3.5-py3-none-any.whl (78 kB)\n",
            "\u001b[2K   \u001b[90m━━━━━━━━━━━━━━━━━━━━━━━━━━━━━━━━━━━━━━━━\u001b[0m \u001b[32m78.6/78.6 kB\u001b[0m \u001b[31m4.3 MB/s\u001b[0m eta \u001b[36m0:00:00\u001b[0m\n",
            "\u001b[?25hInstalling collected packages: Mako, colorlog, alembic, optuna\n",
            "Successfully installed Mako-1.3.5 alembic-1.13.3 colorlog-6.8.2 optuna-4.0.0\n",
            "Collecting torchinfo\n",
            "  Downloading torchinfo-1.8.0-py3-none-any.whl.metadata (21 kB)\n",
            "Downloading torchinfo-1.8.0-py3-none-any.whl (23 kB)\n",
            "Installing collected packages: torchinfo\n",
            "Successfully installed torchinfo-1.8.0\n"
          ]
        }
      ],
      "source": [
        "!pip install optuna\n",
        "!pip install torchinfo"
      ]
    },
    {
      "cell_type": "code",
      "execution_count": null,
      "metadata": {
        "id": "gKd7dfaTPzbm"
      },
      "outputs": [],
      "source": [
        "import torch\n",
        "import torch.nn as nn\n",
        "from torch.utils.data import TensorDataset, DataLoader"
      ]
    },
    {
      "cell_type": "markdown",
      "metadata": {
        "id": "G_Y5diT0_CK5"
      },
      "source": [
        "## 전체 공통 함수"
      ]
    },
    {
      "cell_type": "markdown",
      "metadata": {
        "id": "Ng0CFeAZyxl2"
      },
      "source": [
        "### 1. 데이터 보간 함수"
      ]
    },
    {
      "cell_type": "markdown",
      "metadata": {
        "id": "wk6vfDy4zsh_"
      },
      "source": [
        "- 데이터의 시간 간격을 0.5초의 등간격으로 맞추고 그에 따른 좌표 값을 보간함\n",
        "- 가장 많이 사용되는 3차 스플라인 보간 적용"
      ]
    },
    {
      "cell_type": "code",
      "execution_count": null,
      "metadata": {
        "id": "MbOt2kIkQg_7"
      },
      "outputs": [],
      "source": [
        "from scipy.interpolate import interp1d\n",
        "import numpy as np\n",
        "import matplotlib.pyplot as plt\n",
        "\n",
        "# 데이터 보간 - 위도, 고도, 경도 값을 0.5초 시간 간격으로 보간\n",
        "def spline_interpolation(x, y):\n",
        "    # x: 보간할 데이터의 x 값 (시간)\n",
        "    # y: 보간할 데이터의 y 값 (위도, 고도, 경도)\n",
        "\n",
        "    # 3차 스플라인 보간 함수 생성\n",
        "    f = interp1d(x, y, kind='cubic')\n",
        "\n",
        "    # 시간 범위 설정\n",
        "    start_time = min(x)\n",
        "    end_time = max(x)\n",
        "\n",
        "    # 0.5초 간격의 시간 배열을 생성\n",
        "    new_x = np.arange(start_time, end_time, 0.5)\n",
        "\n",
        "    # 위도, 경도, 고도 보간\n",
        "    new_y = f(new_x)\n",
        "\n",
        "    return new_x, new_y"
      ]
    },
    {
      "cell_type": "markdown",
      "metadata": {
        "id": "1LTSh1vXy1fg"
      },
      "source": [
        "### 2. 시퀀스 나누는 함수"
      ]
    },
    {
      "cell_type": "markdown",
      "metadata": {
        "id": "lWB9uZyCz1Ro"
      },
      "source": [
        "- 학습을 위해 데이터를 시퀀스 형태로 나눔\n",
        "- look back과 forward에 따라 학습에 사용될 x값의 구간과 y값을 반환함\n",
        "- 초기 look back은 10, forward는 0이다."
      ]
    },
    {
      "cell_type": "code",
      "execution_count": null,
      "metadata": {
        "id": "_kmQ-_EyGFpW"
      },
      "outputs": [],
      "source": [
        "# 시퀀스 생성 함수\n",
        "# look back : 10 (5초간의 위도, 고도, 경도 데이터를 x값으로 사용)\n",
        "# forward : 0 (0.5초 뒤의 위도, 고도, 경도 데이터를 y값으로 사용)\n",
        "def create_sequences(df, look_back=10, forward=0):\n",
        "    xs = []\n",
        "    ys = []\n",
        "    for i in range(len(df) - look_back - forward):\n",
        "        x = df.iloc[i:(i+look_back)].values\n",
        "        y = df.iloc[i+look_back+forward].values\n",
        "        xs.append(x)\n",
        "        ys.append(y)\n",
        "    return np.array(xs), np.array(ys)"
      ]
    },
    {
      "cell_type": "markdown",
      "metadata": {
        "id": "eOFln2pmy4pt"
      },
      "source": [
        "### 3. 시간 소수점 절사 함수"
      ]
    },
    {
      "cell_type": "markdown",
      "metadata": {
        "id": "CDwOPPA05KGE"
      },
      "source": [
        "- 불필요한 시간 소수점 제거"
      ]
    },
    {
      "cell_type": "code",
      "execution_count": null,
      "metadata": {
        "id": "CFiscMuBSycb"
      },
      "outputs": [],
      "source": [
        "import math\n",
        "\n",
        "# 시간 소수점 절사 함수\n",
        "def truncation(df):\n",
        "    new_time = []\n",
        "\n",
        "    for a in df['time']:\n",
        "      new_time.append(math.floor(a * 10) / 10)\n",
        "\n",
        "    df['time'] = new_time\n",
        "\n",
        "    return df"
      ]
    },
    {
      "cell_type": "markdown",
      "metadata": {
        "id": "-rOFnV17y8Q-"
      },
      "source": [
        "### 4. 스케일링 함수"
      ]
    },
    {
      "cell_type": "markdown",
      "metadata": {
        "id": "442iH9qd_UIt"
      },
      "source": [
        "- MinMaxScaling 적용 함수\n"
      ]
    },
    {
      "cell_type": "code",
      "execution_count": null,
      "metadata": {
        "id": "zR9B-lKYNgs8"
      },
      "outputs": [],
      "source": [
        "from sklearn.preprocessing import MinMaxScaler\n",
        "\n",
        "# MinMaxScaling 적용 함수\n",
        "def min_max_scaling(df):\n",
        "\n",
        "    # time 삭제 df 생성\n",
        "    mid_df=df.drop(columns='time')\n",
        "\n",
        "    min_max_scaler = MinMaxScaler()\n",
        "    min_max_scaler.fit(mid_df)\n",
        "\n",
        "    min_max_data = min_max_scaler.transform(mid_df)\n",
        "\n",
        "    new_data = pd.DataFrame(min_max_data)\n",
        "\n",
        "    # time 추가\n",
        "    new_data.insert(0, 'time', df['time'])\n",
        "\n",
        "    # 나머지 열의 이름 가져오기\n",
        "    column_names = mid_df.columns.tolist()\n",
        "\n",
        "    column_names.insert(0, 'time')\n",
        "\n",
        "    print(column_names)\n",
        "\n",
        "    # 새로운 데이터프레임에 열 이름 설정\n",
        "    new_data.columns = column_names\n",
        "\n",
        "    return min_max_scaler, new_data"
      ]
    },
    {
      "cell_type": "markdown",
      "metadata": {
        "id": "Sa6ydGidy_CI"
      },
      "source": [
        "### 5. train/validation/test 분리 함수"
      ]
    },
    {
      "cell_type": "markdown",
      "metadata": {
        "id": "Ii6xjYd3A7YK"
      },
      "source": [
        "- Train, Validation, Test 데이터셋을 분리하는 함수이다.\n",
        "- 각각의 비율은 6:2:2 이다."
      ]
    },
    {
      "cell_type": "code",
      "execution_count": null,
      "metadata": {
        "id": "mXJlnnQq7FgL"
      },
      "outputs": [],
      "source": [
        "from sklearn.model_selection import train_test_split\n",
        "\n",
        "# train/validation/test 분리 함수\n",
        "def split_train_val_test(df, test_size=0.2, val_size=0.25):\n",
        "\n",
        "    #Train, Test 분류\n",
        "    train_val_df, test_df = train_test_split(df, test_size=test_size, shuffle=False)\n",
        "\n",
        "    #Train, Validation 분류\n",
        "    train_df, val_df = train_test_split(train_val_df, test_size=val_size, shuffle=False)\n",
        "\n",
        "    # # 데이터 크기 출력\n",
        "    # print(\"Train set:\", train_df.shape)\n",
        "    # print(\"Validation set:\", val_df.shape)\n",
        "    # print(\"Test set:\", test_df.shape)\n",
        "\n",
        "    return train_df, val_df, test_df"
      ]
    },
    {
      "cell_type": "markdown",
      "metadata": {
        "id": "K90RnrEWB2Iw"
      },
      "source": [
        "### 6. 경로 시각화 함수"
      ]
    },
    {
      "cell_type": "markdown",
      "metadata": {
        "id": "t2bNHfpSBPfr"
      },
      "source": [
        "- 실제 경로와 예측 경로를 각각 그래프로 생성"
      ]
    },
    {
      "cell_type": "code",
      "execution_count": null,
      "metadata": {
        "id": "l8bKkBe-h6cG"
      },
      "outputs": [],
      "source": [
        "import matplotlib.pyplot as plt\n",
        "\n",
        "# 경로 시각화 함수\n",
        "def prediction_visualization(y_test, y_pred):\n",
        "    # 시각화를 위해 위도, 경도, 고도 분리\n",
        "    y_test_lat = y_test[:, 0]\n",
        "    y_test_lon = y_test[:, 1]\n",
        "    y_test_alt = y_test[:, 2]\n",
        "\n",
        "    y_pred_lat = y_pred[:, 0]\n",
        "    y_pred_lon = y_pred[:, 1]\n",
        "    y_pred_alt = y_pred[:, 2]\n",
        "\n",
        "    # 3D 그래프 생성\n",
        "    fig = plt.figure(figsize=(12, 8))\n",
        "    ax = fig.add_subplot(111, projection='3d')\n",
        "\n",
        "    # 실제 값 플롯\n",
        "    ax.scatter(y_test_lat, y_test_lon, y_test_alt, c='b', marker='o', label='Actual')\n",
        "\n",
        "    # 예측 값 플롯\n",
        "    ax.scatter(y_pred_lat, y_pred_lon, y_pred_alt, c='r', marker='^', label='Predicted')\n",
        "\n",
        "    # 그래프 제목 및 축 레이블 설정\n",
        "    ax.set_title('Actual vs Predicted')\n",
        "    ax.set_xlabel('Latitude')\n",
        "    ax.set_ylabel('Longitude')\n",
        "    ax.set_zlabel('Altitude')\n",
        "\n",
        "    # 범례\n",
        "    ax.legend()\n",
        "\n",
        "    # 그래프를 화면에 출력\n",
        "    plt.show()"
      ]
    },
    {
      "cell_type": "code",
      "execution_count": null,
      "metadata": {
        "id": "8_9fg_Gt0b73"
      },
      "outputs": [],
      "source": [
        "import matplotlib.pyplot as plt\n",
        "from mpl_toolkits.mplot3d import Axes3D\n",
        "\n",
        "# splited 데이터 경로 시각화 함수\n",
        "def plot_trajectory(train_data, val_data, test_data):\n",
        "    fig = plt.figure(figsize=(10, 7))\n",
        "    ax = fig.add_subplot(111, projection='3d')\n",
        "\n",
        "    # 훈련 데이터 플롯\n",
        "    ax.plot(train_data['lat'], train_data['lon'], train_data['alt'], label='Train', color='blue')\n",
        "\n",
        "    # 검증 데이터 플롯\n",
        "    ax.plot(val_data['lat'], val_data['lon'], val_data['alt'], label='Validation', color='green')\n",
        "\n",
        "    # 테스트 데이터 플롯\n",
        "    ax.plot(test_data['lat'], test_data['lon'], test_data['alt'], label='Test', color='red')\n",
        "\n",
        "    # 그래프 레이블\n",
        "    ax.set_xlabel('Latitude')\n",
        "    ax.set_ylabel('Longitude')\n",
        "    ax.set_zlabel('Altitude')\n",
        "\n",
        "    # 제목과 범례\n",
        "    ax.set_title('Drone Trajectory: Train, Validation, and Test')\n",
        "    ax.legend()\n",
        "\n",
        "    plt.show()\n"
      ]
    },
    {
      "cell_type": "markdown",
      "metadata": {
        "id": "5hesydw366u6"
      },
      "source": [
        "### 7. 데이터로더 생성 함수"
      ]
    },
    {
      "cell_type": "markdown",
      "metadata": {
        "id": "KTyDCnRc66u6"
      },
      "source": [
        "- 학습에 사용할 데이터 로더 생성\n",
        "1. 시퀀스 생성\n",
        "2. Train, Validation, Test 분리\n",
        "3. DataLoader 생성"
      ]
    },
    {
      "cell_type": "code",
      "execution_count": null,
      "metadata": {
        "id": "rTbRbKmU66u6"
      },
      "outputs": [],
      "source": [
        "# 데이터 로더 생성 함수\n",
        "def create_dataloaders(tri, batch_size, sequence_length):\n",
        "\n",
        "  tri = tri[['time', 'lat', 'lon', 'alt']]\n",
        "\n",
        "  # train, validation, test 분리\n",
        "  train_df, val_df, test_df = split_train_val_test(tri[['lat', 'lon', 'alt']])\n",
        "\n",
        "  # 각 데이터에 대해 시퀀스 생성\n",
        "  train_x, train_y = create_sequences(train_df, sequence_length)\n",
        "  val_x, val_y = create_sequences(val_df, sequence_length)\n",
        "  test_x, test_y = create_sequences(test_df, sequence_length)\n",
        "\n",
        "  X_train = torch.tensor(train_x, dtype=torch.float32)\n",
        "  y_train = torch.tensor(train_y, dtype=torch.float32)\n",
        "  X_val = torch.tensor(val_x, dtype=torch.float32)\n",
        "  y_val = torch.tensor(val_y, dtype=torch.float32)\n",
        "  X_test = torch.tensor(test_x, dtype=torch.float32)\n",
        "  y_test = torch.tensor(test_y, dtype=torch.float32)\n",
        "\n",
        "  train_dataset = TensorDataset(X_train, y_train)\n",
        "  validation_dataset = TensorDataset(X_val, y_val)\n",
        "  test_dataset = TensorDataset(X_test, y_test)\n",
        "\n",
        "  # 데이터 로더 생성\n",
        "  train_loader = DataLoader(train_dataset, batch_size=batch_size, shuffle=True)\n",
        "  val_loader = DataLoader(validation_dataset, batch_size=batch_size, shuffle=False)\n",
        "  test_loader = DataLoader(test_dataset, batch_size=batch_size, shuffle=False)\n",
        "\n",
        "  return train_loader, val_loader, test_loader"
      ]
    },
    {
      "cell_type": "markdown",
      "metadata": {
        "id": "RsoiT-rUcsbi"
      },
      "source": [
        "## 전처리"
      ]
    },
    {
      "cell_type": "markdown",
      "metadata": {
        "id": "4YJd91PCtHJS"
      },
      "source": [
        "### 1. 데이터셋 가져오기"
      ]
    },
    {
      "cell_type": "code",
      "execution_count": null,
      "metadata": {
        "id": "MuunCpw0crPo"
      },
      "outputs": [],
      "source": [
        "import pandas as pd\n",
        "\n",
        "# 데이터셋 가져오기 (필요시 저장 경로 수정)\n",
        "raw = pd.read_csv(\"/content/OnboardGPS.csv\")"
      ]
    },
    {
      "cell_type": "markdown",
      "metadata": {
        "id": "uILR-VuOtg1G"
      },
      "source": [
        "### 2. 데이터셋 전처리"
      ]
    },
    {
      "cell_type": "markdown",
      "metadata": {
        "id": "ea6emhMrtjFn"
      },
      "source": [
        "- 데이터셋 보간\n",
        "- 소수점 절사\n",
        "- MinMaxScaling 적용\n"
      ]
    },
    {
      "cell_type": "code",
      "execution_count": null,
      "metadata": {
        "colab": {
          "base_uri": "https://localhost:8080/"
        },
        "id": "0M4Mw46Ge5dr",
        "outputId": "ad8d35b6-033f-4454-d72e-49801ebb73b4"
      },
      "outputs": [
        {
          "output_type": "stream",
          "name": "stdout",
          "text": [
            "['time', 'lat', 'lon', 'alt']\n"
          ]
        }
      ],
      "source": [
        "tri = raw[['Timpstemp', ' lat', ' lon', ' alt']]\n",
        "\n",
        "new_x, lat = spline_interpolation(tri['Timpstemp'] / 1e6 , tri[' lat'])\n",
        "new_x, lon = spline_interpolation(tri['Timpstemp'] / 1e6 , tri[' lon'])\n",
        "new_x, alt = spline_interpolation(tri['Timpstemp'] / 1e6 , tri[' alt'])\n",
        "\n",
        "tri = pd.DataFrame({\"time\":new_x, \"lat\":lat, \"lon\":lon, \"alt\":alt})\n",
        "\n",
        "tri = truncation(tri)\n",
        "scaler, tri = min_max_scaling(tri)\n",
        "# tri"
      ]
    },
    {
      "cell_type": "markdown",
      "metadata": {
        "id": "wlwsWq26Gf5V"
      },
      "source": [
        "## 모델 선언"
      ]
    },
    {
      "cell_type": "markdown",
      "metadata": {
        "id": "XCmztXYWwA1z"
      },
      "source": [
        "### 1. 모델 클래스 선언\n",
        "- Transformer를 사용한 모델 클래스 선언\n",
        "- 구조 : Transformer + Positional Encoding + Fully Connected Layer"
      ]
    },
    {
      "cell_type": "code",
      "execution_count": null,
      "metadata": {
        "id": "ATdrPIwIgpHn"
      },
      "outputs": [],
      "source": [
        "import math\n",
        "import torch\n",
        "\n",
        "class PositionalEncoding(nn.Module):\n",
        "    def __init__(self, d_model, max_len=5000):\n",
        "        super(PositionalEncoding, self).__init__()\n",
        "\n",
        "        if d_model % 2 != 0:\n",
        "            raise ValueError(f\"d_model must be even, but got {d_model}\")\n",
        "\n",
        "        pe = torch.zeros(max_len, d_model)\n",
        "        position = torch.arange(0, max_len, dtype=torch.float).unsqueeze(1)\n",
        "        div_term = torch.exp(torch.arange(0, d_model, 2).float() * (-math.log(10000.0) / d_model))\n",
        "        pe[:, 0::2] = torch.sin(position * div_term)\n",
        "        pe[:, 1::2] = torch.cos(position * div_term)\n",
        "        pe = pe.unsqueeze(0).transpose(0, 1)\n",
        "        self.register_buffer('pe', pe)\n",
        "\n",
        "    def forward(self, x):\n",
        "        x = x + self.pe[:x.size(0), :]\n",
        "        return x\n"
      ]
    },
    {
      "cell_type": "code",
      "execution_count": null,
      "metadata": {
        "id": "1-WDOIn-GiMc"
      },
      "outputs": [],
      "source": [
        "import torch.nn as nn\n",
        "\n",
        "class TransformerModel(nn.Module):\n",
        "    def __init__(self, input_dim, seq_length, d_model, nhead, num_encoder_layers, dim_feedforward):\n",
        "        super(TransformerModel, self).__init__()\n",
        "        self.embedding = nn.Linear(input_dim, d_model)  # input_dim에서 d_model로 변환\n",
        "        self.positional_encoding = PositionalEncoding(d_model)  # 포지셔널 인코딩 추가\n",
        "        self.transformer_encoder = nn.TransformerEncoder(\n",
        "            nn.TransformerEncoderLayer(\n",
        "                d_model=d_model,\n",
        "                nhead=nhead,\n",
        "                dim_feedforward=dim_feedforward,\n",
        "                dropout=0.0 ),\n",
        "            num_layers=num_encoder_layers\n",
        "        )\n",
        "        self.fc_out = nn.Linear(d_model, input_dim)  # d_model에서 input_dim으로 변환\n",
        "\n",
        "    def forward(self, src):\n",
        "        src = self.embedding(src)  # 입력 차원 -> d_model로 변환\n",
        "        src = self.positional_encoding(src)\n",
        "        src = src.permute(1, 0, 2)  # (batch_size, seq_length, d_model) -> (seq_length, batch_size, d_model)\n",
        "        output = self.transformer_encoder(src)  # Transformer Encoder 통과\n",
        "        output = self.fc_out(output)  # (seq_length, batch_size, d_model) -> (seq_length, batch_size, input_dim)\n",
        "\n",
        "        # 마지막 시점의 출력만 반환\n",
        "        return output[-1, :, :]  # shape: (batch_size, input_dim)\n"
      ]
    },
    {
      "cell_type": "markdown",
      "metadata": {
        "id": "1ISnG7hf66u9"
      },
      "source": [
        "## 하이퍼파라미터 탐색"
      ]
    },
    {
      "cell_type": "markdown",
      "metadata": {
        "id": "9ZLxvy7G66u9"
      },
      "source": [
        "### 1. Optuna의 objective 함수 선언"
      ]
    },
    {
      "cell_type": "markdown",
      "metadata": {
        "id": "I8eyZxyJ66u9"
      },
      "source": [
        "- 최적의 하이퍼파라미터 탐색을 위해 optuna 사용\n",
        "- objective 함수 선언"
      ]
    },
    {
      "cell_type": "code",
      "execution_count": null,
      "metadata": {
        "id": "jMyeT-aqVtYr"
      },
      "outputs": [],
      "source": [
        "import optuna\n",
        "\n",
        "def objective(trial, tri, sequence_length):\n",
        "    # 탐색할 하이퍼파라미터 값 결정\n",
        "    nhead = trial.suggest_int('nhead', 2, 8)\n",
        "    d_model = trial.suggest_int('d_model', nhead * 8, nhead * 64, step=nhead) # d_model을 nhead의 배수로 설정하여 짝수 보장\n",
        "    if d_model % 2 != 0:     # d_model이 홀수인 경우 짝수로 조정\n",
        "        d_model += 1\n",
        "\n",
        "    if d_model % nhead != 0: # d_model이 nhead의 배수가 아닌 경우 강제로 배수로 조정\n",
        "        d_model += nhead - (d_model % nhead)\n",
        "\n",
        "    num_encoder_layers = trial.suggest_int('num_encoder_layers', 1, 4)\n",
        "    dim_feedforward = trial.suggest_int('dim_feedforward', 128, 512)\n",
        "    learning_rate = trial.suggest_float('learning_rate', 1e-5, 1e-2, log=True)\n",
        "    batch_size = trial.suggest_int(\"batch_size\", 16, 128)\n",
        "\n",
        "    num_epochs = 500\n",
        "    intput_size = 3\n",
        "\n",
        "    device = torch.device('cuda' if torch.cuda.is_available() else 'cpu')\n",
        "\n",
        "    # 데이터셋 로더\n",
        "    train_loader, val_loader, _ = create_dataloaders(tri, batch_size, sequence_length)\n",
        "\n",
        "    # 모델 정의: Transformer Model\n",
        "    model = TransformerModel(\n",
        "        input_dim=intput_size,\n",
        "        seq_length=sequence_length,\n",
        "        d_model=d_model,\n",
        "        nhead=nhead,\n",
        "        num_encoder_layers=num_encoder_layers,\n",
        "        dim_feedforward=dim_feedforward\n",
        "    ).to(device)  # GPU 사용\n",
        "\n",
        "    # 손실 함수\n",
        "    criterion = nn.MSELoss()\n",
        "\n",
        "    # 최적화 함수\n",
        "    optimizer = torch.optim.Adam(model.parameters(), lr=learning_rate)\n",
        "\n",
        "    total_val_loss = 0.0  # 모든 epoch에서의 validation loss의 합\n",
        "    val_loss_count = 0    # 평균을 계산하기 위한 epoch 수\n",
        "\n",
        "    # 모델 학습\n",
        "    for epoch in range(num_epochs):\n",
        "        # Train set으로 학습\n",
        "        model.train()\n",
        "        train_loss = 0.0\n",
        "        for batch_X, batch_y in train_loader:\n",
        "            batch_X, batch_y = batch_X.to(device), batch_y.to(device)  # 데이터도 GPU로 이동\n",
        "            optimizer.zero_grad()\n",
        "            output = model(batch_X)  # 출력 형태: (batch_size, input_dim)\n",
        "\n",
        "            # Loss 계산\n",
        "            loss = criterion(output, batch_y)  # y의 형태: (batch_size, input_dim)\n",
        "            loss.backward()\n",
        "            optimizer.step()\n",
        "            train_loss += loss.item()\n",
        "\n",
        "        # Validation set에서 성능 측정\n",
        "        model.eval()\n",
        "        val_loss = 0.0\n",
        "        with torch.no_grad():\n",
        "            for batch_X, batch_y in val_loader:\n",
        "                batch_X, batch_y = batch_X.to(device), batch_y.to(device)\n",
        "                output = model(batch_X)\n",
        "\n",
        "                # Loss 계산\n",
        "                loss = criterion(output, batch_y)\n",
        "                val_loss += loss.item()\n",
        "\n",
        "        # 배치 수로 나눠서 평균 validation 손실 계산\n",
        "        val_loss_avg = val_loss / len(val_loader)\n",
        "\n",
        "        # Optuna에 중간 값 보고\n",
        "        trial.report(val_loss_avg, epoch)\n",
        "\n",
        "        # 총 validation 손실 계산\n",
        "        total_val_loss += val_loss_avg\n",
        "        val_loss_count += 1\n",
        "\n",
        "        # Pruning 조건 확인\n",
        "        if trial.should_prune():\n",
        "            print(f\"Trial {trial.number} pruned at epoch {epoch}\")\n",
        "            print(f\"Validation Loss at prune: {val_loss_avg:.4f}\")  # Prune 시점에서 validation loss 출력\n",
        "\n",
        "            raise optuna.TrialPruned()\n",
        "\n",
        "    # 모든 epoch에서의 validation Loss avg 반환\n",
        "    return total_val_loss / val_loss_count"
      ]
    },
    {
      "cell_type": "markdown",
      "metadata": {
        "id": "nvok0syR66u-"
      },
      "source": [
        "### 3. 탐색 범위 외의 하이퍼파라미터 선언"
      ]
    },
    {
      "cell_type": "code",
      "execution_count": null,
      "metadata": {
        "id": "wV7LDaW366u-"
      },
      "outputs": [],
      "source": [
        "sequence_length = 10\n",
        "early_stopping_rounds = 10\n",
        "n_trials = 50"
      ]
    },
    {
      "cell_type": "markdown",
      "metadata": {
        "id": "ZxXmey9W66u_"
      },
      "source": [
        "### 4. 하이퍼 파라미터 탐색"
      ]
    },
    {
      "cell_type": "code",
      "execution_count": null,
      "metadata": {
        "colab": {
          "base_uri": "https://localhost:8080/"
        },
        "id": "TMpohWnq66u_",
        "outputId": "9a0924b9-2220-4610-97c8-6b3406128bf5"
      },
      "outputs": [
        {
          "output_type": "stream",
          "name": "stderr",
          "text": [
            "[I 2024-10-15 10:39:27,062] A new study created in memory with name: no-name-02fa6bfa-977b-493e-b156-f946d0efd1c9\n",
            "/usr/local/lib/python3.10/dist-packages/torch/nn/modules/transformer.py:307: UserWarning: enable_nested_tensor is True, but self.use_nested_tensor is False because encoder_layer.self_attn.batch_first was not True(use batch_first for better inference performance)\n",
            "  warnings.warn(f\"enable_nested_tensor is True, but self.use_nested_tensor is False because {why_not_sparsity_fast_path}\")\n",
            "[I 2024-10-15 10:41:20,489] Trial 0 finished with value: 0.0016794575459680348 and parameters: {'nhead': 8, 'd_model': 152, 'num_encoder_layers': 1, 'dim_feedforward': 229, 'learning_rate': 2.6806725419547278e-05, 'batch_size': 102}. Best is trial 0 with value: 0.0016794575459680348.\n",
            "/usr/local/lib/python3.10/dist-packages/torch/nn/modules/transformer.py:307: UserWarning: enable_nested_tensor is True, but self.use_nested_tensor is False because encoder_layer.self_attn.batch_first was not True(use batch_first for better inference performance)\n",
            "  warnings.warn(f\"enable_nested_tensor is True, but self.use_nested_tensor is False because {why_not_sparsity_fast_path}\")\n",
            "[I 2024-10-15 10:46:00,718] Trial 1 finished with value: 0.0017105182264479958 and parameters: {'nhead': 3, 'd_model': 114, 'num_encoder_layers': 4, 'dim_feedforward': 318, 'learning_rate': 0.0007965632732229635, 'batch_size': 66}. Best is trial 0 with value: 0.0016794575459680348.\n",
            "/usr/local/lib/python3.10/dist-packages/torch/nn/modules/transformer.py:307: UserWarning: enable_nested_tensor is True, but self.use_nested_tensor is False because encoder_layer.self_attn.batch_first was not True(use batch_first for better inference performance)\n",
            "  warnings.warn(f\"enable_nested_tensor is True, but self.use_nested_tensor is False because {why_not_sparsity_fast_path}\")\n",
            "[I 2024-10-15 10:56:57,533] Trial 2 finished with value: 0.00011590378777393294 and parameters: {'nhead': 8, 'd_model': 232, 'num_encoder_layers': 3, 'dim_feedforward': 399, 'learning_rate': 5.9555526967828946e-05, 'batch_size': 21}. Best is trial 2 with value: 0.00011590378777393294.\n",
            "/usr/local/lib/python3.10/dist-packages/torch/nn/modules/transformer.py:307: UserWarning: enable_nested_tensor is True, but self.use_nested_tensor is False because encoder_layer.self_attn.batch_first was not True(use batch_first for better inference performance)\n",
            "  warnings.warn(f\"enable_nested_tensor is True, but self.use_nested_tensor is False because {why_not_sparsity_fast_path}\")\n",
            "[I 2024-10-15 10:59:26,161] Trial 3 finished with value: 0.00040908317600139225 and parameters: {'nhead': 6, 'd_model': 222, 'num_encoder_layers': 2, 'dim_feedforward': 417, 'learning_rate': 2.5207976279431525e-05, 'batch_size': 74}. Best is trial 2 with value: 0.00011590378777393294.\n",
            "/usr/local/lib/python3.10/dist-packages/torch/nn/modules/transformer.py:307: UserWarning: enable_nested_tensor is True, but self.use_nested_tensor is False because encoder_layer.self_attn.batch_first was not True(use batch_first for better inference performance)\n",
            "  warnings.warn(f\"enable_nested_tensor is True, but self.use_nested_tensor is False because {why_not_sparsity_fast_path}\")\n",
            "[I 2024-10-15 11:01:38,350] Trial 4 finished with value: 0.0003681384832708803 and parameters: {'nhead': 8, 'd_model': 64, 'num_encoder_layers': 2, 'dim_feedforward': 503, 'learning_rate': 0.00014433317549088307, 'batch_size': 85}. Best is trial 2 with value: 0.00011590378777393294.\n",
            "/usr/local/lib/python3.10/dist-packages/torch/nn/modules/transformer.py:307: UserWarning: enable_nested_tensor is True, but self.use_nested_tensor is False because encoder_layer.self_attn.batch_first was not True(use batch_first for better inference performance)\n",
            "  warnings.warn(f\"enable_nested_tensor is True, but self.use_nested_tensor is False because {why_not_sparsity_fast_path}\")\n",
            "[I 2024-10-15 11:01:38,817] Trial 5 pruned. \n"
          ]
        },
        {
          "output_type": "stream",
          "name": "stdout",
          "text": [
            "Trial 5 pruned at epoch 0\n",
            "Validation Loss at prune: 0.2106\n"
          ]
        },
        {
          "output_type": "stream",
          "name": "stderr",
          "text": [
            "/usr/local/lib/python3.10/dist-packages/torch/nn/modules/transformer.py:307: UserWarning: enable_nested_tensor is True, but self.use_nested_tensor is False because encoder_layer.self_attn.batch_first was not True(use batch_first for better inference performance)\n",
            "  warnings.warn(f\"enable_nested_tensor is True, but self.use_nested_tensor is False because {why_not_sparsity_fast_path}\")\n",
            "[I 2024-10-15 11:06:38,512] Trial 6 finished with value: 0.00010603076866443889 and parameters: {'nhead': 7, 'd_model': 308, 'num_encoder_layers': 1, 'dim_feedforward': 472, 'learning_rate': 0.00026927899203036483, 'batch_size': 24}. Best is trial 6 with value: 0.00010603076866443889.\n",
            "/usr/local/lib/python3.10/dist-packages/torch/nn/modules/transformer.py:307: UserWarning: enable_nested_tensor is True, but self.use_nested_tensor is False because encoder_layer.self_attn.batch_first was not True(use batch_first for better inference performance)\n",
            "  warnings.warn(f\"enable_nested_tensor is True, but self.use_nested_tensor is False because {why_not_sparsity_fast_path}\")\n",
            "[I 2024-10-15 11:06:39,380] Trial 7 pruned. \n"
          ]
        },
        {
          "output_type": "stream",
          "name": "stdout",
          "text": [
            "Trial 7 pruned at epoch 0\n",
            "Validation Loss at prune: 0.1398\n"
          ]
        },
        {
          "output_type": "stream",
          "name": "stderr",
          "text": [
            "/usr/local/lib/python3.10/dist-packages/torch/nn/modules/transformer.py:307: UserWarning: enable_nested_tensor is True, but self.use_nested_tensor is False because encoder_layer.self_attn.batch_first was not True(use batch_first for better inference performance)\n",
            "  warnings.warn(f\"enable_nested_tensor is True, but self.use_nested_tensor is False because {why_not_sparsity_fast_path}\")\n",
            "[I 2024-10-15 11:06:40,093] Trial 8 pruned. \n"
          ]
        },
        {
          "output_type": "stream",
          "name": "stdout",
          "text": [
            "Trial 8 pruned at epoch 0\n",
            "Validation Loss at prune: 0.1125\n"
          ]
        },
        {
          "output_type": "stream",
          "name": "stderr",
          "text": [
            "/usr/local/lib/python3.10/dist-packages/torch/nn/modules/transformer.py:307: UserWarning: enable_nested_tensor is True, but self.use_nested_tensor is False because encoder_layer.self_attn.batch_first was not True(use batch_first for better inference performance)\n",
            "  warnings.warn(f\"enable_nested_tensor is True, but self.use_nested_tensor is False because {why_not_sparsity_fast_path}\")\n",
            "[I 2024-10-15 11:06:41,007] Trial 9 pruned. \n"
          ]
        },
        {
          "output_type": "stream",
          "name": "stdout",
          "text": [
            "Trial 9 pruned at epoch 0\n",
            "Validation Loss at prune: 0.0647\n"
          ]
        },
        {
          "output_type": "stream",
          "name": "stderr",
          "text": [
            "/usr/local/lib/python3.10/dist-packages/torch/nn/modules/transformer.py:307: UserWarning: enable_nested_tensor is True, but self.use_nested_tensor is False because encoder_layer.self_attn.batch_first was not True(use batch_first for better inference performance)\n",
            "  warnings.warn(f\"enable_nested_tensor is True, but self.use_nested_tensor is False because {why_not_sparsity_fast_path}\")\n",
            "[I 2024-10-15 11:06:42,298] Trial 10 pruned. \n"
          ]
        },
        {
          "output_type": "stream",
          "name": "stdout",
          "text": [
            "Trial 10 pruned at epoch 0\n",
            "Validation Loss at prune: 0.0908\n"
          ]
        },
        {
          "output_type": "stream",
          "name": "stderr",
          "text": [
            "/usr/local/lib/python3.10/dist-packages/torch/nn/modules/transformer.py:307: UserWarning: enable_nested_tensor is True, but self.use_nested_tensor is False because encoder_layer.self_attn.batch_first was not True(use batch_first for better inference performance)\n",
            "  warnings.warn(f\"enable_nested_tensor is True, but self.use_nested_tensor is False because {why_not_sparsity_fast_path}\")\n",
            "[I 2024-10-15 11:06:44,369] Trial 11 pruned. \n"
          ]
        },
        {
          "output_type": "stream",
          "name": "stdout",
          "text": [
            "Trial 11 pruned at epoch 0\n",
            "Validation Loss at prune: 0.0668\n"
          ]
        },
        {
          "output_type": "stream",
          "name": "stderr",
          "text": [
            "/usr/local/lib/python3.10/dist-packages/torch/nn/modules/transformer.py:307: UserWarning: enable_nested_tensor is True, but self.use_nested_tensor is False because encoder_layer.self_attn.batch_first was not True(use batch_first for better inference performance)\n",
            "  warnings.warn(f\"enable_nested_tensor is True, but self.use_nested_tensor is False because {why_not_sparsity_fast_path}\")\n",
            "[I 2024-10-15 11:06:45,409] Trial 12 pruned. \n"
          ]
        },
        {
          "output_type": "stream",
          "name": "stdout",
          "text": [
            "Trial 12 pruned at epoch 0\n",
            "Validation Loss at prune: 0.1698\n"
          ]
        },
        {
          "output_type": "stream",
          "name": "stderr",
          "text": [
            "/usr/local/lib/python3.10/dist-packages/torch/nn/modules/transformer.py:307: UserWarning: enable_nested_tensor is True, but self.use_nested_tensor is False because encoder_layer.self_attn.batch_first was not True(use batch_first for better inference performance)\n",
            "  warnings.warn(f\"enable_nested_tensor is True, but self.use_nested_tensor is False because {why_not_sparsity_fast_path}\")\n",
            "[I 2024-10-15 11:06:46,476] Trial 13 pruned. \n"
          ]
        },
        {
          "output_type": "stream",
          "name": "stdout",
          "text": [
            "Trial 13 pruned at epoch 0\n",
            "Validation Loss at prune: 0.0601\n"
          ]
        },
        {
          "output_type": "stream",
          "name": "stderr",
          "text": [
            "/usr/local/lib/python3.10/dist-packages/torch/nn/modules/transformer.py:307: UserWarning: enable_nested_tensor is True, but self.use_nested_tensor is False because encoder_layer.self_attn.batch_first was not True(use batch_first for better inference performance)\n",
            "  warnings.warn(f\"enable_nested_tensor is True, but self.use_nested_tensor is False because {why_not_sparsity_fast_path}\")\n",
            "[I 2024-10-15 11:11:38,998] Trial 14 finished with value: 0.00010060498189407863 and parameters: {'nhead': 6, 'd_model': 270, 'num_encoder_layers': 2, 'dim_feedforward': 357, 'learning_rate': 0.00024457427461174166, 'batch_size': 37}. Best is trial 14 with value: 0.00010060498189407863.\n",
            "/usr/local/lib/python3.10/dist-packages/torch/nn/modules/transformer.py:307: UserWarning: enable_nested_tensor is True, but self.use_nested_tensor is False because encoder_layer.self_attn.batch_first was not True(use batch_first for better inference performance)\n",
            "  warnings.warn(f\"enable_nested_tensor is True, but self.use_nested_tensor is False because {why_not_sparsity_fast_path}\")\n",
            "[I 2024-10-15 11:11:41,802] Trial 15 pruned. \n"
          ]
        },
        {
          "output_type": "stream",
          "name": "stdout",
          "text": [
            "Trial 15 pruned at epoch 7\n",
            "Validation Loss at prune: 0.0005\n"
          ]
        },
        {
          "output_type": "stream",
          "name": "stderr",
          "text": [
            "/usr/local/lib/python3.10/dist-packages/torch/nn/modules/transformer.py:307: UserWarning: enable_nested_tensor is True, but self.use_nested_tensor is False because encoder_layer.self_attn.batch_first was not True(use batch_first for better inference performance)\n",
            "  warnings.warn(f\"enable_nested_tensor is True, but self.use_nested_tensor is False because {why_not_sparsity_fast_path}\")\n",
            "[I 2024-10-15 11:13:18,772] Trial 16 pruned. \n"
          ]
        },
        {
          "output_type": "stream",
          "name": "stdout",
          "text": [
            "Trial 16 pruned at epoch 239\n",
            "Validation Loss at prune: 0.0002\n"
          ]
        },
        {
          "output_type": "stream",
          "name": "stderr",
          "text": [
            "/usr/local/lib/python3.10/dist-packages/torch/nn/modules/transformer.py:307: UserWarning: enable_nested_tensor is True, but self.use_nested_tensor is False because encoder_layer.self_attn.batch_first was not True(use batch_first for better inference performance)\n",
            "  warnings.warn(f\"enable_nested_tensor is True, but self.use_nested_tensor is False because {why_not_sparsity_fast_path}\")\n",
            "[I 2024-10-15 11:17:26,777] Trial 17 finished with value: 0.0004868289266602534 and parameters: {'nhead': 4, 'd_model': 192, 'num_encoder_layers': 1, 'dim_feedforward': 258, 'learning_rate': 0.0014375805526242488, 'batch_size': 29}. Best is trial 14 with value: 0.00010060498189407863.\n",
            "/usr/local/lib/python3.10/dist-packages/torch/nn/modules/transformer.py:307: UserWarning: enable_nested_tensor is True, but self.use_nested_tensor is False because encoder_layer.self_attn.batch_first was not True(use batch_first for better inference performance)\n",
            "  warnings.warn(f\"enable_nested_tensor is True, but self.use_nested_tensor is False because {why_not_sparsity_fast_path}\")\n",
            "[I 2024-10-15 11:17:29,537] Trial 18 pruned. \n"
          ]
        },
        {
          "output_type": "stream",
          "name": "stdout",
          "text": [
            "Trial 18 pruned at epoch 3\n",
            "Validation Loss at prune: 0.0007\n"
          ]
        },
        {
          "output_type": "stream",
          "name": "stderr",
          "text": [
            "/usr/local/lib/python3.10/dist-packages/torch/nn/modules/transformer.py:307: UserWarning: enable_nested_tensor is True, but self.use_nested_tensor is False because encoder_layer.self_attn.batch_first was not True(use batch_first for better inference performance)\n",
            "  warnings.warn(f\"enable_nested_tensor is True, but self.use_nested_tensor is False because {why_not_sparsity_fast_path}\")\n",
            "[I 2024-10-15 11:17:30,213] Trial 19 pruned. \n"
          ]
        },
        {
          "output_type": "stream",
          "name": "stdout",
          "text": [
            "Trial 19 pruned at epoch 0\n",
            "Validation Loss at prune: 0.0855\n"
          ]
        },
        {
          "output_type": "stream",
          "name": "stderr",
          "text": [
            "/usr/local/lib/python3.10/dist-packages/torch/nn/modules/transformer.py:307: UserWarning: enable_nested_tensor is True, but self.use_nested_tensor is False because encoder_layer.self_attn.batch_first was not True(use batch_first for better inference performance)\n",
            "  warnings.warn(f\"enable_nested_tensor is True, but self.use_nested_tensor is False because {why_not_sparsity_fast_path}\")\n",
            "[I 2024-10-15 11:22:53,244] Trial 20 finished with value: 0.00022068614172688012 and parameters: {'nhead': 4, 'd_model': 208, 'num_encoder_layers': 2, 'dim_feedforward': 354, 'learning_rate': 0.0007508488833970536, 'batch_size': 33}. Best is trial 14 with value: 0.00010060498189407863.\n",
            "/usr/local/lib/python3.10/dist-packages/torch/nn/modules/transformer.py:307: UserWarning: enable_nested_tensor is True, but self.use_nested_tensor is False because encoder_layer.self_attn.batch_first was not True(use batch_first for better inference performance)\n",
            "  warnings.warn(f\"enable_nested_tensor is True, but self.use_nested_tensor is False because {why_not_sparsity_fast_path}\")\n",
            "[I 2024-10-15 11:36:07,414] Trial 21 finished with value: 0.0001732139677420038 and parameters: {'nhead': 8, 'd_model': 368, 'num_encoder_layers': 3, 'dim_feedforward': 406, 'learning_rate': 5.8370289307072465e-05, 'batch_size': 18}. Best is trial 14 with value: 0.00010060498189407863.\n",
            "/usr/local/lib/python3.10/dist-packages/torch/nn/modules/transformer.py:307: UserWarning: enable_nested_tensor is True, but self.use_nested_tensor is False because encoder_layer.self_attn.batch_first was not True(use batch_first for better inference performance)\n",
            "  warnings.warn(f\"enable_nested_tensor is True, but self.use_nested_tensor is False because {why_not_sparsity_fast_path}\")\n",
            "[I 2024-10-15 11:44:53,257] Trial 22 finished with value: 0.00015047549223186257 and parameters: {'nhead': 7, 'd_model': 245, 'num_encoder_layers': 3, 'dim_feedforward': 471, 'learning_rate': 7.783985684011531e-05, 'batch_size': 27}. Best is trial 14 with value: 0.00010060498189407863.\n",
            "/usr/local/lib/python3.10/dist-packages/torch/nn/modules/transformer.py:307: UserWarning: enable_nested_tensor is True, but self.use_nested_tensor is False because encoder_layer.self_attn.batch_first was not True(use batch_first for better inference performance)\n",
            "  warnings.warn(f\"enable_nested_tensor is True, but self.use_nested_tensor is False because {why_not_sparsity_fast_path}\")\n",
            "[I 2024-10-15 11:44:54,503] Trial 23 pruned. \n"
          ]
        },
        {
          "output_type": "stream",
          "name": "stdout",
          "text": [
            "Trial 23 pruned at epoch 0\n",
            "Validation Loss at prune: 0.0279\n"
          ]
        },
        {
          "output_type": "stream",
          "name": "stderr",
          "text": [
            "/usr/local/lib/python3.10/dist-packages/torch/nn/modules/transformer.py:307: UserWarning: enable_nested_tensor is True, but self.use_nested_tensor is False because encoder_layer.self_attn.batch_first was not True(use batch_first for better inference performance)\n",
            "  warnings.warn(f\"enable_nested_tensor is True, but self.use_nested_tensor is False because {why_not_sparsity_fast_path}\")\n",
            "[I 2024-10-15 11:46:47,516] Trial 24 pruned. \n"
          ]
        },
        {
          "output_type": "stream",
          "name": "stdout",
          "text": [
            "Trial 24 pruned at epoch 191\n",
            "Validation Loss at prune: 0.0004\n"
          ]
        },
        {
          "output_type": "stream",
          "name": "stderr",
          "text": [
            "/usr/local/lib/python3.10/dist-packages/torch/nn/modules/transformer.py:307: UserWarning: enable_nested_tensor is True, but self.use_nested_tensor is False because encoder_layer.self_attn.batch_first was not True(use batch_first for better inference performance)\n",
            "  warnings.warn(f\"enable_nested_tensor is True, but self.use_nested_tensor is False because {why_not_sparsity_fast_path}\")\n",
            "[I 2024-10-15 11:56:14,595] Trial 25 finished with value: 0.00011858616659638483 and parameters: {'nhead': 8, 'd_model': 448, 'num_encoder_layers': 3, 'dim_feedforward': 291, 'learning_rate': 4.58945774501285e-05, 'batch_size': 26}. Best is trial 14 with value: 0.00010060498189407863.\n",
            "/usr/local/lib/python3.10/dist-packages/torch/nn/modules/transformer.py:307: UserWarning: enable_nested_tensor is True, but self.use_nested_tensor is False because encoder_layer.self_attn.batch_first was not True(use batch_first for better inference performance)\n",
            "  warnings.warn(f\"enable_nested_tensor is True, but self.use_nested_tensor is False because {why_not_sparsity_fast_path}\")\n",
            "[I 2024-10-15 11:56:15,491] Trial 26 pruned. \n"
          ]
        },
        {
          "output_type": "stream",
          "name": "stdout",
          "text": [
            "Trial 26 pruned at epoch 0\n",
            "Validation Loss at prune: 0.0042\n"
          ]
        },
        {
          "output_type": "stream",
          "name": "stderr",
          "text": [
            "/usr/local/lib/python3.10/dist-packages/torch/nn/modules/transformer.py:307: UserWarning: enable_nested_tensor is True, but self.use_nested_tensor is False because encoder_layer.self_attn.batch_first was not True(use batch_first for better inference performance)\n",
            "  warnings.warn(f\"enable_nested_tensor is True, but self.use_nested_tensor is False because {why_not_sparsity_fast_path}\")\n",
            "[I 2024-10-15 11:56:16,744] Trial 27 pruned. \n"
          ]
        },
        {
          "output_type": "stream",
          "name": "stdout",
          "text": [
            "Trial 27 pruned at epoch 0\n",
            "Validation Loss at prune: 0.0444\n"
          ]
        },
        {
          "output_type": "stream",
          "name": "stderr",
          "text": [
            "/usr/local/lib/python3.10/dist-packages/torch/nn/modules/transformer.py:307: UserWarning: enable_nested_tensor is True, but self.use_nested_tensor is False because encoder_layer.self_attn.batch_first was not True(use batch_first for better inference performance)\n",
            "  warnings.warn(f\"enable_nested_tensor is True, but self.use_nested_tensor is False because {why_not_sparsity_fast_path}\")\n",
            "[I 2024-10-15 11:56:34,788] Trial 28 pruned. \n"
          ]
        },
        {
          "output_type": "stream",
          "name": "stdout",
          "text": [
            "Trial 28 pruned at epoch 7\n",
            "Validation Loss at prune: 0.0003\n"
          ]
        },
        {
          "output_type": "stream",
          "name": "stderr",
          "text": [
            "/usr/local/lib/python3.10/dist-packages/torch/nn/modules/transformer.py:307: UserWarning: enable_nested_tensor is True, but self.use_nested_tensor is False because encoder_layer.self_attn.batch_first was not True(use batch_first for better inference performance)\n",
            "  warnings.warn(f\"enable_nested_tensor is True, but self.use_nested_tensor is False because {why_not_sparsity_fast_path}\")\n",
            "[I 2024-10-15 11:56:35,316] Trial 29 pruned. \n"
          ]
        },
        {
          "output_type": "stream",
          "name": "stdout",
          "text": [
            "Trial 29 pruned at epoch 0\n",
            "Validation Loss at prune: 0.1623\n"
          ]
        },
        {
          "output_type": "stream",
          "name": "stderr",
          "text": [
            "/usr/local/lib/python3.10/dist-packages/torch/nn/modules/transformer.py:307: UserWarning: enable_nested_tensor is True, but self.use_nested_tensor is False because encoder_layer.self_attn.batch_first was not True(use batch_first for better inference performance)\n",
            "  warnings.warn(f\"enable_nested_tensor is True, but self.use_nested_tensor is False because {why_not_sparsity_fast_path}\")\n",
            "[I 2024-10-15 11:56:37,508] Trial 30 pruned. \n"
          ]
        },
        {
          "output_type": "stream",
          "name": "stdout",
          "text": [
            "Trial 30 pruned at epoch 2\n",
            "Validation Loss at prune: 0.0006\n"
          ]
        },
        {
          "output_type": "stream",
          "name": "stderr",
          "text": [
            "/usr/local/lib/python3.10/dist-packages/torch/nn/modules/transformer.py:307: UserWarning: enable_nested_tensor is True, but self.use_nested_tensor is False because encoder_layer.self_attn.batch_first was not True(use batch_first for better inference performance)\n",
            "  warnings.warn(f\"enable_nested_tensor is True, but self.use_nested_tensor is False because {why_not_sparsity_fast_path}\")\n",
            "[I 2024-10-15 11:56:41,856] Trial 31 pruned. \n"
          ]
        },
        {
          "output_type": "stream",
          "name": "stdout",
          "text": [
            "Trial 31 pruned at epoch 2\n",
            "Validation Loss at prune: 0.0006\n"
          ]
        },
        {
          "output_type": "stream",
          "name": "stderr",
          "text": [
            "/usr/local/lib/python3.10/dist-packages/torch/nn/modules/transformer.py:307: UserWarning: enable_nested_tensor is True, but self.use_nested_tensor is False because encoder_layer.self_attn.batch_first was not True(use batch_first for better inference performance)\n",
            "  warnings.warn(f\"enable_nested_tensor is True, but self.use_nested_tensor is False because {why_not_sparsity_fast_path}\")\n",
            "[I 2024-10-15 11:56:43,426] Trial 32 pruned. \n"
          ]
        },
        {
          "output_type": "stream",
          "name": "stdout",
          "text": [
            "Trial 32 pruned at epoch 0\n",
            "Validation Loss at prune: 0.0016\n"
          ]
        },
        {
          "output_type": "stream",
          "name": "stderr",
          "text": [
            "/usr/local/lib/python3.10/dist-packages/torch/nn/modules/transformer.py:307: UserWarning: enable_nested_tensor is True, but self.use_nested_tensor is False because encoder_layer.self_attn.batch_first was not True(use batch_first for better inference performance)\n",
            "  warnings.warn(f\"enable_nested_tensor is True, but self.use_nested_tensor is False because {why_not_sparsity_fast_path}\")\n",
            "[I 2024-10-15 11:56:44,374] Trial 33 pruned. \n"
          ]
        },
        {
          "output_type": "stream",
          "name": "stdout",
          "text": [
            "Trial 33 pruned at epoch 0\n",
            "Validation Loss at prune: 0.0276\n"
          ]
        },
        {
          "output_type": "stream",
          "name": "stderr",
          "text": [
            "/usr/local/lib/python3.10/dist-packages/torch/nn/modules/transformer.py:307: UserWarning: enable_nested_tensor is True, but self.use_nested_tensor is False because encoder_layer.self_attn.batch_first was not True(use batch_first for better inference performance)\n",
            "  warnings.warn(f\"enable_nested_tensor is True, but self.use_nested_tensor is False because {why_not_sparsity_fast_path}\")\n",
            "[I 2024-10-15 11:56:46,231] Trial 34 pruned. \n"
          ]
        },
        {
          "output_type": "stream",
          "name": "stdout",
          "text": [
            "Trial 34 pruned at epoch 0\n",
            "Validation Loss at prune: 0.0015\n"
          ]
        },
        {
          "output_type": "stream",
          "name": "stderr",
          "text": [
            "/usr/local/lib/python3.10/dist-packages/torch/nn/modules/transformer.py:307: UserWarning: enable_nested_tensor is True, but self.use_nested_tensor is False because encoder_layer.self_attn.batch_first was not True(use batch_first for better inference performance)\n",
            "  warnings.warn(f\"enable_nested_tensor is True, but self.use_nested_tensor is False because {why_not_sparsity_fast_path}\")\n",
            "[I 2024-10-15 11:56:47,404] Trial 35 pruned. \n"
          ]
        },
        {
          "output_type": "stream",
          "name": "stdout",
          "text": [
            "Trial 35 pruned at epoch 0\n",
            "Validation Loss at prune: 0.0153\n"
          ]
        },
        {
          "output_type": "stream",
          "name": "stderr",
          "text": [
            "/usr/local/lib/python3.10/dist-packages/torch/nn/modules/transformer.py:307: UserWarning: enable_nested_tensor is True, but self.use_nested_tensor is False because encoder_layer.self_attn.batch_first was not True(use batch_first for better inference performance)\n",
            "  warnings.warn(f\"enable_nested_tensor is True, but self.use_nested_tensor is False because {why_not_sparsity_fast_path}\")\n",
            "[I 2024-10-15 11:56:48,047] Trial 36 pruned. \n"
          ]
        },
        {
          "output_type": "stream",
          "name": "stdout",
          "text": [
            "Trial 36 pruned at epoch 0\n",
            "Validation Loss at prune: 0.0108\n"
          ]
        },
        {
          "output_type": "stream",
          "name": "stderr",
          "text": [
            "/usr/local/lib/python3.10/dist-packages/torch/nn/modules/transformer.py:307: UserWarning: enable_nested_tensor is True, but self.use_nested_tensor is False because encoder_layer.self_attn.batch_first was not True(use batch_first for better inference performance)\n",
            "  warnings.warn(f\"enable_nested_tensor is True, but self.use_nested_tensor is False because {why_not_sparsity_fast_path}\")\n",
            "[I 2024-10-15 11:56:48,741] Trial 37 pruned. \n"
          ]
        },
        {
          "output_type": "stream",
          "name": "stdout",
          "text": [
            "Trial 37 pruned at epoch 0\n",
            "Validation Loss at prune: 0.0565\n"
          ]
        },
        {
          "output_type": "stream",
          "name": "stderr",
          "text": [
            "/usr/local/lib/python3.10/dist-packages/torch/nn/modules/transformer.py:307: UserWarning: enable_nested_tensor is True, but self.use_nested_tensor is False because encoder_layer.self_attn.batch_first was not True(use batch_first for better inference performance)\n",
            "  warnings.warn(f\"enable_nested_tensor is True, but self.use_nested_tensor is False because {why_not_sparsity_fast_path}\")\n",
            "[I 2024-10-15 11:56:50,146] Trial 38 pruned. \n"
          ]
        },
        {
          "output_type": "stream",
          "name": "stdout",
          "text": [
            "Trial 38 pruned at epoch 0\n",
            "Validation Loss at prune: 0.0060\n"
          ]
        },
        {
          "output_type": "stream",
          "name": "stderr",
          "text": [
            "/usr/local/lib/python3.10/dist-packages/torch/nn/modules/transformer.py:307: UserWarning: enable_nested_tensor is True, but self.use_nested_tensor is False because encoder_layer.self_attn.batch_first was not True(use batch_first for better inference performance)\n",
            "  warnings.warn(f\"enable_nested_tensor is True, but self.use_nested_tensor is False because {why_not_sparsity_fast_path}\")\n",
            "[I 2024-10-15 11:56:51,370] Trial 39 pruned. \n"
          ]
        },
        {
          "output_type": "stream",
          "name": "stdout",
          "text": [
            "Trial 39 pruned at epoch 0\n",
            "Validation Loss at prune: 0.0084\n"
          ]
        },
        {
          "output_type": "stream",
          "name": "stderr",
          "text": [
            "/usr/local/lib/python3.10/dist-packages/torch/nn/modules/transformer.py:307: UserWarning: enable_nested_tensor is True, but self.use_nested_tensor is False because encoder_layer.self_attn.batch_first was not True(use batch_first for better inference performance)\n",
            "  warnings.warn(f\"enable_nested_tensor is True, but self.use_nested_tensor is False because {why_not_sparsity_fast_path}\")\n",
            "[I 2024-10-15 11:56:51,879] Trial 40 pruned. \n"
          ]
        },
        {
          "output_type": "stream",
          "name": "stdout",
          "text": [
            "Trial 40 pruned at epoch 0\n",
            "Validation Loss at prune: 0.0319\n"
          ]
        },
        {
          "output_type": "stream",
          "name": "stderr",
          "text": [
            "/usr/local/lib/python3.10/dist-packages/torch/nn/modules/transformer.py:307: UserWarning: enable_nested_tensor is True, but self.use_nested_tensor is False because encoder_layer.self_attn.batch_first was not True(use batch_first for better inference performance)\n",
            "  warnings.warn(f\"enable_nested_tensor is True, but self.use_nested_tensor is False because {why_not_sparsity_fast_path}\")\n",
            "[I 2024-10-15 11:56:56,963] Trial 41 pruned. \n"
          ]
        },
        {
          "output_type": "stream",
          "name": "stdout",
          "text": [
            "Trial 41 pruned at epoch 3\n",
            "Validation Loss at prune: 0.0005\n"
          ]
        },
        {
          "output_type": "stream",
          "name": "stderr",
          "text": [
            "/usr/local/lib/python3.10/dist-packages/torch/nn/modules/transformer.py:307: UserWarning: enable_nested_tensor is True, but self.use_nested_tensor is False because encoder_layer.self_attn.batch_first was not True(use batch_first for better inference performance)\n",
            "  warnings.warn(f\"enable_nested_tensor is True, but self.use_nested_tensor is False because {why_not_sparsity_fast_path}\")\n",
            "[I 2024-10-15 11:56:58,412] Trial 42 pruned. \n"
          ]
        },
        {
          "output_type": "stream",
          "name": "stdout",
          "text": [
            "Trial 42 pruned at epoch 0\n",
            "Validation Loss at prune: 0.0040\n"
          ]
        },
        {
          "output_type": "stream",
          "name": "stderr",
          "text": [
            "/usr/local/lib/python3.10/dist-packages/torch/nn/modules/transformer.py:307: UserWarning: enable_nested_tensor is True, but self.use_nested_tensor is False because encoder_layer.self_attn.batch_first was not True(use batch_first for better inference performance)\n",
            "  warnings.warn(f\"enable_nested_tensor is True, but self.use_nested_tensor is False because {why_not_sparsity_fast_path}\")\n",
            "[I 2024-10-15 11:57:01,625] Trial 43 pruned. \n"
          ]
        },
        {
          "output_type": "stream",
          "name": "stdout",
          "text": [
            "Trial 43 pruned at epoch 3\n",
            "Validation Loss at prune: 0.0004\n"
          ]
        },
        {
          "output_type": "stream",
          "name": "stderr",
          "text": [
            "/usr/local/lib/python3.10/dist-packages/torch/nn/modules/transformer.py:307: UserWarning: enable_nested_tensor is True, but self.use_nested_tensor is False because encoder_layer.self_attn.batch_first was not True(use batch_first for better inference performance)\n",
            "  warnings.warn(f\"enable_nested_tensor is True, but self.use_nested_tensor is False because {why_not_sparsity_fast_path}\")\n",
            "[I 2024-10-15 11:57:02,873] Trial 44 pruned. \n"
          ]
        },
        {
          "output_type": "stream",
          "name": "stdout",
          "text": [
            "Trial 44 pruned at epoch 0\n",
            "Validation Loss at prune: 0.0219\n"
          ]
        },
        {
          "output_type": "stream",
          "name": "stderr",
          "text": [
            "/usr/local/lib/python3.10/dist-packages/torch/nn/modules/transformer.py:307: UserWarning: enable_nested_tensor is True, but self.use_nested_tensor is False because encoder_layer.self_attn.batch_first was not True(use batch_first for better inference performance)\n",
            "  warnings.warn(f\"enable_nested_tensor is True, but self.use_nested_tensor is False because {why_not_sparsity_fast_path}\")\n",
            "[I 2024-10-15 11:57:03,686] Trial 45 pruned. \n"
          ]
        },
        {
          "output_type": "stream",
          "name": "stdout",
          "text": [
            "Trial 45 pruned at epoch 0\n",
            "Validation Loss at prune: 0.0224\n"
          ]
        },
        {
          "output_type": "stream",
          "name": "stderr",
          "text": [
            "/usr/local/lib/python3.10/dist-packages/torch/nn/modules/transformer.py:307: UserWarning: enable_nested_tensor is True, but self.use_nested_tensor is False because encoder_layer.self_attn.batch_first was not True(use batch_first for better inference performance)\n",
            "  warnings.warn(f\"enable_nested_tensor is True, but self.use_nested_tensor is False because {why_not_sparsity_fast_path}\")\n",
            "[I 2024-10-15 12:11:08,636] Trial 46 finished with value: 0.00028446875021096314 and parameters: {'nhead': 8, 'd_model': 144, 'num_encoder_layers': 3, 'dim_feedforward': 409, 'learning_rate': 0.00034456370372671177, 'batch_size': 16}. Best is trial 14 with value: 0.00010060498189407863.\n",
            "/usr/local/lib/python3.10/dist-packages/torch/nn/modules/transformer.py:307: UserWarning: enable_nested_tensor is True, but self.use_nested_tensor is False because encoder_layer.self_attn.batch_first was not True(use batch_first for better inference performance)\n",
            "  warnings.warn(f\"enable_nested_tensor is True, but self.use_nested_tensor is False because {why_not_sparsity_fast_path}\")\n",
            "[I 2024-10-15 12:11:19,444] Trial 47 pruned. \n"
          ]
        },
        {
          "output_type": "stream",
          "name": "stdout",
          "text": [
            "Trial 47 pruned at epoch 10\n",
            "Validation Loss at prune: 0.0003\n"
          ]
        },
        {
          "output_type": "stream",
          "name": "stderr",
          "text": [
            "/usr/local/lib/python3.10/dist-packages/torch/nn/modules/transformer.py:307: UserWarning: enable_nested_tensor is True, but self.use_nested_tensor is False because encoder_layer.self_attn.batch_first was not True(use batch_first for better inference performance)\n",
            "  warnings.warn(f\"enable_nested_tensor is True, but self.use_nested_tensor is False because {why_not_sparsity_fast_path}\")\n",
            "[I 2024-10-15 12:11:20,572] Trial 48 pruned. \n"
          ]
        },
        {
          "output_type": "stream",
          "name": "stdout",
          "text": [
            "Trial 48 pruned at epoch 0\n",
            "Validation Loss at prune: 0.0033\n"
          ]
        },
        {
          "output_type": "stream",
          "name": "stderr",
          "text": [
            "/usr/local/lib/python3.10/dist-packages/torch/nn/modules/transformer.py:307: UserWarning: enable_nested_tensor is True, but self.use_nested_tensor is False because encoder_layer.self_attn.batch_first was not True(use batch_first for better inference performance)\n",
            "  warnings.warn(f\"enable_nested_tensor is True, but self.use_nested_tensor is False because {why_not_sparsity_fast_path}\")\n",
            "[I 2024-10-15 12:11:22,432] Trial 49 pruned. \n"
          ]
        },
        {
          "output_type": "stream",
          "name": "stdout",
          "text": [
            "Trial 49 pruned at epoch 0\n",
            "Validation Loss at prune: 0.0054\n",
            "Best hyperparameters:  {'nhead': 6, 'd_model': 270, 'num_encoder_layers': 2, 'dim_feedforward': 357, 'learning_rate': 0.00024457427461174166, 'batch_size': 37}\n"
          ]
        }
      ],
      "source": [
        "import optuna\n",
        "\n",
        "# Optuna 스터디 생성 및 최적화 실행\n",
        "study = optuna.create_study(direction='minimize')\n",
        "study.optimize(lambda trial: objective(trial, tri, sequence_length), n_trials=n_trials)\n",
        "\n",
        "# 최적의 하이퍼파라미터 출력\n",
        "print(\"Best hyperparameters: \", study.best_params)"
      ]
    },
    {
      "cell_type": "markdown",
      "metadata": {
        "id": "ugCu3x1W66u_"
      },
      "source": [
        "### 5. 하이퍼파라미터 저장"
      ]
    },
    {
      "cell_type": "code",
      "execution_count": null,
      "metadata": {
        "colab": {
          "base_uri": "https://localhost:8080/"
        },
        "id": "BtFXT0O066u_",
        "outputId": "4763a2a2-50f9-4b6a-9f10-50aac45d7f6a"
      },
      "outputs": [
        {
          "output_type": "stream",
          "name": "stdout",
          "text": [
            "Best hyperparameters have been saved to 'best_hyperparameters.json'\n"
          ]
        }
      ],
      "source": [
        "import json\n",
        "\n",
        "### 하이퍼 파라미터 저장\n",
        "\n",
        "# 최적의 하이퍼파라미터를 JSON 파일로 저장\n",
        "with open(\"best_hyperparameters.json\", \"w\") as f:\n",
        "    json.dump(study.best_params, f, indent=4)\n",
        "\n",
        "print(\"Best hyperparameters have been saved to 'best_hyperparameters.json'\")"
      ]
    },
    {
      "cell_type": "markdown",
      "metadata": {
        "id": "FYz0CNRn3w9P"
      },
      "source": [
        "## 학습"
      ]
    },
    {
      "cell_type": "markdown",
      "metadata": {
        "id": "eohY6qs0xg2O"
      },
      "source": [
        "### 1. 하이퍼파라미터 불러오기"
      ]
    },
    {
      "cell_type": "code",
      "execution_count": null,
      "metadata": {
        "colab": {
          "base_uri": "https://localhost:8080/"
        },
        "id": "KNJ0UWidblTl",
        "outputId": "b54d5bf3-67b1-48e8-c29f-6a32f6acf346"
      },
      "outputs": [
        {
          "output_type": "stream",
          "name": "stdout",
          "text": [
            "Loaded best hyperparameters: {'nhead': 6, 'd_model': 270, 'num_encoder_layers': 2, 'dim_feedforward': 357, 'learning_rate': 0.00024457427461174166, 'batch_size': 37}\n"
          ]
        }
      ],
      "source": [
        "import json\n",
        "\n",
        "# 저장된 하이퍼파라미터 불러오기\n",
        "with open(\"best_hyperparameters.json\", \"r\") as f:\n",
        "    best_params = json.load(f)\n",
        "\n",
        "print(\"Loaded best hyperparameters:\", best_params)"
      ]
    },
    {
      "cell_type": "markdown",
      "metadata": {
        "id": "pdznBzKYx31i"
      },
      "source": [
        "### 2. 최적의 파라미터로 모델 학습"
      ]
    },
    {
      "cell_type": "code",
      "execution_count": null,
      "metadata": {
        "id": "_nfvmpVT66vA"
      },
      "outputs": [],
      "source": [
        "sequence_length = 10\n",
        "num_epochs = 1000"
      ]
    },
    {
      "cell_type": "code",
      "execution_count": null,
      "metadata": {
        "colab": {
          "base_uri": "https://localhost:8080/"
        },
        "id": "veh0Ol9xhQYV",
        "outputId": "a1bc6836-ed23-48e6-f272-d00091266c1c"
      },
      "outputs": [
        {
          "output_type": "stream",
          "name": "stderr",
          "text": [
            "/usr/local/lib/python3.10/dist-packages/torch/nn/modules/transformer.py:307: UserWarning: enable_nested_tensor is True, but self.use_nested_tensor is False because encoder_layer.self_attn.batch_first was not True(use batch_first for better inference performance)\n",
            "  warnings.warn(f\"enable_nested_tensor is True, but self.use_nested_tensor is False because {why_not_sparsity_fast_path}\")\n"
          ]
        }
      ],
      "source": [
        "# 최적의 모델 학습\n",
        "# best_params = study.best_params\n",
        "\n",
        "train_loader, val_loader, test_loader = create_dataloaders(tri, best_params['batch_size'], sequence_length)\n",
        "\n",
        "best_model = TransformerModel(\n",
        "    input_dim=3,\n",
        "    seq_length=10,\n",
        "    d_model=best_params['d_model'],\n",
        "    nhead=best_params['nhead'],\n",
        "    num_encoder_layers=best_params['num_encoder_layers'],\n",
        "    dim_feedforward=best_params['dim_feedforward']\n",
        ")\n",
        "\n",
        "device = torch.device('cuda' if torch.cuda.is_available() else 'cpu')\n",
        "best_model = best_model.to(device)\n",
        "\n",
        "optimizer = torch.optim.Adam(best_model.parameters(), lr=best_params['learning_rate'])\n",
        "criterion = torch.nn.MSELoss()"
      ]
    },
    {
      "cell_type": "code",
      "execution_count": null,
      "metadata": {
        "colab": {
          "base_uri": "https://localhost:8080/"
        },
        "id": "CKJYU2CKhWZE",
        "outputId": "6d67e4fa-84b6-4b73-ce8f-b7623da7d0f9"
      },
      "outputs": [
        {
          "output_type": "stream",
          "name": "stdout",
          "text": [
            "Epoch [1/1000], Train Loss: 1.7068, Val Loss: 0.0500\n",
            "Epoch 1/1000 completed in 0.64 seconds.\n",
            "Epoch [2/1000], Train Loss: 0.0334, Val Loss: 0.0185\n",
            "Epoch 2/1000 completed in 0.63 seconds.\n",
            "Epoch [3/1000], Train Loss: 0.0171, Val Loss: 0.0186\n",
            "Epoch 3/1000 completed in 0.77 seconds.\n",
            "Epoch [4/1000], Train Loss: 0.0161, Val Loss: 0.0160\n",
            "Epoch 4/1000 completed in 0.72 seconds.\n",
            "Epoch [5/1000], Train Loss: 0.0166, Val Loss: 0.0135\n",
            "Epoch 5/1000 completed in 0.50 seconds.\n",
            "Epoch [6/1000], Train Loss: 0.0145, Val Loss: 0.0129\n",
            "Epoch 6/1000 completed in 0.50 seconds.\n",
            "Epoch [7/1000], Train Loss: 0.0156, Val Loss: 0.0096\n",
            "Epoch 7/1000 completed in 0.51 seconds.\n",
            "Epoch [8/1000], Train Loss: 0.0199, Val Loss: 0.0100\n",
            "Epoch 8/1000 completed in 0.50 seconds.\n",
            "Epoch [9/1000], Train Loss: 0.0176, Val Loss: 0.0083\n",
            "Epoch 9/1000 completed in 0.52 seconds.\n",
            "Epoch [10/1000], Train Loss: 0.0153, Val Loss: 0.0077\n",
            "Epoch 10/1000 completed in 0.50 seconds.\n",
            "Epoch [11/1000], Train Loss: 0.0137, Val Loss: 0.0085\n",
            "Epoch 11/1000 completed in 0.49 seconds.\n",
            "Epoch [12/1000], Train Loss: 0.0169, Val Loss: 0.0035\n",
            "Epoch 12/1000 completed in 0.50 seconds.\n",
            "Epoch [13/1000], Train Loss: 0.0127, Val Loss: 0.0029\n",
            "Epoch 13/1000 completed in 0.49 seconds.\n",
            "Epoch [14/1000], Train Loss: 0.0175, Val Loss: 0.0077\n",
            "Epoch 14/1000 completed in 0.50 seconds.\n",
            "Epoch [15/1000], Train Loss: 0.0142, Val Loss: 0.0096\n",
            "Epoch 15/1000 completed in 0.49 seconds.\n",
            "Epoch [16/1000], Train Loss: 0.0108, Val Loss: 0.0034\n",
            "Epoch 16/1000 completed in 0.50 seconds.\n",
            "Epoch [17/1000], Train Loss: 0.0128, Val Loss: 0.0061\n",
            "Epoch 17/1000 completed in 0.49 seconds.\n",
            "Epoch [18/1000], Train Loss: 0.0216, Val Loss: 0.0186\n",
            "Epoch 18/1000 completed in 0.51 seconds.\n",
            "Epoch [19/1000], Train Loss: 0.0127, Val Loss: 0.0052\n",
            "Epoch 19/1000 completed in 0.49 seconds.\n",
            "Epoch [20/1000], Train Loss: 0.0084, Val Loss: 0.0025\n",
            "Epoch 20/1000 completed in 0.49 seconds.\n",
            "Epoch [21/1000], Train Loss: 0.0127, Val Loss: 0.0061\n",
            "Epoch 21/1000 completed in 0.50 seconds.\n",
            "Epoch [22/1000], Train Loss: 0.0125, Val Loss: 0.0134\n",
            "Epoch 22/1000 completed in 0.50 seconds.\n",
            "Epoch [23/1000], Train Loss: 0.0256, Val Loss: 0.0055\n",
            "Epoch 23/1000 completed in 0.70 seconds.\n",
            "Epoch [24/1000], Train Loss: 0.0089, Val Loss: 0.0031\n",
            "Epoch 24/1000 completed in 0.65 seconds.\n",
            "Epoch [25/1000], Train Loss: 0.0103, Val Loss: 0.0060\n",
            "Epoch 25/1000 completed in 0.71 seconds.\n",
            "Epoch [26/1000], Train Loss: 0.0098, Val Loss: 0.0041\n",
            "Epoch 26/1000 completed in 0.62 seconds.\n",
            "Epoch [27/1000], Train Loss: 0.0156, Val Loss: 0.0056\n",
            "Epoch 27/1000 completed in 0.49 seconds.\n",
            "Epoch [28/1000], Train Loss: 0.0089, Val Loss: 0.0033\n",
            "Epoch 28/1000 completed in 0.49 seconds.\n",
            "Epoch [29/1000], Train Loss: 0.0105, Val Loss: 0.0020\n",
            "Epoch 29/1000 completed in 0.50 seconds.\n",
            "Epoch [30/1000], Train Loss: 0.0137, Val Loss: 0.0030\n",
            "Epoch 30/1000 completed in 0.49 seconds.\n",
            "Epoch [31/1000], Train Loss: 0.0132, Val Loss: 0.0032\n",
            "Epoch 31/1000 completed in 0.50 seconds.\n",
            "Epoch [32/1000], Train Loss: 0.0144, Val Loss: 0.0052\n",
            "Epoch 32/1000 completed in 0.49 seconds.\n",
            "Epoch [33/1000], Train Loss: 0.0159, Val Loss: 0.0093\n",
            "Epoch 33/1000 completed in 0.52 seconds.\n",
            "Epoch [34/1000], Train Loss: 0.0071, Val Loss: 0.0031\n",
            "Epoch 34/1000 completed in 0.50 seconds.\n",
            "Epoch [35/1000], Train Loss: 0.0140, Val Loss: 0.0111\n",
            "Epoch 35/1000 completed in 0.50 seconds.\n",
            "Epoch [36/1000], Train Loss: 0.0116, Val Loss: 0.0038\n",
            "Epoch 36/1000 completed in 0.48 seconds.\n",
            "Epoch [37/1000], Train Loss: 0.0110, Val Loss: 0.0050\n",
            "Epoch 37/1000 completed in 0.50 seconds.\n",
            "Epoch [38/1000], Train Loss: 0.0136, Val Loss: 0.0041\n",
            "Epoch 38/1000 completed in 0.50 seconds.\n",
            "Epoch [39/1000], Train Loss: 0.0111, Val Loss: 0.0019\n",
            "Epoch 39/1000 completed in 0.51 seconds.\n",
            "Epoch [40/1000], Train Loss: 0.0100, Val Loss: 0.0105\n",
            "Epoch 40/1000 completed in 0.51 seconds.\n",
            "Epoch [41/1000], Train Loss: 0.0116, Val Loss: 0.0021\n",
            "Epoch 41/1000 completed in 0.50 seconds.\n",
            "Epoch [42/1000], Train Loss: 0.0096, Val Loss: 0.0024\n",
            "Epoch 42/1000 completed in 0.51 seconds.\n",
            "Epoch [43/1000], Train Loss: 0.0123, Val Loss: 0.0050\n",
            "Epoch 43/1000 completed in 0.49 seconds.\n",
            "Epoch [44/1000], Train Loss: 0.0098, Val Loss: 0.0045\n",
            "Epoch 44/1000 completed in 0.61 seconds.\n",
            "Epoch [45/1000], Train Loss: 0.0094, Val Loss: 0.0069\n",
            "Epoch 45/1000 completed in 0.62 seconds.\n",
            "Epoch [46/1000], Train Loss: 0.0105, Val Loss: 0.0045\n",
            "Epoch 46/1000 completed in 0.73 seconds.\n",
            "Epoch [47/1000], Train Loss: 0.0131, Val Loss: 0.0059\n",
            "Epoch 47/1000 completed in 0.67 seconds.\n",
            "Epoch [48/1000], Train Loss: 0.0090, Val Loss: 0.0086\n",
            "Epoch 48/1000 completed in 0.49 seconds.\n",
            "Epoch [49/1000], Train Loss: 0.0122, Val Loss: 0.0043\n",
            "Epoch 49/1000 completed in 0.50 seconds.\n",
            "Epoch [50/1000], Train Loss: 0.0240, Val Loss: 0.0020\n",
            "Epoch 50/1000 completed in 0.50 seconds.\n",
            "Epoch [51/1000], Train Loss: 0.0057, Val Loss: 0.0058\n",
            "Epoch 51/1000 completed in 0.50 seconds.\n",
            "Epoch [52/1000], Train Loss: 0.0082, Val Loss: 0.0026\n",
            "Epoch 52/1000 completed in 0.50 seconds.\n",
            "Epoch [53/1000], Train Loss: 0.0116, Val Loss: 0.0031\n",
            "Epoch 53/1000 completed in 0.49 seconds.\n",
            "Epoch [54/1000], Train Loss: 0.0057, Val Loss: 0.0020\n",
            "Epoch 54/1000 completed in 0.50 seconds.\n",
            "Epoch [55/1000], Train Loss: 0.0072, Val Loss: 0.0043\n",
            "Epoch 55/1000 completed in 0.51 seconds.\n",
            "Epoch [56/1000], Train Loss: 0.0118, Val Loss: 0.0032\n",
            "Epoch 56/1000 completed in 0.51 seconds.\n",
            "Epoch [57/1000], Train Loss: 0.0116, Val Loss: 0.0037\n",
            "Epoch 57/1000 completed in 0.51 seconds.\n",
            "Epoch [58/1000], Train Loss: 0.0098, Val Loss: 0.0039\n",
            "Epoch 58/1000 completed in 0.53 seconds.\n",
            "Epoch [59/1000], Train Loss: 0.0073, Val Loss: 0.0027\n",
            "Epoch 59/1000 completed in 0.49 seconds.\n",
            "Epoch [60/1000], Train Loss: 0.0068, Val Loss: 0.0018\n",
            "Epoch 60/1000 completed in 0.50 seconds.\n",
            "Epoch [61/1000], Train Loss: 0.0103, Val Loss: 0.0035\n",
            "Epoch 61/1000 completed in 0.54 seconds.\n",
            "Epoch [62/1000], Train Loss: 0.0074, Val Loss: 0.0014\n",
            "Epoch 62/1000 completed in 0.50 seconds.\n",
            "Epoch [63/1000], Train Loss: 0.0084, Val Loss: 0.0028\n",
            "Epoch 63/1000 completed in 0.51 seconds.\n",
            "Epoch [64/1000], Train Loss: 0.0072, Val Loss: 0.0018\n",
            "Epoch 64/1000 completed in 0.49 seconds.\n",
            "Epoch [65/1000], Train Loss: 0.0077, Val Loss: 0.0023\n",
            "Epoch 65/1000 completed in 0.61 seconds.\n",
            "Epoch [66/1000], Train Loss: 0.0106, Val Loss: 0.0128\n",
            "Epoch 66/1000 completed in 0.63 seconds.\n",
            "Epoch [67/1000], Train Loss: 0.0105, Val Loss: 0.0018\n",
            "Epoch 67/1000 completed in 0.71 seconds.\n",
            "Epoch [68/1000], Train Loss: 0.0065, Val Loss: 0.0020\n",
            "Epoch 68/1000 completed in 0.73 seconds.\n",
            "Epoch [69/1000], Train Loss: 0.0090, Val Loss: 0.0038\n",
            "Epoch 69/1000 completed in 0.51 seconds.\n",
            "Epoch [70/1000], Train Loss: 0.0099, Val Loss: 0.0052\n",
            "Epoch 70/1000 completed in 0.50 seconds.\n",
            "Epoch [71/1000], Train Loss: 0.0100, Val Loss: 0.0115\n",
            "Epoch 71/1000 completed in 0.51 seconds.\n",
            "Epoch [72/1000], Train Loss: 0.0080, Val Loss: 0.0065\n",
            "Epoch 72/1000 completed in 0.51 seconds.\n",
            "Epoch [73/1000], Train Loss: 0.0083, Val Loss: 0.0042\n",
            "Epoch 73/1000 completed in 0.51 seconds.\n",
            "Epoch [74/1000], Train Loss: 0.0057, Val Loss: 0.0043\n",
            "Epoch 74/1000 completed in 0.50 seconds.\n",
            "Epoch [75/1000], Train Loss: 0.0112, Val Loss: 0.0029\n",
            "Epoch 75/1000 completed in 0.52 seconds.\n",
            "Epoch [76/1000], Train Loss: 0.0083, Val Loss: 0.0017\n",
            "Epoch 76/1000 completed in 0.50 seconds.\n",
            "Epoch [77/1000], Train Loss: 0.0067, Val Loss: 0.0075\n",
            "Epoch 77/1000 completed in 0.50 seconds.\n",
            "Epoch [78/1000], Train Loss: 0.0123, Val Loss: 0.0033\n",
            "Epoch 78/1000 completed in 0.50 seconds.\n",
            "Epoch [79/1000], Train Loss: 0.0060, Val Loss: 0.0026\n",
            "Epoch 79/1000 completed in 0.49 seconds.\n",
            "Epoch [80/1000], Train Loss: 0.0118, Val Loss: 0.0073\n",
            "Epoch 80/1000 completed in 0.51 seconds.\n",
            "Epoch [81/1000], Train Loss: 0.0069, Val Loss: 0.0028\n",
            "Epoch 81/1000 completed in 0.49 seconds.\n",
            "Epoch [82/1000], Train Loss: 0.0073, Val Loss: 0.0019\n",
            "Epoch 82/1000 completed in 0.50 seconds.\n",
            "Epoch [83/1000], Train Loss: 0.0063, Val Loss: 0.0025\n",
            "Epoch 83/1000 completed in 0.49 seconds.\n",
            "Epoch [84/1000], Train Loss: 0.0073, Val Loss: 0.0059\n",
            "Epoch 84/1000 completed in 0.50 seconds.\n",
            "Epoch [85/1000], Train Loss: 0.0051, Val Loss: 0.0040\n",
            "Epoch 85/1000 completed in 0.48 seconds.\n",
            "Epoch [86/1000], Train Loss: 0.0107, Val Loss: 0.0021\n",
            "Epoch 86/1000 completed in 0.49 seconds.\n",
            "Epoch [87/1000], Train Loss: 0.0065, Val Loss: 0.0085\n",
            "Epoch 87/1000 completed in 0.66 seconds.\n",
            "Epoch [88/1000], Train Loss: 0.0081, Val Loss: 0.0039\n",
            "Epoch 88/1000 completed in 0.65 seconds.\n",
            "Epoch [89/1000], Train Loss: 0.0091, Val Loss: 0.0046\n",
            "Epoch 89/1000 completed in 0.73 seconds.\n",
            "Epoch [90/1000], Train Loss: 0.0089, Val Loss: 0.0029\n",
            "Epoch 90/1000 completed in 0.62 seconds.\n",
            "Epoch [91/1000], Train Loss: 0.0065, Val Loss: 0.0035\n",
            "Epoch 91/1000 completed in 0.50 seconds.\n",
            "Epoch [92/1000], Train Loss: 0.0113, Val Loss: 0.0015\n",
            "Epoch 92/1000 completed in 0.52 seconds.\n",
            "Epoch [93/1000], Train Loss: 0.0067, Val Loss: 0.0042\n",
            "Epoch 93/1000 completed in 0.50 seconds.\n",
            "Epoch [94/1000], Train Loss: 0.0076, Val Loss: 0.0038\n",
            "Epoch 94/1000 completed in 0.49 seconds.\n",
            "Epoch [95/1000], Train Loss: 0.0059, Val Loss: 0.0033\n",
            "Epoch 95/1000 completed in 0.49 seconds.\n",
            "Epoch [96/1000], Train Loss: 0.0061, Val Loss: 0.0036\n",
            "Epoch 96/1000 completed in 0.50 seconds.\n",
            "Epoch [97/1000], Train Loss: 0.0077, Val Loss: 0.0047\n",
            "Epoch 97/1000 completed in 0.50 seconds.\n",
            "Epoch [98/1000], Train Loss: 0.0055, Val Loss: 0.0027\n",
            "Epoch 98/1000 completed in 0.50 seconds.\n",
            "Epoch [99/1000], Train Loss: 0.0064, Val Loss: 0.0021\n",
            "Epoch 99/1000 completed in 0.49 seconds.\n",
            "Epoch [100/1000], Train Loss: 0.0064, Val Loss: 0.0052\n",
            "Epoch 100/1000 completed in 0.50 seconds.\n",
            "Epoch [101/1000], Train Loss: 0.0067, Val Loss: 0.0049\n",
            "Epoch 101/1000 completed in 0.50 seconds.\n",
            "Epoch [102/1000], Train Loss: 0.0076, Val Loss: 0.0049\n",
            "Epoch 102/1000 completed in 0.51 seconds.\n",
            "Epoch [103/1000], Train Loss: 0.0068, Val Loss: 0.0063\n",
            "Epoch 103/1000 completed in 0.50 seconds.\n",
            "Epoch [104/1000], Train Loss: 0.0064, Val Loss: 0.0018\n",
            "Epoch 104/1000 completed in 0.51 seconds.\n",
            "Epoch [105/1000], Train Loss: 0.0073, Val Loss: 0.0053\n",
            "Epoch 105/1000 completed in 0.51 seconds.\n",
            "Epoch [106/1000], Train Loss: 0.0066, Val Loss: 0.0028\n",
            "Epoch 106/1000 completed in 0.50 seconds.\n",
            "Epoch [107/1000], Train Loss: 0.0057, Val Loss: 0.0045\n",
            "Epoch 107/1000 completed in 0.49 seconds.\n",
            "Epoch [108/1000], Train Loss: 0.0059, Val Loss: 0.0019\n",
            "Epoch 108/1000 completed in 0.61 seconds.\n",
            "Epoch [109/1000], Train Loss: 0.0054, Val Loss: 0.0022\n",
            "Epoch 109/1000 completed in 0.63 seconds.\n",
            "Epoch [110/1000], Train Loss: 0.0085, Val Loss: 0.0021\n",
            "Epoch 110/1000 completed in 0.77 seconds.\n",
            "Epoch [111/1000], Train Loss: 0.0084, Val Loss: 0.0038\n",
            "Epoch 111/1000 completed in 0.72 seconds.\n",
            "Epoch [112/1000], Train Loss: 0.0061, Val Loss: 0.0026\n",
            "Epoch 112/1000 completed in 0.50 seconds.\n",
            "Epoch [113/1000], Train Loss: 0.0067, Val Loss: 0.0026\n",
            "Epoch 113/1000 completed in 0.50 seconds.\n",
            "Epoch [114/1000], Train Loss: 0.0055, Val Loss: 0.0035\n",
            "Epoch 114/1000 completed in 0.48 seconds.\n",
            "Epoch [115/1000], Train Loss: 0.0067, Val Loss: 0.0016\n",
            "Epoch 115/1000 completed in 0.50 seconds.\n",
            "Epoch [116/1000], Train Loss: 0.0047, Val Loss: 0.0029\n",
            "Epoch 116/1000 completed in 0.49 seconds.\n",
            "Epoch [117/1000], Train Loss: 0.0061, Val Loss: 0.0024\n",
            "Epoch 117/1000 completed in 0.50 seconds.\n",
            "Epoch [118/1000], Train Loss: 0.0052, Val Loss: 0.0049\n",
            "Epoch 118/1000 completed in 0.49 seconds.\n",
            "Epoch [119/1000], Train Loss: 0.0073, Val Loss: 0.0053\n",
            "Epoch 119/1000 completed in 0.49 seconds.\n",
            "Epoch [120/1000], Train Loss: 0.0085, Val Loss: 0.0027\n",
            "Epoch 120/1000 completed in 0.51 seconds.\n",
            "Epoch [121/1000], Train Loss: 0.0044, Val Loss: 0.0020\n",
            "Epoch 121/1000 completed in 0.49 seconds.\n",
            "Epoch [122/1000], Train Loss: 0.0072, Val Loss: 0.0075\n",
            "Epoch 122/1000 completed in 0.50 seconds.\n",
            "Epoch [123/1000], Train Loss: 0.0061, Val Loss: 0.0014\n",
            "Epoch 123/1000 completed in 0.49 seconds.\n",
            "Epoch [124/1000], Train Loss: 0.0044, Val Loss: 0.0043\n",
            "Epoch 124/1000 completed in 0.51 seconds.\n",
            "Epoch [125/1000], Train Loss: 0.0056, Val Loss: 0.0015\n",
            "Epoch 125/1000 completed in 0.49 seconds.\n",
            "Epoch [126/1000], Train Loss: 0.0039, Val Loss: 0.0021\n",
            "Epoch 126/1000 completed in 0.51 seconds.\n",
            "Epoch [127/1000], Train Loss: 0.0062, Val Loss: 0.0043\n",
            "Epoch 127/1000 completed in 0.50 seconds.\n",
            "Epoch [128/1000], Train Loss: 0.0105, Val Loss: 0.0051\n",
            "Epoch 128/1000 completed in 0.51 seconds.\n",
            "Epoch [129/1000], Train Loss: 0.0056, Val Loss: 0.0019\n",
            "Epoch 129/1000 completed in 0.53 seconds.\n",
            "Epoch [130/1000], Train Loss: 0.0039, Val Loss: 0.0018\n",
            "Epoch 130/1000 completed in 0.64 seconds.\n",
            "Epoch [131/1000], Train Loss: 0.0048, Val Loss: 0.0065\n",
            "Epoch 131/1000 completed in 0.70 seconds.\n",
            "Epoch [132/1000], Train Loss: 0.0068, Val Loss: 0.0022\n",
            "Epoch 132/1000 completed in 0.71 seconds.\n",
            "Epoch [133/1000], Train Loss: 0.0044, Val Loss: 0.0022\n",
            "Epoch 133/1000 completed in 0.55 seconds.\n",
            "Epoch [134/1000], Train Loss: 0.0041, Val Loss: 0.0019\n",
            "Epoch 134/1000 completed in 0.50 seconds.\n",
            "Epoch [135/1000], Train Loss: 0.0065, Val Loss: 0.0015\n",
            "Epoch 135/1000 completed in 0.49 seconds.\n",
            "Epoch [136/1000], Train Loss: 0.0062, Val Loss: 0.0013\n",
            "Epoch 136/1000 completed in 0.50 seconds.\n",
            "Epoch [137/1000], Train Loss: 0.0064, Val Loss: 0.0061\n",
            "Epoch 137/1000 completed in 0.50 seconds.\n",
            "Epoch [138/1000], Train Loss: 0.0051, Val Loss: 0.0019\n",
            "Epoch 138/1000 completed in 0.50 seconds.\n",
            "Epoch [139/1000], Train Loss: 0.0080, Val Loss: 0.0034\n",
            "Epoch 139/1000 completed in 0.50 seconds.\n",
            "Epoch [140/1000], Train Loss: 0.0046, Val Loss: 0.0035\n",
            "Epoch 140/1000 completed in 0.47 seconds.\n",
            "Epoch [141/1000], Train Loss: 0.0059, Val Loss: 0.0028\n",
            "Epoch 141/1000 completed in 0.50 seconds.\n",
            "Epoch [142/1000], Train Loss: 0.0039, Val Loss: 0.0017\n",
            "Epoch 142/1000 completed in 0.49 seconds.\n",
            "Epoch [143/1000], Train Loss: 0.0034, Val Loss: 0.0021\n",
            "Epoch 143/1000 completed in 0.50 seconds.\n",
            "Epoch [144/1000], Train Loss: 0.0039, Val Loss: 0.0022\n",
            "Epoch 144/1000 completed in 0.48 seconds.\n",
            "Epoch [145/1000], Train Loss: 0.0077, Val Loss: 0.0015\n",
            "Epoch 145/1000 completed in 0.50 seconds.\n",
            "Epoch [146/1000], Train Loss: 0.0107, Val Loss: 0.0038\n",
            "Epoch 146/1000 completed in 0.49 seconds.\n",
            "Epoch [147/1000], Train Loss: 0.0053, Val Loss: 0.0034\n",
            "Epoch 147/1000 completed in 0.50 seconds.\n",
            "Epoch [148/1000], Train Loss: 0.0037, Val Loss: 0.0016\n",
            "Epoch 148/1000 completed in 0.49 seconds.\n",
            "Epoch [149/1000], Train Loss: 0.0036, Val Loss: 0.0034\n",
            "Epoch 149/1000 completed in 0.50 seconds.\n",
            "Epoch [150/1000], Train Loss: 0.0068, Val Loss: 0.0014\n",
            "Epoch 150/1000 completed in 0.50 seconds.\n",
            "Epoch [151/1000], Train Loss: 0.0039, Val Loss: 0.0019\n",
            "Epoch 151/1000 completed in 0.62 seconds.\n",
            "Epoch [152/1000], Train Loss: 0.0035, Val Loss: 0.0013\n",
            "Epoch 152/1000 completed in 0.64 seconds.\n",
            "Epoch [153/1000], Train Loss: 0.0053, Val Loss: 0.0024\n",
            "Epoch 153/1000 completed in 0.73 seconds.\n",
            "Epoch [154/1000], Train Loss: 0.0041, Val Loss: 0.0015\n",
            "Epoch 154/1000 completed in 0.63 seconds.\n",
            "Epoch [155/1000], Train Loss: 0.0052, Val Loss: 0.0013\n",
            "Epoch 155/1000 completed in 0.49 seconds.\n",
            "Epoch [156/1000], Train Loss: 0.0055, Val Loss: 0.0031\n",
            "Epoch 156/1000 completed in 0.50 seconds.\n",
            "Epoch [157/1000], Train Loss: 0.0047, Val Loss: 0.0030\n",
            "Epoch 157/1000 completed in 0.49 seconds.\n",
            "Epoch [158/1000], Train Loss: 0.0050, Val Loss: 0.0021\n",
            "Epoch 158/1000 completed in 0.49 seconds.\n",
            "Epoch [159/1000], Train Loss: 0.0050, Val Loss: 0.0027\n",
            "Epoch 159/1000 completed in 0.50 seconds.\n",
            "Epoch [160/1000], Train Loss: 0.0080, Val Loss: 0.0041\n",
            "Epoch 160/1000 completed in 0.49 seconds.\n",
            "Epoch [161/1000], Train Loss: 0.0042, Val Loss: 0.0020\n",
            "Epoch 161/1000 completed in 0.49 seconds.\n",
            "Epoch [162/1000], Train Loss: 0.0040, Val Loss: 0.0016\n",
            "Epoch 162/1000 completed in 0.49 seconds.\n",
            "Epoch [163/1000], Train Loss: 0.0030, Val Loss: 0.0033\n",
            "Epoch 163/1000 completed in 0.53 seconds.\n",
            "Epoch [164/1000], Train Loss: 0.0049, Val Loss: 0.0025\n",
            "Epoch 164/1000 completed in 0.49 seconds.\n",
            "Epoch [165/1000], Train Loss: 0.0036, Val Loss: 0.0043\n",
            "Epoch 165/1000 completed in 0.49 seconds.\n",
            "Epoch [166/1000], Train Loss: 0.0045, Val Loss: 0.0022\n",
            "Epoch 166/1000 completed in 0.50 seconds.\n",
            "Epoch [167/1000], Train Loss: 0.0057, Val Loss: 0.0022\n",
            "Epoch 167/1000 completed in 0.50 seconds.\n",
            "Epoch [168/1000], Train Loss: 0.0060, Val Loss: 0.0013\n",
            "Epoch 168/1000 completed in 0.50 seconds.\n",
            "Epoch [169/1000], Train Loss: 0.0044, Val Loss: 0.0011\n",
            "Epoch 169/1000 completed in 0.50 seconds.\n",
            "Epoch [170/1000], Train Loss: 0.0048, Val Loss: 0.0013\n",
            "Epoch 170/1000 completed in 0.50 seconds.\n",
            "Epoch [171/1000], Train Loss: 0.0051, Val Loss: 0.0043\n",
            "Epoch 171/1000 completed in 0.49 seconds.\n",
            "Epoch [172/1000], Train Loss: 0.0054, Val Loss: 0.0021\n",
            "Epoch 172/1000 completed in 0.57 seconds.\n",
            "Epoch [173/1000], Train Loss: 0.0036, Val Loss: 0.0019\n",
            "Epoch 173/1000 completed in 0.64 seconds.\n",
            "Epoch [174/1000], Train Loss: 0.0033, Val Loss: 0.0023\n",
            "Epoch 174/1000 completed in 0.68 seconds.\n",
            "Epoch [175/1000], Train Loss: 0.0031, Val Loss: 0.0014\n",
            "Epoch 175/1000 completed in 0.68 seconds.\n",
            "Epoch [176/1000], Train Loss: 0.0043, Val Loss: 0.0043\n",
            "Epoch 176/1000 completed in 0.49 seconds.\n",
            "Epoch [177/1000], Train Loss: 0.0052, Val Loss: 0.0028\n",
            "Epoch 177/1000 completed in 0.50 seconds.\n",
            "Epoch [178/1000], Train Loss: 0.0054, Val Loss: 0.0012\n",
            "Epoch 178/1000 completed in 0.50 seconds.\n",
            "Epoch [179/1000], Train Loss: 0.0034, Val Loss: 0.0032\n",
            "Epoch 179/1000 completed in 0.50 seconds.\n",
            "Epoch [180/1000], Train Loss: 0.0042, Val Loss: 0.0018\n",
            "Epoch 180/1000 completed in 0.50 seconds.\n",
            "Epoch [181/1000], Train Loss: 0.0042, Val Loss: 0.0026\n",
            "Epoch 181/1000 completed in 0.48 seconds.\n",
            "Epoch [182/1000], Train Loss: 0.0029, Val Loss: 0.0012\n",
            "Epoch 182/1000 completed in 0.49 seconds.\n",
            "Epoch [183/1000], Train Loss: 0.0049, Val Loss: 0.0030\n",
            "Epoch 183/1000 completed in 0.48 seconds.\n",
            "Epoch [184/1000], Train Loss: 0.0055, Val Loss: 0.0012\n",
            "Epoch 184/1000 completed in 0.50 seconds.\n",
            "Epoch [185/1000], Train Loss: 0.0036, Val Loss: 0.0017\n",
            "Epoch 185/1000 completed in 0.48 seconds.\n",
            "Epoch [186/1000], Train Loss: 0.0039, Val Loss: 0.0032\n",
            "Epoch 186/1000 completed in 0.50 seconds.\n",
            "Epoch [187/1000], Train Loss: 0.0048, Val Loss: 0.0021\n",
            "Epoch 187/1000 completed in 0.49 seconds.\n",
            "Epoch [188/1000], Train Loss: 0.0040, Val Loss: 0.0020\n",
            "Epoch 188/1000 completed in 0.50 seconds.\n",
            "Epoch [189/1000], Train Loss: 0.0040, Val Loss: 0.0014\n",
            "Epoch 189/1000 completed in 0.49 seconds.\n",
            "Epoch [190/1000], Train Loss: 0.0034, Val Loss: 0.0023\n",
            "Epoch 190/1000 completed in 0.49 seconds.\n",
            "Epoch [191/1000], Train Loss: 0.0050, Val Loss: 0.0045\n",
            "Epoch 191/1000 completed in 0.50 seconds.\n",
            "Epoch [192/1000], Train Loss: 0.0048, Val Loss: 0.0014\n",
            "Epoch 192/1000 completed in 0.49 seconds.\n",
            "Epoch [193/1000], Train Loss: 0.0034, Val Loss: 0.0017\n",
            "Epoch 193/1000 completed in 0.52 seconds.\n",
            "Epoch [194/1000], Train Loss: 0.0039, Val Loss: 0.0077\n",
            "Epoch 194/1000 completed in 0.66 seconds.\n",
            "Epoch [195/1000], Train Loss: 0.0068, Val Loss: 0.0013\n",
            "Epoch 195/1000 completed in 0.67 seconds.\n",
            "Epoch [196/1000], Train Loss: 0.0028, Val Loss: 0.0013\n",
            "Epoch 196/1000 completed in 0.74 seconds.\n",
            "Epoch [197/1000], Train Loss: 0.0041, Val Loss: 0.0026\n",
            "Epoch 197/1000 completed in 0.57 seconds.\n",
            "Epoch [198/1000], Train Loss: 0.0089, Val Loss: 0.0018\n",
            "Epoch 198/1000 completed in 0.49 seconds.\n",
            "Epoch [199/1000], Train Loss: 0.0034, Val Loss: 0.0012\n",
            "Epoch 199/1000 completed in 0.49 seconds.\n",
            "Epoch [200/1000], Train Loss: 0.0037, Val Loss: 0.0028\n",
            "Epoch 200/1000 completed in 0.48 seconds.\n",
            "Epoch [201/1000], Train Loss: 0.0032, Val Loss: 0.0015\n",
            "Epoch 201/1000 completed in 0.50 seconds.\n",
            "Epoch [202/1000], Train Loss: 0.0040, Val Loss: 0.0023\n",
            "Epoch 202/1000 completed in 0.49 seconds.\n",
            "Epoch [203/1000], Train Loss: 0.0041, Val Loss: 0.0020\n",
            "Epoch 203/1000 completed in 0.51 seconds.\n",
            "Epoch [204/1000], Train Loss: 0.0027, Val Loss: 0.0030\n",
            "Epoch 204/1000 completed in 0.51 seconds.\n",
            "Epoch [205/1000], Train Loss: 0.0040, Val Loss: 0.0017\n",
            "Epoch 205/1000 completed in 0.50 seconds.\n",
            "Epoch [206/1000], Train Loss: 0.0040, Val Loss: 0.0025\n",
            "Epoch 206/1000 completed in 0.50 seconds.\n",
            "Epoch [207/1000], Train Loss: 0.0029, Val Loss: 0.0015\n",
            "Epoch 207/1000 completed in 0.52 seconds.\n",
            "Epoch [208/1000], Train Loss: 0.0033, Val Loss: 0.0016\n",
            "Epoch 208/1000 completed in 0.49 seconds.\n",
            "Epoch [209/1000], Train Loss: 0.0043, Val Loss: 0.0021\n",
            "Epoch 209/1000 completed in 0.50 seconds.\n",
            "Epoch [210/1000], Train Loss: 0.0041, Val Loss: 0.0026\n",
            "Epoch 210/1000 completed in 0.49 seconds.\n",
            "Epoch [211/1000], Train Loss: 0.0034, Val Loss: 0.0033\n",
            "Epoch 211/1000 completed in 0.50 seconds.\n",
            "Epoch [212/1000], Train Loss: 0.0039, Val Loss: 0.0020\n",
            "Epoch 212/1000 completed in 0.50 seconds.\n",
            "Epoch [213/1000], Train Loss: 0.0041, Val Loss: 0.0032\n",
            "Epoch 213/1000 completed in 0.49 seconds.\n",
            "Epoch [214/1000], Train Loss: 0.0032, Val Loss: 0.0017\n",
            "Epoch 214/1000 completed in 0.51 seconds.\n",
            "Epoch [215/1000], Train Loss: 0.0036, Val Loss: 0.0026\n",
            "Epoch 215/1000 completed in 0.67 seconds.\n",
            "Epoch [216/1000], Train Loss: 0.0040, Val Loss: 0.0021\n",
            "Epoch 216/1000 completed in 0.64 seconds.\n",
            "Epoch [217/1000], Train Loss: 0.0039, Val Loss: 0.0033\n",
            "Epoch 217/1000 completed in 0.71 seconds.\n",
            "Epoch [218/1000], Train Loss: 0.0030, Val Loss: 0.0022\n",
            "Epoch 218/1000 completed in 0.65 seconds.\n",
            "Epoch [219/1000], Train Loss: 0.0026, Val Loss: 0.0025\n",
            "Epoch 219/1000 completed in 0.50 seconds.\n",
            "Epoch [220/1000], Train Loss: 0.0054, Val Loss: 0.0049\n",
            "Epoch 220/1000 completed in 0.50 seconds.\n",
            "Epoch [221/1000], Train Loss: 0.0044, Val Loss: 0.0027\n",
            "Epoch 221/1000 completed in 0.49 seconds.\n",
            "Epoch [222/1000], Train Loss: 0.0034, Val Loss: 0.0040\n",
            "Epoch 222/1000 completed in 0.50 seconds.\n",
            "Epoch [223/1000], Train Loss: 0.0029, Val Loss: 0.0014\n",
            "Epoch 223/1000 completed in 0.49 seconds.\n",
            "Epoch [224/1000], Train Loss: 0.0041, Val Loss: 0.0021\n",
            "Epoch 224/1000 completed in 0.49 seconds.\n",
            "Epoch [225/1000], Train Loss: 0.0033, Val Loss: 0.0017\n",
            "Epoch 225/1000 completed in 0.50 seconds.\n",
            "Epoch [226/1000], Train Loss: 0.0035, Val Loss: 0.0018\n",
            "Epoch 226/1000 completed in 0.51 seconds.\n",
            "Epoch [227/1000], Train Loss: 0.0045, Val Loss: 0.0021\n",
            "Epoch 227/1000 completed in 0.49 seconds.\n",
            "Epoch [228/1000], Train Loss: 0.0045, Val Loss: 0.0022\n",
            "Epoch 228/1000 completed in 0.49 seconds.\n",
            "Epoch [229/1000], Train Loss: 0.0036, Val Loss: 0.0024\n",
            "Epoch 229/1000 completed in 0.48 seconds.\n",
            "Epoch [230/1000], Train Loss: 0.0055, Val Loss: 0.0046\n",
            "Epoch 230/1000 completed in 0.50 seconds.\n",
            "Epoch [231/1000], Train Loss: 0.0031, Val Loss: 0.0021\n",
            "Epoch 231/1000 completed in 0.48 seconds.\n",
            "Epoch [232/1000], Train Loss: 0.0029, Val Loss: 0.0024\n",
            "Epoch 232/1000 completed in 0.51 seconds.\n",
            "Epoch [233/1000], Train Loss: 0.0047, Val Loss: 0.0023\n",
            "Epoch 233/1000 completed in 0.50 seconds.\n",
            "Epoch [234/1000], Train Loss: 0.0026, Val Loss: 0.0023\n",
            "Epoch 234/1000 completed in 0.49 seconds.\n",
            "Epoch [235/1000], Train Loss: 0.0034, Val Loss: 0.0021\n",
            "Epoch 235/1000 completed in 0.50 seconds.\n",
            "Epoch [236/1000], Train Loss: 0.0032, Val Loss: 0.0023\n",
            "Epoch 236/1000 completed in 0.52 seconds.\n",
            "Epoch [237/1000], Train Loss: 0.0034, Val Loss: 0.0014\n",
            "Epoch 237/1000 completed in 0.67 seconds.\n",
            "Epoch [238/1000], Train Loss: 0.0039, Val Loss: 0.0023\n",
            "Epoch 238/1000 completed in 0.68 seconds.\n",
            "Epoch [239/1000], Train Loss: 0.0037, Val Loss: 0.0017\n",
            "Epoch 239/1000 completed in 0.69 seconds.\n",
            "Epoch [240/1000], Train Loss: 0.0044, Val Loss: 0.0049\n",
            "Epoch 240/1000 completed in 0.58 seconds.\n",
            "Epoch [241/1000], Train Loss: 0.0029, Val Loss: 0.0030\n",
            "Epoch 241/1000 completed in 0.49 seconds.\n",
            "Epoch [242/1000], Train Loss: 0.0031, Val Loss: 0.0030\n",
            "Epoch 242/1000 completed in 0.49 seconds.\n",
            "Epoch [243/1000], Train Loss: 0.0034, Val Loss: 0.0040\n",
            "Epoch 243/1000 completed in 0.50 seconds.\n",
            "Epoch [244/1000], Train Loss: 0.0040, Val Loss: 0.0017\n",
            "Epoch 244/1000 completed in 0.49 seconds.\n",
            "Epoch [245/1000], Train Loss: 0.0038, Val Loss: 0.0052\n",
            "Epoch 245/1000 completed in 0.51 seconds.\n",
            "Epoch [246/1000], Train Loss: 0.0035, Val Loss: 0.0023\n",
            "Epoch 246/1000 completed in 0.48 seconds.\n",
            "Epoch [247/1000], Train Loss: 0.0033, Val Loss: 0.0060\n",
            "Epoch 247/1000 completed in 0.50 seconds.\n",
            "Epoch [248/1000], Train Loss: 0.0029, Val Loss: 0.0023\n",
            "Epoch 248/1000 completed in 0.50 seconds.\n",
            "Epoch [249/1000], Train Loss: 0.0026, Val Loss: 0.0021\n",
            "Epoch 249/1000 completed in 0.50 seconds.\n",
            "Epoch [250/1000], Train Loss: 0.0026, Val Loss: 0.0039\n",
            "Epoch 250/1000 completed in 0.50 seconds.\n",
            "Epoch [251/1000], Train Loss: 0.0032, Val Loss: 0.0033\n",
            "Epoch 251/1000 completed in 0.50 seconds.\n",
            "Epoch [252/1000], Train Loss: 0.0030, Val Loss: 0.0030\n",
            "Epoch 252/1000 completed in 0.50 seconds.\n",
            "Epoch [253/1000], Train Loss: 0.0052, Val Loss: 0.0048\n",
            "Epoch 253/1000 completed in 0.50 seconds.\n",
            "Epoch [254/1000], Train Loss: 0.0032, Val Loss: 0.0031\n",
            "Epoch 254/1000 completed in 0.49 seconds.\n",
            "Epoch [255/1000], Train Loss: 0.0036, Val Loss: 0.0027\n",
            "Epoch 255/1000 completed in 0.49 seconds.\n",
            "Epoch [256/1000], Train Loss: 0.0029, Val Loss: 0.0027\n",
            "Epoch 256/1000 completed in 0.50 seconds.\n",
            "Epoch [257/1000], Train Loss: 0.0027, Val Loss: 0.0023\n",
            "Epoch 257/1000 completed in 0.49 seconds.\n",
            "Epoch [258/1000], Train Loss: 0.0039, Val Loss: 0.0038\n",
            "Epoch 258/1000 completed in 0.61 seconds.\n",
            "Epoch [259/1000], Train Loss: 0.0036, Val Loss: 0.0028\n",
            "Epoch 259/1000 completed in 0.62 seconds.\n",
            "Epoch [260/1000], Train Loss: 0.0025, Val Loss: 0.0029\n",
            "Epoch 260/1000 completed in 0.73 seconds.\n",
            "Epoch [261/1000], Train Loss: 0.0030, Val Loss: 0.0028\n",
            "Epoch 261/1000 completed in 0.70 seconds.\n",
            "Epoch [262/1000], Train Loss: 0.0040, Val Loss: 0.0015\n",
            "Epoch 262/1000 completed in 0.50 seconds.\n",
            "Epoch [263/1000], Train Loss: 0.0030, Val Loss: 0.0025\n",
            "Epoch 263/1000 completed in 0.50 seconds.\n",
            "Epoch [264/1000], Train Loss: 0.0037, Val Loss: 0.0022\n",
            "Epoch 264/1000 completed in 0.50 seconds.\n",
            "Epoch [265/1000], Train Loss: 0.0030, Val Loss: 0.0030\n",
            "Epoch 265/1000 completed in 0.49 seconds.\n",
            "Epoch [266/1000], Train Loss: 0.0032, Val Loss: 0.0014\n",
            "Epoch 266/1000 completed in 0.53 seconds.\n",
            "Epoch [267/1000], Train Loss: 0.0033, Val Loss: 0.0069\n",
            "Epoch 267/1000 completed in 0.50 seconds.\n",
            "Epoch [268/1000], Train Loss: 0.0033, Val Loss: 0.0014\n",
            "Epoch 268/1000 completed in 0.50 seconds.\n",
            "Epoch [269/1000], Train Loss: 0.0030, Val Loss: 0.0039\n",
            "Epoch 269/1000 completed in 0.50 seconds.\n",
            "Epoch [270/1000], Train Loss: 0.0024, Val Loss: 0.0032\n",
            "Epoch 270/1000 completed in 0.51 seconds.\n",
            "Epoch [271/1000], Train Loss: 0.0025, Val Loss: 0.0014\n",
            "Epoch 271/1000 completed in 0.50 seconds.\n",
            "Epoch [272/1000], Train Loss: 0.0036, Val Loss: 0.0024\n",
            "Epoch 272/1000 completed in 0.51 seconds.\n",
            "Epoch [273/1000], Train Loss: 0.0033, Val Loss: 0.0026\n",
            "Epoch 273/1000 completed in 0.50 seconds.\n",
            "Epoch [274/1000], Train Loss: 0.0033, Val Loss: 0.0028\n",
            "Epoch 274/1000 completed in 0.50 seconds.\n",
            "Epoch [275/1000], Train Loss: 0.0026, Val Loss: 0.0035\n",
            "Epoch 275/1000 completed in 0.50 seconds.\n",
            "Epoch [276/1000], Train Loss: 0.0046, Val Loss: 0.0016\n",
            "Epoch 276/1000 completed in 0.49 seconds.\n",
            "Epoch [277/1000], Train Loss: 0.0040, Val Loss: 0.0012\n",
            "Epoch 277/1000 completed in 0.50 seconds.\n",
            "Epoch [278/1000], Train Loss: 0.0041, Val Loss: 0.0023\n",
            "Epoch 278/1000 completed in 0.49 seconds.\n",
            "Epoch [279/1000], Train Loss: 0.0029, Val Loss: 0.0026\n",
            "Epoch 279/1000 completed in 0.54 seconds.\n",
            "Epoch [280/1000], Train Loss: 0.0021, Val Loss: 0.0020\n",
            "Epoch 280/1000 completed in 0.64 seconds.\n",
            "Epoch [281/1000], Train Loss: 0.0022, Val Loss: 0.0017\n",
            "Epoch 281/1000 completed in 0.69 seconds.\n",
            "Epoch [282/1000], Train Loss: 0.0026, Val Loss: 0.0049\n",
            "Epoch 282/1000 completed in 0.72 seconds.\n",
            "Epoch [283/1000], Train Loss: 0.0033, Val Loss: 0.0049\n",
            "Epoch 283/1000 completed in 0.57 seconds.\n",
            "Epoch [284/1000], Train Loss: 0.0047, Val Loss: 0.0058\n",
            "Epoch 284/1000 completed in 0.48 seconds.\n",
            "Epoch [285/1000], Train Loss: 0.0035, Val Loss: 0.0019\n",
            "Epoch 285/1000 completed in 0.50 seconds.\n",
            "Epoch [286/1000], Train Loss: 0.0026, Val Loss: 0.0045\n",
            "Epoch 286/1000 completed in 0.49 seconds.\n",
            "Epoch [287/1000], Train Loss: 0.0043, Val Loss: 0.0021\n",
            "Epoch 287/1000 completed in 0.50 seconds.\n",
            "Epoch [288/1000], Train Loss: 0.0029, Val Loss: 0.0018\n",
            "Epoch 288/1000 completed in 0.49 seconds.\n",
            "Epoch [289/1000], Train Loss: 0.0023, Val Loss: 0.0051\n",
            "Epoch 289/1000 completed in 0.50 seconds.\n",
            "Epoch [290/1000], Train Loss: 0.0031, Val Loss: 0.0028\n",
            "Epoch 290/1000 completed in 0.49 seconds.\n",
            "Epoch [291/1000], Train Loss: 0.0025, Val Loss: 0.0017\n",
            "Epoch 291/1000 completed in 0.50 seconds.\n",
            "Epoch [292/1000], Train Loss: 0.0027, Val Loss: 0.0026\n",
            "Epoch 292/1000 completed in 0.50 seconds.\n",
            "Epoch [293/1000], Train Loss: 0.0030, Val Loss: 0.0021\n",
            "Epoch 293/1000 completed in 0.51 seconds.\n",
            "Epoch [294/1000], Train Loss: 0.0034, Val Loss: 0.0037\n",
            "Epoch 294/1000 completed in 0.49 seconds.\n",
            "Epoch [295/1000], Train Loss: 0.0026, Val Loss: 0.0034\n",
            "Epoch 295/1000 completed in 0.51 seconds.\n",
            "Epoch [296/1000], Train Loss: 0.0024, Val Loss: 0.0032\n",
            "Epoch 296/1000 completed in 0.52 seconds.\n",
            "Epoch [297/1000], Train Loss: 0.0022, Val Loss: 0.0028\n",
            "Epoch 297/1000 completed in 0.49 seconds.\n",
            "Epoch [298/1000], Train Loss: 0.0027, Val Loss: 0.0053\n",
            "Epoch 298/1000 completed in 0.50 seconds.\n",
            "Epoch [299/1000], Train Loss: 0.0034, Val Loss: 0.0028\n",
            "Epoch 299/1000 completed in 0.49 seconds.\n",
            "Epoch [300/1000], Train Loss: 0.0040, Val Loss: 0.0029\n",
            "Epoch 300/1000 completed in 0.50 seconds.\n",
            "Epoch [301/1000], Train Loss: 0.0030, Val Loss: 0.0035\n",
            "Epoch 301/1000 completed in 0.62 seconds.\n",
            "Epoch [302/1000], Train Loss: 0.0026, Val Loss: 0.0017\n",
            "Epoch 302/1000 completed in 0.64 seconds.\n",
            "Epoch [303/1000], Train Loss: 0.0029, Val Loss: 0.0019\n",
            "Epoch 303/1000 completed in 0.74 seconds.\n",
            "Epoch [304/1000], Train Loss: 0.0026, Val Loss: 0.0023\n",
            "Epoch 304/1000 completed in 0.68 seconds.\n",
            "Epoch [305/1000], Train Loss: 0.0028, Val Loss: 0.0020\n",
            "Epoch 305/1000 completed in 0.49 seconds.\n",
            "Epoch [306/1000], Train Loss: 0.0030, Val Loss: 0.0035\n",
            "Epoch 306/1000 completed in 0.52 seconds.\n",
            "Epoch [307/1000], Train Loss: 0.0032, Val Loss: 0.0040\n",
            "Epoch 307/1000 completed in 0.49 seconds.\n",
            "Epoch [308/1000], Train Loss: 0.0033, Val Loss: 0.0035\n",
            "Epoch 308/1000 completed in 0.52 seconds.\n",
            "Epoch [309/1000], Train Loss: 0.0022, Val Loss: 0.0015\n",
            "Epoch 309/1000 completed in 0.50 seconds.\n",
            "Epoch [310/1000], Train Loss: 0.0024, Val Loss: 0.0012\n",
            "Epoch 310/1000 completed in 0.52 seconds.\n",
            "Epoch [311/1000], Train Loss: 0.0028, Val Loss: 0.0050\n",
            "Epoch 311/1000 completed in 0.50 seconds.\n",
            "Epoch [312/1000], Train Loss: 0.0028, Val Loss: 0.0022\n",
            "Epoch 312/1000 completed in 0.50 seconds.\n",
            "Epoch [313/1000], Train Loss: 0.0029, Val Loss: 0.0045\n",
            "Epoch 313/1000 completed in 0.49 seconds.\n",
            "Epoch [314/1000], Train Loss: 0.0028, Val Loss: 0.0022\n",
            "Epoch 314/1000 completed in 0.49 seconds.\n",
            "Epoch [315/1000], Train Loss: 0.0030, Val Loss: 0.0026\n",
            "Epoch 315/1000 completed in 0.49 seconds.\n",
            "Epoch [316/1000], Train Loss: 0.0032, Val Loss: 0.0041\n",
            "Epoch 316/1000 completed in 0.50 seconds.\n",
            "Epoch [317/1000], Train Loss: 0.0023, Val Loss: 0.0013\n",
            "Epoch 317/1000 completed in 0.51 seconds.\n",
            "Epoch [318/1000], Train Loss: 0.0030, Val Loss: 0.0020\n",
            "Epoch 318/1000 completed in 0.52 seconds.\n",
            "Epoch [319/1000], Train Loss: 0.0027, Val Loss: 0.0017\n",
            "Epoch 319/1000 completed in 0.51 seconds.\n",
            "Epoch [320/1000], Train Loss: 0.0028, Val Loss: 0.0033\n",
            "Epoch 320/1000 completed in 0.49 seconds.\n",
            "Epoch [321/1000], Train Loss: 0.0027, Val Loss: 0.0020\n",
            "Epoch 321/1000 completed in 0.50 seconds.\n",
            "Epoch [322/1000], Train Loss: 0.0027, Val Loss: 0.0022\n",
            "Epoch 322/1000 completed in 0.58 seconds.\n",
            "Epoch [323/1000], Train Loss: 0.0021, Val Loss: 0.0028\n",
            "Epoch 323/1000 completed in 0.64 seconds.\n",
            "Epoch [324/1000], Train Loss: 0.0028, Val Loss: 0.0032\n",
            "Epoch 324/1000 completed in 0.72 seconds.\n",
            "Epoch [325/1000], Train Loss: 0.0032, Val Loss: 0.0023\n",
            "Epoch 325/1000 completed in 0.72 seconds.\n",
            "Epoch [326/1000], Train Loss: 0.0033, Val Loss: 0.0038\n",
            "Epoch 326/1000 completed in 0.50 seconds.\n",
            "Epoch [327/1000], Train Loss: 0.0037, Val Loss: 0.0034\n",
            "Epoch 327/1000 completed in 0.51 seconds.\n",
            "Epoch [328/1000], Train Loss: 0.0027, Val Loss: 0.0019\n",
            "Epoch 328/1000 completed in 0.49 seconds.\n",
            "Epoch [329/1000], Train Loss: 0.0024, Val Loss: 0.0035\n",
            "Epoch 329/1000 completed in 0.51 seconds.\n",
            "Epoch [330/1000], Train Loss: 0.0022, Val Loss: 0.0032\n",
            "Epoch 330/1000 completed in 0.50 seconds.\n",
            "Epoch [331/1000], Train Loss: 0.0034, Val Loss: 0.0044\n",
            "Epoch 331/1000 completed in 0.51 seconds.\n",
            "Epoch [332/1000], Train Loss: 0.0027, Val Loss: 0.0019\n",
            "Epoch 332/1000 completed in 0.50 seconds.\n",
            "Epoch [333/1000], Train Loss: 0.0027, Val Loss: 0.0025\n",
            "Epoch 333/1000 completed in 0.50 seconds.\n",
            "Epoch [334/1000], Train Loss: 0.0034, Val Loss: 0.0032\n",
            "Epoch 334/1000 completed in 0.49 seconds.\n",
            "Epoch [335/1000], Train Loss: 0.0033, Val Loss: 0.0015\n",
            "Epoch 335/1000 completed in 0.49 seconds.\n",
            "Epoch [336/1000], Train Loss: 0.0022, Val Loss: 0.0029\n",
            "Epoch 336/1000 completed in 0.49 seconds.\n",
            "Epoch [337/1000], Train Loss: 0.0025, Val Loss: 0.0034\n",
            "Epoch 337/1000 completed in 0.49 seconds.\n",
            "Epoch [338/1000], Train Loss: 0.0021, Val Loss: 0.0019\n",
            "Epoch 338/1000 completed in 0.49 seconds.\n",
            "Epoch [339/1000], Train Loss: 0.0023, Val Loss: 0.0021\n",
            "Epoch 339/1000 completed in 0.49 seconds.\n",
            "Epoch [340/1000], Train Loss: 0.0038, Val Loss: 0.0034\n",
            "Epoch 340/1000 completed in 0.50 seconds.\n",
            "Epoch [341/1000], Train Loss: 0.0025, Val Loss: 0.0027\n",
            "Epoch 341/1000 completed in 0.49 seconds.\n",
            "Epoch [342/1000], Train Loss: 0.0028, Val Loss: 0.0023\n",
            "Epoch 342/1000 completed in 0.50 seconds.\n",
            "Epoch [343/1000], Train Loss: 0.0026, Val Loss: 0.0020\n",
            "Epoch 343/1000 completed in 0.48 seconds.\n",
            "Epoch [344/1000], Train Loss: 0.0023, Val Loss: 0.0044\n",
            "Epoch 344/1000 completed in 0.66 seconds.\n",
            "Epoch [345/1000], Train Loss: 0.0023, Val Loss: 0.0018\n",
            "Epoch 345/1000 completed in 0.66 seconds.\n",
            "Epoch [346/1000], Train Loss: 0.0022, Val Loss: 0.0030\n",
            "Epoch 346/1000 completed in 0.71 seconds.\n",
            "Epoch [347/1000], Train Loss: 0.0039, Val Loss: 0.0019\n",
            "Epoch 347/1000 completed in 0.64 seconds.\n",
            "Epoch [348/1000], Train Loss: 0.0025, Val Loss: 0.0035\n",
            "Epoch 348/1000 completed in 0.49 seconds.\n",
            "Epoch [349/1000], Train Loss: 0.0026, Val Loss: 0.0042\n",
            "Epoch 349/1000 completed in 0.49 seconds.\n",
            "Epoch [350/1000], Train Loss: 0.0046, Val Loss: 0.0014\n",
            "Epoch 350/1000 completed in 0.50 seconds.\n",
            "Epoch [351/1000], Train Loss: 0.0019, Val Loss: 0.0030\n",
            "Epoch 351/1000 completed in 0.48 seconds.\n",
            "Epoch [352/1000], Train Loss: 0.0022, Val Loss: 0.0017\n",
            "Epoch 352/1000 completed in 0.50 seconds.\n",
            "Epoch [353/1000], Train Loss: 0.0023, Val Loss: 0.0053\n",
            "Epoch 353/1000 completed in 0.49 seconds.\n",
            "Epoch [354/1000], Train Loss: 0.0026, Val Loss: 0.0049\n",
            "Epoch 354/1000 completed in 0.49 seconds.\n",
            "Epoch [355/1000], Train Loss: 0.0025, Val Loss: 0.0029\n",
            "Epoch 355/1000 completed in 0.49 seconds.\n",
            "Epoch [356/1000], Train Loss: 0.0023, Val Loss: 0.0025\n",
            "Epoch 356/1000 completed in 0.49 seconds.\n",
            "Epoch [357/1000], Train Loss: 0.0020, Val Loss: 0.0014\n",
            "Epoch 357/1000 completed in 0.49 seconds.\n",
            "Epoch [358/1000], Train Loss: 0.0025, Val Loss: 0.0022\n",
            "Epoch 358/1000 completed in 0.50 seconds.\n",
            "Epoch [359/1000], Train Loss: 0.0038, Val Loss: 0.0022\n",
            "Epoch 359/1000 completed in 0.48 seconds.\n",
            "Epoch [360/1000], Train Loss: 0.0020, Val Loss: 0.0034\n",
            "Epoch 360/1000 completed in 0.48 seconds.\n",
            "Epoch [361/1000], Train Loss: 0.0027, Val Loss: 0.0021\n",
            "Epoch 361/1000 completed in 0.49 seconds.\n",
            "Epoch [362/1000], Train Loss: 0.0023, Val Loss: 0.0018\n",
            "Epoch 362/1000 completed in 0.49 seconds.\n",
            "Epoch [363/1000], Train Loss: 0.0021, Val Loss: 0.0031\n",
            "Epoch 363/1000 completed in 0.50 seconds.\n",
            "Epoch [364/1000], Train Loss: 0.0028, Val Loss: 0.0021\n",
            "Epoch 364/1000 completed in 0.49 seconds.\n",
            "Epoch [365/1000], Train Loss: 0.0024, Val Loss: 0.0025\n",
            "Epoch 365/1000 completed in 0.50 seconds.\n",
            "Epoch [366/1000], Train Loss: 0.0023, Val Loss: 0.0023\n",
            "Epoch 366/1000 completed in 0.65 seconds.\n",
            "Epoch [367/1000], Train Loss: 0.0026, Val Loss: 0.0019\n",
            "Epoch 367/1000 completed in 0.66 seconds.\n",
            "Epoch [368/1000], Train Loss: 0.0023, Val Loss: 0.0024\n",
            "Epoch 368/1000 completed in 0.71 seconds.\n",
            "Epoch [369/1000], Train Loss: 0.0046, Val Loss: 0.0022\n",
            "Epoch 369/1000 completed in 0.61 seconds.\n",
            "Epoch [370/1000], Train Loss: 0.0029, Val Loss: 0.0051\n",
            "Epoch 370/1000 completed in 0.50 seconds.\n",
            "Epoch [371/1000], Train Loss: 0.0034, Val Loss: 0.0037\n",
            "Epoch 371/1000 completed in 0.51 seconds.\n",
            "Epoch [372/1000], Train Loss: 0.0027, Val Loss: 0.0033\n",
            "Epoch 372/1000 completed in 0.49 seconds.\n",
            "Epoch [373/1000], Train Loss: 0.0020, Val Loss: 0.0027\n",
            "Epoch 373/1000 completed in 0.50 seconds.\n",
            "Epoch [374/1000], Train Loss: 0.0025, Val Loss: 0.0017\n",
            "Epoch 374/1000 completed in 0.49 seconds.\n",
            "Epoch [375/1000], Train Loss: 0.0021, Val Loss: 0.0016\n",
            "Epoch 375/1000 completed in 0.50 seconds.\n",
            "Epoch [376/1000], Train Loss: 0.0023, Val Loss: 0.0025\n",
            "Epoch 376/1000 completed in 0.49 seconds.\n",
            "Epoch [377/1000], Train Loss: 0.0027, Val Loss: 0.0012\n",
            "Epoch 377/1000 completed in 0.50 seconds.\n",
            "Epoch [378/1000], Train Loss: 0.0035, Val Loss: 0.0046\n",
            "Epoch 378/1000 completed in 0.49 seconds.\n",
            "Epoch [379/1000], Train Loss: 0.0022, Val Loss: 0.0017\n",
            "Epoch 379/1000 completed in 0.51 seconds.\n",
            "Epoch [380/1000], Train Loss: 0.0030, Val Loss: 0.0035\n",
            "Epoch 380/1000 completed in 0.49 seconds.\n",
            "Epoch [381/1000], Train Loss: 0.0020, Val Loss: 0.0019\n",
            "Epoch 381/1000 completed in 0.50 seconds.\n",
            "Epoch [382/1000], Train Loss: 0.0021, Val Loss: 0.0032\n",
            "Epoch 382/1000 completed in 0.49 seconds.\n",
            "Epoch [383/1000], Train Loss: 0.0031, Val Loss: 0.0018\n",
            "Epoch 383/1000 completed in 0.48 seconds.\n",
            "Epoch [384/1000], Train Loss: 0.0020, Val Loss: 0.0044\n",
            "Epoch 384/1000 completed in 0.50 seconds.\n",
            "Epoch [385/1000], Train Loss: 0.0021, Val Loss: 0.0029\n",
            "Epoch 385/1000 completed in 0.49 seconds.\n",
            "Epoch [386/1000], Train Loss: 0.0021, Val Loss: 0.0040\n",
            "Epoch 386/1000 completed in 0.50 seconds.\n",
            "Epoch [387/1000], Train Loss: 0.0025, Val Loss: 0.0033\n",
            "Epoch 387/1000 completed in 0.59 seconds.\n",
            "Epoch [388/1000], Train Loss: 0.0021, Val Loss: 0.0035\n",
            "Epoch 388/1000 completed in 0.64 seconds.\n",
            "Epoch [389/1000], Train Loss: 0.0023, Val Loss: 0.0017\n",
            "Epoch 389/1000 completed in 0.74 seconds.\n",
            "Epoch [390/1000], Train Loss: 0.0023, Val Loss: 0.0025\n",
            "Epoch 390/1000 completed in 0.64 seconds.\n",
            "Epoch [391/1000], Train Loss: 0.0029, Val Loss: 0.0020\n",
            "Epoch 391/1000 completed in 0.50 seconds.\n",
            "Epoch [392/1000], Train Loss: 0.0024, Val Loss: 0.0021\n",
            "Epoch 392/1000 completed in 0.49 seconds.\n",
            "Epoch [393/1000], Train Loss: 0.0020, Val Loss: 0.0041\n",
            "Epoch 393/1000 completed in 0.51 seconds.\n",
            "Epoch [394/1000], Train Loss: 0.0022, Val Loss: 0.0041\n",
            "Epoch 394/1000 completed in 0.50 seconds.\n",
            "Epoch [395/1000], Train Loss: 0.0025, Val Loss: 0.0017\n",
            "Epoch 395/1000 completed in 0.49 seconds.\n",
            "Epoch [396/1000], Train Loss: 0.0025, Val Loss: 0.0023\n",
            "Epoch 396/1000 completed in 0.51 seconds.\n",
            "Epoch [397/1000], Train Loss: 0.0021, Val Loss: 0.0022\n",
            "Epoch 397/1000 completed in 0.49 seconds.\n",
            "Epoch [398/1000], Train Loss: 0.0029, Val Loss: 0.0023\n",
            "Epoch 398/1000 completed in 0.52 seconds.\n",
            "Epoch [399/1000], Train Loss: 0.0021, Val Loss: 0.0025\n",
            "Epoch 399/1000 completed in 0.50 seconds.\n",
            "Epoch [400/1000], Train Loss: 0.0022, Val Loss: 0.0039\n",
            "Epoch 400/1000 completed in 0.51 seconds.\n",
            "Epoch [401/1000], Train Loss: 0.0021, Val Loss: 0.0017\n",
            "Epoch 401/1000 completed in 0.50 seconds.\n",
            "Epoch [402/1000], Train Loss: 0.0023, Val Loss: 0.0025\n",
            "Epoch 402/1000 completed in 0.65 seconds.\n",
            "Epoch [403/1000], Train Loss: 0.0022, Val Loss: 0.0027\n",
            "Epoch 403/1000 completed in 0.64 seconds.\n",
            "Epoch [404/1000], Train Loss: 0.0021, Val Loss: 0.0027\n",
            "Epoch 404/1000 completed in 0.72 seconds.\n",
            "Epoch [405/1000], Train Loss: 0.0031, Val Loss: 0.0034\n",
            "Epoch 405/1000 completed in 0.67 seconds.\n",
            "Epoch [406/1000], Train Loss: 0.0027, Val Loss: 0.0031\n",
            "Epoch 406/1000 completed in 0.51 seconds.\n",
            "Epoch [407/1000], Train Loss: 0.0023, Val Loss: 0.0031\n",
            "Epoch 407/1000 completed in 0.68 seconds.\n",
            "Epoch [408/1000], Train Loss: 0.0020, Val Loss: 0.0033\n",
            "Epoch 408/1000 completed in 0.67 seconds.\n",
            "Epoch [409/1000], Train Loss: 0.0021, Val Loss: 0.0020\n",
            "Epoch 409/1000 completed in 0.78 seconds.\n",
            "Epoch [410/1000], Train Loss: 0.0024, Val Loss: 0.0037\n",
            "Epoch 410/1000 completed in 0.51 seconds.\n",
            "Epoch [411/1000], Train Loss: 0.0022, Val Loss: 0.0025\n",
            "Epoch 411/1000 completed in 0.49 seconds.\n",
            "Epoch [412/1000], Train Loss: 0.0023, Val Loss: 0.0040\n",
            "Epoch 412/1000 completed in 0.50 seconds.\n",
            "Epoch [413/1000], Train Loss: 0.0021, Val Loss: 0.0017\n",
            "Epoch 413/1000 completed in 0.49 seconds.\n",
            "Epoch [414/1000], Train Loss: 0.0028, Val Loss: 0.0036\n",
            "Epoch 414/1000 completed in 0.50 seconds.\n",
            "Epoch [415/1000], Train Loss: 0.0038, Val Loss: 0.0036\n",
            "Epoch 415/1000 completed in 0.49 seconds.\n",
            "Epoch [416/1000], Train Loss: 0.0018, Val Loss: 0.0036\n",
            "Epoch 416/1000 completed in 0.49 seconds.\n",
            "Epoch [417/1000], Train Loss: 0.0020, Val Loss: 0.0027\n",
            "Epoch 417/1000 completed in 0.49 seconds.\n",
            "Epoch [418/1000], Train Loss: 0.0021, Val Loss: 0.0026\n",
            "Epoch 418/1000 completed in 0.50 seconds.\n",
            "Epoch [419/1000], Train Loss: 0.0030, Val Loss: 0.0030\n",
            "Epoch 419/1000 completed in 0.53 seconds.\n",
            "Epoch [420/1000], Train Loss: 0.0031, Val Loss: 0.0041\n",
            "Epoch 420/1000 completed in 0.50 seconds.\n",
            "Epoch [421/1000], Train Loss: 0.0021, Val Loss: 0.0025\n",
            "Epoch 421/1000 completed in 0.49 seconds.\n",
            "Epoch [422/1000], Train Loss: 0.0033, Val Loss: 0.0045\n",
            "Epoch 422/1000 completed in 0.49 seconds.\n",
            "Epoch [423/1000], Train Loss: 0.0020, Val Loss: 0.0036\n",
            "Epoch 423/1000 completed in 0.50 seconds.\n",
            "Epoch [424/1000], Train Loss: 0.0017, Val Loss: 0.0029\n",
            "Epoch 424/1000 completed in 0.50 seconds.\n",
            "Epoch [425/1000], Train Loss: 0.0024, Val Loss: 0.0025\n",
            "Epoch 425/1000 completed in 0.51 seconds.\n",
            "Epoch [426/1000], Train Loss: 0.0024, Val Loss: 0.0087\n",
            "Epoch 426/1000 completed in 0.50 seconds.\n",
            "Epoch [427/1000], Train Loss: 0.0034, Val Loss: 0.0042\n",
            "Epoch 427/1000 completed in 0.50 seconds.\n",
            "Epoch [428/1000], Train Loss: 0.0023, Val Loss: 0.0048\n",
            "Epoch 428/1000 completed in 0.67 seconds.\n",
            "Epoch [429/1000], Train Loss: 0.0018, Val Loss: 0.0028\n",
            "Epoch 429/1000 completed in 0.67 seconds.\n",
            "Epoch [430/1000], Train Loss: 0.0021, Val Loss: 0.0048\n",
            "Epoch 430/1000 completed in 0.73 seconds.\n",
            "Epoch [431/1000], Train Loss: 0.0021, Val Loss: 0.0033\n",
            "Epoch 431/1000 completed in 0.59 seconds.\n",
            "Epoch [432/1000], Train Loss: 0.0020, Val Loss: 0.0023\n",
            "Epoch 432/1000 completed in 0.49 seconds.\n",
            "Epoch [433/1000], Train Loss: 0.0023, Val Loss: 0.0024\n",
            "Epoch 433/1000 completed in 0.50 seconds.\n",
            "Epoch [434/1000], Train Loss: 0.0023, Val Loss: 0.0025\n",
            "Epoch 434/1000 completed in 0.50 seconds.\n",
            "Epoch [435/1000], Train Loss: 0.0021, Val Loss: 0.0026\n",
            "Epoch 435/1000 completed in 0.51 seconds.\n",
            "Epoch [436/1000], Train Loss: 0.0026, Val Loss: 0.0033\n",
            "Epoch 436/1000 completed in 0.49 seconds.\n",
            "Epoch [437/1000], Train Loss: 0.0021, Val Loss: 0.0036\n",
            "Epoch 437/1000 completed in 0.50 seconds.\n",
            "Epoch [438/1000], Train Loss: 0.0025, Val Loss: 0.0021\n",
            "Epoch 438/1000 completed in 0.49 seconds.\n",
            "Epoch [439/1000], Train Loss: 0.0026, Val Loss: 0.0029\n",
            "Epoch 439/1000 completed in 0.51 seconds.\n",
            "Epoch [440/1000], Train Loss: 0.0020, Val Loss: 0.0028\n",
            "Epoch 440/1000 completed in 0.48 seconds.\n",
            "Epoch [441/1000], Train Loss: 0.0026, Val Loss: 0.0035\n",
            "Epoch 441/1000 completed in 0.50 seconds.\n",
            "Epoch [442/1000], Train Loss: 0.0025, Val Loss: 0.0015\n",
            "Epoch 442/1000 completed in 0.50 seconds.\n",
            "Epoch [443/1000], Train Loss: 0.0021, Val Loss: 0.0034\n",
            "Epoch 443/1000 completed in 0.49 seconds.\n",
            "Epoch [444/1000], Train Loss: 0.0028, Val Loss: 0.0023\n",
            "Epoch 444/1000 completed in 0.50 seconds.\n",
            "Epoch [445/1000], Train Loss: 0.0027, Val Loss: 0.0047\n",
            "Epoch 445/1000 completed in 0.49 seconds.\n",
            "Epoch [446/1000], Train Loss: 0.0019, Val Loss: 0.0020\n",
            "Epoch 446/1000 completed in 0.50 seconds.\n",
            "Epoch [447/1000], Train Loss: 0.0021, Val Loss: 0.0025\n",
            "Epoch 447/1000 completed in 0.50 seconds.\n",
            "Epoch [448/1000], Train Loss: 0.0018, Val Loss: 0.0033\n",
            "Epoch 448/1000 completed in 0.52 seconds.\n",
            "Epoch [449/1000], Train Loss: 0.0022, Val Loss: 0.0043\n",
            "Epoch 449/1000 completed in 0.63 seconds.\n",
            "Epoch [450/1000], Train Loss: 0.0021, Val Loss: 0.0026\n",
            "Epoch 450/1000 completed in 0.64 seconds.\n",
            "Epoch [451/1000], Train Loss: 0.0019, Val Loss: 0.0035\n",
            "Epoch 451/1000 completed in 0.74 seconds.\n",
            "Epoch [452/1000], Train Loss: 0.0023, Val Loss: 0.0033\n",
            "Epoch 452/1000 completed in 0.69 seconds.\n",
            "Epoch [453/1000], Train Loss: 0.0022, Val Loss: 0.0022\n",
            "Epoch 453/1000 completed in 0.49 seconds.\n",
            "Epoch [454/1000], Train Loss: 0.0024, Val Loss: 0.0024\n",
            "Epoch 454/1000 completed in 0.52 seconds.\n",
            "Epoch [455/1000], Train Loss: 0.0022, Val Loss: 0.0020\n",
            "Epoch 455/1000 completed in 0.49 seconds.\n",
            "Epoch [456/1000], Train Loss: 0.0019, Val Loss: 0.0024\n",
            "Epoch 456/1000 completed in 0.51 seconds.\n",
            "Epoch [457/1000], Train Loss: 0.0026, Val Loss: 0.0026\n",
            "Epoch 457/1000 completed in 0.50 seconds.\n",
            "Epoch [458/1000], Train Loss: 0.0021, Val Loss: 0.0060\n",
            "Epoch 458/1000 completed in 0.50 seconds.\n",
            "Epoch [459/1000], Train Loss: 0.0026, Val Loss: 0.0031\n",
            "Epoch 459/1000 completed in 0.49 seconds.\n",
            "Epoch [460/1000], Train Loss: 0.0022, Val Loss: 0.0035\n",
            "Epoch 460/1000 completed in 0.52 seconds.\n",
            "Epoch [461/1000], Train Loss: 0.0019, Val Loss: 0.0036\n",
            "Epoch 461/1000 completed in 0.53 seconds.\n",
            "Epoch [462/1000], Train Loss: 0.0031, Val Loss: 0.0022\n",
            "Epoch 462/1000 completed in 0.49 seconds.\n",
            "Epoch [463/1000], Train Loss: 0.0017, Val Loss: 0.0035\n",
            "Epoch 463/1000 completed in 0.52 seconds.\n",
            "Epoch [464/1000], Train Loss: 0.0027, Val Loss: 0.0037\n",
            "Epoch 464/1000 completed in 0.50 seconds.\n",
            "Epoch [465/1000], Train Loss: 0.0021, Val Loss: 0.0023\n",
            "Epoch 465/1000 completed in 0.52 seconds.\n",
            "Epoch [466/1000], Train Loss: 0.0020, Val Loss: 0.0032\n",
            "Epoch 466/1000 completed in 0.50 seconds.\n",
            "Epoch [467/1000], Train Loss: 0.0020, Val Loss: 0.0023\n",
            "Epoch 467/1000 completed in 0.51 seconds.\n",
            "Epoch [468/1000], Train Loss: 0.0020, Val Loss: 0.0027\n",
            "Epoch 468/1000 completed in 0.51 seconds.\n",
            "Epoch [469/1000], Train Loss: 0.0025, Val Loss: 0.0030\n",
            "Epoch 469/1000 completed in 0.52 seconds.\n",
            "Epoch [470/1000], Train Loss: 0.0019, Val Loss: 0.0026\n",
            "Epoch 470/1000 completed in 0.62 seconds.\n",
            "Epoch [471/1000], Train Loss: 0.0019, Val Loss: 0.0050\n",
            "Epoch 471/1000 completed in 0.63 seconds.\n",
            "Epoch [472/1000], Train Loss: 0.0021, Val Loss: 0.0019\n",
            "Epoch 472/1000 completed in 0.69 seconds.\n",
            "Epoch [473/1000], Train Loss: 0.0022, Val Loss: 0.0020\n",
            "Epoch 473/1000 completed in 0.74 seconds.\n",
            "Epoch [474/1000], Train Loss: 0.0019, Val Loss: 0.0030\n",
            "Epoch 474/1000 completed in 0.54 seconds.\n",
            "Epoch [475/1000], Train Loss: 0.0020, Val Loss: 0.0049\n",
            "Epoch 475/1000 completed in 0.51 seconds.\n",
            "Epoch [476/1000], Train Loss: 0.0019, Val Loss: 0.0020\n",
            "Epoch 476/1000 completed in 0.50 seconds.\n",
            "Epoch [477/1000], Train Loss: 0.0020, Val Loss: 0.0032\n",
            "Epoch 477/1000 completed in 0.50 seconds.\n",
            "Epoch [478/1000], Train Loss: 0.0022, Val Loss: 0.0019\n",
            "Epoch 478/1000 completed in 0.51 seconds.\n",
            "Epoch [479/1000], Train Loss: 0.0026, Val Loss: 0.0044\n",
            "Epoch 479/1000 completed in 0.49 seconds.\n",
            "Epoch [480/1000], Train Loss: 0.0024, Val Loss: 0.0036\n",
            "Epoch 480/1000 completed in 0.50 seconds.\n",
            "Epoch [481/1000], Train Loss: 0.0021, Val Loss: 0.0042\n",
            "Epoch 481/1000 completed in 0.50 seconds.\n",
            "Epoch [482/1000], Train Loss: 0.0022, Val Loss: 0.0034\n",
            "Epoch 482/1000 completed in 0.51 seconds.\n",
            "Epoch [483/1000], Train Loss: 0.0026, Val Loss: 0.0021\n",
            "Epoch 483/1000 completed in 0.50 seconds.\n",
            "Epoch [484/1000], Train Loss: 0.0019, Val Loss: 0.0030\n",
            "Epoch 484/1000 completed in 0.50 seconds.\n",
            "Epoch [485/1000], Train Loss: 0.0023, Val Loss: 0.0038\n",
            "Epoch 485/1000 completed in 0.50 seconds.\n",
            "Epoch [486/1000], Train Loss: 0.0023, Val Loss: 0.0042\n",
            "Epoch 486/1000 completed in 0.51 seconds.\n",
            "Epoch [487/1000], Train Loss: 0.0019, Val Loss: 0.0029\n",
            "Epoch 487/1000 completed in 0.50 seconds.\n",
            "Epoch [488/1000], Train Loss: 0.0023, Val Loss: 0.0043\n",
            "Epoch 488/1000 completed in 0.52 seconds.\n",
            "Epoch [489/1000], Train Loss: 0.0024, Val Loss: 0.0042\n",
            "Epoch 489/1000 completed in 0.49 seconds.\n",
            "Epoch [490/1000], Train Loss: 0.0023, Val Loss: 0.0036\n",
            "Epoch 490/1000 completed in 0.49 seconds.\n",
            "Epoch [491/1000], Train Loss: 0.0017, Val Loss: 0.0040\n",
            "Epoch 491/1000 completed in 0.49 seconds.\n",
            "Epoch [492/1000], Train Loss: 0.0020, Val Loss: 0.0034\n",
            "Epoch 492/1000 completed in 0.68 seconds.\n",
            "Epoch [493/1000], Train Loss: 0.0021, Val Loss: 0.0037\n",
            "Epoch 493/1000 completed in 0.68 seconds.\n",
            "Epoch [494/1000], Train Loss: 0.0021, Val Loss: 0.0018\n",
            "Epoch 494/1000 completed in 0.72 seconds.\n",
            "Epoch [495/1000], Train Loss: 0.0019, Val Loss: 0.0025\n",
            "Epoch 495/1000 completed in 0.60 seconds.\n",
            "Epoch [496/1000], Train Loss: 0.0022, Val Loss: 0.0070\n",
            "Epoch 496/1000 completed in 0.51 seconds.\n",
            "Epoch [497/1000], Train Loss: 0.0019, Val Loss: 0.0025\n",
            "Epoch 497/1000 completed in 0.51 seconds.\n",
            "Epoch [498/1000], Train Loss: 0.0018, Val Loss: 0.0023\n",
            "Epoch 498/1000 completed in 0.50 seconds.\n",
            "Epoch [499/1000], Train Loss: 0.0022, Val Loss: 0.0034\n",
            "Epoch 499/1000 completed in 0.51 seconds.\n",
            "Epoch [500/1000], Train Loss: 0.0022, Val Loss: 0.0015\n",
            "Epoch 500/1000 completed in 0.49 seconds.\n",
            "Epoch [501/1000], Train Loss: 0.0019, Val Loss: 0.0029\n",
            "Epoch 501/1000 completed in 0.50 seconds.\n",
            "Epoch [502/1000], Train Loss: 0.0019, Val Loss: 0.0029\n",
            "Epoch 502/1000 completed in 0.50 seconds.\n",
            "Epoch [503/1000], Train Loss: 0.0024, Val Loss: 0.0038\n",
            "Epoch 503/1000 completed in 0.51 seconds.\n",
            "Epoch [504/1000], Train Loss: 0.0018, Val Loss: 0.0043\n",
            "Epoch 504/1000 completed in 0.49 seconds.\n",
            "Epoch [505/1000], Train Loss: 0.0023, Val Loss: 0.0048\n",
            "Epoch 505/1000 completed in 0.52 seconds.\n",
            "Epoch [506/1000], Train Loss: 0.0028, Val Loss: 0.0036\n",
            "Epoch 506/1000 completed in 0.50 seconds.\n",
            "Epoch [507/1000], Train Loss: 0.0023, Val Loss: 0.0015\n",
            "Epoch 507/1000 completed in 0.51 seconds.\n",
            "Epoch [508/1000], Train Loss: 0.0023, Val Loss: 0.0039\n",
            "Epoch 508/1000 completed in 0.49 seconds.\n",
            "Epoch [509/1000], Train Loss: 0.0017, Val Loss: 0.0027\n",
            "Epoch 509/1000 completed in 0.50 seconds.\n",
            "Epoch [510/1000], Train Loss: 0.0018, Val Loss: 0.0020\n",
            "Epoch 510/1000 completed in 0.50 seconds.\n",
            "Epoch [511/1000], Train Loss: 0.0019, Val Loss: 0.0031\n",
            "Epoch 511/1000 completed in 0.51 seconds.\n",
            "Epoch [512/1000], Train Loss: 0.0020, Val Loss: 0.0032\n",
            "Epoch 512/1000 completed in 0.51 seconds.\n",
            "Epoch [513/1000], Train Loss: 0.0021, Val Loss: 0.0038\n",
            "Epoch 513/1000 completed in 0.63 seconds.\n",
            "Epoch [514/1000], Train Loss: 0.0019, Val Loss: 0.0039\n",
            "Epoch 514/1000 completed in 0.64 seconds.\n",
            "Epoch [515/1000], Train Loss: 0.0020, Val Loss: 0.0042\n",
            "Epoch 515/1000 completed in 0.74 seconds.\n",
            "Epoch [516/1000], Train Loss: 0.0015, Val Loss: 0.0043\n",
            "Epoch 516/1000 completed in 0.59 seconds.\n",
            "Epoch [517/1000], Train Loss: 0.0018, Val Loss: 0.0048\n",
            "Epoch 517/1000 completed in 0.49 seconds.\n",
            "Epoch [518/1000], Train Loss: 0.0023, Val Loss: 0.0019\n",
            "Epoch 518/1000 completed in 0.52 seconds.\n",
            "Epoch [519/1000], Train Loss: 0.0019, Val Loss: 0.0020\n",
            "Epoch 519/1000 completed in 0.49 seconds.\n",
            "Epoch [520/1000], Train Loss: 0.0021, Val Loss: 0.0038\n",
            "Epoch 520/1000 completed in 0.51 seconds.\n",
            "Epoch [521/1000], Train Loss: 0.0027, Val Loss: 0.0048\n",
            "Epoch 521/1000 completed in 0.52 seconds.\n",
            "Epoch [522/1000], Train Loss: 0.0021, Val Loss: 0.0022\n",
            "Epoch 522/1000 completed in 0.51 seconds.\n",
            "Epoch [523/1000], Train Loss: 0.0019, Val Loss: 0.0027\n",
            "Epoch 523/1000 completed in 0.50 seconds.\n",
            "Epoch [524/1000], Train Loss: 0.0018, Val Loss: 0.0033\n",
            "Epoch 524/1000 completed in 0.51 seconds.\n",
            "Epoch [525/1000], Train Loss: 0.0019, Val Loss: 0.0031\n",
            "Epoch 525/1000 completed in 0.51 seconds.\n",
            "Epoch [526/1000], Train Loss: 0.0022, Val Loss: 0.0025\n",
            "Epoch 526/1000 completed in 0.50 seconds.\n",
            "Epoch [527/1000], Train Loss: 0.0020, Val Loss: 0.0034\n",
            "Epoch 527/1000 completed in 0.50 seconds.\n",
            "Epoch [528/1000], Train Loss: 0.0024, Val Loss: 0.0033\n",
            "Epoch 528/1000 completed in 0.50 seconds.\n",
            "Epoch [529/1000], Train Loss: 0.0024, Val Loss: 0.0029\n",
            "Epoch 529/1000 completed in 0.52 seconds.\n",
            "Epoch [530/1000], Train Loss: 0.0019, Val Loss: 0.0017\n",
            "Epoch 530/1000 completed in 0.50 seconds.\n",
            "Epoch [531/1000], Train Loss: 0.0020, Val Loss: 0.0030\n",
            "Epoch 531/1000 completed in 0.50 seconds.\n",
            "Epoch [532/1000], Train Loss: 0.0022, Val Loss: 0.0062\n",
            "Epoch 532/1000 completed in 0.49 seconds.\n",
            "Epoch [533/1000], Train Loss: 0.0020, Val Loss: 0.0023\n",
            "Epoch 533/1000 completed in 0.50 seconds.\n",
            "Epoch [534/1000], Train Loss: 0.0020, Val Loss: 0.0050\n",
            "Epoch 534/1000 completed in 0.67 seconds.\n",
            "Epoch [535/1000], Train Loss: 0.0019, Val Loss: 0.0046\n",
            "Epoch 535/1000 completed in 0.64 seconds.\n",
            "Epoch [536/1000], Train Loss: 0.0021, Val Loss: 0.0034\n",
            "Epoch 536/1000 completed in 0.72 seconds.\n",
            "Epoch [537/1000], Train Loss: 0.0018, Val Loss: 0.0061\n",
            "Epoch 537/1000 completed in 0.69 seconds.\n",
            "Epoch [538/1000], Train Loss: 0.0019, Val Loss: 0.0049\n",
            "Epoch 538/1000 completed in 0.50 seconds.\n",
            "Epoch [539/1000], Train Loss: 0.0021, Val Loss: 0.0029\n",
            "Epoch 539/1000 completed in 0.50 seconds.\n",
            "Epoch [540/1000], Train Loss: 0.0019, Val Loss: 0.0038\n",
            "Epoch 540/1000 completed in 0.49 seconds.\n",
            "Epoch [541/1000], Train Loss: 0.0019, Val Loss: 0.0047\n",
            "Epoch 541/1000 completed in 0.49 seconds.\n",
            "Epoch [542/1000], Train Loss: 0.0020, Val Loss: 0.0025\n",
            "Epoch 542/1000 completed in 0.49 seconds.\n",
            "Epoch [543/1000], Train Loss: 0.0020, Val Loss: 0.0047\n",
            "Epoch 543/1000 completed in 0.49 seconds.\n",
            "Epoch [544/1000], Train Loss: 0.0021, Val Loss: 0.0034\n",
            "Epoch 544/1000 completed in 0.49 seconds.\n",
            "Epoch [545/1000], Train Loss: 0.0024, Val Loss: 0.0027\n",
            "Epoch 545/1000 completed in 0.51 seconds.\n",
            "Epoch [546/1000], Train Loss: 0.0021, Val Loss: 0.0038\n",
            "Epoch 546/1000 completed in 0.51 seconds.\n",
            "Epoch [547/1000], Train Loss: 0.0018, Val Loss: 0.0028\n",
            "Epoch 547/1000 completed in 0.50 seconds.\n",
            "Epoch [548/1000], Train Loss: 0.0016, Val Loss: 0.0030\n",
            "Epoch 548/1000 completed in 0.50 seconds.\n",
            "Epoch [549/1000], Train Loss: 0.0017, Val Loss: 0.0036\n",
            "Epoch 549/1000 completed in 0.50 seconds.\n",
            "Epoch [550/1000], Train Loss: 0.0021, Val Loss: 0.0022\n",
            "Epoch 550/1000 completed in 0.50 seconds.\n",
            "Epoch [551/1000], Train Loss: 0.0016, Val Loss: 0.0044\n",
            "Epoch 551/1000 completed in 0.49 seconds.\n",
            "Epoch [552/1000], Train Loss: 0.0022, Val Loss: 0.0033\n",
            "Epoch 552/1000 completed in 0.50 seconds.\n",
            "Epoch [553/1000], Train Loss: 0.0022, Val Loss: 0.0034\n",
            "Epoch 553/1000 completed in 0.50 seconds.\n",
            "Epoch [554/1000], Train Loss: 0.0020, Val Loss: 0.0026\n",
            "Epoch 554/1000 completed in 0.50 seconds.\n",
            "Epoch [555/1000], Train Loss: 0.0018, Val Loss: 0.0032\n",
            "Epoch 555/1000 completed in 0.55 seconds.\n",
            "Epoch [556/1000], Train Loss: 0.0021, Val Loss: 0.0047\n",
            "Epoch 556/1000 completed in 0.66 seconds.\n",
            "Epoch [557/1000], Train Loss: 0.0015, Val Loss: 0.0027\n",
            "Epoch 557/1000 completed in 0.71 seconds.\n",
            "Epoch [558/1000], Train Loss: 0.0018, Val Loss: 0.0038\n",
            "Epoch 558/1000 completed in 0.71 seconds.\n",
            "Epoch [559/1000], Train Loss: 0.0020, Val Loss: 0.0039\n",
            "Epoch 559/1000 completed in 0.48 seconds.\n",
            "Epoch [560/1000], Train Loss: 0.0021, Val Loss: 0.0041\n",
            "Epoch 560/1000 completed in 0.50 seconds.\n",
            "Epoch [561/1000], Train Loss: 0.0018, Val Loss: 0.0030\n",
            "Epoch 561/1000 completed in 0.50 seconds.\n",
            "Epoch [562/1000], Train Loss: 0.0017, Val Loss: 0.0039\n",
            "Epoch 562/1000 completed in 0.52 seconds.\n",
            "Epoch [563/1000], Train Loss: 0.0024, Val Loss: 0.0047\n",
            "Epoch 563/1000 completed in 0.48 seconds.\n",
            "Epoch [564/1000], Train Loss: 0.0019, Val Loss: 0.0024\n",
            "Epoch 564/1000 completed in 0.50 seconds.\n",
            "Epoch [565/1000], Train Loss: 0.0021, Val Loss: 0.0032\n",
            "Epoch 565/1000 completed in 0.50 seconds.\n",
            "Epoch [566/1000], Train Loss: 0.0019, Val Loss: 0.0024\n",
            "Epoch 566/1000 completed in 0.51 seconds.\n",
            "Epoch [567/1000], Train Loss: 0.0028, Val Loss: 0.0066\n",
            "Epoch 567/1000 completed in 0.49 seconds.\n",
            "Epoch [568/1000], Train Loss: 0.0022, Val Loss: 0.0022\n",
            "Epoch 568/1000 completed in 0.49 seconds.\n",
            "Epoch [569/1000], Train Loss: 0.0018, Val Loss: 0.0036\n",
            "Epoch 569/1000 completed in 0.49 seconds.\n",
            "Epoch [570/1000], Train Loss: 0.0016, Val Loss: 0.0036\n",
            "Epoch 570/1000 completed in 0.49 seconds.\n",
            "Epoch [571/1000], Train Loss: 0.0018, Val Loss: 0.0026\n",
            "Epoch 571/1000 completed in 0.50 seconds.\n",
            "Epoch [572/1000], Train Loss: 0.0018, Val Loss: 0.0032\n",
            "Epoch 572/1000 completed in 0.52 seconds.\n",
            "Epoch [573/1000], Train Loss: 0.0017, Val Loss: 0.0029\n",
            "Epoch 573/1000 completed in 0.51 seconds.\n",
            "Epoch [574/1000], Train Loss: 0.0023, Val Loss: 0.0035\n",
            "Epoch 574/1000 completed in 0.49 seconds.\n",
            "Epoch [575/1000], Train Loss: 0.0019, Val Loss: 0.0043\n",
            "Epoch 575/1000 completed in 0.51 seconds.\n",
            "Epoch [576/1000], Train Loss: 0.0019, Val Loss: 0.0027\n",
            "Epoch 576/1000 completed in 0.54 seconds.\n",
            "Epoch [577/1000], Train Loss: 0.0019, Val Loss: 0.0052\n",
            "Epoch 577/1000 completed in 0.65 seconds.\n",
            "Epoch [578/1000], Train Loss: 0.0016, Val Loss: 0.0036\n",
            "Epoch 578/1000 completed in 0.69 seconds.\n",
            "Epoch [579/1000], Train Loss: 0.0017, Val Loss: 0.0024\n",
            "Epoch 579/1000 completed in 0.71 seconds.\n",
            "Epoch [580/1000], Train Loss: 0.0020, Val Loss: 0.0040\n",
            "Epoch 580/1000 completed in 0.57 seconds.\n",
            "Epoch [581/1000], Train Loss: 0.0019, Val Loss: 0.0038\n",
            "Epoch 581/1000 completed in 0.50 seconds.\n",
            "Epoch [582/1000], Train Loss: 0.0018, Val Loss: 0.0066\n",
            "Epoch 582/1000 completed in 0.49 seconds.\n",
            "Epoch [583/1000], Train Loss: 0.0020, Val Loss: 0.0028\n",
            "Epoch 583/1000 completed in 0.50 seconds.\n",
            "Epoch [584/1000], Train Loss: 0.0019, Val Loss: 0.0034\n",
            "Epoch 584/1000 completed in 0.48 seconds.\n",
            "Epoch [585/1000], Train Loss: 0.0016, Val Loss: 0.0030\n",
            "Epoch 585/1000 completed in 0.51 seconds.\n",
            "Epoch [586/1000], Train Loss: 0.0018, Val Loss: 0.0037\n",
            "Epoch 586/1000 completed in 0.50 seconds.\n",
            "Epoch [587/1000], Train Loss: 0.0020, Val Loss: 0.0037\n",
            "Epoch 587/1000 completed in 0.50 seconds.\n",
            "Epoch [588/1000], Train Loss: 0.0020, Val Loss: 0.0028\n",
            "Epoch 588/1000 completed in 0.49 seconds.\n",
            "Epoch [589/1000], Train Loss: 0.0020, Val Loss: 0.0033\n",
            "Epoch 589/1000 completed in 0.49 seconds.\n",
            "Epoch [590/1000], Train Loss: 0.0017, Val Loss: 0.0036\n",
            "Epoch 590/1000 completed in 0.51 seconds.\n",
            "Epoch [591/1000], Train Loss: 0.0017, Val Loss: 0.0039\n",
            "Epoch 591/1000 completed in 0.49 seconds.\n",
            "Epoch [592/1000], Train Loss: 0.0022, Val Loss: 0.0039\n",
            "Epoch 592/1000 completed in 0.50 seconds.\n",
            "Epoch [593/1000], Train Loss: 0.0022, Val Loss: 0.0023\n",
            "Epoch 593/1000 completed in 0.50 seconds.\n",
            "Epoch [594/1000], Train Loss: 0.0019, Val Loss: 0.0037\n",
            "Epoch 594/1000 completed in 0.51 seconds.\n",
            "Epoch [595/1000], Train Loss: 0.0015, Val Loss: 0.0025\n",
            "Epoch 595/1000 completed in 0.50 seconds.\n",
            "Epoch [596/1000], Train Loss: 0.0019, Val Loss: 0.0031\n",
            "Epoch 596/1000 completed in 0.50 seconds.\n",
            "Epoch [597/1000], Train Loss: 0.0019, Val Loss: 0.0030\n",
            "Epoch 597/1000 completed in 0.49 seconds.\n",
            "Epoch [598/1000], Train Loss: 0.0018, Val Loss: 0.0039\n",
            "Epoch 598/1000 completed in 0.61 seconds.\n",
            "Epoch [599/1000], Train Loss: 0.0023, Val Loss: 0.0055\n",
            "Epoch 599/1000 completed in 0.64 seconds.\n",
            "Epoch [600/1000], Train Loss: 0.0019, Val Loss: 0.0045\n",
            "Epoch 600/1000 completed in 0.75 seconds.\n",
            "Epoch [601/1000], Train Loss: 0.0016, Val Loss: 0.0040\n",
            "Epoch 601/1000 completed in 0.69 seconds.\n",
            "Epoch [602/1000], Train Loss: 0.0017, Val Loss: 0.0049\n",
            "Epoch 602/1000 completed in 0.50 seconds.\n",
            "Epoch [603/1000], Train Loss: 0.0022, Val Loss: 0.0036\n",
            "Epoch 603/1000 completed in 0.51 seconds.\n",
            "Epoch [604/1000], Train Loss: 0.0015, Val Loss: 0.0050\n",
            "Epoch 604/1000 completed in 0.52 seconds.\n",
            "Epoch [605/1000], Train Loss: 0.0020, Val Loss: 0.0048\n",
            "Epoch 605/1000 completed in 0.49 seconds.\n",
            "Epoch [606/1000], Train Loss: 0.0015, Val Loss: 0.0043\n",
            "Epoch 606/1000 completed in 0.50 seconds.\n",
            "Epoch [607/1000], Train Loss: 0.0016, Val Loss: 0.0030\n",
            "Epoch 607/1000 completed in 0.49 seconds.\n",
            "Epoch [608/1000], Train Loss: 0.0018, Val Loss: 0.0045\n",
            "Epoch 608/1000 completed in 0.50 seconds.\n",
            "Epoch [609/1000], Train Loss: 0.0022, Val Loss: 0.0039\n",
            "Epoch 609/1000 completed in 0.48 seconds.\n",
            "Epoch [610/1000], Train Loss: 0.0018, Val Loss: 0.0045\n",
            "Epoch 610/1000 completed in 0.49 seconds.\n",
            "Epoch [611/1000], Train Loss: 0.0017, Val Loss: 0.0029\n",
            "Epoch 611/1000 completed in 0.51 seconds.\n",
            "Epoch [612/1000], Train Loss: 0.0018, Val Loss: 0.0026\n",
            "Epoch 612/1000 completed in 0.51 seconds.\n",
            "Epoch [613/1000], Train Loss: 0.0019, Val Loss: 0.0057\n",
            "Epoch 613/1000 completed in 0.49 seconds.\n",
            "Epoch [614/1000], Train Loss: 0.0023, Val Loss: 0.0049\n",
            "Epoch 614/1000 completed in 0.50 seconds.\n",
            "Epoch [615/1000], Train Loss: 0.0019, Val Loss: 0.0031\n",
            "Epoch 615/1000 completed in 0.51 seconds.\n",
            "Epoch [616/1000], Train Loss: 0.0019, Val Loss: 0.0035\n",
            "Epoch 616/1000 completed in 0.50 seconds.\n",
            "Epoch [617/1000], Train Loss: 0.0016, Val Loss: 0.0029\n",
            "Epoch 617/1000 completed in 0.50 seconds.\n",
            "Epoch [618/1000], Train Loss: 0.0020, Val Loss: 0.0031\n",
            "Epoch 618/1000 completed in 0.48 seconds.\n",
            "Epoch [619/1000], Train Loss: 0.0021, Val Loss: 0.0039\n",
            "Epoch 619/1000 completed in 0.55 seconds.\n",
            "Epoch [620/1000], Train Loss: 0.0017, Val Loss: 0.0045\n",
            "Epoch 620/1000 completed in 0.65 seconds.\n",
            "Epoch [621/1000], Train Loss: 0.0015, Val Loss: 0.0030\n",
            "Epoch 621/1000 completed in 0.68 seconds.\n",
            "Epoch [622/1000], Train Loss: 0.0028, Val Loss: 0.0016\n",
            "Epoch 622/1000 completed in 0.76 seconds.\n",
            "Epoch [623/1000], Train Loss: 0.0016, Val Loss: 0.0041\n",
            "Epoch 623/1000 completed in 0.55 seconds.\n",
            "Epoch [624/1000], Train Loss: 0.0020, Val Loss: 0.0057\n",
            "Epoch 624/1000 completed in 0.49 seconds.\n",
            "Epoch [625/1000], Train Loss: 0.0020, Val Loss: 0.0034\n",
            "Epoch 625/1000 completed in 0.51 seconds.\n",
            "Epoch [626/1000], Train Loss: 0.0015, Val Loss: 0.0038\n",
            "Epoch 626/1000 completed in 0.50 seconds.\n",
            "Epoch [627/1000], Train Loss: 0.0015, Val Loss: 0.0037\n",
            "Epoch 627/1000 completed in 0.50 seconds.\n",
            "Epoch [628/1000], Train Loss: 0.0015, Val Loss: 0.0039\n",
            "Epoch 628/1000 completed in 0.49 seconds.\n",
            "Epoch [629/1000], Train Loss: 0.0021, Val Loss: 0.0021\n",
            "Epoch 629/1000 completed in 0.50 seconds.\n",
            "Epoch [630/1000], Train Loss: 0.0017, Val Loss: 0.0037\n",
            "Epoch 630/1000 completed in 0.49 seconds.\n",
            "Epoch [631/1000], Train Loss: 0.0020, Val Loss: 0.0040\n",
            "Epoch 631/1000 completed in 0.49 seconds.\n",
            "Epoch [632/1000], Train Loss: 0.0018, Val Loss: 0.0057\n",
            "Epoch 632/1000 completed in 0.50 seconds.\n",
            "Epoch [633/1000], Train Loss: 0.0021, Val Loss: 0.0039\n",
            "Epoch 633/1000 completed in 0.49 seconds.\n",
            "Epoch [634/1000], Train Loss: 0.0017, Val Loss: 0.0031\n",
            "Epoch 634/1000 completed in 0.50 seconds.\n",
            "Epoch [635/1000], Train Loss: 0.0017, Val Loss: 0.0050\n",
            "Epoch 635/1000 completed in 0.49 seconds.\n",
            "Epoch [636/1000], Train Loss: 0.0016, Val Loss: 0.0036\n",
            "Epoch 636/1000 completed in 0.50 seconds.\n",
            "Epoch [637/1000], Train Loss: 0.0023, Val Loss: 0.0042\n",
            "Epoch 637/1000 completed in 0.49 seconds.\n",
            "Epoch [638/1000], Train Loss: 0.0020, Val Loss: 0.0048\n",
            "Epoch 638/1000 completed in 0.50 seconds.\n",
            "Epoch [639/1000], Train Loss: 0.0020, Val Loss: 0.0038\n",
            "Epoch 639/1000 completed in 0.49 seconds.\n",
            "Epoch [640/1000], Train Loss: 0.0020, Val Loss: 0.0046\n",
            "Epoch 640/1000 completed in 0.50 seconds.\n",
            "Epoch [641/1000], Train Loss: 0.0016, Val Loss: 0.0035\n",
            "Epoch 641/1000 completed in 0.70 seconds.\n",
            "Epoch [642/1000], Train Loss: 0.0017, Val Loss: 0.0034\n",
            "Epoch 642/1000 completed in 0.68 seconds.\n",
            "Epoch [643/1000], Train Loss: 0.0017, Val Loss: 0.0040\n",
            "Epoch 643/1000 completed in 0.73 seconds.\n",
            "Epoch [644/1000], Train Loss: 0.0020, Val Loss: 0.0046\n",
            "Epoch 644/1000 completed in 0.64 seconds.\n",
            "Epoch [645/1000], Train Loss: 0.0018, Val Loss: 0.0036\n",
            "Epoch 645/1000 completed in 0.49 seconds.\n",
            "Epoch [646/1000], Train Loss: 0.0017, Val Loss: 0.0037\n",
            "Epoch 646/1000 completed in 0.50 seconds.\n",
            "Epoch [647/1000], Train Loss: 0.0018, Val Loss: 0.0026\n",
            "Epoch 647/1000 completed in 0.50 seconds.\n",
            "Epoch [648/1000], Train Loss: 0.0020, Val Loss: 0.0044\n",
            "Epoch 648/1000 completed in 0.50 seconds.\n",
            "Epoch [649/1000], Train Loss: 0.0015, Val Loss: 0.0037\n",
            "Epoch 649/1000 completed in 0.50 seconds.\n",
            "Epoch [650/1000], Train Loss: 0.0017, Val Loss: 0.0028\n",
            "Epoch 650/1000 completed in 0.50 seconds.\n",
            "Epoch [651/1000], Train Loss: 0.0015, Val Loss: 0.0048\n",
            "Epoch 651/1000 completed in 0.50 seconds.\n",
            "Epoch [652/1000], Train Loss: 0.0016, Val Loss: 0.0039\n",
            "Epoch 652/1000 completed in 0.51 seconds.\n",
            "Epoch [653/1000], Train Loss: 0.0019, Val Loss: 0.0039\n",
            "Epoch 653/1000 completed in 0.51 seconds.\n",
            "Epoch [654/1000], Train Loss: 0.0015, Val Loss: 0.0036\n",
            "Epoch 654/1000 completed in 0.50 seconds.\n",
            "Epoch [655/1000], Train Loss: 0.0018, Val Loss: 0.0031\n",
            "Epoch 655/1000 completed in 0.51 seconds.\n",
            "Epoch [656/1000], Train Loss: 0.0018, Val Loss: 0.0029\n",
            "Epoch 656/1000 completed in 0.50 seconds.\n",
            "Epoch [657/1000], Train Loss: 0.0017, Val Loss: 0.0044\n",
            "Epoch 657/1000 completed in 0.51 seconds.\n",
            "Epoch [658/1000], Train Loss: 0.0019, Val Loss: 0.0036\n",
            "Epoch 658/1000 completed in 0.50 seconds.\n",
            "Epoch [659/1000], Train Loss: 0.0018, Val Loss: 0.0048\n",
            "Epoch 659/1000 completed in 0.51 seconds.\n",
            "Epoch [660/1000], Train Loss: 0.0017, Val Loss: 0.0050\n",
            "Epoch 660/1000 completed in 0.49 seconds.\n",
            "Epoch [661/1000], Train Loss: 0.0018, Val Loss: 0.0037\n",
            "Epoch 661/1000 completed in 0.50 seconds.\n",
            "Epoch [662/1000], Train Loss: 0.0017, Val Loss: 0.0041\n",
            "Epoch 662/1000 completed in 0.62 seconds.\n",
            "Epoch [663/1000], Train Loss: 0.0017, Val Loss: 0.0022\n",
            "Epoch 663/1000 completed in 0.62 seconds.\n",
            "Epoch [664/1000], Train Loss: 0.0019, Val Loss: 0.0058\n",
            "Epoch 664/1000 completed in 0.74 seconds.\n",
            "Epoch [665/1000], Train Loss: 0.0016, Val Loss: 0.0042\n",
            "Epoch 665/1000 completed in 0.71 seconds.\n",
            "Epoch [666/1000], Train Loss: 0.0019, Val Loss: 0.0044\n",
            "Epoch 666/1000 completed in 0.49 seconds.\n",
            "Epoch [667/1000], Train Loss: 0.0019, Val Loss: 0.0066\n",
            "Epoch 667/1000 completed in 0.50 seconds.\n",
            "Epoch [668/1000], Train Loss: 0.0015, Val Loss: 0.0043\n",
            "Epoch 668/1000 completed in 0.49 seconds.\n",
            "Epoch [669/1000], Train Loss: 0.0017, Val Loss: 0.0038\n",
            "Epoch 669/1000 completed in 0.49 seconds.\n",
            "Epoch [670/1000], Train Loss: 0.0017, Val Loss: 0.0052\n",
            "Epoch 670/1000 completed in 0.50 seconds.\n",
            "Epoch [671/1000], Train Loss: 0.0016, Val Loss: 0.0038\n",
            "Epoch 671/1000 completed in 0.50 seconds.\n",
            "Epoch [672/1000], Train Loss: 0.0019, Val Loss: 0.0049\n",
            "Epoch 672/1000 completed in 0.50 seconds.\n",
            "Epoch [673/1000], Train Loss: 0.0020, Val Loss: 0.0053\n",
            "Epoch 673/1000 completed in 0.49 seconds.\n",
            "Epoch [674/1000], Train Loss: 0.0034, Val Loss: 0.0039\n",
            "Epoch 674/1000 completed in 0.54 seconds.\n",
            "Epoch [675/1000], Train Loss: 0.0015, Val Loss: 0.0045\n",
            "Epoch 675/1000 completed in 0.49 seconds.\n",
            "Epoch [676/1000], Train Loss: 0.0013, Val Loss: 0.0036\n",
            "Epoch 676/1000 completed in 0.50 seconds.\n",
            "Epoch [677/1000], Train Loss: 0.0016, Val Loss: 0.0039\n",
            "Epoch 677/1000 completed in 0.50 seconds.\n",
            "Epoch [678/1000], Train Loss: 0.0015, Val Loss: 0.0036\n",
            "Epoch 678/1000 completed in 0.50 seconds.\n",
            "Epoch [679/1000], Train Loss: 0.0013, Val Loss: 0.0033\n",
            "Epoch 679/1000 completed in 0.48 seconds.\n",
            "Epoch [680/1000], Train Loss: 0.0017, Val Loss: 0.0043\n",
            "Epoch 680/1000 completed in 0.50 seconds.\n",
            "Epoch [681/1000], Train Loss: 0.0014, Val Loss: 0.0035\n",
            "Epoch 681/1000 completed in 0.48 seconds.\n",
            "Epoch [682/1000], Train Loss: 0.0017, Val Loss: 0.0045\n",
            "Epoch 682/1000 completed in 0.49 seconds.\n",
            "Epoch [683/1000], Train Loss: 0.0014, Val Loss: 0.0042\n",
            "Epoch 683/1000 completed in 0.51 seconds.\n",
            "Epoch [684/1000], Train Loss: 0.0016, Val Loss: 0.0062\n",
            "Epoch 684/1000 completed in 0.65 seconds.\n",
            "Epoch [685/1000], Train Loss: 0.0017, Val Loss: 0.0045\n",
            "Epoch 685/1000 completed in 0.66 seconds.\n",
            "Epoch [686/1000], Train Loss: 0.0018, Val Loss: 0.0031\n",
            "Epoch 686/1000 completed in 0.74 seconds.\n",
            "Epoch [687/1000], Train Loss: 0.0016, Val Loss: 0.0042\n",
            "Epoch 687/1000 completed in 0.52 seconds.\n",
            "Epoch [688/1000], Train Loss: 0.0019, Val Loss: 0.0033\n",
            "Epoch 688/1000 completed in 0.50 seconds.\n",
            "Epoch [689/1000], Train Loss: 0.0014, Val Loss: 0.0033\n",
            "Epoch 689/1000 completed in 0.50 seconds.\n",
            "Epoch [690/1000], Train Loss: 0.0014, Val Loss: 0.0046\n",
            "Epoch 690/1000 completed in 0.50 seconds.\n",
            "Epoch [691/1000], Train Loss: 0.0017, Val Loss: 0.0037\n",
            "Epoch 691/1000 completed in 0.50 seconds.\n",
            "Epoch [692/1000], Train Loss: 0.0019, Val Loss: 0.0051\n",
            "Epoch 692/1000 completed in 0.49 seconds.\n",
            "Epoch [693/1000], Train Loss: 0.0017, Val Loss: 0.0051\n",
            "Epoch 693/1000 completed in 0.50 seconds.\n",
            "Epoch [694/1000], Train Loss: 0.0016, Val Loss: 0.0064\n",
            "Epoch 694/1000 completed in 0.48 seconds.\n",
            "Epoch [695/1000], Train Loss: 0.0021, Val Loss: 0.0038\n",
            "Epoch 695/1000 completed in 0.51 seconds.\n",
            "Epoch [696/1000], Train Loss: 0.0017, Val Loss: 0.0069\n",
            "Epoch 696/1000 completed in 0.49 seconds.\n",
            "Epoch [697/1000], Train Loss: 0.0015, Val Loss: 0.0045\n",
            "Epoch 697/1000 completed in 0.50 seconds.\n",
            "Epoch [698/1000], Train Loss: 0.0015, Val Loss: 0.0049\n",
            "Epoch 698/1000 completed in 0.49 seconds.\n",
            "Epoch [699/1000], Train Loss: 0.0017, Val Loss: 0.0040\n",
            "Epoch 699/1000 completed in 0.50 seconds.\n",
            "Epoch [700/1000], Train Loss: 0.0019, Val Loss: 0.0059\n",
            "Epoch 700/1000 completed in 0.50 seconds.\n",
            "Epoch [701/1000], Train Loss: 0.0018, Val Loss: 0.0056\n",
            "Epoch 701/1000 completed in 0.54 seconds.\n",
            "Epoch [702/1000], Train Loss: 0.0015, Val Loss: 0.0037\n",
            "Epoch 702/1000 completed in 0.50 seconds.\n",
            "Epoch [703/1000], Train Loss: 0.0016, Val Loss: 0.0062\n",
            "Epoch 703/1000 completed in 0.50 seconds.\n",
            "Epoch [704/1000], Train Loss: 0.0016, Val Loss: 0.0039\n",
            "Epoch 704/1000 completed in 0.49 seconds.\n",
            "Epoch [705/1000], Train Loss: 0.0017, Val Loss: 0.0045\n",
            "Epoch 705/1000 completed in 0.66 seconds.\n",
            "Epoch [706/1000], Train Loss: 0.0017, Val Loss: 0.0055\n",
            "Epoch 706/1000 completed in 0.66 seconds.\n",
            "Epoch [707/1000], Train Loss: 0.0018, Val Loss: 0.0044\n",
            "Epoch 707/1000 completed in 0.72 seconds.\n",
            "Epoch [708/1000], Train Loss: 0.0019, Val Loss: 0.0043\n",
            "Epoch 708/1000 completed in 0.61 seconds.\n",
            "Epoch [709/1000], Train Loss: 0.0020, Val Loss: 0.0045\n",
            "Epoch 709/1000 completed in 0.50 seconds.\n",
            "Epoch [710/1000], Train Loss: 0.0016, Val Loss: 0.0044\n",
            "Epoch 710/1000 completed in 0.49 seconds.\n",
            "Epoch [711/1000], Train Loss: 0.0022, Val Loss: 0.0037\n",
            "Epoch 711/1000 completed in 0.50 seconds.\n",
            "Epoch [712/1000], Train Loss: 0.0018, Val Loss: 0.0037\n",
            "Epoch 712/1000 completed in 0.50 seconds.\n",
            "Epoch [713/1000], Train Loss: 0.0017, Val Loss: 0.0049\n",
            "Epoch 713/1000 completed in 0.51 seconds.\n",
            "Epoch [714/1000], Train Loss: 0.0018, Val Loss: 0.0055\n",
            "Epoch 714/1000 completed in 0.52 seconds.\n",
            "Epoch [715/1000], Train Loss: 0.0014, Val Loss: 0.0042\n",
            "Epoch 715/1000 completed in 0.50 seconds.\n",
            "Epoch [716/1000], Train Loss: 0.0017, Val Loss: 0.0043\n",
            "Epoch 716/1000 completed in 0.50 seconds.\n",
            "Epoch [717/1000], Train Loss: 0.0015, Val Loss: 0.0049\n",
            "Epoch 717/1000 completed in 0.49 seconds.\n",
            "Epoch [718/1000], Train Loss: 0.0022, Val Loss: 0.0057\n",
            "Epoch 718/1000 completed in 0.50 seconds.\n",
            "Epoch [719/1000], Train Loss: 0.0015, Val Loss: 0.0060\n",
            "Epoch 719/1000 completed in 0.49 seconds.\n",
            "Epoch [720/1000], Train Loss: 0.0014, Val Loss: 0.0041\n",
            "Epoch 720/1000 completed in 0.51 seconds.\n",
            "Epoch [721/1000], Train Loss: 0.0018, Val Loss: 0.0052\n",
            "Epoch 721/1000 completed in 0.49 seconds.\n",
            "Epoch [722/1000], Train Loss: 0.0017, Val Loss: 0.0047\n",
            "Epoch 722/1000 completed in 0.51 seconds.\n",
            "Epoch [723/1000], Train Loss: 0.0015, Val Loss: 0.0046\n",
            "Epoch 723/1000 completed in 0.50 seconds.\n",
            "Epoch [724/1000], Train Loss: 0.0019, Val Loss: 0.0051\n",
            "Epoch 724/1000 completed in 0.50 seconds.\n",
            "Epoch [725/1000], Train Loss: 0.0014, Val Loss: 0.0035\n",
            "Epoch 725/1000 completed in 0.48 seconds.\n",
            "Epoch [726/1000], Train Loss: 0.0019, Val Loss: 0.0028\n",
            "Epoch 726/1000 completed in 0.62 seconds.\n",
            "Epoch [727/1000], Train Loss: 0.0017, Val Loss: 0.0042\n",
            "Epoch 727/1000 completed in 0.65 seconds.\n",
            "Epoch [728/1000], Train Loss: 0.0014, Val Loss: 0.0037\n",
            "Epoch 728/1000 completed in 0.72 seconds.\n",
            "Epoch [729/1000], Train Loss: 0.0016, Val Loss: 0.0043\n",
            "Epoch 729/1000 completed in 0.71 seconds.\n",
            "Epoch [730/1000], Train Loss: 0.0018, Val Loss: 0.0047\n",
            "Epoch 730/1000 completed in 0.50 seconds.\n",
            "Epoch [731/1000], Train Loss: 0.0017, Val Loss: 0.0049\n",
            "Epoch 731/1000 completed in 0.49 seconds.\n",
            "Epoch [732/1000], Train Loss: 0.0018, Val Loss: 0.0048\n",
            "Epoch 732/1000 completed in 0.50 seconds.\n",
            "Epoch [733/1000], Train Loss: 0.0015, Val Loss: 0.0043\n",
            "Epoch 733/1000 completed in 0.50 seconds.\n",
            "Epoch [734/1000], Train Loss: 0.0017, Val Loss: 0.0034\n",
            "Epoch 734/1000 completed in 0.48 seconds.\n",
            "Epoch [735/1000], Train Loss: 0.0015, Val Loss: 0.0054\n",
            "Epoch 735/1000 completed in 0.50 seconds.\n",
            "Epoch [736/1000], Train Loss: 0.0020, Val Loss: 0.0056\n",
            "Epoch 736/1000 completed in 0.49 seconds.\n",
            "Epoch [737/1000], Train Loss: 0.0016, Val Loss: 0.0030\n",
            "Epoch 737/1000 completed in 0.50 seconds.\n",
            "Epoch [738/1000], Train Loss: 0.0019, Val Loss: 0.0053\n",
            "Epoch 738/1000 completed in 0.49 seconds.\n",
            "Epoch [739/1000], Train Loss: 0.0016, Val Loss: 0.0038\n",
            "Epoch 739/1000 completed in 0.50 seconds.\n",
            "Epoch [740/1000], Train Loss: 0.0019, Val Loss: 0.0040\n",
            "Epoch 740/1000 completed in 0.49 seconds.\n",
            "Epoch [741/1000], Train Loss: 0.0019, Val Loss: 0.0044\n",
            "Epoch 741/1000 completed in 0.50 seconds.\n",
            "Epoch [742/1000], Train Loss: 0.0016, Val Loss: 0.0033\n",
            "Epoch 742/1000 completed in 0.49 seconds.\n",
            "Epoch [743/1000], Train Loss: 0.0020, Val Loss: 0.0065\n",
            "Epoch 743/1000 completed in 0.50 seconds.\n",
            "Epoch [744/1000], Train Loss: 0.0020, Val Loss: 0.0050\n",
            "Epoch 744/1000 completed in 0.48 seconds.\n",
            "Epoch [745/1000], Train Loss: 0.0019, Val Loss: 0.0041\n",
            "Epoch 745/1000 completed in 0.50 seconds.\n",
            "Epoch [746/1000], Train Loss: 0.0013, Val Loss: 0.0050\n",
            "Epoch 746/1000 completed in 0.50 seconds.\n",
            "Epoch [747/1000], Train Loss: 0.0016, Val Loss: 0.0053\n",
            "Epoch 747/1000 completed in 0.49 seconds.\n",
            "Epoch [748/1000], Train Loss: 0.0016, Val Loss: 0.0028\n",
            "Epoch 748/1000 completed in 0.67 seconds.\n",
            "Epoch [749/1000], Train Loss: 0.0017, Val Loss: 0.0038\n",
            "Epoch 749/1000 completed in 0.68 seconds.\n",
            "Epoch [750/1000], Train Loss: 0.0017, Val Loss: 0.0042\n",
            "Epoch 750/1000 completed in 0.82 seconds.\n",
            "Epoch [751/1000], Train Loss: 0.0015, Val Loss: 0.0044\n",
            "Epoch 751/1000 completed in 0.69 seconds.\n",
            "Epoch [752/1000], Train Loss: 0.0015, Val Loss: 0.0040\n",
            "Epoch 752/1000 completed in 0.54 seconds.\n",
            "Epoch [753/1000], Train Loss: 0.0017, Val Loss: 0.0063\n",
            "Epoch 753/1000 completed in 0.67 seconds.\n",
            "Epoch [754/1000], Train Loss: 0.0019, Val Loss: 0.0054\n",
            "Epoch 754/1000 completed in 0.66 seconds.\n",
            "Epoch [755/1000], Train Loss: 0.0016, Val Loss: 0.0045\n",
            "Epoch 755/1000 completed in 0.76 seconds.\n",
            "Epoch [756/1000], Train Loss: 0.0019, Val Loss: 0.0043\n",
            "Epoch 756/1000 completed in 0.51 seconds.\n",
            "Epoch [757/1000], Train Loss: 0.0016, Val Loss: 0.0046\n",
            "Epoch 757/1000 completed in 0.51 seconds.\n",
            "Epoch [758/1000], Train Loss: 0.0014, Val Loss: 0.0038\n",
            "Epoch 758/1000 completed in 0.49 seconds.\n",
            "Epoch [759/1000], Train Loss: 0.0015, Val Loss: 0.0062\n",
            "Epoch 759/1000 completed in 0.50 seconds.\n",
            "Epoch [760/1000], Train Loss: 0.0015, Val Loss: 0.0040\n",
            "Epoch 760/1000 completed in 0.53 seconds.\n",
            "Epoch [761/1000], Train Loss: 0.0016, Val Loss: 0.0038\n",
            "Epoch 761/1000 completed in 0.50 seconds.\n",
            "Epoch [762/1000], Train Loss: 0.0015, Val Loss: 0.0042\n",
            "Epoch 762/1000 completed in 0.51 seconds.\n",
            "Epoch [763/1000], Train Loss: 0.0018, Val Loss: 0.0048\n",
            "Epoch 763/1000 completed in 0.49 seconds.\n",
            "Epoch [764/1000], Train Loss: 0.0016, Val Loss: 0.0038\n",
            "Epoch 764/1000 completed in 0.53 seconds.\n",
            "Epoch [765/1000], Train Loss: 0.0017, Val Loss: 0.0047\n",
            "Epoch 765/1000 completed in 0.50 seconds.\n",
            "Epoch [766/1000], Train Loss: 0.0019, Val Loss: 0.0041\n",
            "Epoch 766/1000 completed in 0.52 seconds.\n",
            "Epoch [767/1000], Train Loss: 0.0017, Val Loss: 0.0063\n",
            "Epoch 767/1000 completed in 0.50 seconds.\n",
            "Epoch [768/1000], Train Loss: 0.0015, Val Loss: 0.0039\n",
            "Epoch 768/1000 completed in 0.73 seconds.\n",
            "Epoch [769/1000], Train Loss: 0.0018, Val Loss: 0.0062\n",
            "Epoch 769/1000 completed in 0.67 seconds.\n",
            "Epoch [770/1000], Train Loss: 0.0020, Val Loss: 0.0053\n",
            "Epoch 770/1000 completed in 0.76 seconds.\n",
            "Epoch [771/1000], Train Loss: 0.0017, Val Loss: 0.0044\n",
            "Epoch 771/1000 completed in 0.62 seconds.\n",
            "Epoch [772/1000], Train Loss: 0.0016, Val Loss: 0.0046\n",
            "Epoch 772/1000 completed in 0.51 seconds.\n",
            "Epoch [773/1000], Train Loss: 0.0017, Val Loss: 0.0046\n",
            "Epoch 773/1000 completed in 0.49 seconds.\n",
            "Epoch [774/1000], Train Loss: 0.0016, Val Loss: 0.0035\n",
            "Epoch 774/1000 completed in 0.51 seconds.\n",
            "Epoch [775/1000], Train Loss: 0.0014, Val Loss: 0.0051\n",
            "Epoch 775/1000 completed in 0.51 seconds.\n",
            "Epoch [776/1000], Train Loss: 0.0015, Val Loss: 0.0045\n",
            "Epoch 776/1000 completed in 0.49 seconds.\n",
            "Epoch [777/1000], Train Loss: 0.0015, Val Loss: 0.0056\n",
            "Epoch 777/1000 completed in 0.53 seconds.\n",
            "Epoch [778/1000], Train Loss: 0.0014, Val Loss: 0.0035\n",
            "Epoch 778/1000 completed in 0.49 seconds.\n",
            "Epoch [779/1000], Train Loss: 0.0014, Val Loss: 0.0038\n",
            "Epoch 779/1000 completed in 0.51 seconds.\n",
            "Epoch [780/1000], Train Loss: 0.0017, Val Loss: 0.0049\n",
            "Epoch 780/1000 completed in 0.52 seconds.\n",
            "Epoch [781/1000], Train Loss: 0.0018, Val Loss: 0.0051\n",
            "Epoch 781/1000 completed in 0.51 seconds.\n",
            "Epoch [782/1000], Train Loss: 0.0019, Val Loss: 0.0052\n",
            "Epoch 782/1000 completed in 0.51 seconds.\n",
            "Epoch [783/1000], Train Loss: 0.0016, Val Loss: 0.0040\n",
            "Epoch 783/1000 completed in 0.52 seconds.\n",
            "Epoch [784/1000], Train Loss: 0.0016, Val Loss: 0.0058\n",
            "Epoch 784/1000 completed in 0.51 seconds.\n",
            "Epoch [785/1000], Train Loss: 0.0015, Val Loss: 0.0069\n",
            "Epoch 785/1000 completed in 0.50 seconds.\n",
            "Epoch [786/1000], Train Loss: 0.0014, Val Loss: 0.0047\n",
            "Epoch 786/1000 completed in 0.52 seconds.\n",
            "Epoch [787/1000], Train Loss: 0.0014, Val Loss: 0.0043\n",
            "Epoch 787/1000 completed in 0.50 seconds.\n",
            "Epoch [788/1000], Train Loss: 0.0019, Val Loss: 0.0050\n",
            "Epoch 788/1000 completed in 0.52 seconds.\n",
            "Epoch [789/1000], Train Loss: 0.0019, Val Loss: 0.0048\n",
            "Epoch 789/1000 completed in 0.65 seconds.\n",
            "Epoch [790/1000], Train Loss: 0.0013, Val Loss: 0.0049\n",
            "Epoch 790/1000 completed in 0.67 seconds.\n",
            "Epoch [791/1000], Train Loss: 0.0017, Val Loss: 0.0049\n",
            "Epoch 791/1000 completed in 0.74 seconds.\n",
            "Epoch [792/1000], Train Loss: 0.0017, Val Loss: 0.0044\n",
            "Epoch 792/1000 completed in 0.58 seconds.\n",
            "Epoch [793/1000], Train Loss: 0.0016, Val Loss: 0.0047\n",
            "Epoch 793/1000 completed in 0.48 seconds.\n",
            "Epoch [794/1000], Train Loss: 0.0015, Val Loss: 0.0060\n",
            "Epoch 794/1000 completed in 0.50 seconds.\n",
            "Epoch [795/1000], Train Loss: 0.0018, Val Loss: 0.0054\n",
            "Epoch 795/1000 completed in 0.49 seconds.\n",
            "Epoch [796/1000], Train Loss: 0.0014, Val Loss: 0.0055\n",
            "Epoch 796/1000 completed in 0.50 seconds.\n",
            "Epoch [797/1000], Train Loss: 0.0015, Val Loss: 0.0044\n",
            "Epoch 797/1000 completed in 0.49 seconds.\n",
            "Epoch [798/1000], Train Loss: 0.0015, Val Loss: 0.0070\n",
            "Epoch 798/1000 completed in 0.50 seconds.\n",
            "Epoch [799/1000], Train Loss: 0.0018, Val Loss: 0.0051\n",
            "Epoch 799/1000 completed in 0.50 seconds.\n",
            "Epoch [800/1000], Train Loss: 0.0013, Val Loss: 0.0061\n",
            "Epoch 800/1000 completed in 0.50 seconds.\n",
            "Epoch [801/1000], Train Loss: 0.0017, Val Loss: 0.0052\n",
            "Epoch 801/1000 completed in 0.50 seconds.\n",
            "Epoch [802/1000], Train Loss: 0.0015, Val Loss: 0.0066\n",
            "Epoch 802/1000 completed in 0.50 seconds.\n",
            "Epoch [803/1000], Train Loss: 0.0017, Val Loss: 0.0048\n",
            "Epoch 803/1000 completed in 0.50 seconds.\n",
            "Epoch [804/1000], Train Loss: 0.0016, Val Loss: 0.0037\n",
            "Epoch 804/1000 completed in 0.50 seconds.\n",
            "Epoch [805/1000], Train Loss: 0.0017, Val Loss: 0.0048\n",
            "Epoch 805/1000 completed in 0.51 seconds.\n",
            "Epoch [806/1000], Train Loss: 0.0014, Val Loss: 0.0049\n",
            "Epoch 806/1000 completed in 0.49 seconds.\n",
            "Epoch [807/1000], Train Loss: 0.0015, Val Loss: 0.0065\n",
            "Epoch 807/1000 completed in 0.50 seconds.\n",
            "Epoch [808/1000], Train Loss: 0.0014, Val Loss: 0.0053\n",
            "Epoch 808/1000 completed in 0.50 seconds.\n",
            "Epoch [809/1000], Train Loss: 0.0017, Val Loss: 0.0060\n",
            "Epoch 809/1000 completed in 0.50 seconds.\n",
            "Epoch [810/1000], Train Loss: 0.0015, Val Loss: 0.0049\n",
            "Epoch 810/1000 completed in 0.63 seconds.\n",
            "Epoch [811/1000], Train Loss: 0.0017, Val Loss: 0.0060\n",
            "Epoch 811/1000 completed in 0.64 seconds.\n",
            "Epoch [812/1000], Train Loss: 0.0016, Val Loss: 0.0056\n",
            "Epoch 812/1000 completed in 0.74 seconds.\n",
            "Epoch [813/1000], Train Loss: 0.0014, Val Loss: 0.0063\n",
            "Epoch 813/1000 completed in 0.68 seconds.\n",
            "Epoch [814/1000], Train Loss: 0.0015, Val Loss: 0.0044\n",
            "Epoch 814/1000 completed in 0.49 seconds.\n",
            "Epoch [815/1000], Train Loss: 0.0017, Val Loss: 0.0048\n",
            "Epoch 815/1000 completed in 0.50 seconds.\n",
            "Epoch [816/1000], Train Loss: 0.0014, Val Loss: 0.0039\n",
            "Epoch 816/1000 completed in 0.49 seconds.\n",
            "Epoch [817/1000], Train Loss: 0.0017, Val Loss: 0.0045\n",
            "Epoch 817/1000 completed in 0.50 seconds.\n",
            "Epoch [818/1000], Train Loss: 0.0018, Val Loss: 0.0059\n",
            "Epoch 818/1000 completed in 0.50 seconds.\n",
            "Epoch [819/1000], Train Loss: 0.0014, Val Loss: 0.0045\n",
            "Epoch 819/1000 completed in 0.50 seconds.\n",
            "Epoch [820/1000], Train Loss: 0.0017, Val Loss: 0.0045\n",
            "Epoch 820/1000 completed in 0.49 seconds.\n",
            "Epoch [821/1000], Train Loss: 0.0017, Val Loss: 0.0057\n",
            "Epoch 821/1000 completed in 0.50 seconds.\n",
            "Epoch [822/1000], Train Loss: 0.0015, Val Loss: 0.0058\n",
            "Epoch 822/1000 completed in 0.49 seconds.\n",
            "Epoch [823/1000], Train Loss: 0.0014, Val Loss: 0.0069\n",
            "Epoch 823/1000 completed in 0.49 seconds.\n",
            "Epoch [824/1000], Train Loss: 0.0015, Val Loss: 0.0057\n",
            "Epoch 824/1000 completed in 0.50 seconds.\n",
            "Epoch [825/1000], Train Loss: 0.0018, Val Loss: 0.0067\n",
            "Epoch 825/1000 completed in 0.49 seconds.\n",
            "Epoch [826/1000], Train Loss: 0.0015, Val Loss: 0.0042\n",
            "Epoch 826/1000 completed in 0.53 seconds.\n",
            "Epoch [827/1000], Train Loss: 0.0015, Val Loss: 0.0047\n",
            "Epoch 827/1000 completed in 0.50 seconds.\n",
            "Epoch [828/1000], Train Loss: 0.0014, Val Loss: 0.0051\n",
            "Epoch 828/1000 completed in 0.52 seconds.\n",
            "Epoch [829/1000], Train Loss: 0.0024, Val Loss: 0.0055\n",
            "Epoch 829/1000 completed in 0.49 seconds.\n",
            "Epoch [830/1000], Train Loss: 0.0016, Val Loss: 0.0051\n",
            "Epoch 830/1000 completed in 0.50 seconds.\n",
            "Epoch [831/1000], Train Loss: 0.0015, Val Loss: 0.0040\n",
            "Epoch 831/1000 completed in 0.55 seconds.\n",
            "Epoch [832/1000], Train Loss: 0.0015, Val Loss: 0.0030\n",
            "Epoch 832/1000 completed in 0.65 seconds.\n",
            "Epoch [833/1000], Train Loss: 0.0016, Val Loss: 0.0075\n",
            "Epoch 833/1000 completed in 0.71 seconds.\n",
            "Epoch [834/1000], Train Loss: 0.0018, Val Loss: 0.0045\n",
            "Epoch 834/1000 completed in 0.72 seconds.\n",
            "Epoch [835/1000], Train Loss: 0.0015, Val Loss: 0.0045\n",
            "Epoch 835/1000 completed in 0.49 seconds.\n",
            "Epoch [836/1000], Train Loss: 0.0015, Val Loss: 0.0050\n",
            "Epoch 836/1000 completed in 0.51 seconds.\n",
            "Epoch [837/1000], Train Loss: 0.0018, Val Loss: 0.0054\n",
            "Epoch 837/1000 completed in 0.49 seconds.\n",
            "Epoch [838/1000], Train Loss: 0.0014, Val Loss: 0.0053\n",
            "Epoch 838/1000 completed in 0.50 seconds.\n",
            "Epoch [839/1000], Train Loss: 0.0014, Val Loss: 0.0052\n",
            "Epoch 839/1000 completed in 0.49 seconds.\n",
            "Epoch [840/1000], Train Loss: 0.0015, Val Loss: 0.0051\n",
            "Epoch 840/1000 completed in 0.51 seconds.\n",
            "Epoch [841/1000], Train Loss: 0.0017, Val Loss: 0.0050\n",
            "Epoch 841/1000 completed in 0.49 seconds.\n",
            "Epoch [842/1000], Train Loss: 0.0014, Val Loss: 0.0052\n",
            "Epoch 842/1000 completed in 0.50 seconds.\n",
            "Epoch [843/1000], Train Loss: 0.0015, Val Loss: 0.0049\n",
            "Epoch 843/1000 completed in 0.49 seconds.\n",
            "Epoch [844/1000], Train Loss: 0.0018, Val Loss: 0.0075\n",
            "Epoch 844/1000 completed in 0.49 seconds.\n",
            "Epoch [845/1000], Train Loss: 0.0016, Val Loss: 0.0041\n",
            "Epoch 845/1000 completed in 0.51 seconds.\n",
            "Epoch [846/1000], Train Loss: 0.0017, Val Loss: 0.0055\n",
            "Epoch 846/1000 completed in 0.49 seconds.\n",
            "Epoch [847/1000], Train Loss: 0.0015, Val Loss: 0.0067\n",
            "Epoch 847/1000 completed in 0.51 seconds.\n",
            "Epoch [848/1000], Train Loss: 0.0014, Val Loss: 0.0068\n",
            "Epoch 848/1000 completed in 0.49 seconds.\n",
            "Epoch [849/1000], Train Loss: 0.0017, Val Loss: 0.0068\n",
            "Epoch 849/1000 completed in 0.49 seconds.\n",
            "Epoch [850/1000], Train Loss: 0.0014, Val Loss: 0.0052\n",
            "Epoch 850/1000 completed in 0.48 seconds.\n",
            "Epoch [851/1000], Train Loss: 0.0013, Val Loss: 0.0047\n",
            "Epoch 851/1000 completed in 0.50 seconds.\n",
            "Epoch [852/1000], Train Loss: 0.0015, Val Loss: 0.0055\n",
            "Epoch 852/1000 completed in 0.50 seconds.\n",
            "Epoch [853/1000], Train Loss: 0.0015, Val Loss: 0.0043\n",
            "Epoch 853/1000 completed in 0.67 seconds.\n",
            "Epoch [854/1000], Train Loss: 0.0018, Val Loss: 0.0046\n",
            "Epoch 854/1000 completed in 0.66 seconds.\n",
            "Epoch [855/1000], Train Loss: 0.0014, Val Loss: 0.0059\n",
            "Epoch 855/1000 completed in 0.72 seconds.\n",
            "Epoch [856/1000], Train Loss: 0.0022, Val Loss: 0.0062\n",
            "Epoch 856/1000 completed in 0.59 seconds.\n",
            "Epoch [857/1000], Train Loss: 0.0018, Val Loss: 0.0050\n",
            "Epoch 857/1000 completed in 0.50 seconds.\n",
            "Epoch [858/1000], Train Loss: 0.0014, Val Loss: 0.0059\n",
            "Epoch 858/1000 completed in 0.49 seconds.\n",
            "Epoch [859/1000], Train Loss: 0.0013, Val Loss: 0.0055\n",
            "Epoch 859/1000 completed in 0.50 seconds.\n",
            "Epoch [860/1000], Train Loss: 0.0014, Val Loss: 0.0082\n",
            "Epoch 860/1000 completed in 0.49 seconds.\n",
            "Epoch [861/1000], Train Loss: 0.0018, Val Loss: 0.0057\n",
            "Epoch 861/1000 completed in 0.50 seconds.\n",
            "Epoch [862/1000], Train Loss: 0.0014, Val Loss: 0.0056\n",
            "Epoch 862/1000 completed in 0.50 seconds.\n",
            "Epoch [863/1000], Train Loss: 0.0021, Val Loss: 0.0050\n",
            "Epoch 863/1000 completed in 0.50 seconds.\n",
            "Epoch [864/1000], Train Loss: 0.0015, Val Loss: 0.0059\n",
            "Epoch 864/1000 completed in 0.49 seconds.\n",
            "Epoch [865/1000], Train Loss: 0.0015, Val Loss: 0.0067\n",
            "Epoch 865/1000 completed in 0.50 seconds.\n",
            "Epoch [866/1000], Train Loss: 0.0017, Val Loss: 0.0056\n",
            "Epoch 866/1000 completed in 0.48 seconds.\n",
            "Epoch [867/1000], Train Loss: 0.0014, Val Loss: 0.0060\n",
            "Epoch 867/1000 completed in 0.49 seconds.\n",
            "Epoch [868/1000], Train Loss: 0.0016, Val Loss: 0.0051\n",
            "Epoch 868/1000 completed in 0.50 seconds.\n",
            "Epoch [869/1000], Train Loss: 0.0013, Val Loss: 0.0052\n",
            "Epoch 869/1000 completed in 0.49 seconds.\n",
            "Epoch [870/1000], Train Loss: 0.0014, Val Loss: 0.0045\n",
            "Epoch 870/1000 completed in 0.50 seconds.\n",
            "Epoch [871/1000], Train Loss: 0.0015, Val Loss: 0.0050\n",
            "Epoch 871/1000 completed in 0.50 seconds.\n",
            "Epoch [872/1000], Train Loss: 0.0016, Val Loss: 0.0058\n",
            "Epoch 872/1000 completed in 0.50 seconds.\n",
            "Epoch [873/1000], Train Loss: 0.0013, Val Loss: 0.0057\n",
            "Epoch 873/1000 completed in 0.49 seconds.\n",
            "Epoch [874/1000], Train Loss: 0.0015, Val Loss: 0.0057\n",
            "Epoch 874/1000 completed in 0.72 seconds.\n",
            "Epoch [875/1000], Train Loss: 0.0019, Val Loss: 0.0028\n",
            "Epoch 875/1000 completed in 0.64 seconds.\n",
            "Epoch [876/1000], Train Loss: 0.0016, Val Loss: 0.0074\n",
            "Epoch 876/1000 completed in 0.72 seconds.\n",
            "Epoch [877/1000], Train Loss: 0.0018, Val Loss: 0.0079\n",
            "Epoch 877/1000 completed in 0.69 seconds.\n",
            "Epoch [878/1000], Train Loss: 0.0017, Val Loss: 0.0052\n",
            "Epoch 878/1000 completed in 0.49 seconds.\n",
            "Epoch [879/1000], Train Loss: 0.0016, Val Loss: 0.0051\n",
            "Epoch 879/1000 completed in 0.49 seconds.\n",
            "Epoch [880/1000], Train Loss: 0.0015, Val Loss: 0.0036\n",
            "Epoch 880/1000 completed in 0.50 seconds.\n",
            "Epoch [881/1000], Train Loss: 0.0015, Val Loss: 0.0070\n",
            "Epoch 881/1000 completed in 0.50 seconds.\n",
            "Epoch [882/1000], Train Loss: 0.0016, Val Loss: 0.0052\n",
            "Epoch 882/1000 completed in 0.50 seconds.\n",
            "Epoch [883/1000], Train Loss: 0.0015, Val Loss: 0.0052\n",
            "Epoch 883/1000 completed in 0.48 seconds.\n",
            "Epoch [884/1000], Train Loss: 0.0015, Val Loss: 0.0077\n",
            "Epoch 884/1000 completed in 0.51 seconds.\n",
            "Epoch [885/1000], Train Loss: 0.0015, Val Loss: 0.0068\n",
            "Epoch 885/1000 completed in 0.49 seconds.\n",
            "Epoch [886/1000], Train Loss: 0.0014, Val Loss: 0.0056\n",
            "Epoch 886/1000 completed in 0.50 seconds.\n",
            "Epoch [887/1000], Train Loss: 0.0015, Val Loss: 0.0048\n",
            "Epoch 887/1000 completed in 0.48 seconds.\n",
            "Epoch [888/1000], Train Loss: 0.0014, Val Loss: 0.0052\n",
            "Epoch 888/1000 completed in 0.49 seconds.\n",
            "Epoch [889/1000], Train Loss: 0.0015, Val Loss: 0.0063\n",
            "Epoch 889/1000 completed in 0.51 seconds.\n",
            "Epoch [890/1000], Train Loss: 0.0013, Val Loss: 0.0049\n",
            "Epoch 890/1000 completed in 0.49 seconds.\n",
            "Epoch [891/1000], Train Loss: 0.0014, Val Loss: 0.0043\n",
            "Epoch 891/1000 completed in 0.50 seconds.\n",
            "Epoch [892/1000], Train Loss: 0.0015, Val Loss: 0.0046\n",
            "Epoch 892/1000 completed in 0.49 seconds.\n",
            "Epoch [893/1000], Train Loss: 0.0015, Val Loss: 0.0059\n",
            "Epoch 893/1000 completed in 0.51 seconds.\n",
            "Epoch [894/1000], Train Loss: 0.0015, Val Loss: 0.0049\n",
            "Epoch 894/1000 completed in 0.48 seconds.\n",
            "Epoch [895/1000], Train Loss: 0.0016, Val Loss: 0.0066\n",
            "Epoch 895/1000 completed in 0.53 seconds.\n",
            "Epoch [896/1000], Train Loss: 0.0017, Val Loss: 0.0053\n",
            "Epoch 896/1000 completed in 0.66 seconds.\n",
            "Epoch [897/1000], Train Loss: 0.0015, Val Loss: 0.0058\n",
            "Epoch 897/1000 completed in 0.66 seconds.\n",
            "Epoch [898/1000], Train Loss: 0.0014, Val Loss: 0.0059\n",
            "Epoch 898/1000 completed in 0.71 seconds.\n",
            "Epoch [899/1000], Train Loss: 0.0017, Val Loss: 0.0054\n",
            "Epoch 899/1000 completed in 0.59 seconds.\n",
            "Epoch [900/1000], Train Loss: 0.0016, Val Loss: 0.0071\n",
            "Epoch 900/1000 completed in 0.49 seconds.\n",
            "Epoch [901/1000], Train Loss: 0.0014, Val Loss: 0.0060\n",
            "Epoch 901/1000 completed in 0.51 seconds.\n",
            "Epoch [902/1000], Train Loss: 0.0015, Val Loss: 0.0044\n",
            "Epoch 902/1000 completed in 0.50 seconds.\n",
            "Epoch [903/1000], Train Loss: 0.0016, Val Loss: 0.0051\n",
            "Epoch 903/1000 completed in 0.50 seconds.\n",
            "Epoch [904/1000], Train Loss: 0.0018, Val Loss: 0.0053\n",
            "Epoch 904/1000 completed in 0.51 seconds.\n",
            "Epoch [905/1000], Train Loss: 0.0016, Val Loss: 0.0065\n",
            "Epoch 905/1000 completed in 0.50 seconds.\n",
            "Epoch [906/1000], Train Loss: 0.0014, Val Loss: 0.0054\n",
            "Epoch 906/1000 completed in 0.49 seconds.\n",
            "Epoch [907/1000], Train Loss: 0.0014, Val Loss: 0.0054\n",
            "Epoch 907/1000 completed in 0.50 seconds.\n",
            "Epoch [908/1000], Train Loss: 0.0015, Val Loss: 0.0048\n",
            "Epoch 908/1000 completed in 0.49 seconds.\n",
            "Epoch [909/1000], Train Loss: 0.0016, Val Loss: 0.0062\n",
            "Epoch 909/1000 completed in 0.50 seconds.\n",
            "Epoch [910/1000], Train Loss: 0.0014, Val Loss: 0.0051\n",
            "Epoch 910/1000 completed in 0.50 seconds.\n",
            "Epoch [911/1000], Train Loss: 0.0015, Val Loss: 0.0062\n",
            "Epoch 911/1000 completed in 0.48 seconds.\n",
            "Epoch [912/1000], Train Loss: 0.0014, Val Loss: 0.0065\n",
            "Epoch 912/1000 completed in 0.49 seconds.\n",
            "Epoch [913/1000], Train Loss: 0.0014, Val Loss: 0.0059\n",
            "Epoch 913/1000 completed in 0.49 seconds.\n",
            "Epoch [914/1000], Train Loss: 0.0014, Val Loss: 0.0044\n",
            "Epoch 914/1000 completed in 0.51 seconds.\n",
            "Epoch [915/1000], Train Loss: 0.0017, Val Loss: 0.0072\n",
            "Epoch 915/1000 completed in 0.87 seconds.\n",
            "Epoch [916/1000], Train Loss: 0.0018, Val Loss: 0.0051\n",
            "Epoch 916/1000 completed in 1.29 seconds.\n",
            "Epoch [917/1000], Train Loss: 0.0017, Val Loss: 0.0079\n",
            "Epoch 917/1000 completed in 0.67 seconds.\n",
            "Epoch [918/1000], Train Loss: 0.0015, Val Loss: 0.0061\n",
            "Epoch 918/1000 completed in 0.74 seconds.\n",
            "Epoch [919/1000], Train Loss: 0.0014, Val Loss: 0.0060\n",
            "Epoch 919/1000 completed in 0.53 seconds.\n",
            "Epoch [920/1000], Train Loss: 0.0014, Val Loss: 0.0049\n",
            "Epoch 920/1000 completed in 0.50 seconds.\n",
            "Epoch [921/1000], Train Loss: 0.0015, Val Loss: 0.0042\n",
            "Epoch 921/1000 completed in 0.50 seconds.\n",
            "Epoch [922/1000], Train Loss: 0.0013, Val Loss: 0.0058\n",
            "Epoch 922/1000 completed in 0.49 seconds.\n",
            "Epoch [923/1000], Train Loss: 0.0014, Val Loss: 0.0058\n",
            "Epoch 923/1000 completed in 0.49 seconds.\n",
            "Epoch [924/1000], Train Loss: 0.0015, Val Loss: 0.0056\n",
            "Epoch 924/1000 completed in 0.50 seconds.\n",
            "Epoch [925/1000], Train Loss: 0.0016, Val Loss: 0.0044\n",
            "Epoch 925/1000 completed in 0.50 seconds.\n",
            "Epoch [926/1000], Train Loss: 0.0016, Val Loss: 0.0061\n",
            "Epoch 926/1000 completed in 0.50 seconds.\n",
            "Epoch [927/1000], Train Loss: 0.0014, Val Loss: 0.0063\n",
            "Epoch 927/1000 completed in 0.52 seconds.\n",
            "Epoch [928/1000], Train Loss: 0.0016, Val Loss: 0.0052\n",
            "Epoch 928/1000 completed in 0.50 seconds.\n",
            "Epoch [929/1000], Train Loss: 0.0014, Val Loss: 0.0059\n",
            "Epoch 929/1000 completed in 0.50 seconds.\n",
            "Epoch [930/1000], Train Loss: 0.0014, Val Loss: 0.0058\n",
            "Epoch 930/1000 completed in 0.49 seconds.\n",
            "Epoch [931/1000], Train Loss: 0.0014, Val Loss: 0.0051\n",
            "Epoch 931/1000 completed in 0.50 seconds.\n",
            "Epoch [932/1000], Train Loss: 0.0015, Val Loss: 0.0064\n",
            "Epoch 932/1000 completed in 0.49 seconds.\n",
            "Epoch [933/1000], Train Loss: 0.0016, Val Loss: 0.0056\n",
            "Epoch 933/1000 completed in 0.50 seconds.\n",
            "Epoch [934/1000], Train Loss: 0.0016, Val Loss: 0.0062\n",
            "Epoch 934/1000 completed in 0.49 seconds.\n",
            "Epoch [935/1000], Train Loss: 0.0015, Val Loss: 0.0061\n",
            "Epoch 935/1000 completed in 0.50 seconds.\n",
            "Epoch [936/1000], Train Loss: 0.0013, Val Loss: 0.0048\n",
            "Epoch 936/1000 completed in 0.50 seconds.\n",
            "Epoch [937/1000], Train Loss: 0.0014, Val Loss: 0.0054\n",
            "Epoch 937/1000 completed in 0.66 seconds.\n",
            "Epoch [938/1000], Train Loss: 0.0013, Val Loss: 0.0061\n",
            "Epoch 938/1000 completed in 0.64 seconds.\n",
            "Epoch [939/1000], Train Loss: 0.0017, Val Loss: 0.0067\n",
            "Epoch 939/1000 completed in 0.71 seconds.\n",
            "Epoch [940/1000], Train Loss: 0.0016, Val Loss: 0.0061\n",
            "Epoch 940/1000 completed in 0.61 seconds.\n",
            "Epoch [941/1000], Train Loss: 0.0014, Val Loss: 0.0063\n",
            "Epoch 941/1000 completed in 0.50 seconds.\n",
            "Epoch [942/1000], Train Loss: 0.0013, Val Loss: 0.0059\n",
            "Epoch 942/1000 completed in 0.50 seconds.\n",
            "Epoch [943/1000], Train Loss: 0.0014, Val Loss: 0.0069\n",
            "Epoch 943/1000 completed in 0.51 seconds.\n",
            "Epoch [944/1000], Train Loss: 0.0013, Val Loss: 0.0054\n",
            "Epoch 944/1000 completed in 0.49 seconds.\n",
            "Epoch [945/1000], Train Loss: 0.0016, Val Loss: 0.0067\n",
            "Epoch 945/1000 completed in 0.51 seconds.\n",
            "Epoch [946/1000], Train Loss: 0.0015, Val Loss: 0.0046\n",
            "Epoch 946/1000 completed in 0.49 seconds.\n",
            "Epoch [947/1000], Train Loss: 0.0014, Val Loss: 0.0063\n",
            "Epoch 947/1000 completed in 0.50 seconds.\n",
            "Epoch [948/1000], Train Loss: 0.0015, Val Loss: 0.0067\n",
            "Epoch 948/1000 completed in 0.48 seconds.\n",
            "Epoch [949/1000], Train Loss: 0.0018, Val Loss: 0.0061\n",
            "Epoch 949/1000 completed in 0.50 seconds.\n",
            "Epoch [950/1000], Train Loss: 0.0015, Val Loss: 0.0068\n",
            "Epoch 950/1000 completed in 0.49 seconds.\n",
            "Epoch [951/1000], Train Loss: 0.0014, Val Loss: 0.0089\n",
            "Epoch 951/1000 completed in 0.50 seconds.\n",
            "Epoch [952/1000], Train Loss: 0.0015, Val Loss: 0.0060\n",
            "Epoch 952/1000 completed in 0.51 seconds.\n",
            "Epoch [953/1000], Train Loss: 0.0015, Val Loss: 0.0039\n",
            "Epoch 953/1000 completed in 0.49 seconds.\n",
            "Epoch [954/1000], Train Loss: 0.0016, Val Loss: 0.0046\n",
            "Epoch 954/1000 completed in 0.51 seconds.\n",
            "Epoch [955/1000], Train Loss: 0.0013, Val Loss: 0.0046\n",
            "Epoch 955/1000 completed in 0.50 seconds.\n",
            "Epoch [956/1000], Train Loss: 0.0014, Val Loss: 0.0064\n",
            "Epoch 956/1000 completed in 0.51 seconds.\n",
            "Epoch [957/1000], Train Loss: 0.0017, Val Loss: 0.0061\n",
            "Epoch 957/1000 completed in 0.48 seconds.\n",
            "Epoch [958/1000], Train Loss: 0.0014, Val Loss: 0.0059\n",
            "Epoch 958/1000 completed in 0.61 seconds.\n",
            "Epoch [959/1000], Train Loss: 0.0015, Val Loss: 0.0077\n",
            "Epoch 959/1000 completed in 0.65 seconds.\n",
            "Epoch [960/1000], Train Loss: 0.0015, Val Loss: 0.0050\n",
            "Epoch 960/1000 completed in 0.72 seconds.\n",
            "Epoch [961/1000], Train Loss: 0.0018, Val Loss: 0.0051\n",
            "Epoch 961/1000 completed in 0.73 seconds.\n",
            "Epoch [962/1000], Train Loss: 0.0016, Val Loss: 0.0048\n",
            "Epoch 962/1000 completed in 0.51 seconds.\n",
            "Epoch [963/1000], Train Loss: 0.0014, Val Loss: 0.0072\n",
            "Epoch 963/1000 completed in 0.49 seconds.\n",
            "Epoch [964/1000], Train Loss: 0.0014, Val Loss: 0.0076\n",
            "Epoch 964/1000 completed in 0.54 seconds.\n",
            "Epoch [965/1000], Train Loss: 0.0014, Val Loss: 0.0080\n",
            "Epoch 965/1000 completed in 0.49 seconds.\n",
            "Epoch [966/1000], Train Loss: 0.0013, Val Loss: 0.0066\n",
            "Epoch 966/1000 completed in 0.50 seconds.\n",
            "Epoch [967/1000], Train Loss: 0.0015, Val Loss: 0.0065\n",
            "Epoch 967/1000 completed in 0.50 seconds.\n",
            "Epoch [968/1000], Train Loss: 0.0015, Val Loss: 0.0066\n",
            "Epoch 968/1000 completed in 0.50 seconds.\n",
            "Epoch [969/1000], Train Loss: 0.0015, Val Loss: 0.0047\n",
            "Epoch 969/1000 completed in 0.50 seconds.\n",
            "Epoch [970/1000], Train Loss: 0.0015, Val Loss: 0.0055\n",
            "Epoch 970/1000 completed in 0.50 seconds.\n",
            "Epoch [971/1000], Train Loss: 0.0014, Val Loss: 0.0068\n",
            "Epoch 971/1000 completed in 0.51 seconds.\n",
            "Epoch [972/1000], Train Loss: 0.0012, Val Loss: 0.0061\n",
            "Epoch 972/1000 completed in 0.51 seconds.\n",
            "Epoch [973/1000], Train Loss: 0.0014, Val Loss: 0.0072\n",
            "Epoch 973/1000 completed in 0.50 seconds.\n",
            "Epoch [974/1000], Train Loss: 0.0014, Val Loss: 0.0058\n",
            "Epoch 974/1000 completed in 0.51 seconds.\n",
            "Epoch [975/1000], Train Loss: 0.0018, Val Loss: 0.0067\n",
            "Epoch 975/1000 completed in 0.50 seconds.\n",
            "Epoch [976/1000], Train Loss: 0.0014, Val Loss: 0.0068\n",
            "Epoch 976/1000 completed in 0.49 seconds.\n",
            "Epoch [977/1000], Train Loss: 0.0014, Val Loss: 0.0059\n",
            "Epoch 977/1000 completed in 0.50 seconds.\n",
            "Epoch [978/1000], Train Loss: 0.0015, Val Loss: 0.0068\n",
            "Epoch 978/1000 completed in 0.53 seconds.\n",
            "Epoch [979/1000], Train Loss: 0.0016, Val Loss: 0.0054\n",
            "Epoch 979/1000 completed in 0.55 seconds.\n",
            "Epoch [980/1000], Train Loss: 0.0017, Val Loss: 0.0064\n",
            "Epoch 980/1000 completed in 0.66 seconds.\n",
            "Epoch [981/1000], Train Loss: 0.0015, Val Loss: 0.0085\n",
            "Epoch 981/1000 completed in 0.68 seconds.\n",
            "Epoch [982/1000], Train Loss: 0.0015, Val Loss: 0.0084\n",
            "Epoch 982/1000 completed in 0.73 seconds.\n",
            "Epoch [983/1000], Train Loss: 0.0014, Val Loss: 0.0051\n",
            "Epoch 983/1000 completed in 0.54 seconds.\n",
            "Epoch [984/1000], Train Loss: 0.0014, Val Loss: 0.0057\n",
            "Epoch 984/1000 completed in 0.50 seconds.\n",
            "Epoch [985/1000], Train Loss: 0.0015, Val Loss: 0.0071\n",
            "Epoch 985/1000 completed in 0.51 seconds.\n",
            "Epoch [986/1000], Train Loss: 0.0014, Val Loss: 0.0069\n",
            "Epoch 986/1000 completed in 0.50 seconds.\n",
            "Epoch [987/1000], Train Loss: 0.0014, Val Loss: 0.0072\n",
            "Epoch 987/1000 completed in 0.50 seconds.\n",
            "Epoch [988/1000], Train Loss: 0.0014, Val Loss: 0.0060\n",
            "Epoch 988/1000 completed in 0.51 seconds.\n",
            "Epoch [989/1000], Train Loss: 0.0015, Val Loss: 0.0064\n",
            "Epoch 989/1000 completed in 0.51 seconds.\n",
            "Epoch [990/1000], Train Loss: 0.0019, Val Loss: 0.0086\n",
            "Epoch 990/1000 completed in 0.52 seconds.\n",
            "Epoch [991/1000], Train Loss: 0.0014, Val Loss: 0.0070\n",
            "Epoch 991/1000 completed in 0.51 seconds.\n",
            "Epoch [992/1000], Train Loss: 0.0013, Val Loss: 0.0081\n",
            "Epoch 992/1000 completed in 0.51 seconds.\n",
            "Epoch [993/1000], Train Loss: 0.0015, Val Loss: 0.0057\n",
            "Epoch 993/1000 completed in 0.49 seconds.\n",
            "Epoch [994/1000], Train Loss: 0.0013, Val Loss: 0.0078\n",
            "Epoch 994/1000 completed in 0.51 seconds.\n",
            "Epoch [995/1000], Train Loss: 0.0015, Val Loss: 0.0069\n",
            "Epoch 995/1000 completed in 0.51 seconds.\n",
            "Epoch [996/1000], Train Loss: 0.0014, Val Loss: 0.0067\n",
            "Epoch 996/1000 completed in 0.51 seconds.\n",
            "Epoch [997/1000], Train Loss: 0.0013, Val Loss: 0.0090\n",
            "Epoch 997/1000 completed in 0.51 seconds.\n",
            "Epoch [998/1000], Train Loss: 0.0017, Val Loss: 0.0076\n",
            "Epoch 998/1000 completed in 0.50 seconds.\n",
            "Epoch [999/1000], Train Loss: 0.0014, Val Loss: 0.0069\n",
            "Epoch 999/1000 completed in 0.52 seconds.\n",
            "Epoch [1000/1000], Train Loss: 0.0015, Val Loss: 0.0073\n",
            "Epoch 1000/1000 completed in 0.50 seconds.\n",
            "Total training time: 532.96 seconds.\n",
            "Model saved: best_model_with_losses.pth\n"
          ]
        }
      ],
      "source": [
        "import time\n",
        "import torch\n",
        "\n",
        "best_model.train()\n",
        "total_train_time = 0  # 총 학습 시간 기록 변수\n",
        "\n",
        "train_losses = [] # 손실 저장할 리스트\n",
        "val_losses = []\n",
        "\n",
        "for epoch in range(num_epochs):  # 최종 모델 학습\n",
        "    best_model.train()\n",
        "    train_loss = 0.0\n",
        "    epoch_start_time = time.time()  # 에포크 시작 시간 기록\n",
        "    for batch_x, batch_y in train_loader:\n",
        "        batch_x = batch_x.to(device)  # 입력 데이터 차원 조정\n",
        "        batch_y = batch_y.to(device)\n",
        "        optimizer.zero_grad()\n",
        "        output = best_model(batch_x)\n",
        "        loss = criterion(output, batch_y)\n",
        "        loss.backward()\n",
        "        optimizer.step()\n",
        "        train_loss += loss.item()\n",
        "\n",
        "    epoch_end_time = time.time()  # 에포크 종료 시간 기록\n",
        "    epoch_duration = epoch_end_time - epoch_start_time  # 한 에포크의 학습 시간\n",
        "    total_train_time += epoch_duration  # 총 학습 시간에 추가\n",
        "\n",
        "    # Validation set에서 성능 측정\n",
        "    best_model.eval()\n",
        "    val_loss = 0\n",
        "    with torch.no_grad():\n",
        "        for batch_x, batch_y in val_loader:\n",
        "            batch_x, batch_y = batch_x.to(device), batch_y.to(device)  # 입력 데이터 차원 조정\n",
        "            output = best_model(batch_x)\n",
        "            loss = criterion(output, batch_y)\n",
        "            val_loss += loss.item()\n",
        "\n",
        "    train_losses.append(train_loss)\n",
        "    val_losses.append(val_loss)\n",
        "\n",
        "    print(f'Epoch [{epoch+1}/{num_epochs}], Train Loss: {train_loss:.4f}, Val Loss: {val_loss:.4f}')\n",
        "    print(f\"Epoch {epoch+1}/{num_epochs} completed in {epoch_duration:.2f} seconds.\")\n",
        "\n",
        "print(f\"Total training time: {total_train_time:.2f} seconds.\")\n",
        "\n",
        "# Model Save\n",
        "model_save_path = f\"best_model_with_losses.pth\"\n",
        "torch.save({\n",
        "    'model_state_dict': best_model.state_dict(),\n",
        "    'train_losses': train_losses,\n",
        "    'val_losses': val_losses\n",
        "    }, model_save_path)\n",
        "print(f\"Model saved: {model_save_path}\")\n"
      ]
    },
    {
      "cell_type": "markdown",
      "metadata": {
        "id": "AGPG9wMU66vB"
      },
      "source": [
        "### 3. 모델 요약 내용 출력"
      ]
    },
    {
      "cell_type": "code",
      "execution_count": null,
      "metadata": {
        "colab": {
          "base_uri": "https://localhost:8080/"
        },
        "id": "dtvUWEC8pdJb",
        "outputId": "411b9174-4c25-4752-f8fc-15b211254453"
      },
      "outputs": [
        {
          "output_type": "execute_result",
          "data": {
            "text/plain": [
              "===============================================================================================\n",
              "Layer (type:depth-idx)                        Output Shape              Param #\n",
              "===============================================================================================\n",
              "TransformerModel                              [1, 3]                    --\n",
              "├─Linear: 1-1                                 [1, 10, 270]              1,080\n",
              "├─PositionalEncoding: 1-2                     [1, 10, 270]              --\n",
              "├─TransformerEncoder: 1-3                     [10, 1, 270]              --\n",
              "│    └─ModuleList: 2-1                        --                        --\n",
              "│    │    └─TransformerEncoderLayer: 3-1      [10, 1, 270]              487,167\n",
              "│    │    └─TransformerEncoderLayer: 3-2      [10, 1, 270]              487,167\n",
              "├─Linear: 1-4                                 [10, 1, 3]                813\n",
              "===============================================================================================\n",
              "Total params: 976,227\n",
              "Trainable params: 976,227\n",
              "Non-trainable params: 0\n",
              "Total mult-adds (M): 3.90\n",
              "===============================================================================================\n",
              "Input size (MB): 0.00\n",
              "Forward/backward pass size (MB): 0.21\n",
              "Params size (MB): 1.56\n",
              "Estimated Total Size (MB): 1.77\n",
              "==============================================================================================="
            ]
          },
          "metadata": {},
          "execution_count": 43
        }
      ],
      "source": [
        "from torchinfo import summary\n",
        "\n",
        "summary(best_model, (1, 10, 3), device=device)"
      ]
    },
    {
      "cell_type": "markdown",
      "metadata": {
        "id": "niiMUsYNy2Xy"
      },
      "source": [
        "## 테스트"
      ]
    },
    {
      "cell_type": "markdown",
      "metadata": {
        "id": "5-lJAmjGyx4w"
      },
      "source": [
        "### 1. 테스트 결과 생성"
      ]
    },
    {
      "cell_type": "code",
      "execution_count": null,
      "metadata": {
        "colab": {
          "base_uri": "https://localhost:8080/"
        },
        "id": "jZx_NHjT8ugM",
        "outputId": "68b5a8bc-0d79-4f58-d0ad-bd266426a147"
      },
      "outputs": [
        {
          "output_type": "stream",
          "name": "stdout",
          "text": [
            "Mean Squared Error (MSE): 4.3271782487863675e-05\n",
            "Mean Absolute Error (MAE): 0.0048223319463431835\n"
          ]
        }
      ],
      "source": [
        "import numpy as np\n",
        "from sklearn.metrics import mean_squared_error, mean_absolute_error\n",
        "import torch\n",
        "\n",
        "# 모델 예측 및 성능 평가\n",
        "best_model.eval()\n",
        "device = torch.device('cuda' if torch.cuda.is_available() else 'cpu')\n",
        "\n",
        "test_loss = 0\n",
        "y_true_list = []\n",
        "y_pred_list = []\n",
        "\n",
        "with torch.no_grad():\n",
        "    for batch_x, batch_y in test_loader:\n",
        "        batch_x = batch_x.to(device)\n",
        "        batch_y = batch_y.to(device)\n",
        "\n",
        "        # 예측 수행\n",
        "        output = best_model(batch_x)\n",
        "\n",
        "        # 손실 계산\n",
        "        loss = criterion(output, batch_y)\n",
        "        test_loss += loss.item()\n",
        "\n",
        "        # 예측값과 실제값 저장\n",
        "        y_pred_list.append(output.cpu().numpy())  # 예측값을 CPU로 이동하여 numpy 배열로 변환\n",
        "        y_true_list.append(batch_y.cpu().numpy())  # 실제값을 CPU로 이동하여 numpy 배열로 변환\n",
        "\n",
        "# 리스트를 numpy 배열로 변환\n",
        "y_pred = np.concatenate(y_pred_list, axis=0)\n",
        "y_true = np.concatenate(y_true_list, axis=0)\n",
        "\n",
        "# 성능 평가\n",
        "mse = mean_squared_error(y_true, y_pred)\n",
        "mae = mean_absolute_error(y_true, y_pred)\n",
        "\n",
        "print(f'Mean Squared Error (MSE): {mse}')\n",
        "print(f'Mean Absolute Error (MAE): {mae}')"
      ]
    },
    {
      "cell_type": "markdown",
      "metadata": {
        "id": "vet2WrIsdUL_"
      },
      "source": [
        "### 2. 결과 시각화"
      ]
    },
    {
      "cell_type": "code",
      "execution_count": null,
      "metadata": {
        "colab": {
          "base_uri": "https://localhost:8080/",
          "height": 675
        },
        "id": "xc_TdEFadJRk",
        "outputId": "05958606-5f74-4241-ecee-d1f937e4c938"
      },
      "outputs": [
        {
          "output_type": "display_data",
          "data": {
            "text/plain": [
              "<Figure size 1200x800 with 1 Axes>"
            ],
            "image/png": "[encoded data removed]"
          },
          "metadata": {}
        }
      ],
      "source": [
        "prediction_visualization(y_true, y_pred)"
      ]
    },
    {
      "cell_type": "markdown",
      "metadata": {
        "id": "F_CgxYsm9cJS"
      },
      "source": [
        "#### 3. raw 데이터와 predict 데이터 비교"
      ]
    },
    {
      "cell_type": "code",
      "execution_count": null,
      "metadata": {
        "colab": {
          "base_uri": "https://localhost:8080/",
          "height": 675
        },
        "id": "HTosdwF2-dBe",
        "outputId": "e8a188c6-1ed7-4e8d-e0e3-cb928bab95ea"
      },
      "outputs": [
        {
          "output_type": "display_data",
          "data": {
            "text/plain": [
              "<Figure size 1200x800 with 1 Axes>"
            ],
            "image/png": "[encoded data removed]"
          },
          "metadata": {}
        }
      ],
      "source": [
        "y_pred_original = scaler.inverse_transform(y_pred)\n",
        "\n",
        "y_test_original = scaler.inverse_transform(y_true.reshape(-1, 3))\n",
        "\n",
        "prediction_visualization(y_test_original, y_pred_original)"
      ]
    },
    {
      "cell_type": "code",
      "execution_count": null,
      "metadata": {
        "id": "uUxl3o630igS"
      },
      "outputs": [],
      "source": [
        "# plot_trajectory(train_data, val_data, test_data)"
      ]
    },
    {
      "cell_type": "markdown",
      "metadata": {
        "id": "Tvfx-SH-m0xI"
      },
      "source": [
        "## Compare Models\n"
      ]
    },
    {
      "cell_type": "markdown",
      "metadata": {
        "id": "wdW6xDBIoDB9"
      },
      "source": [
        "### Model 비교 그래프"
      ]
    },
    {
      "cell_type": "code",
      "execution_count": null,
      "metadata": {
        "id": "xrCYnEP8nvH9"
      },
      "outputs": [],
      "source": [
        "import matplotlib.pyplot as plt\n",
        "import seaborn as sns\n",
        "import pandas as pd\n",
        "\n",
        "def plot_model_comparison(df, num_epochs, y_limits = [0, 0.01]):\n",
        "\n",
        "    # 그래프 설정\n",
        "    if num_epochs == 50:\n",
        "        xticks_interval = 10\n",
        "    elif num_epochs == 100:\n",
        "        xticks_interval = 20\n",
        "    elif num_epochs == 150:\n",
        "        xticks_interval = 30\n",
        "    else:\n",
        "        xticks_interval = num_epochs // 5  # 에포크 수에 따라 5개로 구분\n",
        "\n",
        "    # 색상 지정\n",
        "    colors = ['#1f77b4', '#ff7f0e', '#2ca02c']\n",
        "\n",
        "    sns.set(style=\"whitegrid\")\n",
        "\n",
        "    fig, axs = plt.subplots(1, 2, figsize=(20, 6))\n",
        "\n",
        "    # Plot Train Loss\n",
        "    axs[0].plot(df['epoch'], df['train_loss_1'], label='LSTM', color=colors[0], marker='o', markevery=[-1])\n",
        "    axs[0].plot(df['epoch'], df['train_loss_2'], label='GRU', color=colors[1], marker='o', markevery=[-1])\n",
        "    axs[0].plot(df['epoch'], df['train_loss_3'], label='Transformer', color=colors[2], marker='o', markevery=[-1])\n",
        "    axs[0].set_title('Train Loss')\n",
        "    axs[0].set_xlabel('epochs')\n",
        "    axs[0].set_ylabel('Loss')\n",
        "    axs[0].set_xticks(range(0, num_epochs + 1, xticks_interval))  # x축 tick 설정\n",
        "    axs[0].legend()\n",
        "    axs[0].yaxis.grid(False)  # 가로줄 끄기\n",
        "    axs[0].xaxis.grid(False)  # 세로줄 끄기\n",
        "\n",
        "    # Y축 수동 설정\n",
        "    if y_limits:\n",
        "        axs[0].set_ylim(y_limits[0], y_limits[1])\n",
        "\n",
        "    # Plot Valid Loss\n",
        "    axs[1].plot(df['epoch'], df['valid_loss_1'], label='LSTM', color=colors[0], marker='o', markevery=[-1])\n",
        "    axs[1].plot(df['epoch'], df['valid_loss_2'], label='GRU', color=colors[1], marker='o', markevery=[-1])\n",
        "    axs[1].plot(df['epoch'], df['valid_loss_3'], label='Transformer', color=colors[2], marker='o', markevery=[-1])\n",
        "    axs[1].set_title('Valid Loss')\n",
        "    axs[1].set_xlabel('epochs')\n",
        "    axs[1].set_ylabel('Loss')\n",
        "    axs[1].set_xticks(range(0, num_epochs + 1, xticks_interval))\n",
        "    axs[1].legend()\n",
        "    axs[1].yaxis.grid(False)  # 가로줄 끄기\n",
        "    axs[1].xaxis.grid(False)  # 세로줄 끄기\n",
        "\n",
        "    # Y축 수동 설정\n",
        "    if y_limits:\n",
        "        axs[1].set_ylim(y_limits[0], y_limits[1])\n",
        "\n",
        "    # Adjust layout\n",
        "    plt.tight_layout()\n",
        "    plt.show()"
      ]
    },
    {
      "cell_type": "markdown",
      "metadata": {
        "id": "8DvGrbPV5K8q"
      },
      "source": [
        "### 모델 불러오기"
      ]
    },
    {
      "cell_type": "code",
      "execution_count": null,
      "metadata": {
        "colab": {
          "base_uri": "https://localhost:8080/"
        },
        "id": "-CQZqxjzm22p",
        "outputId": "be1bb6f1-49f6-48ca-f7dd-a2a4401b9360"
      },
      "outputs": [
        {
          "output_type": "stream",
          "name": "stdout",
          "text": [
            "dict_keys(['model_state_dict', 'train_losses', 'val_losses'])\n"
          ]
        },
        {
          "output_type": "stream",
          "name": "stderr",
          "text": [
            "<ipython-input-49-e515cb1842c9>:1: FutureWarning: You are using `torch.load` with `weights_only=False` (the current default value), which uses the default pickle module implicitly. It is possible to construct malicious pickle data which will execute arbitrary code during unpickling (See https://github.com/pytorch/pytorch/blob/main/SECURITY.md#untrusted-models for more details). In a future release, the default value for `weights_only` will be flipped to `True`. This limits the functions that could be executed during unpickling. Arbitrary objects will no longer be allowed to be loaded via this mode unless they are explicitly allowlisted by the user via `torch.serialization.add_safe_globals`. We recommend you start setting `weights_only=True` for any use case where you don't have full control of the loaded file. Please open an issue on GitHub for any issues related to this experimental feature.\n",
            "  transformer_checkpoint = torch.load('best_model_with_losses.pth')\n"
          ]
        }
      ],
      "source": [
        "transformer_checkpoint = torch.load('best_model_with_losses.pth')\n",
        "# lstm_checkpoint = torch.load('lstm.pth')\n",
        "# gru_checkpoint = torch.load('gru.pth')\n",
        "\n",
        "print(transformer_checkpoint.keys())\n",
        "# print(lstm_checkpoint.keys())\n",
        "# print(gru_checkpoint.keys())\n",
        "\n",
        "transformer_train_losses = transformer_checkpoint['train_losses']\n",
        "transformer_val_losses = transformer_checkpoint['val_losses']\n",
        "\n",
        "# lstm_train_losses = lstm_checkpoint['train_losses']\n",
        "# lstm_val_losses = lstm_checkpoint['val_losses']\n",
        "\n",
        "# gru_train_losses = gru_checkpoint['train_losses']\n",
        "# gru_val_losses = gru_checkpoint['val_losses']\n",
        "\n",
        "# 손실 값 확인\n",
        "# print(f\"Train Losses: {transformer_train_losses[:5]}\")\n",
        "# print(f\"Validation Losses: {transformer_val_losses[:5]}\")"
      ]
    },
    {
      "cell_type": "markdown",
      "metadata": {
        "id": "VhWiMGuoHp76"
      },
      "source": [
        "### Val, Test data LOSS"
      ]
    },
    {
      "cell_type": "code",
      "execution_count": null,
      "metadata": {
        "id": "QtPKcwVhHv9f"
      },
      "outputs": [],
      "source": [
        "import matplotlib.pyplot as plt\n",
        "import seaborn as sns\n",
        "\n",
        "\n",
        "def plot_losses(train_losses, val_losses, y_limits=None):\n",
        "    epochs = range(1, len(train_losses) + 1)\n",
        "\n",
        "    plt.figure(figsize=(10, 6))\n",
        "    sns.set(style=\"whitegrid\")\n",
        "\n",
        "    # Y축 수동 설정 (옵션)\n",
        "    if y_limits:\n",
        "        plt.ylim(y_limits[0], y_limits[1])\n",
        "\n",
        "    plt.plot(epochs, train_losses, label='Training Loss', color='b')\n",
        "    plt.plot(epochs, val_losses, label='Validation Loss', color='r')\n",
        "\n",
        "    plt.xlabel('Epochs', fontsize=12)\n",
        "    plt.ylabel('Loss', fontsize=12)\n",
        "    plt.title('Training and Validation Loss per Epoch', fontsize=14)\n",
        "    plt.legend()\n",
        "\n",
        "    plt.tight_layout()\n",
        "    plt.show()\n"
      ]
    },
    {
      "cell_type": "code",
      "execution_count": null,
      "metadata": {
        "colab": {
          "base_uri": "https://localhost:8080/",
          "height": 637
        },
        "id": "4QKvdrmgJN6v",
        "outputId": "48e45d2d-16f7-4efa-f623-c3c4eb11e5f9"
      },
      "outputs": [
        {
          "output_type": "display_data",
          "data": {
            "text/plain": [
              "<Figure size 1000x600 with 1 Axes>"
            ],
            "image/png": "[encoded data removed]"
          },
          "metadata": {}
        },
        {
          "output_type": "stream",
          "name": "stdout",
          "text": [
            "1000\n",
            "1000\n"
          ]
        }
      ],
      "source": [
        "plot_losses(transformer_train_losses, transformer_val_losses, y_limits = (0, 0.03))\n"
      ]
    },
    {
      "cell_type": "markdown",
      "metadata": {
        "id": "XuYG9tLc5NPj"
      },
      "source": [
        "### 데이터 수집"
      ]
    },
    {
      "cell_type": "code",
      "execution_count": null,
      "metadata": {
        "id": "2W9JXDDi1CdE"
      },
      "outputs": [],
      "source": [
        "num_epochs=300\n",
        "data = {\n",
        "    'epoch': list(range(1, num_epochs + 1)),  # 실제 에포크 수만큼\n",
        "    # 'train_loss_1': lstm_train_losses,\n",
        "    'train_loss_2': [x * 0.2 for x in transformer_train_losses],\n",
        "    'train_loss_3': transformer_train_losses,\n",
        "    # 'valid_loss_1': lstm_val_losses,\n",
        "    'valid_loss_2': [x * 0 for x in transformer_val_losses],\n",
        "    'valid_loss_3': transformer_val_losses\n",
        "}"
      ]
    },
    {
      "cell_type": "markdown",
      "metadata": {
        "id": "dQoZ6VmA5PU2"
      },
      "source": [
        "### 모델 비교 그래프 그리기"
      ]
    }
  ],
  "metadata": {
    "accelerator": "GPU",
    "colab": {
      "collapsed_sections": [
        "m9WrRVLYlLra",
        "G_Y5diT0_CK5",
        "RsoiT-rUcsbi",
        "wlwsWq26Gf5V"
      ],
      "gpuType": "T4",
      "provenance": []
    },
    "kernelspec": {
      "display_name": "Python 3",
      "name": "python3"
    },
    "language_info": {
      "name": "python",
      "version": "3.12.4"
    }
  },
  "nbformat": 4,
  "nbformat_minor": 0
}