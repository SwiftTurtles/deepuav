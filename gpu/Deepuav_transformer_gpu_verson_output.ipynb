{
 "cells": [
  {
   "cell_type": "code",
   "execution_count": 1,
   "metadata": {
    "colab": {
     "base_uri": "https://localhost:8080/"
    },
    "execution": {
     "iopub.execute_input": "2024-10-21T03:32:17.151645Z",
     "iopub.status.busy": "2024-10-21T03:32:17.151146Z",
     "iopub.status.idle": "2024-10-21T03:32:17.157164Z",
     "shell.execute_reply": "2024-10-21T03:32:17.156282Z"
    },
    "id": "jsXWnc9abSrT",
    "outputId": "1f651520-f9c5-4db1-da46-b4db92bfec9b"
   },
   "outputs": [],
   "source": [
    " # from google.colab import drive\n",
    "# drive.mount('/content/drive')"
   ]
  },
  {
   "cell_type": "markdown",
   "metadata": {
    "id": "m9WrRVLYlLra"
   },
   "source": [
    "### 패키지 설치 & 라이브러리 import"
   ]
  },
  {
   "cell_type": "code",
   "execution_count": 2,
   "metadata": {
    "colab": {
     "base_uri": "https://localhost:8080/"
    },
    "execution": {
     "iopub.execute_input": "2024-10-21T03:32:17.160883Z",
     "iopub.status.busy": "2024-10-21T03:32:17.160560Z",
     "iopub.status.idle": "2024-10-21T03:32:17.164128Z",
     "shell.execute_reply": "2024-10-21T03:32:17.163431Z"
    },
    "id": "2lPMKbVWF2Gq",
    "outputId": "8d3cd4cc-b1c9-48d7-d657-bb91c7d72e38"
   },
   "outputs": [],
   "source": [
    "# !pip install optuna\n",
    "# !pip install torchinfo"
   ]
  },
  {
   "cell_type": "code",
   "execution_count": 3,
   "metadata": {
    "execution": {
     "iopub.execute_input": "2024-10-21T03:32:17.167603Z",
     "iopub.status.busy": "2024-10-21T03:32:17.167227Z",
     "iopub.status.idle": "2024-10-21T03:32:19.257363Z",
     "shell.execute_reply": "2024-10-21T03:32:19.256404Z"
    },
    "id": "gKd7dfaTPzbm"
   },
   "outputs": [],
   "source": [
    "import torch\n",
    "import torch.nn as nn\n",
    "from torch.utils.data import TensorDataset, DataLoader"
   ]
  },
  {
   "cell_type": "markdown",
   "metadata": {
    "id": "G_Y5diT0_CK5"
   },
   "source": [
    "## 전체 공통 함수"
   ]
  },
  {
   "cell_type": "markdown",
   "metadata": {
    "id": "Ng0CFeAZyxl2"
   },
   "source": [
    "### 1. 데이터 보간 함수"
   ]
  },
  {
   "cell_type": "markdown",
   "metadata": {
    "id": "wk6vfDy4zsh_"
   },
   "source": [
    "- 데이터의 시간 간격을 0.5초의 등간격으로 맞추고 그에 따른 좌표 값을 보간함\n",
    "- 가장 많이 사용되는 3차 스플라인 보간 적용"
   ]
  },
  {
   "cell_type": "code",
   "execution_count": 4,
   "metadata": {
    "execution": {
     "iopub.execute_input": "2024-10-21T03:32:19.262507Z",
     "iopub.status.busy": "2024-10-21T03:32:19.262090Z",
     "iopub.status.idle": "2024-10-21T03:32:19.940592Z",
     "shell.execute_reply": "2024-10-21T03:32:19.939317Z"
    },
    "id": "MbOt2kIkQg_7"
   },
   "outputs": [],
   "source": [
    "from scipy.interpolate import interp1d\n",
    "import numpy as np\n",
    "import matplotlib.pyplot as plt\n",
    "\n",
    "# 데이터 보간 - 위도, 고도, 경도 값을 0.5초 시간 간격으로 보간\n",
    "def spline_interpolation(x, y):\n",
    "    # x: 보간할 데이터의 x 값 (시간)\n",
    "    # y: 보간할 데이터의 y 값 (위도, 고도, 경도)\n",
    "\n",
    "    # 3차 스플라인 보간 함수 생성\n",
    "    f = interp1d(x, y, kind='cubic')\n",
    "\n",
    "    # 시간 범위 설정\n",
    "    start_time = min(x)\n",
    "    end_time = max(x)\n",
    "\n",
    "    # 0.5초 간격의 시간 배열을 생성\n",
    "    new_x = np.arange(start_time, end_time, 0.5)\n",
    "\n",
    "    # 위도, 경도, 고도 보간\n",
    "    new_y = f(new_x)\n",
    "\n",
    "    return new_x, new_y"
   ]
  },
  {
   "cell_type": "markdown",
   "metadata": {
    "id": "1LTSh1vXy1fg"
   },
   "source": [
    "### 2. 시퀀스 나누는 함수"
   ]
  },
  {
   "cell_type": "markdown",
   "metadata": {
    "id": "lWB9uZyCz1Ro"
   },
   "source": [
    "- 학습을 위해 데이터를 시퀀스 형태로 나눔\n",
    "- look back과 forward에 따라 학습에 사용될 x값의 구간과 y값을 반환함\n",
    "- 초기 look back은 10, forward는 0이다."
   ]
  },
  {
   "cell_type": "code",
   "execution_count": 5,
   "metadata": {
    "execution": {
     "iopub.execute_input": "2024-10-21T03:32:19.944757Z",
     "iopub.status.busy": "2024-10-21T03:32:19.944408Z",
     "iopub.status.idle": "2024-10-21T03:32:19.950397Z",
     "shell.execute_reply": "2024-10-21T03:32:19.949440Z"
    },
    "id": "_kmQ-_EyGFpW"
   },
   "outputs": [],
   "source": [
    "# 시퀀스 생성 함수\n",
    "# look back : 10 (5초간의 위도, 고도, 경도 데이터를 x값으로 사용)\n",
    "# forward : 0 (0.5초 뒤의 위도, 고도, 경도 데이터를 y값으로 사용)\n",
    "def create_sequences(df, look_back=10, forward=0):\n",
    "    xs = []\n",
    "    ys = []\n",
    "    for i in range(len(df) - look_back - forward):\n",
    "        x = df.iloc[i:(i+look_back)].values\n",
    "        y = df.iloc[i+look_back+forward].values\n",
    "        xs.append(x)\n",
    "        ys.append(y)\n",
    "    return np.array(xs), np.array(ys)"
   ]
  },
  {
   "cell_type": "markdown",
   "metadata": {
    "id": "eOFln2pmy4pt"
   },
   "source": [
    "### 3. 시간 소수점 절사 함수"
   ]
  },
  {
   "cell_type": "markdown",
   "metadata": {
    "id": "CDwOPPA05KGE"
   },
   "source": [
    "- 불필요한 시간 소수점 제거"
   ]
  },
  {
   "cell_type": "code",
   "execution_count": 6,
   "metadata": {
    "execution": {
     "iopub.execute_input": "2024-10-21T03:32:19.953891Z",
     "iopub.status.busy": "2024-10-21T03:32:19.953483Z",
     "iopub.status.idle": "2024-10-21T03:32:19.959293Z",
     "shell.execute_reply": "2024-10-21T03:32:19.958185Z"
    },
    "id": "CFiscMuBSycb"
   },
   "outputs": [],
   "source": [
    "import math\n",
    "\n",
    "# 시간 소수점 절사 함수\n",
    "def truncation(df):\n",
    "    new_time = []\n",
    "\n",
    "    for a in df['time']:\n",
    "      new_time.append(math.floor(a * 10) / 10)\n",
    "\n",
    "    df['time'] = new_time\n",
    "\n",
    "    return df"
   ]
  },
  {
   "cell_type": "markdown",
   "metadata": {
    "id": "-rOFnV17y8Q-"
   },
   "source": [
    "### 4. 스케일링 함수"
   ]
  },
  {
   "cell_type": "markdown",
   "metadata": {
    "id": "442iH9qd_UIt"
   },
   "source": [
    "- MinMaxScaling 적용 함수\n"
   ]
  },
  {
   "cell_type": "code",
   "execution_count": 7,
   "metadata": {
    "execution": {
     "iopub.execute_input": "2024-10-21T03:32:19.962864Z",
     "iopub.status.busy": "2024-10-21T03:32:19.962405Z",
     "iopub.status.idle": "2024-10-21T03:32:20.175243Z",
     "shell.execute_reply": "2024-10-21T03:32:20.174063Z"
    },
    "id": "zR9B-lKYNgs8"
   },
   "outputs": [],
   "source": [
    "from sklearn.preprocessing import MinMaxScaler\n",
    "\n",
    "# MinMaxScaling 적용 함수\n",
    "def min_max_scaling(df):\n",
    "\n",
    "    # time 삭제 df 생성\n",
    "    mid_df=df.drop(columns='time')\n",
    "\n",
    "    min_max_scaler = MinMaxScaler()\n",
    "    min_max_scaler.fit(mid_df)\n",
    "\n",
    "    min_max_data = min_max_scaler.transform(mid_df)\n",
    "\n",
    "    new_data = pd.DataFrame(min_max_data)\n",
    "\n",
    "    # time 추가\n",
    "    new_data.insert(0, 'time', df['time'])\n",
    "\n",
    "    # 나머지 열의 이름 가져오기\n",
    "    column_names = mid_df.columns.tolist()\n",
    "\n",
    "    column_names.insert(0, 'time')\n",
    "\n",
    "    print(column_names)\n",
    "\n",
    "    # 새로운 데이터프레임에 열 이름 설정\n",
    "    new_data.columns = column_names\n",
    "\n",
    "    return min_max_scaler, new_data"
   ]
  },
  {
   "cell_type": "markdown",
   "metadata": {
    "id": "Sa6ydGidy_CI"
   },
   "source": [
    "### 5. train/validation/test 분리 함수"
   ]
  },
  {
   "cell_type": "markdown",
   "metadata": {
    "id": "Ii6xjYd3A7YK"
   },
   "source": [
    "- Train, Validation, Test 데이터셋을 분리하는 함수이다.\n",
    "- 각각의 비율은 6:2:2 이다."
   ]
  },
  {
   "cell_type": "code",
   "execution_count": 8,
   "metadata": {
    "execution": {
     "iopub.execute_input": "2024-10-21T03:32:20.179465Z",
     "iopub.status.busy": "2024-10-21T03:32:20.179116Z",
     "iopub.status.idle": "2024-10-21T03:32:20.211372Z",
     "shell.execute_reply": "2024-10-21T03:32:20.210451Z"
    },
    "id": "mXJlnnQq7FgL"
   },
   "outputs": [],
   "source": [
    "from sklearn.model_selection import train_test_split\n",
    "\n",
    "# train/validation/test 분리 함수\n",
    "def split_train_val_test(df, test_size=0.2, val_size=0.25):\n",
    "\n",
    "    #Train, Test 분류\n",
    "    train_val_df, test_df = train_test_split(df, test_size=test_size, shuffle=False)\n",
    "\n",
    "    #Train, Validation 분류\n",
    "    train_df, val_df = train_test_split(train_val_df, test_size=val_size, shuffle=False)\n",
    "\n",
    "    # # 데이터 크기 출력\n",
    "    # print(\"Train set:\", train_df.shape)\n",
    "    # print(\"Validation set:\", val_df.shape)\n",
    "    # print(\"Test set:\", test_df.shape)\n",
    "\n",
    "    return train_df, val_df, test_df"
   ]
  },
  {
   "cell_type": "markdown",
   "metadata": {
    "id": "K90RnrEWB2Iw"
   },
   "source": [
    "### 6. 경로 시각화 함수"
   ]
  },
  {
   "cell_type": "markdown",
   "metadata": {
    "id": "t2bNHfpSBPfr"
   },
   "source": [
    "- 실제 경로와 예측 경로를 각각 그래프로 생성"
   ]
  },
  {
   "cell_type": "code",
   "execution_count": 9,
   "metadata": {
    "execution": {
     "iopub.execute_input": "2024-10-21T03:32:20.214590Z",
     "iopub.status.busy": "2024-10-21T03:32:20.214335Z",
     "iopub.status.idle": "2024-10-21T03:32:20.221148Z",
     "shell.execute_reply": "2024-10-21T03:32:20.220253Z"
    },
    "id": "l8bKkBe-h6cG"
   },
   "outputs": [],
   "source": [
    "import matplotlib.pyplot as plt\n",
    "\n",
    "# 경로 시각화 함수\n",
    "def prediction_visualization(y_test, y_pred):\n",
    "    # 시각화를 위해 위도, 경도, 고도 분리\n",
    "    y_test_lat = y_test[:, 0]\n",
    "    y_test_lon = y_test[:, 1]\n",
    "    y_test_alt = y_test[:, 2]\n",
    "\n",
    "    y_pred_lat = y_pred[:, 0]\n",
    "    y_pred_lon = y_pred[:, 1]\n",
    "    y_pred_alt = y_pred[:, 2]\n",
    "\n",
    "    # 3D 그래프 생성\n",
    "    fig = plt.figure(figsize=(12, 8))\n",
    "    ax = fig.add_subplot(111, projection='3d')\n",
    "\n",
    "    # 실제 값 플롯\n",
    "    ax.scatter(y_test_lat, y_test_lon, y_test_alt, c='b', marker='o', label='Actual')\n",
    "\n",
    "    # 예측 값 플롯\n",
    "    ax.scatter(y_pred_lat, y_pred_lon, y_pred_alt, c='r', marker='^', label='Predicted')\n",
    "\n",
    "    # 그래프 제목 및 축 레이블 설정\n",
    "    ax.set_title('Actual vs Predicted')\n",
    "    ax.set_xlabel('Latitude')\n",
    "    ax.set_ylabel('Longitude')\n",
    "    ax.set_zlabel('Altitude')\n",
    "\n",
    "    # 범례\n",
    "    ax.legend()\n",
    "\n",
    "    # 그래프를 화면에 출력\n",
    "    plt.show()"
   ]
  },
  {
   "cell_type": "code",
   "execution_count": 10,
   "metadata": {
    "execution": {
     "iopub.execute_input": "2024-10-21T03:32:20.224244Z",
     "iopub.status.busy": "2024-10-21T03:32:20.223962Z",
     "iopub.status.idle": "2024-10-21T03:32:20.231285Z",
     "shell.execute_reply": "2024-10-21T03:32:20.230219Z"
    },
    "id": "8_9fg_Gt0b73"
   },
   "outputs": [],
   "source": [
    "import matplotlib.pyplot as plt\n",
    "from mpl_toolkits.mplot3d import Axes3D\n",
    "\n",
    "# splited 데이터 경로 시각화 함수\n",
    "def plot_trajectory(train_data, val_data, test_data):\n",
    "    fig = plt.figure(figsize=(10, 7))\n",
    "    ax = fig.add_subplot(111, projection='3d')\n",
    "\n",
    "    # 훈련 데이터 플롯\n",
    "    ax.plot(train_data['lat'], train_data['lon'], train_data['alt'], label='Train', color='blue')\n",
    "\n",
    "    # 검증 데이터 플롯\n",
    "    ax.plot(val_data['lat'], val_data['lon'], val_data['alt'], label='Validation', color='green')\n",
    "\n",
    "    # 테스트 데이터 플롯\n",
    "    ax.plot(test_data['lat'], test_data['lon'], test_data['alt'], label='Test', color='red')\n",
    "\n",
    "    # 그래프 레이블\n",
    "    ax.set_xlabel('Latitude')\n",
    "    ax.set_ylabel('Longitude')\n",
    "    ax.set_zlabel('Altitude')\n",
    "\n",
    "    # 제목과 범례\n",
    "    ax.set_title('Drone Trajectory: Train, Validation, and Test')\n",
    "    ax.legend()\n",
    "\n",
    "    plt.show()\n"
   ]
  },
  {
   "cell_type": "markdown",
   "metadata": {
    "id": "5hesydw366u6"
   },
   "source": [
    "### 7. 데이터로더 생성 함수"
   ]
  },
  {
   "cell_type": "markdown",
   "metadata": {
    "id": "KTyDCnRc66u6"
   },
   "source": [
    "- 학습에 사용할 데이터 로더 생성\n",
    "1. 시퀀스 생성\n",
    "2. Train, Validation, Test 분리\n",
    "3. DataLoader 생성"
   ]
  },
  {
   "cell_type": "code",
   "execution_count": 11,
   "metadata": {
    "execution": {
     "iopub.execute_input": "2024-10-21T03:32:20.235129Z",
     "iopub.status.busy": "2024-10-21T03:32:20.234742Z",
     "iopub.status.idle": "2024-10-21T03:32:20.243912Z",
     "shell.execute_reply": "2024-10-21T03:32:20.242959Z"
    },
    "id": "rTbRbKmU66u6"
   },
   "outputs": [],
   "source": [
    "# 데이터 로더 생성 함수\n",
    "def create_dataloaders(tri, batch_size, sequence_length):\n",
    "\n",
    "  tri = tri[['time', 'lat', 'lon', 'alt']]\n",
    "\n",
    "  # train, validation, test 분리\n",
    "  train_data, val_data, test_data = split_train_val_test(tri)\n",
    "\n",
    "  # 각 데이터셋에서 시퀀스 생성\n",
    "  X_train, y_train = create_sequences(train_data[['lat', 'lon', 'alt']], look_back=sequence_length)\n",
    "  X_val, y_val = create_sequences(val_data[['lat', 'lon', 'alt']], look_back=sequence_length)\n",
    "  X_test, y_test = create_sequences(test_data[['lat', 'lon', 'alt']], look_back=sequence_length)\n",
    "\n",
    "  X_train = torch.tensor(X_train, dtype=torch.float32)\n",
    "  y_train = torch.tensor(y_train, dtype=torch.float32)\n",
    "  X_val = torch.tensor(X_val, dtype=torch.float32)\n",
    "  y_val = torch.tensor(y_val, dtype=torch.float32)\n",
    "  X_test = torch.tensor(X_test, dtype=torch.float32)\n",
    "  y_test = torch.tensor(y_test, dtype=torch.float32)\n",
    "\n",
    "  train_dataset = TensorDataset(X_train, y_train)\n",
    "  validation_dataset = TensorDataset(X_val, y_val)\n",
    "  test_dataset = TensorDataset(X_test, y_test)\n",
    "\n",
    "  # 데이터 로더 생성\n",
    "  train_loader = DataLoader(train_dataset, batch_size=batch_size, shuffle=True)\n",
    "  val_loader = DataLoader(validation_dataset, batch_size=batch_size, shuffle=False)\n",
    "  test_loader = DataLoader(test_dataset, batch_size=batch_size, shuffle=False)\n",
    "\n",
    "  return train_loader, val_loader, test_loader"
   ]
  },
  {
   "cell_type": "markdown",
   "metadata": {
    "id": "RsoiT-rUcsbi"
   },
   "source": [
    "## 전처리"
   ]
  },
  {
   "cell_type": "markdown",
   "metadata": {
    "id": "4YJd91PCtHJS"
   },
   "source": [
    "### 1. 데이터셋 가져오기"
   ]
  },
  {
   "cell_type": "code",
   "execution_count": 12,
   "metadata": {
    "execution": {
     "iopub.execute_input": "2024-10-21T03:32:20.247559Z",
     "iopub.status.busy": "2024-10-21T03:32:20.247192Z",
     "iopub.status.idle": "2024-10-21T03:32:20.679675Z",
     "shell.execute_reply": "2024-10-21T03:32:20.678477Z"
    },
    "id": "MuunCpw0crPo"
   },
   "outputs": [],
   "source": [
    "import pandas as pd\n",
    "\n",
    "# 데이터셋 가져오기 (필요시 저장 경로 수정)\n",
    "raw = pd.read_csv(\"OnboardGPS.csv\")"
   ]
  },
  {
   "cell_type": "markdown",
   "metadata": {
    "id": "uILR-VuOtg1G"
   },
   "source": [
    "### 2. 데이터셋 전처리"
   ]
  },
  {
   "cell_type": "markdown",
   "metadata": {
    "id": "ea6emhMrtjFn"
   },
   "source": [
    "- 데이터셋 보간\n",
    "- 소수점 절사\n",
    "- MinMaxScaling 적용\n"
   ]
  },
  {
   "cell_type": "code",
   "execution_count": 13,
   "metadata": {
    "colab": {
     "base_uri": "https://localhost:8080/"
    },
    "execution": {
     "iopub.execute_input": "2024-10-21T03:32:20.683797Z",
     "iopub.status.busy": "2024-10-21T03:32:20.683544Z",
     "iopub.status.idle": "2024-10-21T03:32:20.798958Z",
     "shell.execute_reply": "2024-10-21T03:32:20.797758Z"
    },
    "id": "0M4Mw46Ge5dr",
    "outputId": "8039488e-b2fa-4cdd-82b7-316960dd9e1c"
   },
   "outputs": [
    {
     "name": "stdout",
     "output_type": "stream",
     "text": [
      "['time', 'lat', 'lon', 'alt']\n"
     ]
    }
   ],
   "source": [
    "tri = raw[['Timpstemp', ' lat', ' lon', ' alt']]\n",
    "\n",
    "new_x, lat = spline_interpolation(tri['Timpstemp'] / 1e6 , tri[' lat'])\n",
    "new_x, lon = spline_interpolation(tri['Timpstemp'] / 1e6 , tri[' lon'])\n",
    "new_x, alt = spline_interpolation(tri['Timpstemp'] / 1e6 , tri[' alt'])\n",
    "\n",
    "tri = pd.DataFrame({\"time\":new_x, \"lat\":lat, \"lon\":lon, \"alt\":alt})\n",
    "\n",
    "tri = truncation(tri)\n",
    "scaler, tri = min_max_scaling(tri)\n",
    "# tri"
   ]
  },
  {
   "cell_type": "markdown",
   "metadata": {
    "id": "wlwsWq26Gf5V"
   },
   "source": [
    "## 모델 선언"
   ]
  },
  {
   "cell_type": "markdown",
   "metadata": {
    "id": "XCmztXYWwA1z"
   },
   "source": [
    "### 1. 모델 클래스 선언\n",
    "- Transformer를 사용한 모델 클래스 선언\n",
    "- 구조 : Transformer + Positional Encoding + Fully Connected Layer"
   ]
  },
  {
   "cell_type": "code",
   "execution_count": 14,
   "metadata": {
    "execution": {
     "iopub.execute_input": "2024-10-21T03:32:20.850642Z",
     "iopub.status.busy": "2024-10-21T03:32:20.850305Z",
     "iopub.status.idle": "2024-10-21T03:32:20.861285Z",
     "shell.execute_reply": "2024-10-21T03:32:20.860120Z"
    },
    "id": "1-WDOIn-GiMc"
   },
   "outputs": [],
   "source": [
    "import math\n",
    "import torch\n",
    "\n",
    "class PositionalEncoding(nn.Module):\n",
    "    def __init__(self, d_model, dropout=0.0, max_len=5000):\n",
    "        super(PositionalEncoding, self).__init__()\n",
    "        self.dropout = nn.Dropout(p=dropout)\n",
    "\n",
    "        self.pe = torch.zeros(max_len, d_model)\n",
    "        position = torch.arange(0, max_len, dtype=torch.float).unsqueeze(1)\n",
    "\n",
    "        div_term = torch.exp(torch.arange(0, d_model, 2).float() * -(math.log(10000.0) / d_model))\n",
    "        self.pe[:, 0::2] = torch.sin(position * div_term)  # Even indices\n",
    "\n",
    "        self.pe = self.pe.unsqueeze(0)\n",
    "\n",
    "    def forward(self, x):\n",
    "        if self.pe.shape[2] != x.shape[2]:\n",
    "            raise ValueError(f\"Positional encoding dim {self.pe.shape[2]} does not match input dim {x.shape[2]}\")\n",
    "\n",
    "        x = x + self.pe[:, :x.size(1), :].to(x.device)  # Add positional encoding\n",
    "        return self.dropout(x)"
   ]
  },
  {
   "cell_type": "code",
   "execution_count": 15,
   "metadata": {
    "execution": {
     "iopub.execute_input": "2024-10-21T03:32:20.864287Z",
     "iopub.status.busy": "2024-10-21T03:32:20.863954Z",
     "iopub.status.idle": "2024-10-21T03:32:20.872669Z",
     "shell.execute_reply": "2024-10-21T03:32:20.871749Z"
    },
    "id": "WSwLbkypg_s6"
   },
   "outputs": [],
   "source": [
    "import torch.nn as nn\n",
    "import torch\n",
    "\n",
    "class TransformerModel(nn.Module):\n",
    "    def __init__(self, input_dim, output_dim=3, d_model=64, nhead=4, num_encoder_layers=2, dim_feedforward=512, dropout=0.0):\n",
    "        super(TransformerModel, self).__init__()\n",
    "\n",
    "        self.embedding = nn.Linear(input_dim, d_model)\n",
    "        self.positional_encoding = PositionalEncoding(d_model=d_model, dropout=dropout)\n",
    "\n",
    "        self.transformer_encoder = nn.TransformerEncoder(\n",
    "            nn.TransformerEncoderLayer(d_model=d_model,\n",
    "                                       nhead=nhead,\n",
    "                                       dim_feedforward=dim_feedforward,\n",
    "                                       dropout=dropout,\n",
    "                                       batch_first=True  # batch_first 사용\n",
    "            ),\n",
    "            num_layers=num_encoder_layers\n",
    "        )\n",
    "\n",
    "        self.fc_out = nn.Linear(d_model, output_dim)\n",
    "\n",
    "    def forward(self, src):\n",
    "        # embedding과 positional encoding 적용\n",
    "        src = self.embedding(src)\n",
    "        src = self.positional_encoding(src)\n",
    "\n",
    "        # transformer encoder 통과 (batch_first=True이므로 permute 필요 없음)\n",
    "        output = self.transformer_encoder(src)\n",
    "\n",
    "        # fully connected layer 통과\n",
    "        output = self.fc_out(output)\n",
    "\n",
    "        return output[:, -1, :]  # 마지막 시퀀스의 출력만 반환\n"
   ]
  },
  {
   "cell_type": "markdown",
   "metadata": {
    "id": "FYz0CNRn3w9P"
   },
   "source": [
    "## 학습"
   ]
  },
  {
   "cell_type": "markdown",
   "metadata": {
    "id": "eohY6qs0xg2O"
   },
   "source": [
    "### 1. 하이퍼파라미터 불러오기"
   ]
  },
  {
   "cell_type": "code",
   "execution_count": 16,
   "metadata": {
    "colab": {
     "base_uri": "https://localhost:8080/"
    },
    "execution": {
     "iopub.execute_input": "2024-10-21T03:32:20.875930Z",
     "iopub.status.busy": "2024-10-21T03:32:20.875664Z",
     "iopub.status.idle": "2024-10-21T03:32:20.881521Z",
     "shell.execute_reply": "2024-10-21T03:32:20.880512Z"
    },
    "id": "KNJ0UWidblTl",
    "outputId": "fa9be1a9-b867-4ed9-f18d-290b629627f9"
   },
   "outputs": [
    {
     "name": "stdout",
     "output_type": "stream",
     "text": [
      "Loaded best hyperparameters: {'nhead': 6, 'd_model': 72, 'num_encoder_layers': 1, 'dim_feedforward': 409, 'learning_rate': 0.0014676821347472486, 'batch_size': 16}\n"
     ]
    }
   ],
   "source": [
    "import json\n",
    "\n",
    "# 저장된 하이퍼파라미터 불러오기\n",
    "with open(\"./best_hyperparameters.json\", \"r\") as f:\n",
    "    best_params = json.load(f)\n",
    "\n",
    "print(\"Loaded best hyperparameters:\", best_params)"
   ]
  },
  {
   "cell_type": "markdown",
   "metadata": {
    "id": "pdznBzKYx31i"
   },
   "source": [
    "### 2. 최적의 파라미터로 모델 학습"
   ]
  },
  {
   "cell_type": "code",
   "execution_count": 17,
   "metadata": {
    "execution": {
     "iopub.execute_input": "2024-10-21T03:32:20.885102Z",
     "iopub.status.busy": "2024-10-21T03:32:20.884786Z",
     "iopub.status.idle": "2024-10-21T03:32:20.889358Z",
     "shell.execute_reply": "2024-10-21T03:32:20.888375Z"
    },
    "id": "_nfvmpVT66vA"
   },
   "outputs": [],
   "source": [
    "sequence_length = 10\n",
    "num_epochs = 300"
   ]
  },
  {
   "cell_type": "code",
   "execution_count": 18,
   "metadata": {
    "execution": {
     "iopub.execute_input": "2024-10-21T03:32:20.892493Z",
     "iopub.status.busy": "2024-10-21T03:32:20.892147Z",
     "iopub.status.idle": "2024-10-21T03:32:22.099971Z",
     "shell.execute_reply": "2024-10-21T03:32:22.098843Z"
    },
    "id": "veh0Ol9xhQYV"
   },
   "outputs": [
    {
     "name": "stderr",
     "output_type": "stream",
     "text": [
      "/home/202004182/anaconda3/envs/env0/lib/python3.10/site-packages/torch/cuda/__init__.py:128: UserWarning: CUDA initialization: The NVIDIA driver on your system is too old (found version 11050). Please update your GPU driver by downloading and installing a new version from the URL: http://www.nvidia.com/Download/index.aspx Alternatively, go to: https://pytorch.org to install a PyTorch version that has been compiled with your version of the CUDA driver. (Triggered internally at /opt/conda/conda-bld/pytorch_1720538459595/work/c10/cuda/CUDAFunctions.cpp:108.)\n",
      "  return torch._C._cuda_getDeviceCount() > 0\n"
     ]
    }
   ],
   "source": [
    "# 최적의 모델 학습\n",
    "# best_params = study.best_params\n",
    "\n",
    "train_loader, val_loader, test_loader = create_dataloaders(tri, best_params['batch_size'], sequence_length)\n",
    "\n",
    "best_model = TransformerModel(\n",
    "    input_dim=3,\n",
    "    d_model=best_params['d_model'],\n",
    "    nhead=best_params['nhead'],\n",
    "    num_encoder_layers=best_params['num_encoder_layers'],\n",
    "    dim_feedforward=best_params['dim_feedforward']\n",
    ")\n",
    "\n",
    "device = torch.device('cuda' if torch.cuda.is_available() else 'cpu')\n",
    "best_model = best_model.to(device)\n",
    "\n",
    "optimizer = torch.optim.Adam(best_model.parameters(), lr=best_params['learning_rate'])\n",
    "criterion = torch.nn.MSELoss()"
   ]
  },
  {
   "cell_type": "code",
   "execution_count": 19,
   "metadata": {
    "colab": {
     "base_uri": "https://localhost:8080/"
    },
    "execution": {
     "iopub.execute_input": "2024-10-21T03:32:22.105192Z",
     "iopub.status.busy": "2024-10-21T03:32:22.104629Z",
     "iopub.status.idle": "2024-10-21T03:39:20.820249Z",
     "shell.execute_reply": "2024-10-21T03:39:20.819178Z"
    },
    "id": "CKJYU2CKhWZE",
    "outputId": "43eca551-1e2c-40e2-d770-b3ac1c7c10cf"
   },
   "outputs": [
    {
     "name": "stdout",
     "output_type": "stream",
     "text": [
      "Epoch [1/300], Train Loss: 2.0067, Val Loss: 0.0525\n",
      "Epoch 1/300 completed in 1.51 seconds.\n"
     ]
    },
    {
     "name": "stdout",
     "output_type": "stream",
     "text": [
      "Epoch [2/300], Train Loss: 0.0174, Val Loss: 0.0302\n",
      "Epoch 2/300 completed in 1.51 seconds.\n"
     ]
    },
    {
     "name": "stdout",
     "output_type": "stream",
     "text": [
      "Epoch [3/300], Train Loss: 0.0103, Val Loss: 0.0180\n",
      "Epoch 3/300 completed in 1.50 seconds.\n"
     ]
    },
    {
     "name": "stdout",
     "output_type": "stream",
     "text": [
      "Epoch [4/300], Train Loss: 0.0117, Val Loss: 0.0120\n",
      "Epoch 4/300 completed in 1.39 seconds.\n"
     ]
    },
    {
     "name": "stdout",
     "output_type": "stream",
     "text": [
      "Epoch [5/300], Train Loss: 0.0103, Val Loss: 0.0123\n",
      "Epoch 5/300 completed in 1.34 seconds.\n"
     ]
    },
    {
     "name": "stdout",
     "output_type": "stream",
     "text": [
      "Epoch [6/300], Train Loss: 0.0123, Val Loss: 0.0148\n",
      "Epoch 6/300 completed in 1.22 seconds.\n"
     ]
    },
    {
     "name": "stdout",
     "output_type": "stream",
     "text": [
      "Epoch [7/300], Train Loss: 0.0238, Val Loss: 0.0221\n",
      "Epoch 7/300 completed in 1.24 seconds.\n"
     ]
    },
    {
     "name": "stdout",
     "output_type": "stream",
     "text": [
      "Epoch [8/300], Train Loss: 0.0185, Val Loss: 0.0159\n",
      "Epoch 8/300 completed in 1.26 seconds.\n"
     ]
    },
    {
     "name": "stdout",
     "output_type": "stream",
     "text": [
      "Epoch [9/300], Train Loss: 0.0177, Val Loss: 0.0267\n",
      "Epoch 9/300 completed in 1.25 seconds.\n"
     ]
    },
    {
     "name": "stdout",
     "output_type": "stream",
     "text": [
      "Epoch [10/300], Train Loss: 0.0239, Val Loss: 0.0164\n",
      "Epoch 10/300 completed in 1.24 seconds.\n"
     ]
    },
    {
     "name": "stdout",
     "output_type": "stream",
     "text": [
      "Epoch [11/300], Train Loss: 0.0136, Val Loss: 0.0171\n",
      "Epoch 11/300 completed in 1.26 seconds.\n"
     ]
    },
    {
     "name": "stdout",
     "output_type": "stream",
     "text": [
      "Epoch [12/300], Train Loss: 0.0156, Val Loss: 0.0154\n",
      "Epoch 12/300 completed in 1.33 seconds.\n"
     ]
    },
    {
     "name": "stdout",
     "output_type": "stream",
     "text": [
      "Epoch [13/300], Train Loss: 0.0164, Val Loss: 0.0378\n",
      "Epoch 13/300 completed in 1.27 seconds.\n"
     ]
    },
    {
     "name": "stdout",
     "output_type": "stream",
     "text": [
      "Epoch [14/300], Train Loss: 0.0140, Val Loss: 0.0266\n",
      "Epoch 14/300 completed in 1.24 seconds.\n"
     ]
    },
    {
     "name": "stdout",
     "output_type": "stream",
     "text": [
      "Epoch [15/300], Train Loss: 0.0402, Val Loss: 0.0199\n",
      "Epoch 15/300 completed in 1.25 seconds.\n"
     ]
    },
    {
     "name": "stdout",
     "output_type": "stream",
     "text": [
      "Epoch [16/300], Train Loss: 0.0106, Val Loss: 0.0285\n",
      "Epoch 16/300 completed in 1.20 seconds.\n"
     ]
    },
    {
     "name": "stdout",
     "output_type": "stream",
     "text": [
      "Epoch [17/300], Train Loss: 0.0173, Val Loss: 0.0484\n",
      "Epoch 17/300 completed in 1.19 seconds.\n"
     ]
    },
    {
     "name": "stdout",
     "output_type": "stream",
     "text": [
      "Epoch [18/300], Train Loss: 0.0224, Val Loss: 0.0298\n",
      "Epoch 18/300 completed in 1.22 seconds.\n"
     ]
    },
    {
     "name": "stdout",
     "output_type": "stream",
     "text": [
      "Epoch [19/300], Train Loss: 0.0105, Val Loss: 0.0275\n",
      "Epoch 19/300 completed in 1.28 seconds.\n"
     ]
    },
    {
     "name": "stdout",
     "output_type": "stream",
     "text": [
      "Epoch [20/300], Train Loss: 0.0138, Val Loss: 0.0246\n",
      "Epoch 20/300 completed in 1.22 seconds.\n"
     ]
    },
    {
     "name": "stdout",
     "output_type": "stream",
     "text": [
      "Epoch [21/300], Train Loss: 0.0160, Val Loss: 0.0407\n",
      "Epoch 21/300 completed in 1.23 seconds.\n"
     ]
    },
    {
     "name": "stdout",
     "output_type": "stream",
     "text": [
      "Epoch [22/300], Train Loss: 0.0194, Val Loss: 0.0180\n",
      "Epoch 22/300 completed in 1.41 seconds.\n"
     ]
    },
    {
     "name": "stdout",
     "output_type": "stream",
     "text": [
      "Epoch [23/300], Train Loss: 0.0137, Val Loss: 0.0212\n",
      "Epoch 23/300 completed in 1.39 seconds.\n"
     ]
    },
    {
     "name": "stdout",
     "output_type": "stream",
     "text": [
      "Epoch [24/300], Train Loss: 0.0139, Val Loss: 0.0270\n",
      "Epoch 24/300 completed in 1.39 seconds.\n"
     ]
    },
    {
     "name": "stdout",
     "output_type": "stream",
     "text": [
      "Epoch [25/300], Train Loss: 0.0163, Val Loss: 0.0316\n",
      "Epoch 25/300 completed in 1.42 seconds.\n"
     ]
    },
    {
     "name": "stdout",
     "output_type": "stream",
     "text": [
      "Epoch [26/300], Train Loss: 0.0127, Val Loss: 0.0171\n",
      "Epoch 26/300 completed in 1.38 seconds.\n"
     ]
    },
    {
     "name": "stdout",
     "output_type": "stream",
     "text": [
      "Epoch [27/300], Train Loss: 0.0150, Val Loss: 0.0120\n",
      "Epoch 27/300 completed in 1.36 seconds.\n"
     ]
    },
    {
     "name": "stdout",
     "output_type": "stream",
     "text": [
      "Epoch [28/300], Train Loss: 0.0124, Val Loss: 0.0278\n",
      "Epoch 28/300 completed in 1.33 seconds.\n"
     ]
    },
    {
     "name": "stdout",
     "output_type": "stream",
     "text": [
      "Epoch [29/300], Train Loss: 0.0148, Val Loss: 0.0237\n",
      "Epoch 29/300 completed in 1.34 seconds.\n"
     ]
    },
    {
     "name": "stdout",
     "output_type": "stream",
     "text": [
      "Epoch [30/300], Train Loss: 0.0117, Val Loss: 0.0155\n",
      "Epoch 30/300 completed in 1.33 seconds.\n"
     ]
    },
    {
     "name": "stdout",
     "output_type": "stream",
     "text": [
      "Epoch [31/300], Train Loss: 0.0190, Val Loss: 0.0110\n",
      "Epoch 31/300 completed in 1.33 seconds.\n"
     ]
    },
    {
     "name": "stdout",
     "output_type": "stream",
     "text": [
      "Epoch [32/300], Train Loss: 0.0105, Val Loss: 0.0154\n",
      "Epoch 32/300 completed in 1.34 seconds.\n"
     ]
    },
    {
     "name": "stdout",
     "output_type": "stream",
     "text": [
      "Epoch [33/300], Train Loss: 0.0141, Val Loss: 0.0325\n",
      "Epoch 33/300 completed in 1.34 seconds.\n"
     ]
    },
    {
     "name": "stdout",
     "output_type": "stream",
     "text": [
      "Epoch [34/300], Train Loss: 0.0100, Val Loss: 0.0270\n",
      "Epoch 34/300 completed in 1.34 seconds.\n"
     ]
    },
    {
     "name": "stdout",
     "output_type": "stream",
     "text": [
      "Epoch [35/300], Train Loss: 0.0103, Val Loss: 0.0191\n",
      "Epoch 35/300 completed in 1.34 seconds.\n"
     ]
    },
    {
     "name": "stdout",
     "output_type": "stream",
     "text": [
      "Epoch [36/300], Train Loss: 0.0131, Val Loss: 0.0386\n",
      "Epoch 36/300 completed in 1.35 seconds.\n"
     ]
    },
    {
     "name": "stdout",
     "output_type": "stream",
     "text": [
      "Epoch [37/300], Train Loss: 0.0111, Val Loss: 0.0257\n",
      "Epoch 37/300 completed in 1.34 seconds.\n"
     ]
    },
    {
     "name": "stdout",
     "output_type": "stream",
     "text": [
      "Epoch [38/300], Train Loss: 0.0148, Val Loss: 0.0160\n",
      "Epoch 38/300 completed in 1.14 seconds.\n"
     ]
    },
    {
     "name": "stdout",
     "output_type": "stream",
     "text": [
      "Epoch [39/300], Train Loss: 0.0117, Val Loss: 0.0153\n",
      "Epoch 39/300 completed in 1.13 seconds.\n"
     ]
    },
    {
     "name": "stdout",
     "output_type": "stream",
     "text": [
      "Epoch [40/300], Train Loss: 0.0101, Val Loss: 0.0252\n",
      "Epoch 40/300 completed in 1.14 seconds.\n"
     ]
    },
    {
     "name": "stdout",
     "output_type": "stream",
     "text": [
      "Epoch [41/300], Train Loss: 0.0136, Val Loss: 0.0252\n",
      "Epoch 41/300 completed in 1.15 seconds.\n"
     ]
    },
    {
     "name": "stdout",
     "output_type": "stream",
     "text": [
      "Epoch [42/300], Train Loss: 0.0135, Val Loss: 0.0432\n",
      "Epoch 42/300 completed in 1.15 seconds.\n"
     ]
    },
    {
     "name": "stdout",
     "output_type": "stream",
     "text": [
      "Epoch [43/300], Train Loss: 0.0119, Val Loss: 0.0149\n",
      "Epoch 43/300 completed in 1.14 seconds.\n"
     ]
    },
    {
     "name": "stdout",
     "output_type": "stream",
     "text": [
      "Epoch [44/300], Train Loss: 0.0067, Val Loss: 0.0246\n",
      "Epoch 44/300 completed in 1.14 seconds.\n"
     ]
    },
    {
     "name": "stdout",
     "output_type": "stream",
     "text": [
      "Epoch [45/300], Train Loss: 0.0076, Val Loss: 0.0114\n",
      "Epoch 45/300 completed in 1.23 seconds.\n"
     ]
    },
    {
     "name": "stdout",
     "output_type": "stream",
     "text": [
      "Epoch [46/300], Train Loss: 0.0085, Val Loss: 0.0246\n",
      "Epoch 46/300 completed in 1.20 seconds.\n"
     ]
    },
    {
     "name": "stdout",
     "output_type": "stream",
     "text": [
      "Epoch [47/300], Train Loss: 0.0077, Val Loss: 0.0284\n",
      "Epoch 47/300 completed in 1.22 seconds.\n"
     ]
    },
    {
     "name": "stdout",
     "output_type": "stream",
     "text": [
      "Epoch [48/300], Train Loss: 0.0168, Val Loss: 0.0222\n",
      "Epoch 48/300 completed in 1.18 seconds.\n"
     ]
    },
    {
     "name": "stdout",
     "output_type": "stream",
     "text": [
      "Epoch [49/300], Train Loss: 0.0092, Val Loss: 0.0216\n",
      "Epoch 49/300 completed in 1.18 seconds.\n"
     ]
    },
    {
     "name": "stdout",
     "output_type": "stream",
     "text": [
      "Epoch [50/300], Train Loss: 0.0076, Val Loss: 0.0234\n",
      "Model saved: ./output_model/best_model_epoch_50.pth\n",
      "Epoch 50/300 completed in 1.25 seconds.\n"
     ]
    },
    {
     "name": "stdout",
     "output_type": "stream",
     "text": [
      "Epoch [51/300], Train Loss: 0.0101, Val Loss: 0.0163\n",
      "Epoch 51/300 completed in 1.29 seconds.\n"
     ]
    },
    {
     "name": "stdout",
     "output_type": "stream",
     "text": [
      "Epoch [52/300], Train Loss: 0.0149, Val Loss: 0.0134\n",
      "Epoch 52/300 completed in 1.26 seconds.\n"
     ]
    },
    {
     "name": "stdout",
     "output_type": "stream",
     "text": [
      "Epoch [53/300], Train Loss: 0.0072, Val Loss: 0.0276\n",
      "Epoch 53/300 completed in 1.21 seconds.\n"
     ]
    },
    {
     "name": "stdout",
     "output_type": "stream",
     "text": [
      "Epoch [54/300], Train Loss: 0.0069, Val Loss: 0.0175\n",
      "Epoch 54/300 completed in 1.17 seconds.\n"
     ]
    },
    {
     "name": "stdout",
     "output_type": "stream",
     "text": [
      "Epoch [55/300], Train Loss: 0.0078, Val Loss: 0.0231\n",
      "Epoch 55/300 completed in 1.21 seconds.\n"
     ]
    },
    {
     "name": "stdout",
     "output_type": "stream",
     "text": [
      "Epoch [56/300], Train Loss: 0.0090, Val Loss: 0.0131\n",
      "Epoch 56/300 completed in 1.20 seconds.\n"
     ]
    },
    {
     "name": "stdout",
     "output_type": "stream",
     "text": [
      "Epoch [57/300], Train Loss: 0.0076, Val Loss: 0.0102\n",
      "Epoch 57/300 completed in 1.20 seconds.\n"
     ]
    },
    {
     "name": "stdout",
     "output_type": "stream",
     "text": [
      "Epoch [58/300], Train Loss: 0.0077, Val Loss: 0.0101\n",
      "Epoch 58/300 completed in 1.19 seconds.\n"
     ]
    },
    {
     "name": "stdout",
     "output_type": "stream",
     "text": [
      "Epoch [59/300], Train Loss: 0.0074, Val Loss: 0.0191\n",
      "Epoch 59/300 completed in 1.20 seconds.\n"
     ]
    },
    {
     "name": "stdout",
     "output_type": "stream",
     "text": [
      "Epoch [60/300], Train Loss: 0.0066, Val Loss: 0.0147\n",
      "Epoch 60/300 completed in 1.19 seconds.\n"
     ]
    },
    {
     "name": "stdout",
     "output_type": "stream",
     "text": [
      "Epoch [61/300], Train Loss: 0.0074, Val Loss: 0.0176\n",
      "Epoch 61/300 completed in 1.20 seconds.\n"
     ]
    },
    {
     "name": "stdout",
     "output_type": "stream",
     "text": [
      "Epoch [62/300], Train Loss: 0.0061, Val Loss: 0.0112\n",
      "Epoch 62/300 completed in 1.19 seconds.\n"
     ]
    },
    {
     "name": "stdout",
     "output_type": "stream",
     "text": [
      "Epoch [63/300], Train Loss: 0.0097, Val Loss: 0.0097\n",
      "Epoch 63/300 completed in 1.33 seconds.\n"
     ]
    },
    {
     "name": "stdout",
     "output_type": "stream",
     "text": [
      "Epoch [64/300], Train Loss: 0.0084, Val Loss: 0.0125\n",
      "Epoch 64/300 completed in 1.18 seconds.\n"
     ]
    },
    {
     "name": "stdout",
     "output_type": "stream",
     "text": [
      "Epoch [65/300], Train Loss: 0.0072, Val Loss: 0.0077\n",
      "Epoch 65/300 completed in 1.19 seconds.\n"
     ]
    },
    {
     "name": "stdout",
     "output_type": "stream",
     "text": [
      "Epoch [66/300], Train Loss: 0.0056, Val Loss: 0.0209\n",
      "Epoch 66/300 completed in 1.19 seconds.\n"
     ]
    },
    {
     "name": "stdout",
     "output_type": "stream",
     "text": [
      "Epoch [67/300], Train Loss: 0.0077, Val Loss: 0.0217\n",
      "Epoch 67/300 completed in 1.22 seconds.\n"
     ]
    },
    {
     "name": "stdout",
     "output_type": "stream",
     "text": [
      "Epoch [68/300], Train Loss: 0.0085, Val Loss: 0.0053\n",
      "Epoch 68/300 completed in 1.21 seconds.\n"
     ]
    },
    {
     "name": "stdout",
     "output_type": "stream",
     "text": [
      "Epoch [69/300], Train Loss: 0.0072, Val Loss: 0.0133\n",
      "Epoch 69/300 completed in 1.19 seconds.\n"
     ]
    },
    {
     "name": "stdout",
     "output_type": "stream",
     "text": [
      "Epoch [70/300], Train Loss: 0.0049, Val Loss: 0.0129\n",
      "Epoch 70/300 completed in 1.21 seconds.\n"
     ]
    },
    {
     "name": "stdout",
     "output_type": "stream",
     "text": [
      "Epoch [71/300], Train Loss: 0.0070, Val Loss: 0.0185\n",
      "Epoch 71/300 completed in 1.48 seconds.\n"
     ]
    },
    {
     "name": "stdout",
     "output_type": "stream",
     "text": [
      "Epoch [72/300], Train Loss: 0.0065, Val Loss: 0.0198\n",
      "Epoch 72/300 completed in 1.30 seconds.\n"
     ]
    },
    {
     "name": "stdout",
     "output_type": "stream",
     "text": [
      "Epoch [73/300], Train Loss: 0.0079, Val Loss: 0.0113\n",
      "Epoch 73/300 completed in 1.37 seconds.\n"
     ]
    },
    {
     "name": "stdout",
     "output_type": "stream",
     "text": [
      "Epoch [74/300], Train Loss: 0.0060, Val Loss: 0.0161\n",
      "Epoch 74/300 completed in 1.33 seconds.\n"
     ]
    },
    {
     "name": "stdout",
     "output_type": "stream",
     "text": [
      "Epoch [75/300], Train Loss: 0.0048, Val Loss: 0.0084\n",
      "Epoch 75/300 completed in 1.31 seconds.\n"
     ]
    },
    {
     "name": "stdout",
     "output_type": "stream",
     "text": [
      "Epoch [76/300], Train Loss: 0.0065, Val Loss: 0.0145\n",
      "Epoch 76/300 completed in 1.30 seconds.\n"
     ]
    },
    {
     "name": "stdout",
     "output_type": "stream",
     "text": [
      "Epoch [77/300], Train Loss: 0.0059, Val Loss: 0.0212\n",
      "Epoch 77/300 completed in 1.37 seconds.\n"
     ]
    },
    {
     "name": "stdout",
     "output_type": "stream",
     "text": [
      "Epoch [78/300], Train Loss: 0.0068, Val Loss: 0.0203\n",
      "Epoch 78/300 completed in 1.34 seconds.\n"
     ]
    },
    {
     "name": "stdout",
     "output_type": "stream",
     "text": [
      "Epoch [79/300], Train Loss: 0.0059, Val Loss: 0.0144\n",
      "Epoch 79/300 completed in 1.23 seconds.\n"
     ]
    },
    {
     "name": "stdout",
     "output_type": "stream",
     "text": [
      "Epoch [80/300], Train Loss: 0.0061, Val Loss: 0.0329\n",
      "Epoch 80/300 completed in 1.29 seconds.\n"
     ]
    },
    {
     "name": "stdout",
     "output_type": "stream",
     "text": [
      "Epoch [81/300], Train Loss: 0.0059, Val Loss: 0.0153\n",
      "Epoch 81/300 completed in 1.23 seconds.\n"
     ]
    },
    {
     "name": "stdout",
     "output_type": "stream",
     "text": [
      "Epoch [82/300], Train Loss: 0.0063, Val Loss: 0.0125\n",
      "Epoch 82/300 completed in 1.21 seconds.\n"
     ]
    },
    {
     "name": "stdout",
     "output_type": "stream",
     "text": [
      "Epoch [83/300], Train Loss: 0.0076, Val Loss: 0.0289\n",
      "Epoch 83/300 completed in 1.21 seconds.\n"
     ]
    },
    {
     "name": "stdout",
     "output_type": "stream",
     "text": [
      "Epoch [84/300], Train Loss: 0.0058, Val Loss: 0.0134\n",
      "Epoch 84/300 completed in 1.19 seconds.\n"
     ]
    },
    {
     "name": "stdout",
     "output_type": "stream",
     "text": [
      "Epoch [85/300], Train Loss: 0.0043, Val Loss: 0.0119\n",
      "Epoch 85/300 completed in 1.21 seconds.\n"
     ]
    },
    {
     "name": "stdout",
     "output_type": "stream",
     "text": [
      "Epoch [86/300], Train Loss: 0.0065, Val Loss: 0.0100\n",
      "Epoch 86/300 completed in 1.21 seconds.\n"
     ]
    },
    {
     "name": "stdout",
     "output_type": "stream",
     "text": [
      "Epoch [87/300], Train Loss: 0.0066, Val Loss: 0.0305\n",
      "Epoch 87/300 completed in 1.27 seconds.\n"
     ]
    },
    {
     "name": "stdout",
     "output_type": "stream",
     "text": [
      "Epoch [88/300], Train Loss: 0.0062, Val Loss: 0.0140\n",
      "Epoch 88/300 completed in 1.42 seconds.\n"
     ]
    },
    {
     "name": "stdout",
     "output_type": "stream",
     "text": [
      "Epoch [89/300], Train Loss: 0.0052, Val Loss: 0.0147\n",
      "Epoch 89/300 completed in 1.45 seconds.\n"
     ]
    },
    {
     "name": "stdout",
     "output_type": "stream",
     "text": [
      "Epoch [90/300], Train Loss: 0.0047, Val Loss: 0.0073\n",
      "Epoch 90/300 completed in 1.21 seconds.\n"
     ]
    },
    {
     "name": "stdout",
     "output_type": "stream",
     "text": [
      "Epoch [91/300], Train Loss: 0.0048, Val Loss: 0.0090\n",
      "Epoch 91/300 completed in 1.21 seconds.\n"
     ]
    },
    {
     "name": "stdout",
     "output_type": "stream",
     "text": [
      "Epoch [92/300], Train Loss: 0.0054, Val Loss: 0.0114\n",
      "Epoch 92/300 completed in 1.24 seconds.\n"
     ]
    },
    {
     "name": "stdout",
     "output_type": "stream",
     "text": [
      "Epoch [93/300], Train Loss: 0.0049, Val Loss: 0.0194\n",
      "Epoch 93/300 completed in 1.25 seconds.\n"
     ]
    },
    {
     "name": "stdout",
     "output_type": "stream",
     "text": [
      "Epoch [94/300], Train Loss: 0.0052, Val Loss: 0.0159\n",
      "Epoch 94/300 completed in 1.26 seconds.\n"
     ]
    },
    {
     "name": "stdout",
     "output_type": "stream",
     "text": [
      "Epoch [95/300], Train Loss: 0.0487, Val Loss: 0.0245\n",
      "Epoch 95/300 completed in 1.32 seconds.\n"
     ]
    },
    {
     "name": "stdout",
     "output_type": "stream",
     "text": [
      "Epoch [96/300], Train Loss: 0.0055, Val Loss: 0.0104\n",
      "Epoch 96/300 completed in 1.23 seconds.\n"
     ]
    },
    {
     "name": "stdout",
     "output_type": "stream",
     "text": [
      "Epoch [97/300], Train Loss: 0.0040, Val Loss: 0.0152\n",
      "Epoch 97/300 completed in 1.40 seconds.\n"
     ]
    },
    {
     "name": "stdout",
     "output_type": "stream",
     "text": [
      "Epoch [98/300], Train Loss: 0.0035, Val Loss: 0.0093\n",
      "Epoch 98/300 completed in 1.25 seconds.\n"
     ]
    },
    {
     "name": "stdout",
     "output_type": "stream",
     "text": [
      "Epoch [99/300], Train Loss: 0.0031, Val Loss: 0.0095\n",
      "Epoch 99/300 completed in 1.26 seconds.\n"
     ]
    },
    {
     "name": "stdout",
     "output_type": "stream",
     "text": [
      "Epoch [100/300], Train Loss: 0.0043, Val Loss: 0.0103\n",
      "Model saved: ./output_model/best_model_epoch_100.pth\n",
      "Epoch 100/300 completed in 1.20 seconds.\n"
     ]
    },
    {
     "name": "stdout",
     "output_type": "stream",
     "text": [
      "Epoch [101/300], Train Loss: 0.0042, Val Loss: 0.0104\n",
      "Epoch 101/300 completed in 1.20 seconds.\n"
     ]
    },
    {
     "name": "stdout",
     "output_type": "stream",
     "text": [
      "Epoch [102/300], Train Loss: 0.0057, Val Loss: 0.0137\n",
      "Epoch 102/300 completed in 1.20 seconds.\n"
     ]
    },
    {
     "name": "stdout",
     "output_type": "stream",
     "text": [
      "Epoch [103/300], Train Loss: 0.0044, Val Loss: 0.0062\n",
      "Epoch 103/300 completed in 1.20 seconds.\n"
     ]
    },
    {
     "name": "stdout",
     "output_type": "stream",
     "text": [
      "Epoch [104/300], Train Loss: 0.0042, Val Loss: 0.0117\n",
      "Epoch 104/300 completed in 1.21 seconds.\n"
     ]
    },
    {
     "name": "stdout",
     "output_type": "stream",
     "text": [
      "Epoch [105/300], Train Loss: 0.0039, Val Loss: 0.0181\n",
      "Epoch 105/300 completed in 1.21 seconds.\n"
     ]
    },
    {
     "name": "stdout",
     "output_type": "stream",
     "text": [
      "Epoch [106/300], Train Loss: 0.0050, Val Loss: 0.0130\n",
      "Epoch 106/300 completed in 1.20 seconds.\n"
     ]
    },
    {
     "name": "stdout",
     "output_type": "stream",
     "text": [
      "Epoch [107/300], Train Loss: 0.0046, Val Loss: 0.0117\n",
      "Epoch 107/300 completed in 1.26 seconds.\n"
     ]
    },
    {
     "name": "stdout",
     "output_type": "stream",
     "text": [
      "Epoch [108/300], Train Loss: 0.0050, Val Loss: 0.0072\n",
      "Epoch 108/300 completed in 1.22 seconds.\n"
     ]
    },
    {
     "name": "stdout",
     "output_type": "stream",
     "text": [
      "Epoch [109/300], Train Loss: 0.0052, Val Loss: 0.0113\n",
      "Epoch 109/300 completed in 1.22 seconds.\n"
     ]
    },
    {
     "name": "stdout",
     "output_type": "stream",
     "text": [
      "Epoch [110/300], Train Loss: 0.0050, Val Loss: 0.0054\n",
      "Epoch 110/300 completed in 1.22 seconds.\n"
     ]
    },
    {
     "name": "stdout",
     "output_type": "stream",
     "text": [
      "Epoch [111/300], Train Loss: 0.0039, Val Loss: 0.0110\n",
      "Epoch 111/300 completed in 1.43 seconds.\n"
     ]
    },
    {
     "name": "stdout",
     "output_type": "stream",
     "text": [
      "Epoch [112/300], Train Loss: 0.0047, Val Loss: 0.0071\n",
      "Epoch 112/300 completed in 1.47 seconds.\n"
     ]
    },
    {
     "name": "stdout",
     "output_type": "stream",
     "text": [
      "Epoch [113/300], Train Loss: 0.0043, Val Loss: 0.0117\n",
      "Epoch 113/300 completed in 1.40 seconds.\n"
     ]
    },
    {
     "name": "stdout",
     "output_type": "stream",
     "text": [
      "Epoch [114/300], Train Loss: 0.0057, Val Loss: 0.0078\n",
      "Epoch 114/300 completed in 1.35 seconds.\n"
     ]
    },
    {
     "name": "stdout",
     "output_type": "stream",
     "text": [
      "Epoch [115/300], Train Loss: 0.0049, Val Loss: 0.0088\n",
      "Epoch 115/300 completed in 1.30 seconds.\n"
     ]
    },
    {
     "name": "stdout",
     "output_type": "stream",
     "text": [
      "Epoch [116/300], Train Loss: 0.0051, Val Loss: 0.0046\n",
      "Epoch 116/300 completed in 1.29 seconds.\n"
     ]
    },
    {
     "name": "stdout",
     "output_type": "stream",
     "text": [
      "Epoch [117/300], Train Loss: 0.0059, Val Loss: 0.0043\n",
      "Epoch 117/300 completed in 1.31 seconds.\n"
     ]
    },
    {
     "name": "stdout",
     "output_type": "stream",
     "text": [
      "Epoch [118/300], Train Loss: 0.0050, Val Loss: 0.0077\n",
      "Epoch 118/300 completed in 1.43 seconds.\n"
     ]
    },
    {
     "name": "stdout",
     "output_type": "stream",
     "text": [
      "Epoch [119/300], Train Loss: 0.0048, Val Loss: 0.0080\n",
      "Epoch 119/300 completed in 1.36 seconds.\n"
     ]
    },
    {
     "name": "stdout",
     "output_type": "stream",
     "text": [
      "Epoch [120/300], Train Loss: 0.0055, Val Loss: 0.0034\n",
      "Epoch 120/300 completed in 1.42 seconds.\n"
     ]
    },
    {
     "name": "stdout",
     "output_type": "stream",
     "text": [
      "Epoch [121/300], Train Loss: 0.0050, Val Loss: 0.0040\n",
      "Epoch 121/300 completed in 1.25 seconds.\n"
     ]
    },
    {
     "name": "stdout",
     "output_type": "stream",
     "text": [
      "Epoch [122/300], Train Loss: 0.0042, Val Loss: 0.0044\n",
      "Epoch 122/300 completed in 1.23 seconds.\n"
     ]
    },
    {
     "name": "stdout",
     "output_type": "stream",
     "text": [
      "Epoch [123/300], Train Loss: 0.0051, Val Loss: 0.0054\n",
      "Epoch 123/300 completed in 1.27 seconds.\n"
     ]
    },
    {
     "name": "stdout",
     "output_type": "stream",
     "text": [
      "Epoch [124/300], Train Loss: 0.0044, Val Loss: 0.0035\n",
      "Epoch 124/300 completed in 1.30 seconds.\n"
     ]
    },
    {
     "name": "stdout",
     "output_type": "stream",
     "text": [
      "Epoch [125/300], Train Loss: 0.0042, Val Loss: 0.0046\n",
      "Epoch 125/300 completed in 1.27 seconds.\n"
     ]
    },
    {
     "name": "stdout",
     "output_type": "stream",
     "text": [
      "Epoch [126/300], Train Loss: 0.0038, Val Loss: 0.0105\n",
      "Epoch 126/300 completed in 1.37 seconds.\n"
     ]
    },
    {
     "name": "stdout",
     "output_type": "stream",
     "text": [
      "Epoch [127/300], Train Loss: 0.0063, Val Loss: 0.0047\n",
      "Epoch 127/300 completed in 1.31 seconds.\n"
     ]
    },
    {
     "name": "stdout",
     "output_type": "stream",
     "text": [
      "Epoch [128/300], Train Loss: 0.0051, Val Loss: 0.0022\n",
      "Epoch 128/300 completed in 1.30 seconds.\n"
     ]
    },
    {
     "name": "stdout",
     "output_type": "stream",
     "text": [
      "Epoch [129/300], Train Loss: 0.0039, Val Loss: 0.0070\n",
      "Epoch 129/300 completed in 1.29 seconds.\n"
     ]
    },
    {
     "name": "stdout",
     "output_type": "stream",
     "text": [
      "Epoch [130/300], Train Loss: 0.0046, Val Loss: 0.0031\n",
      "Epoch 130/300 completed in 1.27 seconds.\n"
     ]
    },
    {
     "name": "stdout",
     "output_type": "stream",
     "text": [
      "Epoch [131/300], Train Loss: 0.0045, Val Loss: 0.0040\n",
      "Epoch 131/300 completed in 1.25 seconds.\n"
     ]
    },
    {
     "name": "stdout",
     "output_type": "stream",
     "text": [
      "Epoch [132/300], Train Loss: 0.0045, Val Loss: 0.0024\n",
      "Epoch 132/300 completed in 1.25 seconds.\n"
     ]
    },
    {
     "name": "stdout",
     "output_type": "stream",
     "text": [
      "Epoch [133/300], Train Loss: 0.0039, Val Loss: 0.0027\n",
      "Epoch 133/300 completed in 1.25 seconds.\n"
     ]
    },
    {
     "name": "stdout",
     "output_type": "stream",
     "text": [
      "Epoch [134/300], Train Loss: 0.0044, Val Loss: 0.0039\n",
      "Epoch 134/300 completed in 1.27 seconds.\n"
     ]
    },
    {
     "name": "stdout",
     "output_type": "stream",
     "text": [
      "Epoch [135/300], Train Loss: 0.0156, Val Loss: 0.0034\n",
      "Epoch 135/300 completed in 1.21 seconds.\n"
     ]
    },
    {
     "name": "stdout",
     "output_type": "stream",
     "text": [
      "Epoch [136/300], Train Loss: 0.0035, Val Loss: 0.0030\n",
      "Epoch 136/300 completed in 1.24 seconds.\n"
     ]
    },
    {
     "name": "stdout",
     "output_type": "stream",
     "text": [
      "Epoch [137/300], Train Loss: 0.0035, Val Loss: 0.0028\n",
      "Epoch 137/300 completed in 1.19 seconds.\n"
     ]
    },
    {
     "name": "stdout",
     "output_type": "stream",
     "text": [
      "Epoch [138/300], Train Loss: 0.0036, Val Loss: 0.0032\n",
      "Epoch 138/300 completed in 1.22 seconds.\n"
     ]
    },
    {
     "name": "stdout",
     "output_type": "stream",
     "text": [
      "Epoch [139/300], Train Loss: 0.0043, Val Loss: 0.0025\n",
      "Epoch 139/300 completed in 1.20 seconds.\n"
     ]
    },
    {
     "name": "stdout",
     "output_type": "stream",
     "text": [
      "Epoch [140/300], Train Loss: 0.0036, Val Loss: 0.0039\n",
      "Epoch 140/300 completed in 1.20 seconds.\n"
     ]
    },
    {
     "name": "stdout",
     "output_type": "stream",
     "text": [
      "Epoch [141/300], Train Loss: 0.0044, Val Loss: 0.0027\n",
      "Epoch 141/300 completed in 1.20 seconds.\n"
     ]
    },
    {
     "name": "stdout",
     "output_type": "stream",
     "text": [
      "Epoch [142/300], Train Loss: 0.0036, Val Loss: 0.0056\n",
      "Epoch 142/300 completed in 1.19 seconds.\n"
     ]
    },
    {
     "name": "stdout",
     "output_type": "stream",
     "text": [
      "Epoch [143/300], Train Loss: 0.0044, Val Loss: 0.0034\n",
      "Epoch 143/300 completed in 1.20 seconds.\n"
     ]
    },
    {
     "name": "stdout",
     "output_type": "stream",
     "text": [
      "Epoch [144/300], Train Loss: 0.0040, Val Loss: 0.0036\n",
      "Epoch 144/300 completed in 1.21 seconds.\n"
     ]
    },
    {
     "name": "stdout",
     "output_type": "stream",
     "text": [
      "Epoch [145/300], Train Loss: 0.0039, Val Loss: 0.0044\n",
      "Epoch 145/300 completed in 1.29 seconds.\n"
     ]
    },
    {
     "name": "stdout",
     "output_type": "stream",
     "text": [
      "Epoch [146/300], Train Loss: 0.0040, Val Loss: 0.0035\n",
      "Epoch 146/300 completed in 1.18 seconds.\n"
     ]
    },
    {
     "name": "stdout",
     "output_type": "stream",
     "text": [
      "Epoch [147/300], Train Loss: 0.0037, Val Loss: 0.0066\n",
      "Epoch 147/300 completed in 1.18 seconds.\n"
     ]
    },
    {
     "name": "stdout",
     "output_type": "stream",
     "text": [
      "Epoch [148/300], Train Loss: 0.0047, Val Loss: 0.0063\n",
      "Epoch 148/300 completed in 1.22 seconds.\n"
     ]
    },
    {
     "name": "stdout",
     "output_type": "stream",
     "text": [
      "Epoch [149/300], Train Loss: 0.0033, Val Loss: 0.0042\n",
      "Epoch 149/300 completed in 1.32 seconds.\n"
     ]
    },
    {
     "name": "stdout",
     "output_type": "stream",
     "text": [
      "Epoch [150/300], Train Loss: 0.0056, Val Loss: 0.0053\n",
      "Model saved: ./output_model/best_model_epoch_150.pth\n",
      "Epoch 150/300 completed in 1.28 seconds.\n"
     ]
    },
    {
     "name": "stdout",
     "output_type": "stream",
     "text": [
      "Epoch [151/300], Train Loss: 0.0042, Val Loss: 0.0043\n",
      "Epoch 151/300 completed in 1.39 seconds.\n"
     ]
    },
    {
     "name": "stdout",
     "output_type": "stream",
     "text": [
      "Epoch [152/300], Train Loss: 0.0042, Val Loss: 0.0029\n",
      "Epoch 152/300 completed in 1.21 seconds.\n"
     ]
    },
    {
     "name": "stdout",
     "output_type": "stream",
     "text": [
      "Epoch [153/300], Train Loss: 0.0048, Val Loss: 0.0040\n",
      "Epoch 153/300 completed in 1.39 seconds.\n"
     ]
    },
    {
     "name": "stdout",
     "output_type": "stream",
     "text": [
      "Epoch [154/300], Train Loss: 0.0042, Val Loss: 0.0056\n",
      "Epoch 154/300 completed in 1.46 seconds.\n"
     ]
    },
    {
     "name": "stdout",
     "output_type": "stream",
     "text": [
      "Epoch [155/300], Train Loss: 0.0046, Val Loss: 0.0028\n",
      "Epoch 155/300 completed in 1.45 seconds.\n"
     ]
    },
    {
     "name": "stdout",
     "output_type": "stream",
     "text": [
      "Epoch [156/300], Train Loss: 0.0042, Val Loss: 0.0040\n",
      "Epoch 156/300 completed in 1.47 seconds.\n"
     ]
    },
    {
     "name": "stdout",
     "output_type": "stream",
     "text": [
      "Epoch [157/300], Train Loss: 0.0042, Val Loss: 0.0061\n",
      "Epoch 157/300 completed in 1.37 seconds.\n"
     ]
    },
    {
     "name": "stdout",
     "output_type": "stream",
     "text": [
      "Epoch [158/300], Train Loss: 0.0038, Val Loss: 0.0038\n",
      "Epoch 158/300 completed in 1.58 seconds.\n"
     ]
    },
    {
     "name": "stdout",
     "output_type": "stream",
     "text": [
      "Epoch [159/300], Train Loss: 0.0038, Val Loss: 0.0040\n",
      "Epoch 159/300 completed in 1.33 seconds.\n"
     ]
    },
    {
     "name": "stdout",
     "output_type": "stream",
     "text": [
      "Epoch [160/300], Train Loss: 0.0039, Val Loss: 0.0110\n",
      "Epoch 160/300 completed in 1.32 seconds.\n"
     ]
    },
    {
     "name": "stdout",
     "output_type": "stream",
     "text": [
      "Epoch [161/300], Train Loss: 0.0041, Val Loss: 0.0024\n",
      "Epoch 161/300 completed in 1.29 seconds.\n"
     ]
    },
    {
     "name": "stdout",
     "output_type": "stream",
     "text": [
      "Epoch [162/300], Train Loss: 0.0044, Val Loss: 0.0027\n",
      "Epoch 162/300 completed in 1.29 seconds.\n"
     ]
    },
    {
     "name": "stdout",
     "output_type": "stream",
     "text": [
      "Epoch [163/300], Train Loss: 0.0045, Val Loss: 0.0015\n",
      "Epoch 163/300 completed in 1.29 seconds.\n"
     ]
    },
    {
     "name": "stdout",
     "output_type": "stream",
     "text": [
      "Epoch [164/300], Train Loss: 0.0038, Val Loss: 0.0017\n",
      "Epoch 164/300 completed in 1.30 seconds.\n"
     ]
    },
    {
     "name": "stdout",
     "output_type": "stream",
     "text": [
      "Epoch [165/300], Train Loss: 0.0037, Val Loss: 0.0015\n",
      "Epoch 165/300 completed in 1.30 seconds.\n"
     ]
    },
    {
     "name": "stdout",
     "output_type": "stream",
     "text": [
      "Epoch [166/300], Train Loss: 0.0035, Val Loss: 0.0013\n",
      "Epoch 166/300 completed in 1.29 seconds.\n"
     ]
    },
    {
     "name": "stdout",
     "output_type": "stream",
     "text": [
      "Epoch [167/300], Train Loss: 0.0040, Val Loss: 0.0037\n",
      "Epoch 167/300 completed in 1.39 seconds.\n"
     ]
    },
    {
     "name": "stdout",
     "output_type": "stream",
     "text": [
      "Epoch [168/300], Train Loss: 0.0041, Val Loss: 0.0016\n",
      "Epoch 168/300 completed in 1.30 seconds.\n"
     ]
    },
    {
     "name": "stdout",
     "output_type": "stream",
     "text": [
      "Epoch [169/300], Train Loss: 0.0034, Val Loss: 0.0017\n",
      "Epoch 169/300 completed in 1.32 seconds.\n"
     ]
    },
    {
     "name": "stdout",
     "output_type": "stream",
     "text": [
      "Epoch [170/300], Train Loss: 0.0067, Val Loss: 0.0016\n",
      "Epoch 170/300 completed in 1.29 seconds.\n"
     ]
    },
    {
     "name": "stdout",
     "output_type": "stream",
     "text": [
      "Epoch [171/300], Train Loss: 0.0034, Val Loss: 0.0019\n",
      "Epoch 171/300 completed in 1.30 seconds.\n"
     ]
    },
    {
     "name": "stdout",
     "output_type": "stream",
     "text": [
      "Epoch [172/300], Train Loss: 0.0035, Val Loss: 0.0014\n",
      "Epoch 172/300 completed in 1.31 seconds.\n"
     ]
    },
    {
     "name": "stdout",
     "output_type": "stream",
     "text": [
      "Epoch [173/300], Train Loss: 0.0038, Val Loss: 0.0022\n",
      "Epoch 173/300 completed in 1.28 seconds.\n"
     ]
    },
    {
     "name": "stdout",
     "output_type": "stream",
     "text": [
      "Epoch [174/300], Train Loss: 0.0036, Val Loss: 0.0019\n",
      "Epoch 174/300 completed in 1.27 seconds.\n"
     ]
    },
    {
     "name": "stdout",
     "output_type": "stream",
     "text": [
      "Epoch [175/300], Train Loss: 0.0039, Val Loss: 0.0015\n",
      "Epoch 175/300 completed in 1.35 seconds.\n"
     ]
    },
    {
     "name": "stdout",
     "output_type": "stream",
     "text": [
      "Epoch [176/300], Train Loss: 0.0042, Val Loss: 0.0015\n",
      "Epoch 176/300 completed in 1.26 seconds.\n"
     ]
    },
    {
     "name": "stdout",
     "output_type": "stream",
     "text": [
      "Epoch [177/300], Train Loss: 0.0035, Val Loss: 0.0017\n",
      "Epoch 177/300 completed in 1.26 seconds.\n"
     ]
    },
    {
     "name": "stdout",
     "output_type": "stream",
     "text": [
      "Epoch [178/300], Train Loss: 0.0041, Val Loss: 0.0018\n",
      "Epoch 178/300 completed in 1.32 seconds.\n"
     ]
    },
    {
     "name": "stdout",
     "output_type": "stream",
     "text": [
      "Epoch [179/300], Train Loss: 0.0039, Val Loss: 0.0012\n",
      "Epoch 179/300 completed in 1.31 seconds.\n"
     ]
    },
    {
     "name": "stdout",
     "output_type": "stream",
     "text": [
      "Epoch [180/300], Train Loss: 0.0036, Val Loss: 0.0015\n",
      "Epoch 180/300 completed in 1.58 seconds.\n"
     ]
    },
    {
     "name": "stdout",
     "output_type": "stream",
     "text": [
      "Epoch [181/300], Train Loss: 0.0034, Val Loss: 0.0028\n",
      "Epoch 181/300 completed in 1.60 seconds.\n"
     ]
    },
    {
     "name": "stdout",
     "output_type": "stream",
     "text": [
      "Epoch [182/300], Train Loss: 0.0047, Val Loss: 0.0058\n",
      "Epoch 182/300 completed in 1.57 seconds.\n"
     ]
    },
    {
     "name": "stdout",
     "output_type": "stream",
     "text": [
      "Epoch [183/300], Train Loss: 0.0051, Val Loss: 0.0013\n",
      "Epoch 183/300 completed in 1.27 seconds.\n"
     ]
    },
    {
     "name": "stdout",
     "output_type": "stream",
     "text": [
      "Epoch [184/300], Train Loss: 0.0037, Val Loss: 0.0048\n",
      "Epoch 184/300 completed in 1.28 seconds.\n"
     ]
    },
    {
     "name": "stdout",
     "output_type": "stream",
     "text": [
      "Epoch [185/300], Train Loss: 0.0044, Val Loss: 0.0014\n",
      "Epoch 185/300 completed in 1.26 seconds.\n"
     ]
    },
    {
     "name": "stdout",
     "output_type": "stream",
     "text": [
      "Epoch [186/300], Train Loss: 0.0037, Val Loss: 0.0043\n",
      "Epoch 186/300 completed in 1.49 seconds.\n"
     ]
    },
    {
     "name": "stdout",
     "output_type": "stream",
     "text": [
      "Epoch [187/300], Train Loss: 0.0034, Val Loss: 0.0011\n",
      "Epoch 187/300 completed in 1.53 seconds.\n"
     ]
    },
    {
     "name": "stdout",
     "output_type": "stream",
     "text": [
      "Epoch [188/300], Train Loss: 0.0034, Val Loss: 0.0048\n",
      "Epoch 188/300 completed in 1.52 seconds.\n"
     ]
    },
    {
     "name": "stdout",
     "output_type": "stream",
     "text": [
      "Epoch [189/300], Train Loss: 0.0048, Val Loss: 0.0039\n",
      "Epoch 189/300 completed in 1.53 seconds.\n"
     ]
    },
    {
     "name": "stdout",
     "output_type": "stream",
     "text": [
      "Epoch [190/300], Train Loss: 0.0038, Val Loss: 0.0017\n",
      "Epoch 190/300 completed in 1.50 seconds.\n"
     ]
    },
    {
     "name": "stdout",
     "output_type": "stream",
     "text": [
      "Epoch [191/300], Train Loss: 0.0037, Val Loss: 0.0027\n",
      "Epoch 191/300 completed in 1.29 seconds.\n"
     ]
    },
    {
     "name": "stdout",
     "output_type": "stream",
     "text": [
      "Epoch [192/300], Train Loss: 0.0040, Val Loss: 0.0017\n",
      "Epoch 192/300 completed in 1.26 seconds.\n"
     ]
    },
    {
     "name": "stdout",
     "output_type": "stream",
     "text": [
      "Epoch [193/300], Train Loss: 0.0038, Val Loss: 0.0025\n",
      "Epoch 193/300 completed in 1.24 seconds.\n"
     ]
    },
    {
     "name": "stdout",
     "output_type": "stream",
     "text": [
      "Epoch [194/300], Train Loss: 0.0036, Val Loss: 0.0012\n",
      "Epoch 194/300 completed in 1.26 seconds.\n"
     ]
    },
    {
     "name": "stdout",
     "output_type": "stream",
     "text": [
      "Epoch [195/300], Train Loss: 0.0039, Val Loss: 0.0013\n",
      "Epoch 195/300 completed in 1.29 seconds.\n"
     ]
    },
    {
     "name": "stdout",
     "output_type": "stream",
     "text": [
      "Epoch [196/300], Train Loss: 0.0039, Val Loss: 0.0016\n",
      "Epoch 196/300 completed in 1.32 seconds.\n"
     ]
    },
    {
     "name": "stdout",
     "output_type": "stream",
     "text": [
      "Epoch [197/300], Train Loss: 0.0036, Val Loss: 0.0015\n",
      "Epoch 197/300 completed in 1.29 seconds.\n"
     ]
    },
    {
     "name": "stdout",
     "output_type": "stream",
     "text": [
      "Epoch [198/300], Train Loss: 0.0037, Val Loss: 0.0014\n",
      "Epoch 198/300 completed in 1.28 seconds.\n"
     ]
    },
    {
     "name": "stdout",
     "output_type": "stream",
     "text": [
      "Epoch [199/300], Train Loss: 0.0039, Val Loss: 0.0017\n",
      "Epoch 199/300 completed in 1.39 seconds.\n"
     ]
    },
    {
     "name": "stdout",
     "output_type": "stream",
     "text": [
      "Epoch [200/300], Train Loss: 0.0045, Val Loss: 0.0017\n",
      "Model saved: ./output_model/best_model_epoch_200.pth\n",
      "Epoch 200/300 completed in 1.55 seconds.\n"
     ]
    },
    {
     "name": "stdout",
     "output_type": "stream",
     "text": [
      "Epoch [201/300], Train Loss: 0.0042, Val Loss: 0.0016\n",
      "Epoch 201/300 completed in 1.47 seconds.\n"
     ]
    },
    {
     "name": "stdout",
     "output_type": "stream",
     "text": [
      "Epoch [202/300], Train Loss: 0.0034, Val Loss: 0.0012\n",
      "Epoch 202/300 completed in 1.34 seconds.\n"
     ]
    },
    {
     "name": "stdout",
     "output_type": "stream",
     "text": [
      "Epoch [203/300], Train Loss: 0.0035, Val Loss: 0.0021\n",
      "Epoch 203/300 completed in 1.32 seconds.\n"
     ]
    },
    {
     "name": "stdout",
     "output_type": "stream",
     "text": [
      "Epoch [204/300], Train Loss: 0.0051, Val Loss: 0.0032\n",
      "Epoch 204/300 completed in 1.50 seconds.\n"
     ]
    },
    {
     "name": "stdout",
     "output_type": "stream",
     "text": [
      "Epoch [205/300], Train Loss: 0.0037, Val Loss: 0.0016\n",
      "Epoch 205/300 completed in 1.32 seconds.\n"
     ]
    },
    {
     "name": "stdout",
     "output_type": "stream",
     "text": [
      "Epoch [206/300], Train Loss: 0.0035, Val Loss: 0.0013\n",
      "Epoch 206/300 completed in 1.27 seconds.\n"
     ]
    },
    {
     "name": "stdout",
     "output_type": "stream",
     "text": [
      "Epoch [207/300], Train Loss: 0.0042, Val Loss: 0.0024\n",
      "Epoch 207/300 completed in 1.55 seconds.\n"
     ]
    },
    {
     "name": "stdout",
     "output_type": "stream",
     "text": [
      "Epoch [208/300], Train Loss: 0.0034, Val Loss: 0.0026\n",
      "Epoch 208/300 completed in 1.62 seconds.\n"
     ]
    },
    {
     "name": "stdout",
     "output_type": "stream",
     "text": [
      "Epoch [209/300], Train Loss: 0.0033, Val Loss: 0.0021\n",
      "Epoch 209/300 completed in 1.35 seconds.\n"
     ]
    },
    {
     "name": "stdout",
     "output_type": "stream",
     "text": [
      "Epoch [210/300], Train Loss: 0.0037, Val Loss: 0.0015\n",
      "Epoch 210/300 completed in 1.33 seconds.\n"
     ]
    },
    {
     "name": "stdout",
     "output_type": "stream",
     "text": [
      "Epoch [211/300], Train Loss: 0.0036, Val Loss: 0.0013\n",
      "Epoch 211/300 completed in 1.30 seconds.\n"
     ]
    },
    {
     "name": "stdout",
     "output_type": "stream",
     "text": [
      "Epoch [212/300], Train Loss: 0.0038, Val Loss: 0.0014\n",
      "Epoch 212/300 completed in 1.33 seconds.\n"
     ]
    },
    {
     "name": "stdout",
     "output_type": "stream",
     "text": [
      "Epoch [213/300], Train Loss: 0.0036, Val Loss: 0.0022\n",
      "Epoch 213/300 completed in 1.31 seconds.\n"
     ]
    },
    {
     "name": "stdout",
     "output_type": "stream",
     "text": [
      "Epoch [214/300], Train Loss: 0.0036, Val Loss: 0.0076\n",
      "Epoch 214/300 completed in 1.31 seconds.\n"
     ]
    },
    {
     "name": "stdout",
     "output_type": "stream",
     "text": [
      "Epoch [215/300], Train Loss: 0.0033, Val Loss: 0.0021\n",
      "Epoch 215/300 completed in 1.30 seconds.\n"
     ]
    },
    {
     "name": "stdout",
     "output_type": "stream",
     "text": [
      "Epoch [216/300], Train Loss: 0.0038, Val Loss: 0.0017\n",
      "Epoch 216/300 completed in 1.34 seconds.\n"
     ]
    },
    {
     "name": "stdout",
     "output_type": "stream",
     "text": [
      "Epoch [217/300], Train Loss: 0.0042, Val Loss: 0.0021\n",
      "Epoch 217/300 completed in 1.44 seconds.\n"
     ]
    },
    {
     "name": "stdout",
     "output_type": "stream",
     "text": [
      "Epoch [218/300], Train Loss: 0.0040, Val Loss: 0.0025\n",
      "Epoch 218/300 completed in 1.31 seconds.\n"
     ]
    },
    {
     "name": "stdout",
     "output_type": "stream",
     "text": [
      "Epoch [219/300], Train Loss: 0.0031, Val Loss: 0.0017\n",
      "Epoch 219/300 completed in 1.31 seconds.\n"
     ]
    },
    {
     "name": "stdout",
     "output_type": "stream",
     "text": [
      "Epoch [220/300], Train Loss: 0.0038, Val Loss: 0.0020\n",
      "Epoch 220/300 completed in 1.31 seconds.\n"
     ]
    },
    {
     "name": "stdout",
     "output_type": "stream",
     "text": [
      "Epoch [221/300], Train Loss: 0.0033, Val Loss: 0.0014\n",
      "Epoch 221/300 completed in 1.35 seconds.\n"
     ]
    },
    {
     "name": "stdout",
     "output_type": "stream",
     "text": [
      "Epoch [222/300], Train Loss: 0.0040, Val Loss: 0.0041\n",
      "Epoch 222/300 completed in 1.31 seconds.\n"
     ]
    },
    {
     "name": "stdout",
     "output_type": "stream",
     "text": [
      "Epoch [223/300], Train Loss: 0.0035, Val Loss: 0.0020\n",
      "Epoch 223/300 completed in 1.30 seconds.\n"
     ]
    },
    {
     "name": "stdout",
     "output_type": "stream",
     "text": [
      "Epoch [224/300], Train Loss: 0.0037, Val Loss: 0.0021\n",
      "Epoch 224/300 completed in 1.30 seconds.\n"
     ]
    },
    {
     "name": "stdout",
     "output_type": "stream",
     "text": [
      "Epoch [225/300], Train Loss: 0.0043, Val Loss: 0.0050\n",
      "Epoch 225/300 completed in 1.31 seconds.\n"
     ]
    },
    {
     "name": "stdout",
     "output_type": "stream",
     "text": [
      "Epoch [226/300], Train Loss: 0.0040, Val Loss: 0.0017\n",
      "Epoch 226/300 completed in 1.41 seconds.\n"
     ]
    },
    {
     "name": "stdout",
     "output_type": "stream",
     "text": [
      "Epoch [227/300], Train Loss: 0.0036, Val Loss: 0.0013\n",
      "Epoch 227/300 completed in 1.35 seconds.\n"
     ]
    },
    {
     "name": "stdout",
     "output_type": "stream",
     "text": [
      "Epoch [228/300], Train Loss: 0.0032, Val Loss: 0.0017\n",
      "Epoch 228/300 completed in 1.56 seconds.\n"
     ]
    },
    {
     "name": "stdout",
     "output_type": "stream",
     "text": [
      "Epoch [229/300], Train Loss: 0.0032, Val Loss: 0.0011\n",
      "Epoch 229/300 completed in 1.63 seconds.\n"
     ]
    },
    {
     "name": "stdout",
     "output_type": "stream",
     "text": [
      "Epoch [230/300], Train Loss: 0.0039, Val Loss: 0.0014\n",
      "Epoch 230/300 completed in 1.62 seconds.\n"
     ]
    },
    {
     "name": "stdout",
     "output_type": "stream",
     "text": [
      "Epoch [231/300], Train Loss: 0.0035, Val Loss: 0.0016\n",
      "Epoch 231/300 completed in 1.64 seconds.\n"
     ]
    },
    {
     "name": "stdout",
     "output_type": "stream",
     "text": [
      "Epoch [232/300], Train Loss: 0.0040, Val Loss: 0.0026\n",
      "Epoch 232/300 completed in 1.63 seconds.\n"
     ]
    },
    {
     "name": "stdout",
     "output_type": "stream",
     "text": [
      "Epoch [233/300], Train Loss: 0.0036, Val Loss: 0.0033\n",
      "Epoch 233/300 completed in 1.53 seconds.\n"
     ]
    },
    {
     "name": "stdout",
     "output_type": "stream",
     "text": [
      "Epoch [234/300], Train Loss: 0.0043, Val Loss: 0.0024\n",
      "Epoch 234/300 completed in 1.27 seconds.\n"
     ]
    },
    {
     "name": "stdout",
     "output_type": "stream",
     "text": [
      "Epoch [235/300], Train Loss: 0.0035, Val Loss: 0.0013\n",
      "Epoch 235/300 completed in 1.32 seconds.\n"
     ]
    },
    {
     "name": "stdout",
     "output_type": "stream",
     "text": [
      "Epoch [236/300], Train Loss: 0.0035, Val Loss: 0.0014\n",
      "Epoch 236/300 completed in 1.28 seconds.\n"
     ]
    },
    {
     "name": "stdout",
     "output_type": "stream",
     "text": [
      "Epoch [237/300], Train Loss: 0.0037, Val Loss: 0.0018\n",
      "Epoch 237/300 completed in 1.31 seconds.\n"
     ]
    },
    {
     "name": "stdout",
     "output_type": "stream",
     "text": [
      "Epoch [238/300], Train Loss: 0.0044, Val Loss: 0.0024\n",
      "Epoch 238/300 completed in 1.32 seconds.\n"
     ]
    },
    {
     "name": "stdout",
     "output_type": "stream",
     "text": [
      "Epoch [239/300], Train Loss: 0.0032, Val Loss: 0.0028\n",
      "Epoch 239/300 completed in 1.32 seconds.\n"
     ]
    },
    {
     "name": "stdout",
     "output_type": "stream",
     "text": [
      "Epoch [240/300], Train Loss: 0.0032, Val Loss: 0.0014\n",
      "Epoch 240/300 completed in 1.30 seconds.\n"
     ]
    },
    {
     "name": "stdout",
     "output_type": "stream",
     "text": [
      "Epoch [241/300], Train Loss: 0.0029, Val Loss: 0.0016\n",
      "Epoch 241/300 completed in 1.27 seconds.\n"
     ]
    },
    {
     "name": "stdout",
     "output_type": "stream",
     "text": [
      "Epoch [242/300], Train Loss: 0.0038, Val Loss: 0.0026\n",
      "Epoch 242/300 completed in 1.31 seconds.\n"
     ]
    },
    {
     "name": "stdout",
     "output_type": "stream",
     "text": [
      "Epoch [243/300], Train Loss: 0.0039, Val Loss: 0.0014\n",
      "Epoch 243/300 completed in 1.34 seconds.\n"
     ]
    },
    {
     "name": "stdout",
     "output_type": "stream",
     "text": [
      "Epoch [244/300], Train Loss: 0.0031, Val Loss: 0.0050\n",
      "Epoch 244/300 completed in 1.30 seconds.\n"
     ]
    },
    {
     "name": "stdout",
     "output_type": "stream",
     "text": [
      "Epoch [245/300], Train Loss: 0.0035, Val Loss: 0.0015\n",
      "Epoch 245/300 completed in 1.31 seconds.\n"
     ]
    },
    {
     "name": "stdout",
     "output_type": "stream",
     "text": [
      "Epoch [246/300], Train Loss: 0.0034, Val Loss: 0.0012\n",
      "Epoch 246/300 completed in 1.40 seconds.\n"
     ]
    },
    {
     "name": "stdout",
     "output_type": "stream",
     "text": [
      "Epoch [247/300], Train Loss: 0.0043, Val Loss: 0.0023\n",
      "Epoch 247/300 completed in 1.30 seconds.\n"
     ]
    },
    {
     "name": "stdout",
     "output_type": "stream",
     "text": [
      "Epoch [248/300], Train Loss: 0.0033, Val Loss: 0.0025\n",
      "Epoch 248/300 completed in 1.30 seconds.\n"
     ]
    },
    {
     "name": "stdout",
     "output_type": "stream",
     "text": [
      "Epoch [249/300], Train Loss: 0.0034, Val Loss: 0.0021\n",
      "Epoch 249/300 completed in 1.27 seconds.\n"
     ]
    },
    {
     "name": "stdout",
     "output_type": "stream",
     "text": [
      "Epoch [250/300], Train Loss: 0.0035, Val Loss: 0.0020\n",
      "Model saved: ./output_model/best_model_epoch_250.pth\n",
      "Epoch 250/300 completed in 1.27 seconds.\n"
     ]
    },
    {
     "name": "stdout",
     "output_type": "stream",
     "text": [
      "Epoch [251/300], Train Loss: 0.0035, Val Loss: 0.0032\n",
      "Epoch 251/300 completed in 1.30 seconds.\n"
     ]
    },
    {
     "name": "stdout",
     "output_type": "stream",
     "text": [
      "Epoch [252/300], Train Loss: 0.0031, Val Loss: 0.0016\n",
      "Epoch 252/300 completed in 1.30 seconds.\n"
     ]
    },
    {
     "name": "stdout",
     "output_type": "stream",
     "text": [
      "Epoch [253/300], Train Loss: 0.0037, Val Loss: 0.0020\n",
      "Epoch 253/300 completed in 1.31 seconds.\n"
     ]
    },
    {
     "name": "stdout",
     "output_type": "stream",
     "text": [
      "Epoch [254/300], Train Loss: 0.0035, Val Loss: 0.0035\n",
      "Epoch 254/300 completed in 1.31 seconds.\n"
     ]
    },
    {
     "name": "stdout",
     "output_type": "stream",
     "text": [
      "Epoch [255/300], Train Loss: 0.0037, Val Loss: 0.0016\n",
      "Epoch 255/300 completed in 1.30 seconds.\n"
     ]
    },
    {
     "name": "stdout",
     "output_type": "stream",
     "text": [
      "Epoch [256/300], Train Loss: 0.0031, Val Loss: 0.0028\n",
      "Epoch 256/300 completed in 1.33 seconds.\n"
     ]
    },
    {
     "name": "stdout",
     "output_type": "stream",
     "text": [
      "Epoch [257/300], Train Loss: 0.0035, Val Loss: 0.0018\n",
      "Epoch 257/300 completed in 1.32 seconds.\n"
     ]
    },
    {
     "name": "stdout",
     "output_type": "stream",
     "text": [
      "Epoch [258/300], Train Loss: 0.0035, Val Loss: 0.0016\n",
      "Epoch 258/300 completed in 1.23 seconds.\n"
     ]
    },
    {
     "name": "stdout",
     "output_type": "stream",
     "text": [
      "Epoch [259/300], Train Loss: 0.0032, Val Loss: 0.0014\n",
      "Epoch 259/300 completed in 1.23 seconds.\n"
     ]
    },
    {
     "name": "stdout",
     "output_type": "stream",
     "text": [
      "Epoch [260/300], Train Loss: 0.0035, Val Loss: 0.0022\n",
      "Epoch 260/300 completed in 1.50 seconds.\n"
     ]
    },
    {
     "name": "stdout",
     "output_type": "stream",
     "text": [
      "Epoch [261/300], Train Loss: 0.0031, Val Loss: 0.0015\n",
      "Epoch 261/300 completed in 1.49 seconds.\n"
     ]
    },
    {
     "name": "stdout",
     "output_type": "stream",
     "text": [
      "Epoch [262/300], Train Loss: 0.0034, Val Loss: 0.0013\n",
      "Epoch 262/300 completed in 1.49 seconds.\n"
     ]
    },
    {
     "name": "stdout",
     "output_type": "stream",
     "text": [
      "Epoch [263/300], Train Loss: 0.0032, Val Loss: 0.0014\n",
      "Epoch 263/300 completed in 1.33 seconds.\n"
     ]
    },
    {
     "name": "stdout",
     "output_type": "stream",
     "text": [
      "Epoch [264/300], Train Loss: 0.0035, Val Loss: 0.0023\n",
      "Epoch 264/300 completed in 1.25 seconds.\n"
     ]
    },
    {
     "name": "stdout",
     "output_type": "stream",
     "text": [
      "Epoch [265/300], Train Loss: 0.0044, Val Loss: 0.0028\n",
      "Epoch 265/300 completed in 1.24 seconds.\n"
     ]
    },
    {
     "name": "stdout",
     "output_type": "stream",
     "text": [
      "Epoch [266/300], Train Loss: 0.0033, Val Loss: 0.0018\n",
      "Epoch 266/300 completed in 1.24 seconds.\n"
     ]
    },
    {
     "name": "stdout",
     "output_type": "stream",
     "text": [
      "Epoch [267/300], Train Loss: 0.0033, Val Loss: 0.0021\n",
      "Epoch 267/300 completed in 1.24 seconds.\n"
     ]
    },
    {
     "name": "stdout",
     "output_type": "stream",
     "text": [
      "Epoch [268/300], Train Loss: 0.0032, Val Loss: 0.0013\n",
      "Epoch 268/300 completed in 1.24 seconds.\n"
     ]
    },
    {
     "name": "stdout",
     "output_type": "stream",
     "text": [
      "Epoch [269/300], Train Loss: 0.0031, Val Loss: 0.0015\n",
      "Epoch 269/300 completed in 1.24 seconds.\n"
     ]
    },
    {
     "name": "stdout",
     "output_type": "stream",
     "text": [
      "Epoch [270/300], Train Loss: 0.0032, Val Loss: 0.0020\n",
      "Epoch 270/300 completed in 1.24 seconds.\n"
     ]
    },
    {
     "name": "stdout",
     "output_type": "stream",
     "text": [
      "Epoch [271/300], Train Loss: 0.0031, Val Loss: 0.0015\n",
      "Epoch 271/300 completed in 1.21 seconds.\n"
     ]
    },
    {
     "name": "stdout",
     "output_type": "stream",
     "text": [
      "Epoch [272/300], Train Loss: 0.0033, Val Loss: 0.0018\n",
      "Epoch 272/300 completed in 1.22 seconds.\n"
     ]
    },
    {
     "name": "stdout",
     "output_type": "stream",
     "text": [
      "Epoch [273/300], Train Loss: 0.0034, Val Loss: 0.0016\n",
      "Epoch 273/300 completed in 1.33 seconds.\n"
     ]
    },
    {
     "name": "stdout",
     "output_type": "stream",
     "text": [
      "Epoch [274/300], Train Loss: 0.0034, Val Loss: 0.0017\n",
      "Epoch 274/300 completed in 1.46 seconds.\n"
     ]
    },
    {
     "name": "stdout",
     "output_type": "stream",
     "text": [
      "Epoch [275/300], Train Loss: 0.0037, Val Loss: 0.0012\n",
      "Epoch 275/300 completed in 1.46 seconds.\n"
     ]
    },
    {
     "name": "stdout",
     "output_type": "stream",
     "text": [
      "Epoch [276/300], Train Loss: 0.0030, Val Loss: 0.0012\n",
      "Epoch 276/300 completed in 1.46 seconds.\n"
     ]
    },
    {
     "name": "stdout",
     "output_type": "stream",
     "text": [
      "Epoch [277/300], Train Loss: 0.0036, Val Loss: 0.0013\n",
      "Epoch 277/300 completed in 1.46 seconds.\n"
     ]
    },
    {
     "name": "stdout",
     "output_type": "stream",
     "text": [
      "Epoch [278/300], Train Loss: 0.0031, Val Loss: 0.0018\n",
      "Epoch 278/300 completed in 1.30 seconds.\n"
     ]
    },
    {
     "name": "stdout",
     "output_type": "stream",
     "text": [
      "Epoch [279/300], Train Loss: 0.0031, Val Loss: 0.0030\n",
      "Epoch 279/300 completed in 1.26 seconds.\n"
     ]
    },
    {
     "name": "stdout",
     "output_type": "stream",
     "text": [
      "Epoch [280/300], Train Loss: 0.0036, Val Loss: 0.0015\n",
      "Epoch 280/300 completed in 1.25 seconds.\n"
     ]
    },
    {
     "name": "stdout",
     "output_type": "stream",
     "text": [
      "Epoch [281/300], Train Loss: 0.0034, Val Loss: 0.0037\n",
      "Epoch 281/300 completed in 1.26 seconds.\n"
     ]
    },
    {
     "name": "stdout",
     "output_type": "stream",
     "text": [
      "Epoch [282/300], Train Loss: 0.0047, Val Loss: 0.0015\n",
      "Epoch 282/300 completed in 1.26 seconds.\n"
     ]
    },
    {
     "name": "stdout",
     "output_type": "stream",
     "text": [
      "Epoch [283/300], Train Loss: 0.0029, Val Loss: 0.0018\n",
      "Epoch 283/300 completed in 1.27 seconds.\n"
     ]
    },
    {
     "name": "stdout",
     "output_type": "stream",
     "text": [
      "Epoch [284/300], Train Loss: 0.0035, Val Loss: 0.0018\n",
      "Epoch 284/300 completed in 1.25 seconds.\n"
     ]
    },
    {
     "name": "stdout",
     "output_type": "stream",
     "text": [
      "Epoch [285/300], Train Loss: 0.0033, Val Loss: 0.0018\n",
      "Epoch 285/300 completed in 1.23 seconds.\n"
     ]
    },
    {
     "name": "stdout",
     "output_type": "stream",
     "text": [
      "Epoch [286/300], Train Loss: 0.0034, Val Loss: 0.0014\n",
      "Epoch 286/300 completed in 1.24 seconds.\n"
     ]
    },
    {
     "name": "stdout",
     "output_type": "stream",
     "text": [
      "Epoch [287/300], Train Loss: 0.0031, Val Loss: 0.0018\n",
      "Epoch 287/300 completed in 1.23 seconds.\n"
     ]
    },
    {
     "name": "stdout",
     "output_type": "stream",
     "text": [
      "Epoch [288/300], Train Loss: 0.0035, Val Loss: 0.0013\n",
      "Epoch 288/300 completed in 1.23 seconds.\n"
     ]
    },
    {
     "name": "stdout",
     "output_type": "stream",
     "text": [
      "Epoch [289/300], Train Loss: 0.0034, Val Loss: 0.0016\n",
      "Epoch 289/300 completed in 1.23 seconds.\n"
     ]
    },
    {
     "name": "stdout",
     "output_type": "stream",
     "text": [
      "Epoch [290/300], Train Loss: 0.0034, Val Loss: 0.0011\n",
      "Epoch 290/300 completed in 1.23 seconds.\n"
     ]
    },
    {
     "name": "stdout",
     "output_type": "stream",
     "text": [
      "Epoch [291/300], Train Loss: 0.0029, Val Loss: 0.0021\n",
      "Epoch 291/300 completed in 1.22 seconds.\n"
     ]
    },
    {
     "name": "stdout",
     "output_type": "stream",
     "text": [
      "Epoch [292/300], Train Loss: 0.0032, Val Loss: 0.0012\n",
      "Epoch 292/300 completed in 1.23 seconds.\n"
     ]
    },
    {
     "name": "stdout",
     "output_type": "stream",
     "text": [
      "Epoch [293/300], Train Loss: 0.0032, Val Loss: 0.0023\n",
      "Epoch 293/300 completed in 1.23 seconds.\n"
     ]
    },
    {
     "name": "stdout",
     "output_type": "stream",
     "text": [
      "Epoch [294/300], Train Loss: 0.0031, Val Loss: 0.0017\n",
      "Epoch 294/300 completed in 1.23 seconds.\n"
     ]
    },
    {
     "name": "stdout",
     "output_type": "stream",
     "text": [
      "Epoch [295/300], Train Loss: 0.0034, Val Loss: 0.0017\n",
      "Epoch 295/300 completed in 1.23 seconds.\n"
     ]
    },
    {
     "name": "stdout",
     "output_type": "stream",
     "text": [
      "Epoch [296/300], Train Loss: 0.0034, Val Loss: 0.0017\n",
      "Epoch 296/300 completed in 1.23 seconds.\n"
     ]
    },
    {
     "name": "stdout",
     "output_type": "stream",
     "text": [
      "Epoch [297/300], Train Loss: 0.0032, Val Loss: 0.0033\n",
      "Epoch 297/300 completed in 1.26 seconds.\n"
     ]
    },
    {
     "name": "stdout",
     "output_type": "stream",
     "text": [
      "Epoch [298/300], Train Loss: 0.0033, Val Loss: 0.0018\n",
      "Epoch 298/300 completed in 1.23 seconds.\n"
     ]
    },
    {
     "name": "stdout",
     "output_type": "stream",
     "text": [
      "Epoch [299/300], Train Loss: 0.0033, Val Loss: 0.0014\n",
      "Epoch 299/300 completed in 1.24 seconds.\n"
     ]
    },
    {
     "name": "stdout",
     "output_type": "stream",
     "text": [
      "Epoch [300/300], Train Loss: 0.0032, Val Loss: 0.0012\n",
      "Model saved: ./output_model/best_model_epoch_300.pth\n",
      "Epoch 300/300 completed in 1.24 seconds.\n",
      "Total training time: 391.01 seconds.\n"
     ]
    }
   ],
   "source": [
    "import time\n",
    "import torch\n",
    "\n",
    "# 학습 및 검증 손실을 기록할 리스트\n",
    "train_losses = []\n",
    "val_losses = []\n",
    "\n",
    "best_model.train()\n",
    "total_train_time = 0  # 총 학습 시간 기록 변수\n",
    "\n",
    "for epoch in range(num_epochs):  # 최종 모델 학습\n",
    "    best_model.train()\n",
    "    train_loss = 0.0\n",
    "    epoch_start_time = time.time()  # 에포크 시작 시간 기록\n",
    "    for batch_x, batch_y in train_loader:\n",
    "        batch_x = batch_x.to(device)  # 입력 데이터 차원 조정\n",
    "        batch_y = batch_y.to(device)\n",
    "        optimizer.zero_grad()\n",
    "        output = best_model(batch_x)\n",
    "        loss = criterion(output, batch_y)\n",
    "        loss.backward()\n",
    "        optimizer.step()\n",
    "        train_loss += loss.item()\n",
    "\n",
    "    epoch_end_time = time.time()  # 에포크 종료 시간 기록\n",
    "    epoch_duration = epoch_end_time - epoch_start_time  # 한 에포크의 학습 시간\n",
    "    total_train_time += epoch_duration  # 총 학습 시간에 추가\n",
    "\n",
    "    # Validation set에서 성능 측정\n",
    "    best_model.eval()\n",
    "    val_loss = 0\n",
    "    with torch.no_grad():\n",
    "        for batch_x, batch_y in val_loader:\n",
    "            batch_x = batch_x.to(device)  # 입력 데이터 차원 조정\n",
    "            batch_y = batch_y.to(device)\n",
    "            output = best_model(batch_x)\n",
    "            loss = criterion(output, batch_y)\n",
    "            val_loss += loss.item()\n",
    "\n",
    "    # 평균 손실 계산 및 저장\n",
    "    train_losses.append(train_loss / len(train_loader))\n",
    "    val_losses.append(val_loss / len(val_loader))\n",
    "\n",
    "    print(f'Epoch [{epoch+1}/{num_epochs}], Train Loss: {train_loss:.4f}, Val Loss: {val_loss:.4f}')\n",
    "\n",
    "    # 모델 저장\n",
    "    if (epoch + 1) % 50 == 0:\n",
    "\n",
    "      # Model Save\n",
    "      model_save_path = f\"./output_model/best_model_epoch_{epoch+1}.pth\"\n",
    "      torch.save({\n",
    "        'model_state_dict': best_model.state_dict(),\n",
    "        'train_losses': train_losses,\n",
    "        'val_losses': val_losses\n",
    "      }, model_save_path)\n",
    "      print(f\"Model saved: {model_save_path}\")\n",
    "\n",
    "    print(f\"Epoch {epoch+1}/{num_epochs} completed in {epoch_duration:.2f} seconds.\")\n",
    "\n",
    "print(f\"Total training time: {total_train_time:.2f} seconds.\")\n"
   ]
  },
  {
   "cell_type": "markdown",
   "metadata": {
    "id": "AGPG9wMU66vB"
   },
   "source": [
    "### 3. 모델 요약 내용 출력"
   ]
  },
  {
   "cell_type": "code",
   "execution_count": 20,
   "metadata": {
    "colab": {
     "base_uri": "https://localhost:8080/"
    },
    "execution": {
     "iopub.execute_input": "2024-10-21T03:39:20.824484Z",
     "iopub.status.busy": "2024-10-21T03:39:20.824192Z",
     "iopub.status.idle": "2024-10-21T03:39:20.842696Z",
     "shell.execute_reply": "2024-10-21T03:39:20.841926Z"
    },
    "id": "dtvUWEC8pdJb",
    "outputId": "6cdd7ed0-696d-4bba-fa94-bda555c0eddb"
   },
   "outputs": [
    {
     "data": {
      "text/plain": [
       "===============================================================================================\n",
       "Layer (type:depth-idx)                        Output Shape              Param #\n",
       "===============================================================================================\n",
       "TransformerModel                              [1, 3]                    --\n",
       "├─Linear: 1-1                                 [1, 10, 72]               288\n",
       "├─PositionalEncoding: 1-2                     [1, 10, 72]               --\n",
       "│    └─Dropout: 2-1                           [1, 10, 72]               --\n",
       "├─TransformerEncoder: 1-3                     [1, 10, 72]               --\n",
       "│    └─ModuleList: 2-2                        --                        --\n",
       "│    │    └─TransformerEncoderLayer: 3-1      [1, 10, 72]               80,689\n",
       "├─Linear: 1-4                                 [1, 10, 3]                219\n",
       "===============================================================================================\n",
       "Total params: 81,196\n",
       "Trainable params: 81,196\n",
       "Non-trainable params: 0\n",
       "Total mult-adds (M): 0.00\n",
       "===============================================================================================\n",
       "Input size (MB): 0.00\n",
       "Forward/backward pass size (MB): 0.01\n",
       "Params size (MB): 0.00\n",
       "Estimated Total Size (MB): 0.01\n",
       "==============================================================================================="
      ]
     },
     "execution_count": 20,
     "metadata": {},
     "output_type": "execute_result"
    }
   ],
   "source": [
    "from torchinfo import summary\n",
    "\n",
    "summary(best_model, (1, 10, 3), device=device)"
   ]
  },
  {
   "cell_type": "markdown",
   "metadata": {
    "id": "niiMUsYNy2Xy"
   },
   "source": [
    "## 테스트"
   ]
  },
  {
   "cell_type": "markdown",
   "metadata": {
    "id": "5-lJAmjGyx4w"
   },
   "source": [
    "### 1. 테스트 결과 생성"
   ]
  },
  {
   "cell_type": "code",
   "execution_count": 21,
   "metadata": {
    "colab": {
     "base_uri": "https://localhost:8080/"
    },
    "execution": {
     "iopub.execute_input": "2024-10-21T03:39:20.846336Z",
     "iopub.status.busy": "2024-10-21T03:39:20.846022Z",
     "iopub.status.idle": "2024-10-21T03:39:20.960304Z",
     "shell.execute_reply": "2024-10-21T03:39:20.959533Z"
    },
    "id": "jZx_NHjT8ugM",
    "outputId": "7b07963f-0b4d-4275-dab4-bcaa787cea24"
   },
   "outputs": [
    {
     "name": "stdout",
     "output_type": "stream",
     "text": [
      "Mean Squared Error (MSE): 1.1919763892365154e-05\n",
      "Mean Absolute Error (MAE): 0.0021775292698293924\n"
     ]
    }
   ],
   "source": [
    "import numpy as np\n",
    "from sklearn.metrics import mean_squared_error, mean_absolute_error\n",
    "import torch\n",
    "\n",
    "# 모델 예측 및 성능 평가\n",
    "best_model.eval()\n",
    "device = torch.device('cuda' if torch.cuda.is_available() else 'cpu')\n",
    "\n",
    "test_loss = 0\n",
    "y_true_list = []\n",
    "y_pred_list = []\n",
    "\n",
    "with torch.no_grad():\n",
    "    for batch_x, batch_y in test_loader:\n",
    "        batch_x = batch_x.to(device)\n",
    "        batch_y = batch_y.to(device)\n",
    "\n",
    "        # 예측 수행\n",
    "        output = best_model(batch_x)\n",
    "\n",
    "        # 손실 계산\n",
    "        loss = criterion(output, batch_y)\n",
    "        test_loss += loss.item()\n",
    "\n",
    "        # 예측값과 실제값 저장\n",
    "        y_pred_list.append(output.cpu().numpy())  # 예측값을 CPU로 이동하여 numpy 배열로 변환\n",
    "        y_true_list.append(batch_y.cpu().numpy())  # 실제값을 CPU로 이동하여 numpy 배열로 변환\n",
    "\n",
    "# 리스트를 numpy 배열로 변환\n",
    "y_pred = np.concatenate(y_pred_list, axis=0)\n",
    "y_true = np.concatenate(y_true_list, axis=0)\n",
    "\n",
    "# 성능 평가\n",
    "mse = mean_squared_error(y_true, y_pred)\n",
    "mae = mean_absolute_error(y_true, y_pred)\n",
    "\n",
    "print(f'Mean Squared Error (MSE): {mse}')\n",
    "print(f'Mean Absolute Error (MAE): {mae}')"
   ]
  },
  {
   "cell_type": "markdown",
   "metadata": {
    "id": "vet2WrIsdUL_"
   },
   "source": [
    "### 2. 결과 시각화"
   ]
  },
  {
   "cell_type": "code",
   "execution_count": 22,
   "metadata": {
    "colab": {
     "base_uri": "https://localhost:8080/",
     "height": 675
    },
    "execution": {
     "iopub.execute_input": "2024-10-21T03:39:20.963579Z",
     "iopub.status.busy": "2024-10-21T03:39:20.963271Z",
     "iopub.status.idle": "2024-10-21T03:39:21.304688Z",
     "shell.execute_reply": "2024-10-21T03:39:21.303744Z"
    },
    "id": "xc_TdEFadJRk",
    "outputId": "29b1d716-6bb0-4c06-9a14-1f17bea067dd"
   },
   "outputs": [
    {
     "data": {
      "image/png": "[encoded data removed]",
      "text/plain": [
       "<Figure size 1200x800 with 1 Axes>"
      ]
     },
     "metadata": {},
     "output_type": "display_data"
    }
   ],
   "source": [
    "prediction_visualization(y_true, y_pred)"
   ]
  },
  {
   "cell_type": "markdown",
   "metadata": {
    "id": "F_CgxYsm9cJS"
   },
   "source": [
    "#### 3. raw 데이터와 predict 데이터 비교"
   ]
  },
  {
   "cell_type": "code",
   "execution_count": 23,
   "metadata": {
    "colab": {
     "base_uri": "https://localhost:8080/",
     "height": 675
    },
    "execution": {
     "iopub.execute_input": "2024-10-21T03:39:21.310415Z",
     "iopub.status.busy": "2024-10-21T03:39:21.310076Z",
     "iopub.status.idle": "2024-10-21T03:39:21.596668Z",
     "shell.execute_reply": "2024-10-21T03:39:21.595667Z"
    },
    "id": "HTosdwF2-dBe",
    "outputId": "26623e31-9331-43ba-c947-0dec48f20d51"
   },
   "outputs": [
    {
     "data": {
      "image/png": "[encoded data removed]",
      "text/plain": [
       "<Figure size 1200x800 with 1 Axes>"
      ]
     },
     "metadata": {},
     "output_type": "display_data"
    }
   ],
   "source": [
    "y_pred_original = scaler.inverse_transform(y_pred)\n",
    "\n",
    "y_test_original = scaler.inverse_transform(y_true.reshape(-1, 3))\n",
    "\n",
    "prediction_visualization(y_test_original, y_pred_original)"
   ]
  },
  {
   "cell_type": "code",
   "execution_count": 24,
   "metadata": {
    "execution": {
     "iopub.execute_input": "2024-10-21T03:39:21.603216Z",
     "iopub.status.busy": "2024-10-21T03:39:21.602840Z",
     "iopub.status.idle": "2024-10-21T03:39:21.606876Z",
     "shell.execute_reply": "2024-10-21T03:39:21.605956Z"
    },
    "id": "uUxl3o630igS"
   },
   "outputs": [],
   "source": [
    "# plot_trajectory(train_data, val_data, test_data)"
   ]
  },
  {
   "cell_type": "markdown",
   "metadata": {
    "id": "Tvfx-SH-m0xI"
   },
   "source": [
    "## Compare Models\n"
   ]
  },
  {
   "cell_type": "markdown",
   "metadata": {
    "id": "wdW6xDBIoDB9"
   },
   "source": [
    "### Model 비교 그래프"
   ]
  },
  {
   "cell_type": "code",
   "execution_count": 25,
   "metadata": {
    "execution": {
     "iopub.execute_input": "2024-10-21T03:39:21.610896Z",
     "iopub.status.busy": "2024-10-21T03:39:21.610494Z",
     "iopub.status.idle": "2024-10-21T03:39:21.622898Z",
     "shell.execute_reply": "2024-10-21T03:39:21.622189Z"
    },
    "id": "xrCYnEP8nvH9"
   },
   "outputs": [],
   "source": [
    "import matplotlib.pyplot as plt\n",
    "import pandas as pd\n",
    "\n",
    "def plot_model_comparison(df, num_epochs, y_limits = [0, 0.01]):\n",
    "\n",
    "    # 그래프 설정\n",
    "    if num_epochs == 50:\n",
    "        xticks_interval = 10\n",
    "    elif num_epochs == 100:\n",
    "        xticks_interval = 20\n",
    "    elif num_epochs == 150:\n",
    "        xticks_interval = 30\n",
    "    else:\n",
    "        xticks_interval = num_epochs // 5  # 에포크 수에 따라 5개로 구분\n",
    "\n",
    "    # 색상 지정\n",
    "    colors = ['#1f77b4', '#ff7f0e', '#2ca02c']\n",
    "\n",
    "    fig, axs = plt.subplots(1, 2, figsize=(20, 6))\n",
    "\n",
    "    # Plot Train Loss\n",
    "    axs[0].plot(df['epoch'], df['train_loss_1'], label='LSTM', color=colors[0], marker='o', markevery=[-1])\n",
    "    axs[0].plot(df['epoch'], df['train_loss_2'], label='GRU', color=colors[1], marker='o', markevery=[-1])\n",
    "    axs[0].plot(df['epoch'], df['train_loss_3'], label='Transformer', color=colors[2], marker='o', markevery=[-1])\n",
    "    axs[0].set_title('Train Loss')\n",
    "    axs[0].set_xlabel('epochs')\n",
    "    axs[0].set_ylabel('Loss')\n",
    "    axs[0].set_xticks(range(0, num_epochs + 1, xticks_interval))  # x축 tick 설정\n",
    "    axs[0].legend()\n",
    "    axs[0].yaxis.grid(False)  # 가로줄 끄기\n",
    "    axs[0].xaxis.grid(False)  # 세로줄 끄기\n",
    "\n",
    "    # Y축 수동 설정\n",
    "    if y_limits:\n",
    "        axs[0].set_ylim(y_limits[0], y_limits[1])\n",
    "\n",
    "    # Plot Valid Loss\n",
    "    axs[1].plot(df['epoch'], df['valid_loss_1'], label='LSTM', color=colors[0], marker='o', markevery=[-1])\n",
    "    axs[1].plot(df['epoch'], df['valid_loss_2'], label='GRU', color=colors[1], marker='o', markevery=[-1])\n",
    "    axs[1].plot(df['epoch'], df['valid_loss_3'], label='Transformer', color=colors[2], marker='o', markevery=[-1])\n",
    "    axs[1].set_title('Valid Loss')\n",
    "    axs[1].set_xlabel('epochs')\n",
    "    axs[1].set_ylabel('Loss')\n",
    "    axs[1].set_xticks(range(0, num_epochs + 1, xticks_interval))\n",
    "    axs[1].legend()\n",
    "    axs[1].yaxis.grid(False)  # 가로줄 끄기\n",
    "    axs[1].xaxis.grid(False)  # 세로줄 끄기\n",
    "\n",
    "    # Y축 수동 설정\n",
    "    if y_limits:\n",
    "        axs[1].set_ylim(y_limits[0], y_limits[1])\n",
    "\n",
    "    # Adjust layout\n",
    "    plt.tight_layout()\n",
    "    plt.show()"
   ]
  },
  {
   "cell_type": "markdown",
   "metadata": {
    "id": "8DvGrbPV5K8q"
   },
   "source": [
    "### 모델 불러오기"
   ]
  },
  {
   "cell_type": "code",
   "execution_count": 26,
   "metadata": {
    "colab": {
     "base_uri": "https://localhost:8080/"
    },
    "execution": {
     "iopub.execute_input": "2024-10-21T03:39:21.626279Z",
     "iopub.status.busy": "2024-10-21T03:39:21.625978Z",
     "iopub.status.idle": "2024-10-21T03:39:21.633655Z",
     "shell.execute_reply": "2024-10-21T03:39:21.632976Z"
    },
    "id": "-CQZqxjzm22p",
    "outputId": "a729a3bb-f3c0-4400-a697-eab1e77aa36b"
   },
   "outputs": [
    {
     "name": "stdout",
     "output_type": "stream",
     "text": [
      "dict_keys(['model_state_dict', 'train_losses', 'val_losses'])\n"
     ]
    },
    {
     "name": "stderr",
     "output_type": "stream",
     "text": [
      "/tmp/ipykernel_33577/1353769495.py:1: FutureWarning: You are using `torch.load` with `weights_only=False` (the current default value), which uses the default pickle module implicitly. It is possible to construct malicious pickle data which will execute arbitrary code during unpickling (See https://github.com/pytorch/pytorch/blob/main/SECURITY.md#untrusted-models for more details). In a future release, the default value for `weights_only` will be flipped to `True`. This limits the functions that could be executed during unpickling. Arbitrary objects will no longer be allowed to be loaded via this mode unless they are explicitly allowlisted by the user via `torch.serialization.add_safe_globals`. We recommend you start setting `weights_only=True` for any use case where you don't have full control of the loaded file. Please open an issue on GitHub for any issues related to this experimental feature.\n",
      "  checkpoint = torch.load('./output_model/best_model_epoch_300.pth')\n"
     ]
    }
   ],
   "source": [
    "checkpoint = torch.load('./output_model/best_model_epoch_300.pth')\n",
    "print(checkpoint.keys())\n",
    "\n",
    "transformer_train_losses = checkpoint['train_losses']\n",
    "transformer_val_losses = checkpoint['val_losses']"
   ]
  },
  {
   "cell_type": "markdown",
   "metadata": {
    "id": "VhWiMGuoHp76"
   },
   "source": [
    "### Val, Test data LOSS"
   ]
  },
  {
   "cell_type": "code",
   "execution_count": 27,
   "metadata": {
    "execution": {
     "iopub.execute_input": "2024-10-21T03:39:21.637027Z",
     "iopub.status.busy": "2024-10-21T03:39:21.636688Z",
     "iopub.status.idle": "2024-10-21T03:39:21.642370Z",
     "shell.execute_reply": "2024-10-21T03:39:21.641690Z"
    },
    "id": "QtPKcwVhHv9f"
   },
   "outputs": [],
   "source": [
    "import matplotlib.pyplot as plt\n",
    "\n",
    "def plot_losses(train_losses, val_losses, y_limits=None):\n",
    "    epochs = range(1, len(train_losses) + 1)\n",
    "\n",
    "    plt.figure(figsize=(10, 6))\n",
    "\n",
    "    # Y축 수동 설정 (옵션)\n",
    "    if y_limits:\n",
    "        plt.ylim(y_limits[0], y_limits[1])\n",
    "\n",
    "    plt.plot(epochs, train_losses, label='Training Loss')\n",
    "    plt.plot(epochs, val_losses, label='Validation Loss')\n",
    "\n",
    "    plt.xlabel('Epochs', fontsize=12)\n",
    "    plt.ylabel('Loss', fontsize=12)\n",
    "    plt.title('Training and Validation Loss per Epoch', fontsize=14)\n",
    "    plt.legend()\n",
    "\n",
    "    plt.tight_layout()\n",
    "    plt.show()\n"
   ]
  },
  {
   "cell_type": "code",
   "execution_count": 28,
   "metadata": {
    "colab": {
     "base_uri": "https://localhost:8080/",
     "height": 472
    },
    "execution": {
     "iopub.execute_input": "2024-10-21T03:39:21.645492Z",
     "iopub.status.busy": "2024-10-21T03:39:21.645186Z",
     "iopub.status.idle": "2024-10-21T03:39:21.844617Z",
     "shell.execute_reply": "2024-10-21T03:39:21.843535Z"
    },
    "id": "0Y8KFZrUMV7a",
    "outputId": "1ba6d59f-840d-4c65-c8db-2ece9e9b19af"
   },
   "outputs": [
    {
     "data": {
      "image/png": "[encoded data removed]",
      "text/plain": [
       "<Figure size 640x480 with 1 Axes>"
      ]
     },
     "metadata": {},
     "output_type": "display_data"
    }
   ],
   "source": [
    "plt.plot(range(5, num_epochs + 1), train_losses[4:], label='Train Loss')\n",
    "plt.plot(range(5, num_epochs + 1), val_losses[4:], label='Validation Loss')\n",
    "plt.xlabel('Epoch')\n",
    "plt.ylabel('Loss')\n",
    "plt.title('Train and Validation Loss')\n",
    "plt.legend()\n",
    "plt.show()"
   ]
  },
  {
   "cell_type": "code",
   "execution_count": 29,
   "metadata": {
    "colab": {
     "base_uri": "https://localhost:8080/",
     "height": 600
    },
    "execution": {
     "iopub.execute_input": "2024-10-21T03:39:21.849731Z",
     "iopub.status.busy": "2024-10-21T03:39:21.849456Z",
     "iopub.status.idle": "2024-10-21T03:39:22.081843Z",
     "shell.execute_reply": "2024-10-21T03:39:22.080764Z"
    },
    "id": "4QKvdrmgJN6v",
    "outputId": "7f67ac25-aa0b-4f90-d334-532ee4e94137"
   },
   "outputs": [
    {
     "data": {
      "image/png": "[encoded data removed]",
      "text/plain": [
       "<Figure size 1000x600 with 1 Axes>"
      ]
     },
     "metadata": {},
     "output_type": "display_data"
    }
   ],
   "source": [
    "plot_losses(transformer_train_losses, transformer_val_losses, y_limits = (0, 0.001))"
   ]
  }
 ],
 "metadata": {
  "accelerator": "GPU",
  "colab": {
   "collapsed_sections": [
    "G_Y5diT0_CK5",
    "RsoiT-rUcsbi",
    "4YJd91PCtHJS",
    "niiMUsYNy2Xy"
   ],
   "gpuType": "T4",
   "provenance": []
  },
  "kernelspec": {
   "display_name": "Python 3",
   "name": "python3"
  },
  "language_info": {
   "codemirror_mode": {
    "name": "ipython",
    "version": 3
   },
   "file_extension": ".py",
   "mimetype": "text/x-python",
   "name": "python",
   "nbconvert_exporter": "python",
   "pygments_lexer": "ipython3",
   "version": "3.10.12"
  }
 },
 "nbformat": 4,
 "nbformat_minor": 0
}
