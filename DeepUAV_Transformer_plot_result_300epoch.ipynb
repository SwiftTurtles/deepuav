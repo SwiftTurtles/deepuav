{
  "cells": [
    {
      "cell_type": "code",
      "execution_count": 1,
      "metadata": {
        "execution": {
          "iopub.execute_input": "2024-10-21T03:32:17.151645Z",
          "iopub.status.busy": "2024-10-21T03:32:17.151146Z",
          "iopub.status.idle": "2024-10-21T03:32:17.157164Z",
          "shell.execute_reply": "2024-10-21T03:32:17.156282Z"
        },
        "id": "jsXWnc9abSrT"
      },
      "outputs": [],
      "source": [
        " # from google.colab import drive\n",
        "# drive.mount('/content/drive')"
      ]
    },
    {
      "cell_type": "markdown",
      "metadata": {
        "id": "m9WrRVLYlLra"
      },
      "source": [
        "### 패키지 설치 & 라이브러리 import"
      ]
    },
    {
      "cell_type": "code",
      "execution_count": 2,
      "metadata": {
        "colab": {
          "base_uri": "https://localhost:8080/"
        },
        "execution": {
          "iopub.execute_input": "2024-10-21T03:32:17.160883Z",
          "iopub.status.busy": "2024-10-21T03:32:17.160560Z",
          "iopub.status.idle": "2024-10-21T03:32:17.164128Z",
          "shell.execute_reply": "2024-10-21T03:32:17.163431Z"
        },
        "id": "2lPMKbVWF2Gq",
        "outputId": "95ce5bec-a3c7-4971-dfd7-1ded7f08ee12"
      },
      "outputs": [
        {
          "output_type": "stream",
          "name": "stdout",
          "text": [
            "Collecting optuna\n",
            "  Downloading optuna-4.0.0-py3-none-any.whl.metadata (16 kB)\n",
            "Collecting alembic>=1.5.0 (from optuna)\n",
            "  Downloading alembic-1.13.3-py3-none-any.whl.metadata (7.4 kB)\n",
            "Collecting colorlog (from optuna)\n",
            "  Downloading colorlog-6.8.2-py3-none-any.whl.metadata (10 kB)\n",
            "Requirement already satisfied: numpy in /usr/local/lib/python3.10/dist-packages (from optuna) (1.26.4)\n",
            "Requirement already satisfied: packaging>=20.0 in /usr/local/lib/python3.10/dist-packages (from optuna) (24.1)\n",
            "Requirement already satisfied: sqlalchemy>=1.3.0 in /usr/local/lib/python3.10/dist-packages (from optuna) (2.0.36)\n",
            "Requirement already satisfied: tqdm in /usr/local/lib/python3.10/dist-packages (from optuna) (4.66.5)\n",
            "Requirement already satisfied: PyYAML in /usr/local/lib/python3.10/dist-packages (from optuna) (6.0.2)\n",
            "Collecting Mako (from alembic>=1.5.0->optuna)\n",
            "  Downloading Mako-1.3.5-py3-none-any.whl.metadata (2.9 kB)\n",
            "Requirement already satisfied: typing-extensions>=4 in /usr/local/lib/python3.10/dist-packages (from alembic>=1.5.0->optuna) (4.12.2)\n",
            "Requirement already satisfied: greenlet!=0.4.17 in /usr/local/lib/python3.10/dist-packages (from sqlalchemy>=1.3.0->optuna) (3.1.1)\n",
            "Requirement already satisfied: MarkupSafe>=0.9.2 in /usr/local/lib/python3.10/dist-packages (from Mako->alembic>=1.5.0->optuna) (3.0.1)\n",
            "Downloading optuna-4.0.0-py3-none-any.whl (362 kB)\n",
            "\u001b[2K   \u001b[90m━━━━━━━━━━━━━━━━━━━━━━━━━━━━━━━━━━━━━━━━\u001b[0m \u001b[32m362.8/362.8 kB\u001b[0m \u001b[31m20.9 MB/s\u001b[0m eta \u001b[36m0:00:00\u001b[0m\n",
            "\u001b[?25hDownloading alembic-1.13.3-py3-none-any.whl (233 kB)\n",
            "\u001b[2K   \u001b[90m━━━━━━━━━━━━━━━━━━━━━━━━━━━━━━━━━━━━━━━━\u001b[0m \u001b[32m233.2/233.2 kB\u001b[0m \u001b[31m20.3 MB/s\u001b[0m eta \u001b[36m0:00:00\u001b[0m\n",
            "\u001b[?25hDownloading colorlog-6.8.2-py3-none-any.whl (11 kB)\n",
            "Downloading Mako-1.3.5-py3-none-any.whl (78 kB)\n",
            "\u001b[2K   \u001b[90m━━━━━━━━━━━━━━━━━━━━━━━━━━━━━━━━━━━━━━━━\u001b[0m \u001b[32m78.6/78.6 kB\u001b[0m \u001b[31m5.4 MB/s\u001b[0m eta \u001b[36m0:00:00\u001b[0m\n",
            "\u001b[?25hInstalling collected packages: Mako, colorlog, alembic, optuna\n",
            "Successfully installed Mako-1.3.5 alembic-1.13.3 colorlog-6.8.2 optuna-4.0.0\n",
            "Collecting torchinfo\n",
            "  Downloading torchinfo-1.8.0-py3-none-any.whl.metadata (21 kB)\n",
            "Downloading torchinfo-1.8.0-py3-none-any.whl (23 kB)\n",
            "Installing collected packages: torchinfo\n",
            "Successfully installed torchinfo-1.8.0\n"
          ]
        }
      ],
      "source": [
        "!pip install optuna\n",
        "!pip install torchinfo"
      ]
    },
    {
      "cell_type": "code",
      "execution_count": 3,
      "metadata": {
        "execution": {
          "iopub.execute_input": "2024-10-21T03:32:17.167603Z",
          "iopub.status.busy": "2024-10-21T03:32:17.167227Z",
          "iopub.status.idle": "2024-10-21T03:32:19.257363Z",
          "shell.execute_reply": "2024-10-21T03:32:19.256404Z"
        },
        "id": "gKd7dfaTPzbm"
      },
      "outputs": [],
      "source": [
        "import torch\n",
        "import torch.nn as nn\n",
        "from torch.utils.data import TensorDataset, DataLoader"
      ]
    },
    {
      "cell_type": "markdown",
      "metadata": {
        "id": "G_Y5diT0_CK5"
      },
      "source": [
        "## 전체 공통 함수"
      ]
    },
    {
      "cell_type": "markdown",
      "metadata": {
        "id": "Ng0CFeAZyxl2"
      },
      "source": [
        "### 1. 데이터 보간 함수"
      ]
    },
    {
      "cell_type": "markdown",
      "metadata": {
        "id": "wk6vfDy4zsh_"
      },
      "source": [
        "- 데이터의 시간 간격을 0.5초의 등간격으로 맞추고 그에 따른 좌표 값을 보간함\n",
        "- 가장 많이 사용되는 3차 스플라인 보간 적용"
      ]
    },
    {
      "cell_type": "code",
      "execution_count": 4,
      "metadata": {
        "execution": {
          "iopub.execute_input": "2024-10-21T03:32:19.262507Z",
          "iopub.status.busy": "2024-10-21T03:32:19.262090Z",
          "iopub.status.idle": "2024-10-21T03:32:19.940592Z",
          "shell.execute_reply": "2024-10-21T03:32:19.939317Z"
        },
        "id": "MbOt2kIkQg_7"
      },
      "outputs": [],
      "source": [
        "from scipy.interpolate import interp1d\n",
        "import numpy as np\n",
        "import matplotlib.pyplot as plt\n",
        "\n",
        "# 데이터 보간 - 위도, 고도, 경도 값을 0.5초 시간 간격으로 보간\n",
        "def spline_interpolation(x, y):\n",
        "    # x: 보간할 데이터의 x 값 (시간)\n",
        "    # y: 보간할 데이터의 y 값 (위도, 고도, 경도)\n",
        "\n",
        "    # 3차 스플라인 보간 함수 생성\n",
        "    f = interp1d(x, y, kind='cubic')\n",
        "\n",
        "    # 시간 범위 설정\n",
        "    start_time = min(x)\n",
        "    end_time = max(x)\n",
        "\n",
        "    # 0.5초 간격의 시간 배열을 생성\n",
        "    new_x = np.arange(start_time, end_time, 0.5)\n",
        "\n",
        "    # 위도, 경도, 고도 보간\n",
        "    new_y = f(new_x)\n",
        "\n",
        "    return new_x, new_y"
      ]
    },
    {
      "cell_type": "markdown",
      "metadata": {
        "id": "1LTSh1vXy1fg"
      },
      "source": [
        "### 2. 시퀀스 나누는 함수"
      ]
    },
    {
      "cell_type": "markdown",
      "metadata": {
        "id": "lWB9uZyCz1Ro"
      },
      "source": [
        "- 학습을 위해 데이터를 시퀀스 형태로 나눔\n",
        "- look back과 forward에 따라 학습에 사용될 x값의 구간과 y값을 반환함\n",
        "- 초기 look back은 10, forward는 0이다."
      ]
    },
    {
      "cell_type": "code",
      "execution_count": 5,
      "metadata": {
        "execution": {
          "iopub.execute_input": "2024-10-21T03:32:19.944757Z",
          "iopub.status.busy": "2024-10-21T03:32:19.944408Z",
          "iopub.status.idle": "2024-10-21T03:32:19.950397Z",
          "shell.execute_reply": "2024-10-21T03:32:19.949440Z"
        },
        "id": "_kmQ-_EyGFpW"
      },
      "outputs": [],
      "source": [
        "# 시퀀스 생성 함수\n",
        "# look back : 10 (5초간의 위도, 고도, 경도 데이터를 x값으로 사용)\n",
        "# forward : 0 (0.5초 뒤의 위도, 고도, 경도 데이터를 y값으로 사용)\n",
        "def create_sequences(df, look_back=10, forward=0):\n",
        "    xs = []\n",
        "    ys = []\n",
        "    for i in range(len(df) - look_back - forward):\n",
        "        x = df.iloc[i:(i+look_back)].values\n",
        "        y = df.iloc[i+look_back+forward].values\n",
        "        xs.append(x)\n",
        "        ys.append(y)\n",
        "    return np.array(xs), np.array(ys)"
      ]
    },
    {
      "cell_type": "markdown",
      "metadata": {
        "id": "eOFln2pmy4pt"
      },
      "source": [
        "### 3. 시간 소수점 절사 함수"
      ]
    },
    {
      "cell_type": "markdown",
      "metadata": {
        "id": "CDwOPPA05KGE"
      },
      "source": [
        "- 불필요한 시간 소수점 제거"
      ]
    },
    {
      "cell_type": "code",
      "execution_count": 6,
      "metadata": {
        "execution": {
          "iopub.execute_input": "2024-10-21T03:32:19.953891Z",
          "iopub.status.busy": "2024-10-21T03:32:19.953483Z",
          "iopub.status.idle": "2024-10-21T03:32:19.959293Z",
          "shell.execute_reply": "2024-10-21T03:32:19.958185Z"
        },
        "id": "CFiscMuBSycb"
      },
      "outputs": [],
      "source": [
        "import math\n",
        "\n",
        "# 시간 소수점 절사 함수\n",
        "def truncation(df):\n",
        "    new_time = []\n",
        "\n",
        "    for a in df['time']:\n",
        "      new_time.append(math.floor(a * 10) / 10)\n",
        "\n",
        "    df['time'] = new_time\n",
        "\n",
        "    return df"
      ]
    },
    {
      "cell_type": "markdown",
      "metadata": {
        "id": "-rOFnV17y8Q-"
      },
      "source": [
        "### 4. 스케일링 함수"
      ]
    },
    {
      "cell_type": "markdown",
      "metadata": {
        "id": "442iH9qd_UIt"
      },
      "source": [
        "- MinMaxScaling 적용 함수\n"
      ]
    },
    {
      "cell_type": "code",
      "execution_count": 7,
      "metadata": {
        "execution": {
          "iopub.execute_input": "2024-10-21T03:32:19.962864Z",
          "iopub.status.busy": "2024-10-21T03:32:19.962405Z",
          "iopub.status.idle": "2024-10-21T03:32:20.175243Z",
          "shell.execute_reply": "2024-10-21T03:32:20.174063Z"
        },
        "id": "zR9B-lKYNgs8"
      },
      "outputs": [],
      "source": [
        "from sklearn.preprocessing import MinMaxScaler\n",
        "\n",
        "# MinMaxScaling 적용 함수\n",
        "def min_max_scaling(df):\n",
        "\n",
        "    # time 삭제 df 생성\n",
        "    mid_df=df.drop(columns='time')\n",
        "\n",
        "    min_max_scaler = MinMaxScaler()\n",
        "    min_max_scaler.fit(mid_df)\n",
        "\n",
        "    min_max_data = min_max_scaler.transform(mid_df)\n",
        "\n",
        "    new_data = pd.DataFrame(min_max_data)\n",
        "\n",
        "    # time 추가\n",
        "    new_data.insert(0, 'time', df['time'])\n",
        "\n",
        "    # 나머지 열의 이름 가져오기\n",
        "    column_names = mid_df.columns.tolist()\n",
        "\n",
        "    column_names.insert(0, 'time')\n",
        "\n",
        "    print(column_names)\n",
        "\n",
        "    # 새로운 데이터프레임에 열 이름 설정\n",
        "    new_data.columns = column_names\n",
        "\n",
        "    return min_max_scaler, new_data"
      ]
    },
    {
      "cell_type": "markdown",
      "metadata": {
        "id": "Sa6ydGidy_CI"
      },
      "source": [
        "### 5. train/validation/test 분리 함수"
      ]
    },
    {
      "cell_type": "markdown",
      "metadata": {
        "id": "Ii6xjYd3A7YK"
      },
      "source": [
        "- Train, Validation, Test 데이터셋을 분리하는 함수이다.\n",
        "- 각각의 비율은 6:2:2 이다."
      ]
    },
    {
      "cell_type": "code",
      "execution_count": 8,
      "metadata": {
        "execution": {
          "iopub.execute_input": "2024-10-21T03:32:20.179465Z",
          "iopub.status.busy": "2024-10-21T03:32:20.179116Z",
          "iopub.status.idle": "2024-10-21T03:32:20.211372Z",
          "shell.execute_reply": "2024-10-21T03:32:20.210451Z"
        },
        "id": "mXJlnnQq7FgL"
      },
      "outputs": [],
      "source": [
        "from sklearn.model_selection import train_test_split\n",
        "\n",
        "# train/validation/test 분리 함수\n",
        "def split_train_val_test(df, test_size=0.2, val_size=0.25):\n",
        "\n",
        "    #Train, Test 분류\n",
        "    train_val_df, test_df = train_test_split(df, test_size=test_size, shuffle=False)\n",
        "\n",
        "    #Train, Validation 분류\n",
        "    train_df, val_df = train_test_split(train_val_df, test_size=val_size, shuffle=False)\n",
        "\n",
        "    # # 데이터 크기 출력\n",
        "    # print(\"Train set:\", train_df.shape)\n",
        "    # print(\"Validation set:\", val_df.shape)\n",
        "    # print(\"Test set:\", test_df.shape)\n",
        "\n",
        "    return train_df, val_df, test_df"
      ]
    },
    {
      "cell_type": "markdown",
      "metadata": {
        "id": "K90RnrEWB2Iw"
      },
      "source": [
        "### 6. 경로 시각화 함수"
      ]
    },
    {
      "cell_type": "markdown",
      "metadata": {
        "id": "t2bNHfpSBPfr"
      },
      "source": [
        "- 실제 경로와 예측 경로를 각각 그래프로 생성"
      ]
    },
    {
      "cell_type": "code",
      "execution_count": 9,
      "metadata": {
        "execution": {
          "iopub.execute_input": "2024-10-21T03:32:20.214590Z",
          "iopub.status.busy": "2024-10-21T03:32:20.214335Z",
          "iopub.status.idle": "2024-10-21T03:32:20.221148Z",
          "shell.execute_reply": "2024-10-21T03:32:20.220253Z"
        },
        "id": "l8bKkBe-h6cG"
      },
      "outputs": [],
      "source": [
        "import matplotlib.pyplot as plt\n",
        "\n",
        "# 경로 시각화 함수\n",
        "def prediction_visualization(y_test, y_pred):\n",
        "    # 시각화를 위해 위도, 경도, 고도 분리\n",
        "    y_test_lat = y_test[:, 0]\n",
        "    y_test_lon = y_test[:, 1]\n",
        "    y_test_alt = y_test[:, 2]\n",
        "\n",
        "    y_pred_lat = y_pred[:, 0]\n",
        "    y_pred_lon = y_pred[:, 1]\n",
        "    y_pred_alt = y_pred[:, 2]\n",
        "\n",
        "    # 3D 그래프 생성\n",
        "    fig = plt.figure(figsize=(12, 8))\n",
        "    ax = fig.add_subplot(111, projection='3d')\n",
        "\n",
        "    # 실제 값 플롯\n",
        "    ax.scatter(y_test_lat, y_test_lon, y_test_alt, c='b', marker='o', label='Actual')\n",
        "\n",
        "    # 예측 값 플롯\n",
        "    ax.scatter(y_pred_lat, y_pred_lon, y_pred_alt, c='r', marker='^', label='Predicted')\n",
        "\n",
        "    # 그래프 제목 및 축 레이블 설정\n",
        "    ax.set_title('Actual vs Predicted')\n",
        "    ax.set_xlabel('Latitude')\n",
        "    ax.set_ylabel('Longitude')\n",
        "    ax.set_zlabel('Altitude')\n",
        "\n",
        "    # 범례\n",
        "    ax.legend()\n",
        "\n",
        "    # 그래프를 화면에 출력\n",
        "    plt.show()"
      ]
    },
    {
      "cell_type": "code",
      "execution_count": 10,
      "metadata": {
        "execution": {
          "iopub.execute_input": "2024-10-21T03:32:20.224244Z",
          "iopub.status.busy": "2024-10-21T03:32:20.223962Z",
          "iopub.status.idle": "2024-10-21T03:32:20.231285Z",
          "shell.execute_reply": "2024-10-21T03:32:20.230219Z"
        },
        "id": "8_9fg_Gt0b73"
      },
      "outputs": [],
      "source": [
        "import matplotlib.pyplot as plt\n",
        "from mpl_toolkits.mplot3d import Axes3D\n",
        "\n",
        "# splited 데이터 경로 시각화 함수\n",
        "def plot_trajectory(train_data, val_data, test_data):\n",
        "    fig = plt.figure(figsize=(10, 7))\n",
        "    ax = fig.add_subplot(111, projection='3d')\n",
        "\n",
        "    # 훈련 데이터 플롯\n",
        "    ax.plot(train_data['lat'], train_data['lon'], train_data['alt'], label='Train', color='blue')\n",
        "\n",
        "    # 검증 데이터 플롯\n",
        "    ax.plot(val_data['lat'], val_data['lon'], val_data['alt'], label='Validation', color='green')\n",
        "\n",
        "    # 테스트 데이터 플롯\n",
        "    ax.plot(test_data['lat'], test_data['lon'], test_data['alt'], label='Test', color='red')\n",
        "\n",
        "    # 그래프 레이블\n",
        "    ax.set_xlabel('Latitude')\n",
        "    ax.set_ylabel('Longitude')\n",
        "    ax.set_zlabel('Altitude')\n",
        "\n",
        "    # 제목과 범례\n",
        "    ax.set_title('Drone Trajectory: Train, Validation, and Test')\n",
        "    ax.legend()\n",
        "\n",
        "    plt.show()\n"
      ]
    },
    {
      "cell_type": "markdown",
      "metadata": {
        "id": "5hesydw366u6"
      },
      "source": [
        "### 7. 데이터로더 생성 함수"
      ]
    },
    {
      "cell_type": "markdown",
      "metadata": {
        "id": "KTyDCnRc66u6"
      },
      "source": [
        "- 학습에 사용할 데이터 로더 생성\n",
        "1. 시퀀스 생성\n",
        "2. Train, Validation, Test 분리\n",
        "3. DataLoader 생성"
      ]
    },
    {
      "cell_type": "code",
      "execution_count": 11,
      "metadata": {
        "execution": {
          "iopub.execute_input": "2024-10-21T03:32:20.235129Z",
          "iopub.status.busy": "2024-10-21T03:32:20.234742Z",
          "iopub.status.idle": "2024-10-21T03:32:20.243912Z",
          "shell.execute_reply": "2024-10-21T03:32:20.242959Z"
        },
        "id": "rTbRbKmU66u6"
      },
      "outputs": [],
      "source": [
        "# 데이터 로더 생성 함수\n",
        "def create_dataloaders(tri, batch_size, sequence_length):\n",
        "\n",
        "  tri = tri[['time', 'lat', 'lon', 'alt']]\n",
        "\n",
        "  # train, validation, test 분리\n",
        "  train_data, val_data, test_data = split_train_val_test(tri)\n",
        "\n",
        "  # 각 데이터셋에서 시퀀스 생성\n",
        "  X_train, y_train = create_sequences(train_data[['lat', 'lon', 'alt']], look_back=sequence_length)\n",
        "  X_val, y_val = create_sequences(val_data[['lat', 'lon', 'alt']], look_back=sequence_length)\n",
        "  X_test, y_test = create_sequences(test_data[['lat', 'lon', 'alt']], look_back=sequence_length)\n",
        "\n",
        "  X_train = torch.tensor(X_train, dtype=torch.float32)\n",
        "  y_train = torch.tensor(y_train, dtype=torch.float32)\n",
        "  X_val = torch.tensor(X_val, dtype=torch.float32)\n",
        "  y_val = torch.tensor(y_val, dtype=torch.float32)\n",
        "  X_test = torch.tensor(X_test, dtype=torch.float32)\n",
        "  y_test = torch.tensor(y_test, dtype=torch.float32)\n",
        "\n",
        "  train_dataset = TensorDataset(X_train, y_train)\n",
        "  validation_dataset = TensorDataset(X_val, y_val)\n",
        "  test_dataset = TensorDataset(X_test, y_test)\n",
        "\n",
        "  # 데이터 로더 생성\n",
        "  train_loader = DataLoader(train_dataset, batch_size=batch_size, shuffle=True)\n",
        "  val_loader = DataLoader(validation_dataset, batch_size=batch_size, shuffle=False)\n",
        "  test_loader = DataLoader(test_dataset, batch_size=batch_size, shuffle=False)\n",
        "\n",
        "  return train_loader, val_loader, test_loader"
      ]
    },
    {
      "cell_type": "markdown",
      "metadata": {
        "id": "RsoiT-rUcsbi"
      },
      "source": [
        "## 전처리"
      ]
    },
    {
      "cell_type": "markdown",
      "metadata": {
        "id": "4YJd91PCtHJS"
      },
      "source": [
        "### 1. 데이터셋 가져오기"
      ]
    },
    {
      "cell_type": "code",
      "execution_count": 12,
      "metadata": {
        "execution": {
          "iopub.execute_input": "2024-10-21T03:32:20.247559Z",
          "iopub.status.busy": "2024-10-21T03:32:20.247192Z",
          "iopub.status.idle": "2024-10-21T03:32:20.679675Z",
          "shell.execute_reply": "2024-10-21T03:32:20.678477Z"
        },
        "id": "MuunCpw0crPo"
      },
      "outputs": [],
      "source": [
        "import pandas as pd\n",
        "\n",
        "# 데이터셋 가져오기 (필요시 저장 경로 수정)\n",
        "raw = pd.read_csv(\"/content/OnboardGPS.csv\")"
      ]
    },
    {
      "cell_type": "markdown",
      "metadata": {
        "id": "uILR-VuOtg1G"
      },
      "source": [
        "### 2. 데이터셋 전처리"
      ]
    },
    {
      "cell_type": "markdown",
      "metadata": {
        "id": "ea6emhMrtjFn"
      },
      "source": [
        "- 데이터셋 보간\n",
        "- 소수점 절사\n",
        "- MinMaxScaling 적용\n"
      ]
    },
    {
      "cell_type": "code",
      "execution_count": 13,
      "metadata": {
        "colab": {
          "base_uri": "https://localhost:8080/"
        },
        "execution": {
          "iopub.execute_input": "2024-10-21T03:32:20.683797Z",
          "iopub.status.busy": "2024-10-21T03:32:20.683544Z",
          "iopub.status.idle": "2024-10-21T03:32:20.798958Z",
          "shell.execute_reply": "2024-10-21T03:32:20.797758Z"
        },
        "id": "0M4Mw46Ge5dr",
        "outputId": "c2938b22-21e5-4b48-8075-af9aa04359da"
      },
      "outputs": [
        {
          "output_type": "stream",
          "name": "stdout",
          "text": [
            "['time', 'lat', 'lon', 'alt']\n"
          ]
        }
      ],
      "source": [
        "tri = raw[['Timpstemp', ' lat', ' lon', ' alt']]\n",
        "\n",
        "new_x, lat = spline_interpolation(tri['Timpstemp'] / 1e6 , tri[' lat'])\n",
        "new_x, lon = spline_interpolation(tri['Timpstemp'] / 1e6 , tri[' lon'])\n",
        "new_x, alt = spline_interpolation(tri['Timpstemp'] / 1e6 , tri[' alt'])\n",
        "\n",
        "tri = pd.DataFrame({\"time\":new_x, \"lat\":lat, \"lon\":lon, \"alt\":alt})\n",
        "\n",
        "tri = truncation(tri)\n",
        "scaler, tri = min_max_scaling(tri)\n",
        "# tri"
      ]
    },
    {
      "cell_type": "markdown",
      "metadata": {
        "id": "wlwsWq26Gf5V"
      },
      "source": [
        "## 모델 선언"
      ]
    },
    {
      "cell_type": "markdown",
      "metadata": {
        "id": "XCmztXYWwA1z"
      },
      "source": [
        "### 1. 모델 클래스 선언\n",
        "- Transformer를 사용한 모델 클래스 선언\n",
        "- 구조 : Transformer + Positional Encoding + Fully Connected Layer"
      ]
    },
    {
      "cell_type": "code",
      "execution_count": 14,
      "metadata": {
        "execution": {
          "iopub.execute_input": "2024-10-21T03:32:20.850642Z",
          "iopub.status.busy": "2024-10-21T03:32:20.850305Z",
          "iopub.status.idle": "2024-10-21T03:32:20.861285Z",
          "shell.execute_reply": "2024-10-21T03:32:20.860120Z"
        },
        "id": "1-WDOIn-GiMc"
      },
      "outputs": [],
      "source": [
        "import math\n",
        "import torch\n",
        "\n",
        "class PositionalEncoding(nn.Module):\n",
        "    def __init__(self, d_model, dropout=0.0, max_len=5000):\n",
        "        super(PositionalEncoding, self).__init__()\n",
        "        self.dropout = nn.Dropout(p=dropout)\n",
        "\n",
        "        self.pe = torch.zeros(max_len, d_model)\n",
        "        position = torch.arange(0, max_len, dtype=torch.float).unsqueeze(1)\n",
        "\n",
        "        div_term = torch.exp(torch.arange(0, d_model, 2).float() * -(math.log(10000.0) / d_model))\n",
        "        self.pe[:, 0::2] = torch.sin(position * div_term)  # Even indices\n",
        "\n",
        "        self.pe = self.pe.unsqueeze(0)\n",
        "\n",
        "    def forward(self, x):\n",
        "        if self.pe.shape[2] != x.shape[2]:\n",
        "            raise ValueError(f\"Positional encoding dim {self.pe.shape[2]} does not match input dim {x.shape[2]}\")\n",
        "\n",
        "        x = x + self.pe[:, :x.size(1), :].to(x.device)  # Add positional encoding\n",
        "        return self.dropout(x)"
      ]
    },
    {
      "cell_type": "code",
      "execution_count": 15,
      "metadata": {
        "execution": {
          "iopub.execute_input": "2024-10-21T03:32:20.864287Z",
          "iopub.status.busy": "2024-10-21T03:32:20.863954Z",
          "iopub.status.idle": "2024-10-21T03:32:20.872669Z",
          "shell.execute_reply": "2024-10-21T03:32:20.871749Z"
        },
        "id": "WSwLbkypg_s6"
      },
      "outputs": [],
      "source": [
        "import torch.nn as nn\n",
        "import torch\n",
        "\n",
        "class TransformerModel(nn.Module):\n",
        "    def __init__(self, input_dim, output_dim=3, d_model=64, nhead=4, num_encoder_layers=2, dim_feedforward=512, dropout=0.0):\n",
        "        super(TransformerModel, self).__init__()\n",
        "\n",
        "        self.embedding = nn.Linear(input_dim, d_model)\n",
        "        self.positional_encoding = PositionalEncoding(d_model=d_model, dropout=dropout)\n",
        "\n",
        "        self.transformer_encoder = nn.TransformerEncoder(\n",
        "            nn.TransformerEncoderLayer(d_model=d_model,\n",
        "                                       nhead=nhead,\n",
        "                                       dim_feedforward=dim_feedforward,\n",
        "                                       dropout=dropout,\n",
        "                                       batch_first=True  # batch_first 사용\n",
        "            ),\n",
        "            num_layers=num_encoder_layers\n",
        "        )\n",
        "\n",
        "        self.fc_out = nn.Linear(d_model, output_dim)\n",
        "\n",
        "    def forward(self, src):\n",
        "        # embedding과 positional encoding 적용\n",
        "        src = self.embedding(src)\n",
        "        src = self.positional_encoding(src)\n",
        "\n",
        "        # transformer encoder 통과 (batch_first=True이므로 permute 필요 없음)\n",
        "        output = self.transformer_encoder(src)\n",
        "\n",
        "        # fully connected layer 통과\n",
        "        output = self.fc_out(output)\n",
        "\n",
        "        return output[:, -1, :]  # 마지막 시퀀스의 출력만 반환\n"
      ]
    },
    {
      "cell_type": "markdown",
      "metadata": {
        "id": "Tvfx-SH-m0xI"
      },
      "source": [
        "## 모델 결과 출력\n"
      ]
    },
    {
      "cell_type": "markdown",
      "metadata": {
        "id": "8DvGrbPV5K8q"
      },
      "source": [
        "### 모델 불러오기"
      ]
    },
    {
      "cell_type": "code",
      "execution_count": 16,
      "metadata": {
        "colab": {
          "base_uri": "https://localhost:8080/"
        },
        "execution": {
          "iopub.execute_input": "2024-10-21T03:39:21.626279Z",
          "iopub.status.busy": "2024-10-21T03:39:21.625978Z",
          "iopub.status.idle": "2024-10-21T03:39:21.633655Z",
          "shell.execute_reply": "2024-10-21T03:39:21.632976Z"
        },
        "id": "-CQZqxjzm22p",
        "outputId": "dc18c76f-09b1-47a2-f293-e989b24488e2"
      },
      "outputs": [
        {
          "output_type": "stream",
          "name": "stdout",
          "text": [
            "dict_keys(['model_state_dict', 'train_losses', 'val_losses'])\n"
          ]
        },
        {
          "output_type": "stream",
          "name": "stderr",
          "text": [
            "<ipython-input-16-3fb542d4403e>:1: FutureWarning: You are using `torch.load` with `weights_only=False` (the current default value), which uses the default pickle module implicitly. It is possible to construct malicious pickle data which will execute arbitrary code during unpickling (See https://github.com/pytorch/pytorch/blob/main/SECURITY.md#untrusted-models for more details). In a future release, the default value for `weights_only` will be flipped to `True`. This limits the functions that could be executed during unpickling. Arbitrary objects will no longer be allowed to be loaded via this mode unless they are explicitly allowlisted by the user via `torch.serialization.add_safe_globals`. We recommend you start setting `weights_only=True` for any use case where you don't have full control of the loaded file. Please open an issue on GitHub for any issues related to this experimental feature.\n",
            "  checkpoint = torch.load('/content/best_model_epoch_300.pth')\n"
          ]
        }
      ],
      "source": [
        "checkpoint = torch.load('/content/best_model_epoch_300.pth')\n",
        "print(checkpoint.keys())\n",
        "\n",
        "transformer_train_losses = checkpoint['train_losses']\n",
        "transformer_val_losses = checkpoint['val_losses']"
      ]
    },
    {
      "cell_type": "markdown",
      "source": [
        "### Val, Test data LOSS"
      ],
      "metadata": {
        "id": "uonCNsEsow1x"
      }
    },
    {
      "cell_type": "code",
      "source": [
        "import matplotlib.pyplot as plt\n",
        "import numpy as np\n",
        "\n",
        "# 학습 후 손실 그래프 그리기\n",
        "plt.figure(figsize=(8, 6))\n",
        "plt.plot(transformer_train_losses, label='Train Loss', color='blue')\n",
        "plt.plot(transformer_val_losses, label='Validation Loss', color='orange')\n",
        "plt.title('Train and Validation Loss')\n",
        "plt.xlabel('Epoch')\n",
        "plt.ylabel('Loss')\n",
        "\n",
        "# 격자 없애기\n",
        "plt.grid(True)\n",
        "\n",
        "plt.legend()\n",
        "plt.show()"
      ],
      "metadata": {
        "colab": {
          "base_uri": "https://localhost:8080/",
          "height": 564
        },
        "id": "6MWkf45n3xrz",
        "outputId": "7b922738-207e-4244-b9a5-1b9ecbd0bdaa"
      },
      "execution_count": 17,
      "outputs": [
        {
          "output_type": "display_data",
          "data": {
            "text/plain": [
              "<Figure size 800x600 with 1 Axes>"
            ],
            "image/png": "[encoded data removed]"
          },
          "metadata": {}
        }
      ]
    },
    {
      "cell_type": "code",
      "source": [
        "import matplotlib.pyplot as plt\n",
        "import numpy as np\n",
        "\n",
        "# 학습 후 손실 그래프 그리기\n",
        "plt.figure(figsize=(8, 6))\n",
        "plt.plot(transformer_train_losses, label='Train Loss', color='blue')\n",
        "plt.plot(transformer_val_losses, label='Validation Loss', color='orange')\n",
        "plt.title('Train and Validation Loss')\n",
        "plt.xlabel('Epoch')\n",
        "plt.ylabel('Loss')\n",
        "\n",
        "# y축 범위 설정\n",
        "plt.ylim(0, 0.00035)\n",
        "\n",
        "# y축 눈금 설정 (0.0003까지 표시)\n",
        "plt.yticks(np.arange(0, 0.00031, 0.00005))\n",
        "\n",
        "# 격자 없애기\n",
        "plt.grid(True)\n",
        "\n",
        "plt.legend()\n",
        "plt.show()"
      ],
      "metadata": {
        "id": "gk9aUMXNozxK",
        "colab": {
          "base_uri": "https://localhost:8080/",
          "height": 564
        },
        "outputId": "65d85abf-6db5-42b4-eba3-5b26259bbeeb"
      },
      "execution_count": 18,
      "outputs": [
        {
          "output_type": "display_data",
          "data": {
            "text/plain": [
              "<Figure size 800x600 with 1 Axes>"
            ],
            "image/png": "[encoded data removed]"
          },
          "metadata": {}
        }
      ]
    },
    {
      "cell_type": "markdown",
      "source": [
        "### 저장된 모델 불러온 뒤 예측 시간 및 Accuracy 측정"
      ],
      "metadata": {
        "id": "b026Lr_Jf9V9"
      }
    },
    {
      "cell_type": "code",
      "source": [
        "import json\n",
        "\n",
        "# 저장된 하이퍼파라미터 불러오기\n",
        "with open(\"/content/best_hyperparameters.json\", \"r\") as f:\n",
        "    best_params = json.load(f)\n",
        "\n",
        "print(\"Loaded best hyperparameters:\", best_params)"
      ],
      "metadata": {
        "id": "hlkru8X8assM",
        "colab": {
          "base_uri": "https://localhost:8080/"
        },
        "outputId": "5e573270-1b94-4528-bdf9-a3f07963a17c"
      },
      "execution_count": 19,
      "outputs": [
        {
          "output_type": "stream",
          "name": "stdout",
          "text": [
            "Loaded best hyperparameters: {'nhead': 6, 'd_model': 72, 'num_encoder_layers': 1, 'dim_feedforward': 409, 'learning_rate': 0.0014676821347472486, 'batch_size': 16}\n"
          ]
        }
      ]
    },
    {
      "cell_type": "code",
      "source": [
        "import torch\n",
        "import torch.nn as nn\n",
        "\n",
        "# 모델 초기화 (저장할 때 사용한 것과 동일한 구조로)\n",
        "model = TransformerModel(\n",
        "    input_dim=3,\n",
        "    d_model=best_params['d_model'],\n",
        "    nhead=best_params['nhead'],\n",
        "    num_encoder_layers=best_params['num_encoder_layers'],\n",
        "    dim_feedforward=best_params['dim_feedforward']\n",
        ")\n",
        "\n",
        "# GPU 사용 가능 시 모델을 GPU로 이동\n",
        "device = torch.device(\"cuda\" if torch.cuda.is_available() else \"cpu\")\n",
        "model = model.to(device)\n",
        "\n",
        "# 저장된 모델 가중치 불러오기\n",
        "model.load_state_dict(torch.load(\"/content/best_model_epoch_300.pth\", map_location=device)[\"model_state_dict\"])\n",
        "\n",
        "# 평가 모드로 전환 (dropout 등을 비활성화)\n",
        "model.eval()\n"
      ],
      "metadata": {
        "colab": {
          "base_uri": "https://localhost:8080/"
        },
        "id": "IrN-2GA2atFD",
        "outputId": "a1c0a31d-39b5-458a-80d0-8571ebe30ccc"
      },
      "execution_count": 20,
      "outputs": [
        {
          "output_type": "stream",
          "name": "stderr",
          "text": [
            "<ipython-input-20-d8c098a3fe6e>:18: FutureWarning: You are using `torch.load` with `weights_only=False` (the current default value), which uses the default pickle module implicitly. It is possible to construct malicious pickle data which will execute arbitrary code during unpickling (See https://github.com/pytorch/pytorch/blob/main/SECURITY.md#untrusted-models for more details). In a future release, the default value for `weights_only` will be flipped to `True`. This limits the functions that could be executed during unpickling. Arbitrary objects will no longer be allowed to be loaded via this mode unless they are explicitly allowlisted by the user via `torch.serialization.add_safe_globals`. We recommend you start setting `weights_only=True` for any use case where you don't have full control of the loaded file. Please open an issue on GitHub for any issues related to this experimental feature.\n",
            "  model.load_state_dict(torch.load(\"/content/best_model_epoch_300.pth\", map_location=device)[\"model_state_dict\"])\n"
          ]
        },
        {
          "output_type": "execute_result",
          "data": {
            "text/plain": [
              "TransformerModel(\n",
              "  (embedding): Linear(in_features=3, out_features=72, bias=True)\n",
              "  (positional_encoding): PositionalEncoding(\n",
              "    (dropout): Dropout(p=0.0, inplace=False)\n",
              "  )\n",
              "  (transformer_encoder): TransformerEncoder(\n",
              "    (layers): ModuleList(\n",
              "      (0): TransformerEncoderLayer(\n",
              "        (self_attn): MultiheadAttention(\n",
              "          (out_proj): NonDynamicallyQuantizableLinear(in_features=72, out_features=72, bias=True)\n",
              "        )\n",
              "        (linear1): Linear(in_features=72, out_features=409, bias=True)\n",
              "        (dropout): Dropout(p=0.0, inplace=False)\n",
              "        (linear2): Linear(in_features=409, out_features=72, bias=True)\n",
              "        (norm1): LayerNorm((72,), eps=1e-05, elementwise_affine=True)\n",
              "        (norm2): LayerNorm((72,), eps=1e-05, elementwise_affine=True)\n",
              "        (dropout1): Dropout(p=0.0, inplace=False)\n",
              "        (dropout2): Dropout(p=0.0, inplace=False)\n",
              "      )\n",
              "    )\n",
              "  )\n",
              "  (fc_out): Linear(in_features=72, out_features=3, bias=True)\n",
              ")"
            ]
          },
          "metadata": {},
          "execution_count": 20
        }
      ]
    },
    {
      "cell_type": "code",
      "source": [
        "sequence_length=10\n",
        "\n",
        "train_loader, val_loader, test_loader = create_dataloaders(tri, best_params['batch_size'], sequence_length)\n",
        "criterion = torch.nn.MSELoss()"
      ],
      "metadata": {
        "id": "AA0arXdqiYAH"
      },
      "execution_count": 21,
      "outputs": []
    },
    {
      "cell_type": "code",
      "source": [
        "import numpy as np\n",
        "from sklearn.metrics import mean_squared_error, mean_absolute_error\n",
        "import torch\n",
        "import time\n",
        "\n",
        "# 모델 예측 및 성능 평가\n",
        "model.eval()\n",
        "device = torch.device('cuda' if torch.cuda.is_available() else 'cpu')\n",
        "\n",
        "test_loss = 0\n",
        "y_true_list = []\n",
        "y_pred_list = []\n",
        "total_correct = 0\n",
        "total_samples = 0\n",
        "\n",
        "threshold = 0.01  # Accuracy를 계산할 때 사용할 임계값 (오차 허용 범위)\n",
        "\n",
        "start_time = time.time()  # 예측 시작 시간 기록\n",
        "\n",
        "with torch.no_grad():\n",
        "    for batch_x, batch_y in test_loader:\n",
        "        batch_x = batch_x.to(device)\n",
        "        batch_y = batch_y.to(device)\n",
        "\n",
        "        # 예측 수행\n",
        "        output = model(batch_x)\n",
        "\n",
        "        # 손실 계산\n",
        "        loss = criterion(output, batch_y)\n",
        "        test_loss += loss.item()\n",
        "\n",
        "        # 예측값과 실제값 저장\n",
        "        y_pred_list.append(output.cpu().numpy())  # 예측값을 CPU로 이동하여 numpy 배열로 변환\n",
        "        y_true_list.append(batch_y.cpu().numpy())  # 실제값을 CPU로 이동하여 numpy 배열로 변환\n",
        "\n",
        "        # Accuracy 계산 (오차가 threshold 이하인 경우 correct로 간주)\n",
        "        y_pred_cpu = output.cpu().numpy()\n",
        "        y_true_cpu = batch_y.cpu().numpy()\n",
        "        correct = np.sum(np.linalg.norm(y_pred_cpu - y_true_cpu, axis=1) < threshold)\n",
        "        total_correct += correct\n",
        "        total_samples += len(batch_y)\n",
        "\n",
        "end_time = time.time()  # 예측 종료 시간 기록\n",
        "\n",
        "# 리스트를 numpy 배열로 변환\n",
        "y_pred = np.concatenate(y_pred_list, axis=0)\n",
        "y_true = np.concatenate(y_true_list, axis=0)\n",
        "\n",
        "# 성능 평가\n",
        "mse = mean_squared_error(y_true, y_pred)\n",
        "mae = mean_absolute_error(y_true, y_pred)\n",
        "accuracy = total_correct / total_samples\n",
        "\n",
        "# 예측 시간 계산\n",
        "prediction_time = end_time - start_time\n",
        "\n",
        "print(f'Mean Squared Error (MSE): {mse}')\n",
        "print(f'Mean Absolute Error (MAE): {mae}')\n",
        "print(f'Accuracy: {accuracy * 100:.2f}%')\n",
        "print(f'Total Prediction Time: {prediction_time:.4f} seconds')"
      ],
      "metadata": {
        "id": "-3sUhEYRatCv",
        "colab": {
          "base_uri": "https://localhost:8080/"
        },
        "outputId": "5c938838-3c94-49a0-a8bc-6dbf46fca07e"
      },
      "execution_count": 22,
      "outputs": [
        {
          "output_type": "stream",
          "name": "stdout",
          "text": [
            "Mean Squared Error (MSE): 1.1919754797418136e-05\n",
            "Mean Absolute Error (MAE): 0.0021775292698293924\n",
            "Accuracy: 94.80%\n",
            "Total Prediction Time: 1.0374 seconds\n"
          ]
        }
      ]
    }
  ],
  "metadata": {
    "accelerator": "GPU",
    "colab": {
      "collapsed_sections": [
        "m9WrRVLYlLra",
        "G_Y5diT0_CK5",
        "RsoiT-rUcsbi",
        "4YJd91PCtHJS",
        "wlwsWq26Gf5V",
        "XCmztXYWwA1z"
      ],
      "gpuType": "T4",
      "provenance": []
    },
    "kernelspec": {
      "display_name": "Python 3",
      "name": "python3"
    },
    "language_info": {
      "codemirror_mode": {
        "name": "ipython",
        "version": 3
      },
      "file_extension": ".py",
      "mimetype": "text/x-python",
      "name": "python",
      "nbconvert_exporter": "python",
      "pygments_lexer": "ipython3",
      "version": "3.10.12"
    }
  },
  "nbformat": 4,
  "nbformat_minor": 0
}