{
 "cells": [
  {
   "cell_type": "markdown",
   "metadata": {
    "id": "m9WrRVLYlLra"
   },
   "source": [
    "\n",
    "### 라이브러리 import"
   ]
  },
  {
   "cell_type": "code",
   "execution_count": 1,
   "metadata": {
    "colab": {
     "base_uri": "https://localhost:8080/"
    },
    "execution": {
     "iopub.execute_input": "2024-10-22T14:22:52.549513Z",
     "iopub.status.busy": "2024-10-22T14:22:52.548893Z",
     "iopub.status.idle": "2024-10-22T14:22:52.555468Z",
     "shell.execute_reply": "2024-10-22T14:22:52.554204Z"
    },
    "id": "4uScq-A6w7Gn",
    "outputId": "a9a8d152-61e4-47d6-f4c3-377486695914"
   },
   "outputs": [],
   "source": [
    "# !pip install optuna\n",
    "# !pip install torchinfo"
   ]
  },
  {
   "cell_type": "code",
   "execution_count": 2,
   "metadata": {
    "execution": {
     "iopub.execute_input": "2024-10-22T14:22:52.558619Z",
     "iopub.status.busy": "2024-10-22T14:22:52.558270Z",
     "iopub.status.idle": "2024-10-22T14:22:54.972088Z",
     "shell.execute_reply": "2024-10-22T14:22:54.971004Z"
    },
    "id": "gKd7dfaTPzbm"
   },
   "outputs": [],
   "source": [
    "import torch\n",
    "import torch.nn as nn\n",
    "from torch.utils.data import TensorDataset, DataLoader"
   ]
  },
  {
   "cell_type": "markdown",
   "metadata": {
    "id": "G_Y5diT0_CK5"
   },
   "source": [
    "## 전체 공통 함수"
   ]
  },
  {
   "cell_type": "markdown",
   "metadata": {
    "id": "Ng0CFeAZyxl2"
   },
   "source": [
    "### 1. 데이터 보간 함수"
   ]
  },
  {
   "cell_type": "markdown",
   "metadata": {
    "id": "wk6vfDy4zsh_"
   },
   "source": [
    "- 데이터의 시간 간격을 0.5초의 등간격으로 맞추고 그에 따른 좌표 값을 보간함\n",
    "- 가장 많이 사용되는 3차 스플라인 보간 적용"
   ]
  },
  {
   "cell_type": "code",
   "execution_count": 3,
   "metadata": {
    "execution": {
     "iopub.execute_input": "2024-10-22T14:22:54.976430Z",
     "iopub.status.busy": "2024-10-22T14:22:54.975840Z",
     "iopub.status.idle": "2024-10-22T14:22:55.726933Z",
     "shell.execute_reply": "2024-10-22T14:22:55.725950Z"
    },
    "id": "MbOt2kIkQg_7"
   },
   "outputs": [],
   "source": [
    "from scipy.interpolate import interp1d\n",
    "import numpy as np\n",
    "import matplotlib.pyplot as plt\n",
    "\n",
    "# 데이터 보간 - 위도, 고도, 경도 값을 0.5초 시간 간격으로 보간\n",
    "def spline_interpolation(x, y):\n",
    "    # x: 보간할 데이터의 x 값 (시간)\n",
    "    # y: 보간할 데이터의 y 값 (위도, 고도, 경도)\n",
    "\n",
    "    # 3차 스플라인 보간 함수 생성\n",
    "    f = interp1d(x, y, kind='cubic')\n",
    "\n",
    "    # 시간 범위 설정\n",
    "    start_time = min(x)\n",
    "    end_time = max(x)\n",
    "\n",
    "    # 0.5초 간격의 시간 배열을 생성\n",
    "    new_x = np.arange(start_time, end_time, 0.5)\n",
    "\n",
    "    # 위도, 경도, 고도 보간\n",
    "    new_y = f(new_x)\n",
    "\n",
    "    return new_x, new_y"
   ]
  },
  {
   "cell_type": "markdown",
   "metadata": {
    "id": "1LTSh1vXy1fg"
   },
   "source": [
    "### 2. 시퀀스 나누는 함수"
   ]
  },
  {
   "cell_type": "markdown",
   "metadata": {
    "id": "lWB9uZyCz1Ro"
   },
   "source": [
    "- 학습을 위해 데이터를 시퀀스 형태로 나눔\n",
    "- look back과 forward에 따라 학습에 사용될 x값의 구간과 y값을 반환함\n",
    "- 초기 look back은 10, forward는 0이다."
   ]
  },
  {
   "cell_type": "code",
   "execution_count": 4,
   "metadata": {
    "execution": {
     "iopub.execute_input": "2024-10-22T14:22:55.730915Z",
     "iopub.status.busy": "2024-10-22T14:22:55.730453Z",
     "iopub.status.idle": "2024-10-22T14:22:55.735873Z",
     "shell.execute_reply": "2024-10-22T14:22:55.735071Z"
    },
    "id": "_kmQ-_EyGFpW"
   },
   "outputs": [],
   "source": [
    "# 시퀀스 생성 함수\n",
    "# look back : 10 (5초간의 위도, 고도, 경도 데이터를 x값으로 사용)\n",
    "# forward : 0 (0.5초 뒤의 위도, 고도, 경도 데이터를 y값으로 사용)\n",
    "def create_sequences(df, look_back=30, forward=5):\n",
    "    xs = []\n",
    "    ys = []\n",
    "    for i in range(len(df) - look_back - forward):\n",
    "        x = df.iloc[i:(i+look_back)].values\n",
    "        y = df.iloc[i+look_back+forward].values\n",
    "        xs.append(x)\n",
    "        ys.append(y)\n",
    "    return np.array(xs), np.array(ys)"
   ]
  },
  {
   "cell_type": "markdown",
   "metadata": {
    "id": "eOFln2pmy4pt"
   },
   "source": [
    "### 3. 시간 소수점 절사 함수"
   ]
  },
  {
   "cell_type": "markdown",
   "metadata": {
    "id": "CDwOPPA05KGE"
   },
   "source": [
    "- 불필요한 시간 소수점 제거"
   ]
  },
  {
   "cell_type": "code",
   "execution_count": 5,
   "metadata": {
    "execution": {
     "iopub.execute_input": "2024-10-22T14:22:55.739067Z",
     "iopub.status.busy": "2024-10-22T14:22:55.738716Z",
     "iopub.status.idle": "2024-10-22T14:22:55.743409Z",
     "shell.execute_reply": "2024-10-22T14:22:55.742641Z"
    },
    "id": "CFiscMuBSycb"
   },
   "outputs": [],
   "source": [
    "import math\n",
    "\n",
    "# 시간 소수점 절사 함수\n",
    "def truncation(df):\n",
    "    new_time = []\n",
    "\n",
    "    for a in df['time']:\n",
    "      new_time.append(math.floor(a * 10) / 10)\n",
    "\n",
    "    df['time'] = new_time\n",
    "\n",
    "    return df"
   ]
  },
  {
   "cell_type": "markdown",
   "metadata": {
    "id": "-rOFnV17y8Q-"
   },
   "source": [
    "### 4. 스케일링 함수"
   ]
  },
  {
   "cell_type": "markdown",
   "metadata": {
    "id": "442iH9qd_UIt"
   },
   "source": [
    "- MinMaxScaling 적용 함수\n"
   ]
  },
  {
   "cell_type": "code",
   "execution_count": 6,
   "metadata": {
    "execution": {
     "iopub.execute_input": "2024-10-22T14:22:55.746747Z",
     "iopub.status.busy": "2024-10-22T14:22:55.746393Z",
     "iopub.status.idle": "2024-10-22T14:22:55.986175Z",
     "shell.execute_reply": "2024-10-22T14:22:55.985342Z"
    },
    "id": "zR9B-lKYNgs8"
   },
   "outputs": [],
   "source": [
    "from sklearn.preprocessing import MinMaxScaler\n",
    "\n",
    "# MinMaxScaling 적용 함수\n",
    "def min_max_scaling(df):\n",
    "\n",
    "    # time 삭제 df 생성\n",
    "    mid_df=df.drop(columns='time')\n",
    "\n",
    "    min_max_scaler = MinMaxScaler()\n",
    "    min_max_scaler.fit(mid_df)\n",
    "\n",
    "    min_max_data = min_max_scaler.transform(mid_df)\n",
    "\n",
    "    new_data = pd.DataFrame(min_max_data)\n",
    "\n",
    "    # time 추가\n",
    "    new_data.insert(0, 'time', df['time'])\n",
    "\n",
    "    # 나머지 열의 이름 가져오기\n",
    "    column_names = mid_df.columns.tolist()\n",
    "\n",
    "    column_names.insert(0, 'time')\n",
    "\n",
    "    print(column_names)\n",
    "\n",
    "    # 새로운 데이터프레임에 열 이름 설정\n",
    "    new_data.columns = column_names\n",
    "\n",
    "    return min_max_scaler, new_data"
   ]
  },
  {
   "cell_type": "markdown",
   "metadata": {
    "id": "Sa6ydGidy_CI"
   },
   "source": [
    "### 5. train/validation/test 분리 함수"
   ]
  },
  {
   "cell_type": "markdown",
   "metadata": {
    "id": "Ii6xjYd3A7YK"
   },
   "source": [
    "- Train, Validation, Test 데이터셋을 분리하는 함수이다.\n",
    "- 각각의 비율은 6:2:2 이다."
   ]
  },
  {
   "cell_type": "code",
   "execution_count": 7,
   "metadata": {
    "execution": {
     "iopub.execute_input": "2024-10-22T14:22:55.990472Z",
     "iopub.status.busy": "2024-10-22T14:22:55.989935Z",
     "iopub.status.idle": "2024-10-22T14:22:56.024720Z",
     "shell.execute_reply": "2024-10-22T14:22:56.023807Z"
    },
    "id": "mXJlnnQq7FgL"
   },
   "outputs": [],
   "source": [
    "from sklearn.model_selection import train_test_split\n",
    "\n",
    "# train/validation/test 분리 함수\n",
    "def split_train_val_test(df, test_size=0.2, val_size=0.25):\n",
    "\n",
    "    #Train, Test 분류\n",
    "    train_val_df, test_df = train_test_split(df, test_size=test_size, shuffle=False)\n",
    "\n",
    "    #Train, Validation 분류\n",
    "    train_df, val_df = train_test_split(train_val_df, test_size=val_size, shuffle=False)\n",
    "\n",
    "    # # 데이터 크기 출력\n",
    "    # print(\"Train set:\", train_df.shape)\n",
    "    # print(\"Validation set:\", val_df.shape)\n",
    "    # print(\"Test set:\", test_df.shape)\n",
    "\n",
    "    return train_df, val_df, test_df"
   ]
  },
  {
   "cell_type": "markdown",
   "metadata": {
    "id": "K90RnrEWB2Iw"
   },
   "source": [
    "### 6. 경로 시각화 함수"
   ]
  },
  {
   "cell_type": "markdown",
   "metadata": {
    "id": "t2bNHfpSBPfr"
   },
   "source": [
    "- 실제 경로와 예측 경로를 각각 그래프로 생성"
   ]
  },
  {
   "cell_type": "code",
   "execution_count": 8,
   "metadata": {
    "execution": {
     "iopub.execute_input": "2024-10-22T14:22:56.028424Z",
     "iopub.status.busy": "2024-10-22T14:22:56.028054Z",
     "iopub.status.idle": "2024-10-22T14:22:56.034997Z",
     "shell.execute_reply": "2024-10-22T14:22:56.034105Z"
    },
    "id": "l8bKkBe-h6cG"
   },
   "outputs": [],
   "source": [
    "import matplotlib.pyplot as plt\n",
    "\n",
    "# 경로 시각화 함수\n",
    "def prediction_visualization(y_test, y_pred):\n",
    "    # 시각화를 위해 위도, 경도, 고도 분리\n",
    "    y_test_lat = y_test[:, 0]\n",
    "    y_test_lon = y_test[:, 1]\n",
    "    y_test_alt = y_test[:, 2]\n",
    "\n",
    "    y_pred_lat = y_pred[:, 0]\n",
    "    y_pred_lon = y_pred[:, 1]\n",
    "    y_pred_alt = y_pred[:, 2]\n",
    "\n",
    "    # 3D 그래프 생성\n",
    "    fig = plt.figure(figsize=(12, 8))\n",
    "    ax = fig.add_subplot(111, projection='3d')\n",
    "\n",
    "    # 실제 값 플롯\n",
    "    ax.scatter(y_test_lat, y_test_lon, y_test_alt, c='b', marker='o', label='Actual')\n",
    "\n",
    "    # 예측 값 플롯\n",
    "    ax.scatter(y_pred_lat, y_pred_lon, y_pred_alt, c='r', marker='^', label='Predicted')\n",
    "\n",
    "    # 그래프 제목 및 축 레이블 설정\n",
    "    ax.set_title('Actual vs Predicted')\n",
    "    ax.set_xlabel('Latitude')\n",
    "    ax.set_ylabel('Longitude')\n",
    "    ax.set_zlabel('Altitude')\n",
    "\n",
    "    # 범례\n",
    "    ax.legend()\n",
    "\n",
    "    # 그래프를 화면에 출력\n",
    "    plt.show()"
   ]
  },
  {
   "cell_type": "code",
   "execution_count": 9,
   "metadata": {
    "execution": {
     "iopub.execute_input": "2024-10-22T14:22:56.038476Z",
     "iopub.status.busy": "2024-10-22T14:22:56.038093Z",
     "iopub.status.idle": "2024-10-22T14:22:56.044584Z",
     "shell.execute_reply": "2024-10-22T14:22:56.043755Z"
    },
    "id": "8_9fg_Gt0b73"
   },
   "outputs": [],
   "source": [
    "import matplotlib.pyplot as plt\n",
    "from mpl_toolkits.mplot3d import Axes3D\n",
    "\n",
    "# splited 데이터 경로 시각화 함수\n",
    "def plot_trajectory(train_data, val_data, test_data):\n",
    "    fig = plt.figure(figsize=(10, 7))\n",
    "    ax = fig.add_subplot(111, projection='3d')\n",
    "\n",
    "    # 훈련 데이터 플롯\n",
    "    ax.plot(train_data['lat'], train_data['lon'], train_data['alt'], label='Train', color='blue')\n",
    "\n",
    "    # 검증 데이터 플롯\n",
    "    ax.plot(val_data['lat'], val_data['lon'], val_data['alt'], label='Validation', color='green')\n",
    "\n",
    "    # 테스트 데이터 플롯\n",
    "    ax.plot(test_data['lat'], test_data['lon'], test_data['alt'], label='Test', color='red')\n",
    "\n",
    "    # 그래프 레이블\n",
    "    ax.set_xlabel('Latitude')\n",
    "    ax.set_ylabel('Longitude')\n",
    "    ax.set_zlabel('Altitude')\n",
    "\n",
    "    # 제목과 범례\n",
    "    ax.set_title('Drone Trajectory: Train, Validation, and Test')\n",
    "    ax.legend()\n",
    "\n",
    "    plt.show()\n"
   ]
  },
  {
   "cell_type": "markdown",
   "metadata": {
    "id": "5hesydw366u6"
   },
   "source": [
    "### 7. 데이터로더 생성 함수"
   ]
  },
  {
   "cell_type": "markdown",
   "metadata": {
    "id": "KTyDCnRc66u6"
   },
   "source": [
    "- 학습에 사용할 데이터 로더 생성\n",
    "1. 시퀀스 생성\n",
    "2. Train, Validation, Test 분리\n",
    "3. DataLoader 생성"
   ]
  },
  {
   "cell_type": "code",
   "execution_count": 10,
   "metadata": {
    "execution": {
     "iopub.execute_input": "2024-10-22T14:22:56.047484Z",
     "iopub.status.busy": "2024-10-22T14:22:56.047157Z",
     "iopub.status.idle": "2024-10-22T14:22:56.054821Z",
     "shell.execute_reply": "2024-10-22T14:22:56.054103Z"
    },
    "id": "rTbRbKmU66u6"
   },
   "outputs": [],
   "source": [
    "# 데이터 로더 생성 함수\n",
    "def create_dataloaders(tri, batch_size, sequence_length):\n",
    "\n",
    "  tri = tri[['time', 'lat', 'lon', 'alt']]\n",
    "\n",
    "  # train, validation, test 분리\n",
    "  train_data, val_data, test_data = split_train_val_test(tri)\n",
    "\n",
    "  # 각 데이터셋에서 시퀀스 생성\n",
    "  X_train, y_train = create_sequences(train_data[['lat', 'lon', 'alt']], look_back=sequence_length, forward=5)\n",
    "  X_val, y_val = create_sequences(val_data[['lat', 'lon', 'alt']], look_back=sequence_length, forward=5)\n",
    "  X_test, y_test = create_sequences(test_data[['lat', 'lon', 'alt']], look_back=sequence_length, forward=5)\n",
    "\n",
    "  X_train = torch.tensor(X_train, dtype=torch.float32)\n",
    "  y_train = torch.tensor(y_train, dtype=torch.float32)\n",
    "  X_val = torch.tensor(X_val, dtype=torch.float32)\n",
    "  y_val = torch.tensor(y_val, dtype=torch.float32)\n",
    "  X_test = torch.tensor(X_test, dtype=torch.float32)\n",
    "  y_test = torch.tensor(y_test, dtype=torch.float32)\n",
    "\n",
    "  train_dataset = TensorDataset(X_train, y_train)\n",
    "  validation_dataset = TensorDataset(X_val, y_val)\n",
    "  test_dataset = TensorDataset(X_test, y_test)\n",
    "\n",
    "  # 데이터 로더 생성\n",
    "  train_loader = DataLoader(train_dataset, batch_size=batch_size, shuffle=True)\n",
    "  val_loader = DataLoader(validation_dataset, batch_size=batch_size, shuffle=False)\n",
    "  test_loader = DataLoader(test_dataset, batch_size=batch_size, shuffle=False)\n",
    "\n",
    "  return train_loader, val_loader, test_loader"
   ]
  },
  {
   "cell_type": "markdown",
   "metadata": {
    "id": "RsoiT-rUcsbi"
   },
   "source": [
    "## 전처리"
   ]
  },
  {
   "cell_type": "markdown",
   "metadata": {
    "id": "4YJd91PCtHJS"
   },
   "source": [
    "### 1. 데이터셋 가져오기"
   ]
  },
  {
   "cell_type": "code",
   "execution_count": 11,
   "metadata": {
    "execution": {
     "iopub.execute_input": "2024-10-22T14:22:56.057949Z",
     "iopub.status.busy": "2024-10-22T14:22:56.057622Z",
     "iopub.status.idle": "2024-10-22T14:22:56.567964Z",
     "shell.execute_reply": "2024-10-22T14:22:56.567078Z"
    },
    "id": "MuunCpw0crPo"
   },
   "outputs": [],
   "source": [
    "import pandas as pd\n",
    "\n",
    "# 데이터셋 가져오기 (필요시 저장 경로 수정)\n",
    "raw = pd.read_csv(\"OnboardGPS.csv\")"
   ]
  },
  {
   "cell_type": "markdown",
   "metadata": {
    "id": "uILR-VuOtg1G"
   },
   "source": [
    "### 2. 데이터셋 전처리"
   ]
  },
  {
   "cell_type": "markdown",
   "metadata": {
    "id": "ea6emhMrtjFn"
   },
   "source": [
    "- 데이터셋 보간\n",
    "- 소수점 절사\n",
    "- MinMaxScaling 적용\n"
   ]
  },
  {
   "cell_type": "code",
   "execution_count": 12,
   "metadata": {
    "colab": {
     "base_uri": "https://localhost:8080/"
    },
    "execution": {
     "iopub.execute_input": "2024-10-22T14:22:56.571695Z",
     "iopub.status.busy": "2024-10-22T14:22:56.571401Z",
     "iopub.status.idle": "2024-10-22T14:22:56.692685Z",
     "shell.execute_reply": "2024-10-22T14:22:56.691822Z"
    },
    "id": "0M4Mw46Ge5dr",
    "outputId": "3638fa29-e7e9-4e78-894d-8a5bca774b86"
   },
   "outputs": [
    {
     "name": "stdout",
     "output_type": "stream",
     "text": [
      "['time', 'lat', 'lon', 'alt']\n"
     ]
    }
   ],
   "source": [
    "tri = raw[['Timpstemp', ' lat', ' lon', ' alt']]\n",
    "\n",
    "new_x, lat = spline_interpolation(tri['Timpstemp'] / 1e6 , tri[' lat'])\n",
    "new_x, lon = spline_interpolation(tri['Timpstemp'] / 1e6 , tri[' lon'])\n",
    "new_x, alt = spline_interpolation(tri['Timpstemp'] / 1e6 , tri[' alt'])\n",
    "\n",
    "tri = pd.DataFrame({\"time\":new_x, \"lat\":lat, \"lon\":lon, \"alt\":alt})\n",
    "\n",
    "tri = truncation(tri)\n",
    "scaler, tri = min_max_scaling(tri)\n",
    "# tri"
   ]
  },
  {
   "cell_type": "markdown",
   "metadata": {
    "id": "wlwsWq26Gf5V"
   },
   "source": [
    "## 모델 선언"
   ]
  },
  {
   "cell_type": "markdown",
   "metadata": {
    "id": "XCmztXYWwA1z"
   },
   "source": [
    "### 1. 모델 클래스 선언\n",
    "- Transformer를 사용한 모델 클래스 선언\n",
    "- 구조 : Transformer + Positional Encoding + Fully Connected Layer"
   ]
  },
  {
   "cell_type": "code",
   "execution_count": 13,
   "metadata": {
    "execution": {
     "iopub.execute_input": "2024-10-22T14:22:56.747956Z",
     "iopub.status.busy": "2024-10-22T14:22:56.747566Z",
     "iopub.status.idle": "2024-10-22T14:22:56.758151Z",
     "shell.execute_reply": "2024-10-22T14:22:56.757168Z"
    },
    "id": "1-WDOIn-GiMc"
   },
   "outputs": [],
   "source": [
    "import math\n",
    "import torch\n",
    "\n",
    "class PositionalEncoding(nn.Module):\n",
    "    def __init__(self, d_model, dropout=0.0, max_len=5000):\n",
    "        super(PositionalEncoding, self).__init__()\n",
    "        self.dropout = nn.Dropout(p=dropout)\n",
    "\n",
    "        self.pe = torch.zeros(max_len, d_model)\n",
    "        position = torch.arange(0, max_len, dtype=torch.float).unsqueeze(1)\n",
    "\n",
    "        div_term = torch.exp(torch.arange(0, d_model, 2).float() * -(math.log(10000.0) / d_model))\n",
    "        self.pe[:, 0::2] = torch.sin(position * div_term)  # Even indices\n",
    "\n",
    "        self.pe = self.pe.unsqueeze(0)\n",
    "\n",
    "    def forward(self, x):\n",
    "        if self.pe.shape[2] != x.shape[2]:\n",
    "            raise ValueError(f\"Positional encoding dim {self.pe.shape[2]} does not match input dim {x.shape[2]}\")\n",
    "\n",
    "        x = x + self.pe[:, :x.size(1), :].to(x.device)  # Add positional encoding\n",
    "        return self.dropout(x)"
   ]
  },
  {
   "cell_type": "code",
   "execution_count": 14,
   "metadata": {
    "execution": {
     "iopub.execute_input": "2024-10-22T14:22:56.761455Z",
     "iopub.status.busy": "2024-10-22T14:22:56.761167Z",
     "iopub.status.idle": "2024-10-22T14:22:56.768923Z",
     "shell.execute_reply": "2024-10-22T14:22:56.767949Z"
    },
    "id": "WSwLbkypg_s6"
   },
   "outputs": [],
   "source": [
    "import torch.nn as nn\n",
    "import torch\n",
    "\n",
    "class TransformerModel(nn.Module):\n",
    "    def __init__(self, input_dim, output_dim=3, d_model=64, nhead=4, num_encoder_layers=2, dim_feedforward=512, dropout=0.0):\n",
    "        super(TransformerModel, self).__init__()\n",
    "\n",
    "        self.embedding = nn.Linear(input_dim, d_model)\n",
    "        self.positional_encoding = PositionalEncoding(d_model=d_model, dropout=dropout)\n",
    "\n",
    "        self.transformer_encoder = nn.TransformerEncoder(\n",
    "            nn.TransformerEncoderLayer(d_model=d_model,\n",
    "                                       nhead=nhead,\n",
    "                                       dim_feedforward=dim_feedforward,\n",
    "                                       dropout=dropout,\n",
    "                                       batch_first=True  # batch_first 사용\n",
    "            ),\n",
    "            num_layers=num_encoder_layers\n",
    "        )\n",
    "\n",
    "        self.fc_out = nn.Linear(d_model, output_dim)\n",
    "\n",
    "    def forward(self, src):\n",
    "        # embedding과 positional encoding 적용\n",
    "        src = self.embedding(src)\n",
    "        src = self.positional_encoding(src)\n",
    "\n",
    "        # transformer encoder 통과 (batch_first=True이므로 permute 필요 없음)\n",
    "        output = self.transformer_encoder(src)\n",
    "\n",
    "        # fully connected layer 통과\n",
    "        output = self.fc_out(output)\n",
    "\n",
    "        return output[:, -1, :]  # 마지막 시퀀스의 출력만 반환\n"
   ]
  },
  {
   "cell_type": "markdown",
   "metadata": {
    "id": "SkWlI0C7lSWt"
   },
   "source": [
    "## Optuna"
   ]
  },
  {
   "cell_type": "code",
   "execution_count": 15,
   "metadata": {
    "execution": {
     "iopub.execute_input": "2024-10-22T14:22:56.772954Z",
     "iopub.status.busy": "2024-10-22T14:22:56.772614Z",
     "iopub.status.idle": "2024-10-22T14:22:56.784968Z",
     "shell.execute_reply": "2024-10-22T14:22:56.784025Z"
    },
    "id": "NDEWl_kMlTzP"
   },
   "outputs": [],
   "source": [
    "def objective(trial, train_data, sequence_length):\n",
    "    nhead = trial.suggest_int('nhead', 2, 8)\n",
    "\n",
    "    d_model = trial.suggest_int('d_model', nhead * 8, nhead * 64, step=nhead)\n",
    "    if d_model % 2 != 0:\n",
    "        d_model += 1\n",
    "    if d_model % nhead != 0:\n",
    "        d_model += nhead - (d_model % nhead)\n",
    "\n",
    "    num_encoder_layers = trial.suggest_int('num_encoder_layers', 1, 4)\n",
    "    dim_feedforward = trial.suggest_int('dim_feedforward', 128, 512)\n",
    "    learning_rate = trial.suggest_float('learning_rate', 1e-4, 1e-2)\n",
    "    batch_size = trial.suggest_int('batch_size', 16, 128)\n",
    "\n",
    "    ## 값 지정\n",
    "    num_epochs = 632\n",
    "    input_size = 3    # lat, lon, alt\n",
    "    output_size = 3    # lat, lon, alt\n",
    "    dropout = 0.0\n",
    "\n",
    "    # 데이터 로더 생성\n",
    "    train_loader, val_loader, _ = create_dataloaders(train_data, batch_size, sequence_length)\n",
    "\n",
    "    # Transformer model 정의\n",
    "    model = TransformerModel(\n",
    "        input_dim=input_size,\n",
    "        output_dim=output_size,\n",
    "        d_model=d_model,\n",
    "        nhead=nhead,\n",
    "        num_encoder_layers=num_encoder_layers,\n",
    "        dim_feedforward=dim_feedforward,\n",
    "        dropout=dropout\n",
    "    )\n",
    "\n",
    "    device = torch.device('cuda' if torch.cuda.is_available() else 'cpu')\n",
    "    model = model.to(device)\n",
    "\n",
    "    # Loss function\n",
    "    criterion = nn.MSELoss()\n",
    "\n",
    "    # Optimizer\n",
    "    optimizer = torch.optim.Adam(model.parameters(), lr=learning_rate)\n",
    "\n",
    "    total_val_loss = 0.0\n",
    "    val_loss_count = 0\n",
    "\n",
    "    # 모델 학습\n",
    "    for epoch in range(num_epochs):\n",
    "        model.train()\n",
    "        train_loss = 0.0\n",
    "        for batch_x, batch_y in train_loader:\n",
    "            batch_x, batch_y = batch_x.to(device), batch_y.to(device)\n",
    "\n",
    "            optimizer.zero_grad()\n",
    "            output = model(batch_x)\n",
    "            loss = criterion(output, batch_y)\n",
    "            loss.backward()\n",
    "            optimizer.step()\n",
    "            train_loss += loss.item()\n",
    "\n",
    "        model.eval()\n",
    "        val_loss = 0.0\n",
    "        with torch.no_grad():\n",
    "            for batch_x, batch_y in val_loader:\n",
    "                batch_x = batch_x.to(device)\n",
    "                batch_y = batch_y.to(device)\n",
    "                output = model(batch_x)\n",
    "                loss = criterion(output, batch_y)\n",
    "                val_loss += loss.item()\n",
    "\n",
    "        val_loss_avg = val_loss / len(val_loader)\n",
    "\n",
    "        trial.report(val_loss_avg, epoch)\n",
    "\n",
    "        total_val_loss += val_loss_avg\n",
    "        val_loss_count += 1\n",
    "\n",
    "        if trial.should_prune():\n",
    "            print(f\"Trial {trial.number} pruned at epoch {epoch}\")\n",
    "            raise optuna.TrialPruned()\n",
    "\n",
    "    return total_val_loss / val_loss_count"
   ]
  },
  {
   "cell_type": "code",
   "execution_count": 16,
   "metadata": {
    "execution": {
     "iopub.execute_input": "2024-10-22T14:22:56.788342Z",
     "iopub.status.busy": "2024-10-22T14:22:56.788005Z",
     "iopub.status.idle": "2024-10-22T14:22:56.792982Z",
     "shell.execute_reply": "2024-10-22T14:22:56.791828Z"
    },
    "id": "cxiY5eNylXGZ"
   },
   "outputs": [],
   "source": [
    "sequence_length = 30\n",
    "early_stopping_rounds = 10\n",
    "n_trials = 70"
   ]
  },
  {
   "cell_type": "code",
   "execution_count": 17,
   "metadata": {
    "execution": {
     "iopub.execute_input": "2024-10-22T14:22:56.796814Z",
     "iopub.status.busy": "2024-10-22T14:22:56.796330Z",
     "iopub.status.idle": "2024-10-23T09:14:22.128632Z",
     "shell.execute_reply": "2024-10-23T09:14:22.127585Z"
    },
    "id": "89hlnOiHlYzh"
   },
   "outputs": [
    {
     "name": "stderr",
     "output_type": "stream",
     "text": [
      "[I 2024-10-22 14:22:56,912] A new study created in memory with name: no-name-512a8210-8a71-4c98-a97b-e3df09e5cf5d\n"
     ]
    },
    {
     "name": "stderr",
     "output_type": "stream",
     "text": [
      "/home/202004182/anaconda3/envs/env0/lib/python3.10/site-packages/torch/cuda/__init__.py:128: UserWarning: CUDA initialization: The NVIDIA driver on your system is too old (found version 11050). Please update your GPU driver by downloading and installing a new version from the URL: http://www.nvidia.com/Download/index.aspx Alternatively, go to: https://pytorch.org to install a PyTorch version that has been compiled with your version of the CUDA driver. (Triggered internally at /opt/conda/conda-bld/pytorch_1720538459595/work/c10/cuda/CUDAFunctions.cpp:108.)\n",
      "  return torch._C._cuda_getDeviceCount() > 0\n"
     ]
    },
    {
     "name": "stderr",
     "output_type": "stream",
     "text": [
      "[I 2024-10-22 19:21:48,168] Trial 0 finished with value: 0.10691987408482619 and parameters: {'nhead': 8, 'd_model': 344, 'num_encoder_layers': 3, 'dim_feedforward': 207, 'learning_rate': 0.006680975992977662, 'batch_size': 102}. Best is trial 0 with value: 0.10691987408482619.\n"
     ]
    },
    {
     "name": "stderr",
     "output_type": "stream",
     "text": [
      "/home/202004182/anaconda3/envs/env0/lib/python3.10/site-packages/torch/nn/modules/transformer.py:307: UserWarning: enable_nested_tensor is True, but self.use_nested_tensor is False because encoder_layer.self_attn.num_heads is odd\n",
      "  warnings.warn(f\"enable_nested_tensor is True, but self.use_nested_tensor is False because {why_not_sparsity_fast_path}\")\n"
     ]
    },
    {
     "name": "stderr",
     "output_type": "stream",
     "text": [
      "[I 2024-10-22 21:22:08,772] Trial 1 finished with value: 0.0015419400963254536 and parameters: {'nhead': 5, 'd_model': 130, 'num_encoder_layers': 1, 'dim_feedforward': 214, 'learning_rate': 0.0005755229287527855, 'batch_size': 73}. Best is trial 1 with value: 0.0015419400963254536.\n"
     ]
    },
    {
     "name": "stderr",
     "output_type": "stream",
     "text": [
      "[I 2024-10-22 23:26:12,572] Trial 2 finished with value: 0.00870968381069845 and parameters: {'nhead': 2, 'd_model': 62, 'num_encoder_layers': 2, 'dim_feedforward': 427, 'learning_rate': 0.006781880233986938, 'batch_size': 120}. Best is trial 1 with value: 0.0015419400963254536.\n"
     ]
    },
    {
     "name": "stderr",
     "output_type": "stream",
     "text": [
      "[I 2024-10-23 00:26:25,678] Trial 3 finished with value: 0.09736333474753141 and parameters: {'nhead': 4, 'd_model': 96, 'num_encoder_layers': 4, 'dim_feedforward': 185, 'learning_rate': 0.006538716636940369, 'batch_size': 88}. Best is trial 1 with value: 0.0015419400963254536.\n"
     ]
    },
    {
     "name": "stderr",
     "output_type": "stream",
     "text": [
      "/home/202004182/anaconda3/envs/env0/lib/python3.10/site-packages/torch/nn/modules/transformer.py:307: UserWarning: enable_nested_tensor is True, but self.use_nested_tensor is False because encoder_layer.self_attn.num_heads is odd\n",
      "  warnings.warn(f\"enable_nested_tensor is True, but self.use_nested_tensor is False because {why_not_sparsity_fast_path}\")\n"
     ]
    },
    {
     "name": "stderr",
     "output_type": "stream",
     "text": [
      "[I 2024-10-23 01:11:33,656] Trial 4 finished with value: 0.10970867842209005 and parameters: {'nhead': 3, 'd_model': 132, 'num_encoder_layers': 3, 'dim_feedforward': 316, 'learning_rate': 0.005319512396880286, 'batch_size': 20}. Best is trial 1 with value: 0.0015419400963254536.\n"
     ]
    },
    {
     "name": "stderr",
     "output_type": "stream",
     "text": [
      "/home/202004182/anaconda3/envs/env0/lib/python3.10/site-packages/torch/nn/modules/transformer.py:307: UserWarning: enable_nested_tensor is True, but self.use_nested_tensor is False because encoder_layer.self_attn.num_heads is odd\n",
      "  warnings.warn(f\"enable_nested_tensor is True, but self.use_nested_tensor is False because {why_not_sparsity_fast_path}\")\n"
     ]
    },
    {
     "name": "stderr",
     "output_type": "stream",
     "text": [
      "[I 2024-10-23 01:12:23,123] Trial 5 pruned. \n"
     ]
    },
    {
     "name": "stdout",
     "output_type": "stream",
     "text": [
      "Trial 5 pruned at epoch 24\n"
     ]
    },
    {
     "name": "stderr",
     "output_type": "stream",
     "text": [
      "/home/202004182/anaconda3/envs/env0/lib/python3.10/site-packages/torch/nn/modules/transformer.py:307: UserWarning: enable_nested_tensor is True, but self.use_nested_tensor is False because encoder_layer.self_attn.num_heads is odd\n",
      "  warnings.warn(f\"enable_nested_tensor is True, but self.use_nested_tensor is False because {why_not_sparsity_fast_path}\")\n"
     ]
    },
    {
     "name": "stderr",
     "output_type": "stream",
     "text": [
      "[I 2024-10-23 01:36:30,574] Trial 6 finished with value: 0.004373059382172109 and parameters: {'nhead': 3, 'd_model': 174, 'num_encoder_layers': 4, 'dim_feedforward': 141, 'learning_rate': 0.0006480672562629964, 'batch_size': 112}. Best is trial 1 with value: 0.0015419400963254536.\n"
     ]
    },
    {
     "name": "stderr",
     "output_type": "stream",
     "text": [
      "[I 2024-10-23 01:47:09,922] Trial 7 finished with value: 0.009150270217226805 and parameters: {'nhead': 2, 'd_model': 44, 'num_encoder_layers': 2, 'dim_feedforward': 502, 'learning_rate': 0.005086401653958314, 'batch_size': 64}. Best is trial 1 with value: 0.0015419400963254536.\n"
     ]
    },
    {
     "name": "stderr",
     "output_type": "stream",
     "text": [
      "/home/202004182/anaconda3/envs/env0/lib/python3.10/site-packages/torch/nn/modules/transformer.py:307: UserWarning: enable_nested_tensor is True, but self.use_nested_tensor is False because encoder_layer.self_attn.num_heads is odd\n",
      "  warnings.warn(f\"enable_nested_tensor is True, but self.use_nested_tensor is False because {why_not_sparsity_fast_path}\")\n"
     ]
    },
    {
     "name": "stderr",
     "output_type": "stream",
     "text": [
      "[I 2024-10-23 01:48:30,599] Trial 8 pruned. \n"
     ]
    },
    {
     "name": "stdout",
     "output_type": "stream",
     "text": [
      "Trial 8 pruned at epoch 10\n"
     ]
    },
    {
     "name": "stderr",
     "output_type": "stream",
     "text": [
      "[I 2024-10-23 01:49:13,608] Trial 9 pruned. \n"
     ]
    },
    {
     "name": "stdout",
     "output_type": "stream",
     "text": [
      "Trial 9 pruned at epoch 10\n"
     ]
    },
    {
     "name": "stderr",
     "output_type": "stream",
     "text": [
      "/home/202004182/anaconda3/envs/env0/lib/python3.10/site-packages/torch/nn/modules/transformer.py:307: UserWarning: enable_nested_tensor is True, but self.use_nested_tensor is False because encoder_layer.self_attn.num_heads is odd\n",
      "  warnings.warn(f\"enable_nested_tensor is True, but self.use_nested_tensor is False because {why_not_sparsity_fast_path}\")\n"
     ]
    },
    {
     "name": "stderr",
     "output_type": "stream",
     "text": [
      "[I 2024-10-23 02:00:18,471] Trial 10 finished with value: 0.0015457098546452764 and parameters: {'nhead': 5, 'd_model': 210, 'num_encoder_layers': 1, 'dim_feedforward': 262, 'learning_rate': 0.0001872663479238424, 'batch_size': 56}. Best is trial 1 with value: 0.0015419400963254536.\n"
     ]
    },
    {
     "name": "stderr",
     "output_type": "stream",
     "text": [
      "/home/202004182/anaconda3/envs/env0/lib/python3.10/site-packages/torch/nn/modules/transformer.py:307: UserWarning: enable_nested_tensor is True, but self.use_nested_tensor is False because encoder_layer.self_attn.num_heads is odd\n",
      "  warnings.warn(f\"enable_nested_tensor is True, but self.use_nested_tensor is False because {why_not_sparsity_fast_path}\")\n"
     ]
    },
    {
     "name": "stderr",
     "output_type": "stream",
     "text": [
      "[I 2024-10-23 02:11:21,568] Trial 11 finished with value: 0.001478003993834564 and parameters: {'nhead': 5, 'd_model': 205, 'num_encoder_layers': 1, 'dim_feedforward': 276, 'learning_rate': 0.0001477558602538382, 'batch_size': 55}. Best is trial 11 with value: 0.001478003993834564.\n"
     ]
    },
    {
     "name": "stderr",
     "output_type": "stream",
     "text": [
      "/home/202004182/anaconda3/envs/env0/lib/python3.10/site-packages/torch/nn/modules/transformer.py:307: UserWarning: enable_nested_tensor is True, but self.use_nested_tensor is False because encoder_layer.self_attn.num_heads is odd\n",
      "  warnings.warn(f\"enable_nested_tensor is True, but self.use_nested_tensor is False because {why_not_sparsity_fast_path}\")\n"
     ]
    },
    {
     "name": "stderr",
     "output_type": "stream",
     "text": [
      "[I 2024-10-23 02:24:14,105] Trial 12 finished with value: 0.0012592932053735388 and parameters: {'nhead': 5, 'd_model': 125, 'num_encoder_layers': 1, 'dim_feedforward': 264, 'learning_rate': 0.0025440882065515488, 'batch_size': 37}. Best is trial 12 with value: 0.0012592932053735388.\n"
     ]
    },
    {
     "name": "stderr",
     "output_type": "stream",
     "text": [
      "[I 2024-10-23 02:50:48,197] Trial 13 finished with value: 0.001948168994378536 and parameters: {'nhead': 6, 'd_model': 270, 'num_encoder_layers': 1, 'dim_feedforward': 294, 'learning_rate': 0.0027291015822518867, 'batch_size': 36}. Best is trial 12 with value: 0.0012592932053735388.\n"
     ]
    },
    {
     "name": "stderr",
     "output_type": "stream",
     "text": [
      "[I 2024-10-23 02:59:50,306] Trial 14 finished with value: 0.002704179071968271 and parameters: {'nhead': 4, 'd_model': 112, 'num_encoder_layers': 1, 'dim_feedforward': 370, 'learning_rate': 0.002759332750479026, 'batch_size': 41}. Best is trial 12 with value: 0.0012592932053735388.\n"
     ]
    },
    {
     "name": "stderr",
     "output_type": "stream",
     "text": [
      "[I 2024-10-23 03:00:36,510] Trial 15 pruned. \n"
     ]
    },
    {
     "name": "stdout",
     "output_type": "stream",
     "text": [
      "Trial 15 pruned at epoch 10\n"
     ]
    },
    {
     "name": "stderr",
     "output_type": "stream",
     "text": [
      "[I 2024-10-23 03:17:06,048] Trial 16 finished with value: 0.0032911997854473928 and parameters: {'nhead': 4, 'd_model': 168, 'num_encoder_layers': 1, 'dim_feedforward': 370, 'learning_rate': 0.001973673437075629, 'batch_size': 45}. Best is trial 12 with value: 0.0012592932053735388.\n"
     ]
    },
    {
     "name": "stderr",
     "output_type": "stream",
     "text": [
      "/home/202004182/anaconda3/envs/env0/lib/python3.10/site-packages/torch/nn/modules/transformer.py:307: UserWarning: enable_nested_tensor is True, but self.use_nested_tensor is False because encoder_layer.self_attn.num_heads is odd\n",
      "  warnings.warn(f\"enable_nested_tensor is True, but self.use_nested_tensor is False because {why_not_sparsity_fast_path}\")\n"
     ]
    },
    {
     "name": "stderr",
     "output_type": "stream",
     "text": [
      "[I 2024-10-23 03:40:19,903] Trial 17 finished with value: 0.0025447346394096987 and parameters: {'nhead': 5, 'd_model': 215, 'num_encoder_layers': 1, 'dim_feedforward': 265, 'learning_rate': 0.003495976409892108, 'batch_size': 31}. Best is trial 12 with value: 0.0012592932053735388.\n"
     ]
    },
    {
     "name": "stderr",
     "output_type": "stream",
     "text": [
      "/home/202004182/anaconda3/envs/env0/lib/python3.10/site-packages/torch/nn/modules/transformer.py:307: UserWarning: enable_nested_tensor is True, but self.use_nested_tensor is False because encoder_layer.self_attn.num_heads is odd\n",
      "  warnings.warn(f\"enable_nested_tensor is True, but self.use_nested_tensor is False because {why_not_sparsity_fast_path}\")\n"
     ]
    },
    {
     "name": "stderr",
     "output_type": "stream",
     "text": [
      "[I 2024-10-23 03:40:48,995] Trial 18 pruned. \n"
     ]
    },
    {
     "name": "stdout",
     "output_type": "stream",
     "text": [
      "Trial 18 pruned at epoch 10\n"
     ]
    },
    {
     "name": "stderr",
     "output_type": "stream",
     "text": [
      "/home/202004182/anaconda3/envs/env0/lib/python3.10/site-packages/torch/nn/modules/transformer.py:307: UserWarning: enable_nested_tensor is True, but self.use_nested_tensor is False because encoder_layer.self_attn.num_heads is odd\n",
      "  warnings.warn(f\"enable_nested_tensor is True, but self.use_nested_tensor is False because {why_not_sparsity_fast_path}\")\n"
     ]
    },
    {
     "name": "stderr",
     "output_type": "stream",
     "text": [
      "[I 2024-10-23 03:49:32,104] Trial 19 finished with value: 0.0008050780436801322 and parameters: {'nhead': 3, 'd_model': 81, 'num_encoder_layers': 1, 'dim_feedforward': 233, 'learning_rate': 0.0012965635932596514, 'batch_size': 72}. Best is trial 19 with value: 0.0008050780436801322.\n"
     ]
    },
    {
     "name": "stderr",
     "output_type": "stream",
     "text": [
      "/home/202004182/anaconda3/envs/env0/lib/python3.10/site-packages/torch/nn/modules/transformer.py:307: UserWarning: enable_nested_tensor is True, but self.use_nested_tensor is False because encoder_layer.self_attn.num_heads is odd\n",
      "  warnings.warn(f\"enable_nested_tensor is True, but self.use_nested_tensor is False because {why_not_sparsity_fast_path}\")\n"
     ]
    },
    {
     "name": "stderr",
     "output_type": "stream",
     "text": [
      "[I 2024-10-23 04:03:42,352] Trial 20 finished with value: 0.0035505343555745183 and parameters: {'nhead': 3, 'd_model': 78, 'num_encoder_layers': 2, 'dim_feedforward': 226, 'learning_rate': 0.0014855640534991296, 'batch_size': 69}. Best is trial 19 with value: 0.0008050780436801322.\n"
     ]
    },
    {
     "name": "stderr",
     "output_type": "stream",
     "text": [
      "[I 2024-10-23 04:03:51,851] Trial 21 pruned. \n"
     ]
    },
    {
     "name": "stdout",
     "output_type": "stream",
     "text": [
      "Trial 21 pruned at epoch 11\n"
     ]
    },
    {
     "name": "stderr",
     "output_type": "stream",
     "text": [
      "[I 2024-10-23 04:15:08,258] Trial 22 finished with value: 0.002853621857871568 and parameters: {'nhead': 6, 'd_model': 144, 'num_encoder_layers': 1, 'dim_feedforward': 177, 'learning_rate': 0.0037518471768043593, 'batch_size': 54}. Best is trial 19 with value: 0.0008050780436801322.\n"
     ]
    },
    {
     "name": "stderr",
     "output_type": "stream",
     "text": [
      "/home/202004182/anaconda3/envs/env0/lib/python3.10/site-packages/torch/nn/modules/transformer.py:307: UserWarning: enable_nested_tensor is True, but self.use_nested_tensor is False because encoder_layer.self_attn.num_heads is odd\n",
      "  warnings.warn(f\"enable_nested_tensor is True, but self.use_nested_tensor is False because {why_not_sparsity_fast_path}\")\n"
     ]
    },
    {
     "name": "stderr",
     "output_type": "stream",
     "text": [
      "[I 2024-10-23 04:26:12,065] Trial 23 finished with value: 0.003421940602685423 and parameters: {'nhead': 5, 'd_model': 40, 'num_encoder_layers': 1, 'dim_feedforward': 242, 'learning_rate': 0.0014687042580546217, 'batch_size': 25}. Best is trial 19 with value: 0.0008050780436801322.\n"
     ]
    },
    {
     "name": "stderr",
     "output_type": "stream",
     "text": [
      "/home/202004182/anaconda3/envs/env0/lib/python3.10/site-packages/torch/nn/modules/transformer.py:307: UserWarning: enable_nested_tensor is True, but self.use_nested_tensor is False because encoder_layer.self_attn.num_heads is odd\n",
      "  warnings.warn(f\"enable_nested_tensor is True, but self.use_nested_tensor is False because {why_not_sparsity_fast_path}\")\n"
     ]
    },
    {
     "name": "stderr",
     "output_type": "stream",
     "text": [
      "[I 2024-10-23 04:26:22,951] Trial 24 pruned. \n"
     ]
    },
    {
     "name": "stdout",
     "output_type": "stream",
     "text": [
      "Trial 24 pruned at epoch 10\n"
     ]
    },
    {
     "name": "stderr",
     "output_type": "stream",
     "text": [
      "[I 2024-10-23 04:26:37,647] Trial 25 pruned. \n"
     ]
    },
    {
     "name": "stdout",
     "output_type": "stream",
     "text": [
      "Trial 25 pruned at epoch 10\n"
     ]
    },
    {
     "name": "stderr",
     "output_type": "stream",
     "text": [
      "[I 2024-10-23 04:26:42,774] Trial 26 pruned. \n"
     ]
    },
    {
     "name": "stdout",
     "output_type": "stream",
     "text": [
      "Trial 26 pruned at epoch 10\n"
     ]
    },
    {
     "name": "stderr",
     "output_type": "stream",
     "text": [
      "/home/202004182/anaconda3/envs/env0/lib/python3.10/site-packages/torch/nn/modules/transformer.py:307: UserWarning: enable_nested_tensor is True, but self.use_nested_tensor is False because encoder_layer.self_attn.num_heads is odd\n",
      "  warnings.warn(f\"enable_nested_tensor is True, but self.use_nested_tensor is False because {why_not_sparsity_fast_path}\")\n"
     ]
    },
    {
     "name": "stderr",
     "output_type": "stream",
     "text": [
      "[I 2024-10-23 04:53:14,467] Trial 27 finished with value: 0.002069362465374938 and parameters: {'nhead': 5, 'd_model': 190, 'num_encoder_layers': 2, 'dim_feedforward': 276, 'learning_rate': 0.0010075938945627548, 'batch_size': 33}. Best is trial 19 with value: 0.0008050780436801322.\n"
     ]
    },
    {
     "name": "stderr",
     "output_type": "stream",
     "text": [
      "[I 2024-10-23 04:53:39,719] Trial 28 pruned. \n"
     ]
    },
    {
     "name": "stdout",
     "output_type": "stream",
     "text": [
      "Trial 28 pruned at epoch 10\n"
     ]
    },
    {
     "name": "stderr",
     "output_type": "stream",
     "text": [
      "[I 2024-10-23 04:54:12,898] Trial 29 pruned. \n"
     ]
    },
    {
     "name": "stdout",
     "output_type": "stream",
     "text": [
      "Trial 29 pruned at epoch 10\n"
     ]
    },
    {
     "name": "stderr",
     "output_type": "stream",
     "text": [
      "[I 2024-10-23 05:04:13,554] Trial 30 finished with value: 0.0006478062808373018 and parameters: {'nhead': 6, 'd_model': 120, 'num_encoder_layers': 1, 'dim_feedforward': 198, 'learning_rate': 0.00100793565377167, 'batch_size': 67}. Best is trial 30 with value: 0.0006478062808373018.\n"
     ]
    },
    {
     "name": "stderr",
     "output_type": "stream",
     "text": [
      "[I 2024-10-23 05:04:28,945] Trial 31 pruned. \n"
     ]
    },
    {
     "name": "stdout",
     "output_type": "stream",
     "text": [
      "Trial 31 pruned at epoch 13\n"
     ]
    },
    {
     "name": "stderr",
     "output_type": "stream",
     "text": [
      "/home/202004182/anaconda3/envs/env0/lib/python3.10/site-packages/torch/nn/modules/transformer.py:307: UserWarning: enable_nested_tensor is True, but self.use_nested_tensor is False because encoder_layer.self_attn.num_heads is odd\n",
      "  warnings.warn(f\"enable_nested_tensor is True, but self.use_nested_tensor is False because {why_not_sparsity_fast_path}\")\n"
     ]
    },
    {
     "name": "stderr",
     "output_type": "stream",
     "text": [
      "[I 2024-10-23 05:04:49,045] Trial 32 pruned. \n"
     ]
    },
    {
     "name": "stdout",
     "output_type": "stream",
     "text": [
      "Trial 32 pruned at epoch 11\n"
     ]
    },
    {
     "name": "stderr",
     "output_type": "stream",
     "text": [
      "/home/202004182/anaconda3/envs/env0/lib/python3.10/site-packages/torch/nn/modules/transformer.py:307: UserWarning: enable_nested_tensor is True, but self.use_nested_tensor is False because encoder_layer.self_attn.num_heads is odd\n",
      "  warnings.warn(f\"enable_nested_tensor is True, but self.use_nested_tensor is False because {why_not_sparsity_fast_path}\")\n"
     ]
    },
    {
     "name": "stderr",
     "output_type": "stream",
     "text": [
      "[I 2024-10-23 05:23:46,453] Trial 33 finished with value: 0.002986284026385788 and parameters: {'nhead': 7, 'd_model': 217, 'num_encoder_layers': 1, 'dim_feedforward': 160, 'learning_rate': 0.0018733854118569647, 'batch_size': 39}. Best is trial 30 with value: 0.0006478062808373018.\n"
     ]
    },
    {
     "name": "stderr",
     "output_type": "stream",
     "text": [
      "[I 2024-10-23 05:34:31,083] Trial 34 finished with value: 0.0032979442649697164 and parameters: {'nhead': 6, 'd_model': 144, 'num_encoder_layers': 1, 'dim_feedforward': 217, 'learning_rate': 0.003282871416377838, 'batch_size': 68}. Best is trial 30 with value: 0.0006478062808373018.\n"
     ]
    },
    {
     "name": "stderr",
     "output_type": "stream",
     "text": [
      "/home/202004182/anaconda3/envs/env0/lib/python3.10/site-packages/torch/nn/modules/transformer.py:307: UserWarning: enable_nested_tensor is True, but self.use_nested_tensor is False because encoder_layer.self_attn.num_heads is odd\n",
      "  warnings.warn(f\"enable_nested_tensor is True, but self.use_nested_tensor is False because {why_not_sparsity_fast_path}\")\n"
     ]
    },
    {
     "name": "stderr",
     "output_type": "stream",
     "text": [
      "[I 2024-10-23 05:47:10,388] Trial 35 finished with value: 0.002987146168763273 and parameters: {'nhead': 5, 'd_model': 115, 'num_encoder_layers': 2, 'dim_feedforward': 239, 'learning_rate': 0.0007644570088744344, 'batch_size': 98}. Best is trial 30 with value: 0.0006478062808373018.\n"
     ]
    },
    {
     "name": "stderr",
     "output_type": "stream",
     "text": [
      "[I 2024-10-23 05:47:18,827] Trial 36 pruned. \n"
     ]
    },
    {
     "name": "stdout",
     "output_type": "stream",
     "text": [
      "Trial 36 pruned at epoch 11\n"
     ]
    },
    {
     "name": "stderr",
     "output_type": "stream",
     "text": [
      "[I 2024-10-23 06:15:16,413] Trial 37 finished with value: 0.005495919213683533 and parameters: {'nhead': 2, 'd_model': 66, 'num_encoder_layers': 2, 'dim_feedforward': 309, 'learning_rate': 0.0012935310262259172, 'batch_size': 27}. Best is trial 30 with value: 0.0006478062808373018.\n"
     ]
    },
    {
     "name": "stderr",
     "output_type": "stream",
     "text": [
      "/home/202004182/anaconda3/envs/env0/lib/python3.10/site-packages/torch/nn/modules/transformer.py:307: UserWarning: enable_nested_tensor is True, but self.use_nested_tensor is False because encoder_layer.self_attn.num_heads is odd\n",
      "  warnings.warn(f\"enable_nested_tensor is True, but self.use_nested_tensor is False because {why_not_sparsity_fast_path}\")\n"
     ]
    },
    {
     "name": "stderr",
     "output_type": "stream",
     "text": [
      "[I 2024-10-23 06:23:30,703] Trial 38 finished with value: 0.0019084588693604248 and parameters: {'nhead': 3, 'd_model': 120, 'num_encoder_layers': 1, 'dim_feedforward': 157, 'learning_rate': 0.004568123192676352, 'batch_size': 60}. Best is trial 30 with value: 0.0006478062808373018.\n"
     ]
    },
    {
     "name": "stderr",
     "output_type": "stream",
     "text": [
      "/home/202004182/anaconda3/envs/env0/lib/python3.10/site-packages/torch/nn/modules/transformer.py:307: UserWarning: enable_nested_tensor is True, but self.use_nested_tensor is False because encoder_layer.self_attn.num_heads is odd\n",
      "  warnings.warn(f\"enable_nested_tensor is True, but self.use_nested_tensor is False because {why_not_sparsity_fast_path}\")\n"
     ]
    },
    {
     "name": "stderr",
     "output_type": "stream",
     "text": [
      "[I 2024-10-23 06:23:58,306] Trial 39 pruned. \n"
     ]
    },
    {
     "name": "stdout",
     "output_type": "stream",
     "text": [
      "Trial 39 pruned at epoch 10\n"
     ]
    },
    {
     "name": "stderr",
     "output_type": "stream",
     "text": [
      "/home/202004182/anaconda3/envs/env0/lib/python3.10/site-packages/torch/nn/modules/transformer.py:307: UserWarning: enable_nested_tensor is True, but self.use_nested_tensor is False because encoder_layer.self_attn.num_heads is odd\n",
      "  warnings.warn(f\"enable_nested_tensor is True, but self.use_nested_tensor is False because {why_not_sparsity_fast_path}\")\n"
     ]
    },
    {
     "name": "stderr",
     "output_type": "stream",
     "text": [
      "[I 2024-10-23 06:24:13,660] Trial 40 pruned. \n"
     ]
    },
    {
     "name": "stdout",
     "output_type": "stream",
     "text": [
      "Trial 40 pruned at epoch 10\n"
     ]
    },
    {
     "name": "stderr",
     "output_type": "stream",
     "text": [
      "[I 2024-10-23 06:33:16,378] Trial 41 finished with value: 0.0013923617133147033 and parameters: {'nhead': 6, 'd_model': 102, 'num_encoder_layers': 1, 'dim_feedforward': 206, 'learning_rate': 0.0005593765994277426, 'batch_size': 80}. Best is trial 30 with value: 0.0006478062808373018.\n"
     ]
    },
    {
     "name": "stderr",
     "output_type": "stream",
     "text": [
      "[I 2024-10-23 06:41:20,789] Trial 42 finished with value: 0.0012051606238620467 and parameters: {'nhead': 6, 'd_model': 96, 'num_encoder_layers': 1, 'dim_feedforward': 211, 'learning_rate': 0.0005650269042242173, 'batch_size': 83}. Best is trial 30 with value: 0.0006478062808373018.\n"
     ]
    },
    {
     "name": "stderr",
     "output_type": "stream",
     "text": [
      "[I 2024-10-23 06:49:19,515] Trial 43 finished with value: 0.001407516094055553 and parameters: {'nhead': 6, 'd_model': 102, 'num_encoder_layers': 1, 'dim_feedforward': 201, 'learning_rate': 0.0017087985381184327, 'batch_size': 94}. Best is trial 30 with value: 0.0006478062808373018.\n"
     ]
    },
    {
     "name": "stderr",
     "output_type": "stream",
     "text": [
      "/home/202004182/anaconda3/envs/env0/lib/python3.10/site-packages/torch/nn/modules/transformer.py:307: UserWarning: enable_nested_tensor is True, but self.use_nested_tensor is False because encoder_layer.self_attn.num_heads is odd\n",
      "  warnings.warn(f\"enable_nested_tensor is True, but self.use_nested_tensor is False because {why_not_sparsity_fast_path}\")\n"
     ]
    },
    {
     "name": "stderr",
     "output_type": "stream",
     "text": [
      "[I 2024-10-23 06:50:21,641] Trial 44 pruned. \n"
     ]
    },
    {
     "name": "stdout",
     "output_type": "stream",
     "text": [
      "Trial 44 pruned at epoch 28\n"
     ]
    },
    {
     "name": "stderr",
     "output_type": "stream",
     "text": [
      "[I 2024-10-23 06:50:29,753] Trial 45 pruned. \n"
     ]
    },
    {
     "name": "stdout",
     "output_type": "stream",
     "text": [
      "Trial 45 pruned at epoch 10\n"
     ]
    },
    {
     "name": "stderr",
     "output_type": "stream",
     "text": [
      "/home/202004182/anaconda3/envs/env0/lib/python3.10/site-packages/torch/nn/modules/transformer.py:307: UserWarning: enable_nested_tensor is True, but self.use_nested_tensor is False because encoder_layer.self_attn.num_heads is odd\n",
      "  warnings.warn(f\"enable_nested_tensor is True, but self.use_nested_tensor is False because {why_not_sparsity_fast_path}\")\n"
     ]
    },
    {
     "name": "stderr",
     "output_type": "stream",
     "text": [
      "[I 2024-10-23 06:50:40,716] Trial 46 pruned. \n"
     ]
    },
    {
     "name": "stdout",
     "output_type": "stream",
     "text": [
      "Trial 46 pruned at epoch 13\n"
     ]
    },
    {
     "name": "stderr",
     "output_type": "stream",
     "text": [
      "[I 2024-10-23 06:59:58,891] Trial 47 finished with value: 0.005629591304810292 and parameters: {'nhead': 6, 'd_model': 102, 'num_encoder_layers': 1, 'dim_feedforward': 512, 'learning_rate': 0.003070644131881433, 'batch_size': 87}. Best is trial 30 with value: 0.0006478062808373018.\n"
     ]
    },
    {
     "name": "stderr",
     "output_type": "stream",
     "text": [
      "[I 2024-10-23 07:00:07,276] Trial 48 pruned. \n"
     ]
    },
    {
     "name": "stdout",
     "output_type": "stream",
     "text": [
      "Trial 48 pruned at epoch 10\n"
     ]
    },
    {
     "name": "stderr",
     "output_type": "stream",
     "text": [
      "/home/202004182/anaconda3/envs/env0/lib/python3.10/site-packages/torch/nn/modules/transformer.py:307: UserWarning: enable_nested_tensor is True, but self.use_nested_tensor is False because encoder_layer.self_attn.num_heads is odd\n",
      "  warnings.warn(f\"enable_nested_tensor is True, but self.use_nested_tensor is False because {why_not_sparsity_fast_path}\")\n"
     ]
    },
    {
     "name": "stderr",
     "output_type": "stream",
     "text": [
      "[I 2024-10-23 07:00:24,773] Trial 49 pruned. \n"
     ]
    },
    {
     "name": "stdout",
     "output_type": "stream",
     "text": [
      "Trial 49 pruned at epoch 10\n"
     ]
    },
    {
     "name": "stderr",
     "output_type": "stream",
     "text": [
      "[I 2024-10-23 07:00:31,749] Trial 50 pruned. \n"
     ]
    },
    {
     "name": "stdout",
     "output_type": "stream",
     "text": [
      "Trial 50 pruned at epoch 10\n"
     ]
    },
    {
     "name": "stderr",
     "output_type": "stream",
     "text": [
      "[I 2024-10-23 07:00:41,876] Trial 51 pruned. \n"
     ]
    },
    {
     "name": "stdout",
     "output_type": "stream",
     "text": [
      "Trial 51 pruned at epoch 13\n"
     ]
    },
    {
     "name": "stderr",
     "output_type": "stream",
     "text": [
      "/home/202004182/anaconda3/envs/env0/lib/python3.10/site-packages/torch/nn/modules/transformer.py:307: UserWarning: enable_nested_tensor is True, but self.use_nested_tensor is False because encoder_layer.self_attn.num_heads is odd\n",
      "  warnings.warn(f\"enable_nested_tensor is True, but self.use_nested_tensor is False because {why_not_sparsity_fast_path}\")\n"
     ]
    },
    {
     "name": "stderr",
     "output_type": "stream",
     "text": [
      "[I 2024-10-23 07:00:48,381] Trial 52 pruned. \n"
     ]
    },
    {
     "name": "stdout",
     "output_type": "stream",
     "text": [
      "Trial 52 pruned at epoch 10\n"
     ]
    },
    {
     "name": "stderr",
     "output_type": "stream",
     "text": [
      "[I 2024-10-23 07:08:43,661] Trial 53 finished with value: 0.0007814148461483029 and parameters: {'nhead': 6, 'd_model': 114, 'num_encoder_layers': 1, 'dim_feedforward': 176, 'learning_rate': 0.0017366720648858006, 'batch_size': 87}. Best is trial 30 with value: 0.0006478062808373018.\n"
     ]
    },
    {
     "name": "stderr",
     "output_type": "stream",
     "text": [
      "/home/202004182/anaconda3/envs/env0/lib/python3.10/site-packages/torch/nn/modules/transformer.py:307: UserWarning: enable_nested_tensor is True, but self.use_nested_tensor is False because encoder_layer.self_attn.num_heads is odd\n",
      "  warnings.warn(f\"enable_nested_tensor is True, but self.use_nested_tensor is False because {why_not_sparsity_fast_path}\")\n"
     ]
    },
    {
     "name": "stderr",
     "output_type": "stream",
     "text": [
      "[I 2024-10-23 07:08:52,609] Trial 54 pruned. \n"
     ]
    },
    {
     "name": "stdout",
     "output_type": "stream",
     "text": [
      "Trial 54 pruned at epoch 10\n"
     ]
    },
    {
     "name": "stderr",
     "output_type": "stream",
     "text": [
      "[I 2024-10-23 07:16:34,222] Trial 55 finished with value: 0.0012790291611207221 and parameters: {'nhead': 6, 'd_model': 90, 'num_encoder_layers': 1, 'dim_feedforward': 174, 'learning_rate': 0.0028455729771709715, 'batch_size': 79}. Best is trial 30 with value: 0.0006478062808373018.\n"
     ]
    },
    {
     "name": "stderr",
     "output_type": "stream",
     "text": [
      "/home/202004182/anaconda3/envs/env0/lib/python3.10/site-packages/torch/nn/modules/transformer.py:307: UserWarning: enable_nested_tensor is True, but self.use_nested_tensor is False because encoder_layer.self_attn.num_heads is odd\n",
      "  warnings.warn(f\"enable_nested_tensor is True, but self.use_nested_tensor is False because {why_not_sparsity_fast_path}\")\n"
     ]
    },
    {
     "name": "stderr",
     "output_type": "stream",
     "text": [
      "[I 2024-10-23 07:16:41,808] Trial 56 pruned. \n"
     ]
    },
    {
     "name": "stdout",
     "output_type": "stream",
     "text": [
      "Trial 56 pruned at epoch 10\n"
     ]
    },
    {
     "name": "stderr",
     "output_type": "stream",
     "text": [
      "/home/202004182/anaconda3/envs/env0/lib/python3.10/site-packages/torch/nn/modules/transformer.py:307: UserWarning: enable_nested_tensor is True, but self.use_nested_tensor is False because encoder_layer.self_attn.num_heads is odd\n",
      "  warnings.warn(f\"enable_nested_tensor is True, but self.use_nested_tensor is False because {why_not_sparsity_fast_path}\")\n"
     ]
    },
    {
     "name": "stderr",
     "output_type": "stream",
     "text": [
      "[I 2024-10-23 07:16:53,308] Trial 57 pruned. \n"
     ]
    },
    {
     "name": "stdout",
     "output_type": "stream",
     "text": [
      "Trial 57 pruned at epoch 13\n"
     ]
    },
    {
     "name": "stderr",
     "output_type": "stream",
     "text": [
      "[I 2024-10-23 07:27:18,832] Trial 58 finished with value: 0.0007133054715091007 and parameters: {'nhead': 4, 'd_model': 92, 'num_encoder_layers': 1, 'dim_feedforward': 249, 'learning_rate': 0.0029253371817930616, 'batch_size': 67}. Best is trial 30 with value: 0.0006478062808373018.\n"
     ]
    },
    {
     "name": "stderr",
     "output_type": "stream",
     "text": [
      "[I 2024-10-23 07:39:08,113] Trial 59 finished with value: 0.0006097317363219262 and parameters: {'nhead': 4, 'd_model': 136, 'num_encoder_layers': 1, 'dim_feedforward': 274, 'learning_rate': 0.003953864235868401, 'batch_size': 68}. Best is trial 59 with value: 0.0006097317363219262.\n"
     ]
    },
    {
     "name": "stderr",
     "output_type": "stream",
     "text": [
      "/home/202004182/anaconda3/envs/env0/lib/python3.10/site-packages/torch/nn/modules/transformer.py:307: UserWarning: enable_nested_tensor is True, but self.use_nested_tensor is False because encoder_layer.self_attn.num_heads is odd\n",
      "  warnings.warn(f\"enable_nested_tensor is True, but self.use_nested_tensor is False because {why_not_sparsity_fast_path}\")\n"
     ]
    },
    {
     "name": "stderr",
     "output_type": "stream",
     "text": [
      "[I 2024-10-23 07:51:42,226] Trial 60 finished with value: 0.0063961302037315836 and parameters: {'nhead': 3, 'd_model': 138, 'num_encoder_layers': 1, 'dim_feedforward': 250, 'learning_rate': 0.0041511490862357284, 'batch_size': 65}. Best is trial 59 with value: 0.0006097317363219262.\n"
     ]
    },
    {
     "name": "stderr",
     "output_type": "stream",
     "text": [
      "[I 2024-10-23 07:59:52,640] Trial 61 finished with value: 0.0012128262513783896 and parameters: {'nhead': 4, 'd_model': 120, 'num_encoder_layers': 1, 'dim_feedforward': 270, 'learning_rate': 0.003498133151477143, 'batch_size': 59}. Best is trial 59 with value: 0.0006097317363219262.\n"
     ]
    },
    {
     "name": "stderr",
     "output_type": "stream",
     "text": [
      "[I 2024-10-23 08:00:02,624] Trial 62 pruned. \n"
     ]
    },
    {
     "name": "stdout",
     "output_type": "stream",
     "text": [
      "Trial 62 pruned at epoch 12\n"
     ]
    },
    {
     "name": "stderr",
     "output_type": "stream",
     "text": [
      "[I 2024-10-23 08:12:08,121] Trial 63 finished with value: 0.001248080557754069 and parameters: {'nhead': 4, 'd_model': 108, 'num_encoder_layers': 1, 'dim_feedforward': 323, 'learning_rate': 0.0035884312028349515, 'batch_size': 58}. Best is trial 59 with value: 0.0006097317363219262.\n"
     ]
    },
    {
     "name": "stderr",
     "output_type": "stream",
     "text": [
      "[I 2024-10-23 08:23:46,993] Trial 64 finished with value: 0.001209064755917812 and parameters: {'nhead': 4, 'd_model': 124, 'num_encoder_layers': 1, 'dim_feedforward': 298, 'learning_rate': 0.003333730269372428, 'batch_size': 65}. Best is trial 59 with value: 0.0006097317363219262.\n"
     ]
    },
    {
     "name": "stderr",
     "output_type": "stream",
     "text": [
      "[I 2024-10-23 08:23:55,999] Trial 65 pruned. \n"
     ]
    },
    {
     "name": "stdout",
     "output_type": "stream",
     "text": [
      "Trial 65 pruned at epoch 10\n"
     ]
    },
    {
     "name": "stderr",
     "output_type": "stream",
     "text": [
      "/home/202004182/anaconda3/envs/env0/lib/python3.10/site-packages/torch/nn/modules/transformer.py:307: UserWarning: enable_nested_tensor is True, but self.use_nested_tensor is False because encoder_layer.self_attn.num_heads is odd\n",
      "  warnings.warn(f\"enable_nested_tensor is True, but self.use_nested_tensor is False because {why_not_sparsity_fast_path}\")\n"
     ]
    },
    {
     "name": "stderr",
     "output_type": "stream",
     "text": [
      "[I 2024-10-23 08:24:24,407] Trial 66 pruned. \n"
     ]
    },
    {
     "name": "stdout",
     "output_type": "stream",
     "text": [
      "Trial 66 pruned at epoch 10\n"
     ]
    },
    {
     "name": "stderr",
     "output_type": "stream",
     "text": [
      "[I 2024-10-23 09:11:05,744] Trial 67 finished with value: 0.002019529272237791 and parameters: {'nhead': 4, 'd_model': 124, 'num_encoder_layers': 1, 'dim_feedforward': 343, 'learning_rate': 0.002239452897053593, 'batch_size': 68}. Best is trial 59 with value: 0.0006097317363219262.\n"
     ]
    },
    {
     "name": "stderr",
     "output_type": "stream",
     "text": [
      "/home/202004182/anaconda3/envs/env0/lib/python3.10/site-packages/torch/nn/modules/transformer.py:307: UserWarning: enable_nested_tensor is True, but self.use_nested_tensor is False because encoder_layer.self_attn.num_heads is odd\n",
      "  warnings.warn(f\"enable_nested_tensor is True, but self.use_nested_tensor is False because {why_not_sparsity_fast_path}\")\n"
     ]
    },
    {
     "name": "stderr",
     "output_type": "stream",
     "text": [
      "[I 2024-10-23 09:12:25,412] Trial 68 pruned. \n"
     ]
    },
    {
     "name": "stdout",
     "output_type": "stream",
     "text": [
      "Trial 68 pruned at epoch 13\n"
     ]
    },
    {
     "name": "stderr",
     "output_type": "stream",
     "text": [
      "[I 2024-10-23 09:14:22,121] Trial 69 pruned. \n"
     ]
    },
    {
     "name": "stdout",
     "output_type": "stream",
     "text": [
      "Trial 69 pruned at epoch 10\n",
      "Best hyperparameters:  {'nhead': 4, 'd_model': 136, 'num_encoder_layers': 1, 'dim_feedforward': 274, 'learning_rate': 0.003953864235868401, 'batch_size': 68}\n"
     ]
    }
   ],
   "source": [
    "import optuna\n",
    "\n",
    "# Optuna 스터디 생성 및 최적화 실행\n",
    "study = optuna.create_study(direction=\"minimize\", pruner=optuna.pruners.MedianPruner(n_warmup_steps=10))\n",
    "study.optimize(lambda trial: objective(trial, tri, sequence_length), n_trials=n_trials)\n",
    "\n",
    "# 최적의 하이퍼파라미터 출력\n",
    "print(\"Best hyperparameters: \", study.best_params)"
   ]
  },
  {
   "cell_type": "code",
   "execution_count": 18,
   "metadata": {
    "execution": {
     "iopub.execute_input": "2024-10-23T09:14:22.132573Z",
     "iopub.status.busy": "2024-10-23T09:14:22.131696Z",
     "iopub.status.idle": "2024-10-23T09:14:22.139348Z",
     "shell.execute_reply": "2024-10-23T09:14:22.138551Z"
    },
    "id": "3Xt-1B8qlazc"
   },
   "outputs": [
    {
     "name": "stdout",
     "output_type": "stream",
     "text": [
      "Best hyperparameters have been saved to 'best_hyperparameters.json'\n"
     ]
    }
   ],
   "source": [
    "import json\n",
    "\n",
    "### 하이퍼 파라미터 저장\n",
    "\n",
    "# 최적의 하이퍼파라미터를 JSON 파일로 저장\n",
    "with open(\"best_hyperparameters.json\", \"w\") as f:\n",
    "    json.dump(study.best_params, f, indent=4)\n",
    "\n",
    "print(\"Best hyperparameters have been saved to 'best_hyperparameters.json'\")"
   ]
  },
  {
   "cell_type": "markdown",
   "metadata": {
    "id": "FYz0CNRn3w9P"
   },
   "source": [
    "## 학습"
   ]
  },
  {
   "cell_type": "markdown",
   "metadata": {
    "id": "eohY6qs0xg2O"
   },
   "source": [
    "### 1. 하이퍼파라미터 불러오기"
   ]
  },
  {
   "cell_type": "code",
   "execution_count": 19,
   "metadata": {
    "colab": {
     "base_uri": "https://localhost:8080/"
    },
    "execution": {
     "iopub.execute_input": "2024-10-23T09:14:22.142472Z",
     "iopub.status.busy": "2024-10-23T09:14:22.142116Z",
     "iopub.status.idle": "2024-10-23T09:14:22.147554Z",
     "shell.execute_reply": "2024-10-23T09:14:22.146699Z"
    },
    "id": "KNJ0UWidblTl",
    "outputId": "aa9dbceb-8604-45a3-edd3-d2fb74278ff6"
   },
   "outputs": [
    {
     "name": "stdout",
     "output_type": "stream",
     "text": [
      "Loaded best hyperparameters: {'nhead': 4, 'd_model': 136, 'num_encoder_layers': 1, 'dim_feedforward': 274, 'learning_rate': 0.003953864235868401, 'batch_size': 68}\n"
     ]
    }
   ],
   "source": [
    "import json\n",
    "\n",
    "# 저장된 하이퍼파라미터 불러오기\n",
    "with open(\"best_hyperparameters.json\", \"r\") as f:\n",
    "    best_params = json.load(f)\n",
    "\n",
    "print(\"Loaded best hyperparameters:\", best_params)"
   ]
  },
  {
   "cell_type": "markdown",
   "metadata": {
    "id": "pdznBzKYx31i"
   },
   "source": [
    "### 2. 최적의 파라미터로 모델 학습"
   ]
  },
  {
   "cell_type": "code",
   "execution_count": 20,
   "metadata": {
    "execution": {
     "iopub.execute_input": "2024-10-23T09:14:22.150626Z",
     "iopub.status.busy": "2024-10-23T09:14:22.150258Z",
     "iopub.status.idle": "2024-10-23T09:14:22.154353Z",
     "shell.execute_reply": "2024-10-23T09:14:22.153486Z"
    },
    "id": "_nfvmpVT66vA"
   },
   "outputs": [],
   "source": [
    "sequence_length = 30\n",
    "num_epochs = 632"
   ]
  },
  {
   "cell_type": "code",
   "execution_count": 21,
   "metadata": {
    "colab": {
     "base_uri": "https://localhost:8080/"
    },
    "execution": {
     "iopub.execute_input": "2024-10-23T09:14:22.157325Z",
     "iopub.status.busy": "2024-10-23T09:14:22.156961Z",
     "iopub.status.idle": "2024-10-23T09:14:22.628690Z",
     "shell.execute_reply": "2024-10-23T09:14:22.627793Z"
    },
    "id": "veh0Ol9xhQYV",
    "outputId": "4cc11992-3341-46ff-dd91-48c8acce4b4d"
   },
   "outputs": [],
   "source": [
    "# 최적의 모델 학습\n",
    "# best_params = study.best_params\n",
    "\n",
    "train_loader, val_loader, test_loader = create_dataloaders(tri, best_params['batch_size'], sequence_length)\n",
    "\n",
    "best_model = TransformerModel(\n",
    "    input_dim=3,\n",
    "    d_model=best_params['d_model'],\n",
    "    nhead=best_params['nhead'],\n",
    "    num_encoder_layers=best_params['num_encoder_layers'],\n",
    "    dim_feedforward=best_params['dim_feedforward']\n",
    ")\n",
    "\n",
    "device = torch.device('cuda' if torch.cuda.is_available() else 'cpu')\n",
    "best_model = best_model.to(device)\n",
    "\n",
    "optimizer = torch.optim.Adam(best_model.parameters(), lr=best_params['learning_rate'])\n",
    "criterion = torch.nn.MSELoss()"
   ]
  },
  {
   "cell_type": "code",
   "execution_count": 22,
   "metadata": {
    "colab": {
     "base_uri": "https://localhost:8080/"
    },
    "execution": {
     "iopub.execute_input": "2024-10-23T09:14:22.631511Z",
     "iopub.status.busy": "2024-10-23T09:14:22.631245Z",
     "iopub.status.idle": "2024-10-23T09:57:52.167852Z",
     "shell.execute_reply": "2024-10-23T09:57:52.166834Z"
    },
    "id": "CKJYU2CKhWZE",
    "outputId": "180bbaff-0661-46ed-8f7d-ea99172816b4"
   },
   "outputs": [
    {
     "name": "stdout",
     "output_type": "stream",
     "text": [
      "Epoch [1/632], Train Loss: 8.4690, Val Loss: 0.3023\n",
      "Epoch 1/632 completed in 6.69 seconds.\n"
     ]
    },
    {
     "name": "stdout",
     "output_type": "stream",
     "text": [
      "Epoch [2/632], Train Loss: 0.2532, Val Loss: 0.0272\n",
      "Epoch 2/632 completed in 6.80 seconds.\n"
     ]
    },
    {
     "name": "stdout",
     "output_type": "stream",
     "text": [
      "Epoch [3/632], Train Loss: 0.0419, Val Loss: 0.0331\n",
      "Epoch 3/632 completed in 4.38 seconds.\n"
     ]
    },
    {
     "name": "stdout",
     "output_type": "stream",
     "text": [
      "Epoch [4/632], Train Loss: 0.0354, Val Loss: 0.0100\n",
      "Epoch 4/632 completed in 4.35 seconds.\n"
     ]
    },
    {
     "name": "stdout",
     "output_type": "stream",
     "text": [
      "Epoch [5/632], Train Loss: 0.0208, Val Loss: 0.0143\n",
      "Epoch 5/632 completed in 2.14 seconds.\n"
     ]
    },
    {
     "name": "stdout",
     "output_type": "stream",
     "text": [
      "Epoch [6/632], Train Loss: 0.0330, Val Loss: 0.0590\n",
      "Epoch 6/632 completed in 3.02 seconds.\n"
     ]
    },
    {
     "name": "stdout",
     "output_type": "stream",
     "text": [
      "Epoch [7/632], Train Loss: 0.0236, Val Loss: 0.0086\n",
      "Epoch 7/632 completed in 2.39 seconds.\n"
     ]
    },
    {
     "name": "stdout",
     "output_type": "stream",
     "text": [
      "Epoch [8/632], Train Loss: 0.0157, Val Loss: 0.0248\n",
      "Epoch 8/632 completed in 3.16 seconds.\n"
     ]
    },
    {
     "name": "stdout",
     "output_type": "stream",
     "text": [
      "Epoch [9/632], Train Loss: 0.0271, Val Loss: 0.0088\n",
      "Epoch 9/632 completed in 5.82 seconds.\n"
     ]
    },
    {
     "name": "stdout",
     "output_type": "stream",
     "text": [
      "Epoch [10/632], Train Loss: 0.0202, Val Loss: 0.0095\n",
      "Epoch 10/632 completed in 3.84 seconds.\n"
     ]
    },
    {
     "name": "stdout",
     "output_type": "stream",
     "text": [
      "Epoch [11/632], Train Loss: 0.0244, Val Loss: 0.0092\n",
      "Epoch 11/632 completed in 4.70 seconds.\n"
     ]
    },
    {
     "name": "stdout",
     "output_type": "stream",
     "text": [
      "Epoch [12/632], Train Loss: 0.0226, Val Loss: 0.0189\n",
      "Epoch 12/632 completed in 3.25 seconds.\n"
     ]
    },
    {
     "name": "stdout",
     "output_type": "stream",
     "text": [
      "Epoch [13/632], Train Loss: 0.0218, Val Loss: 0.0064\n",
      "Epoch 13/632 completed in 6.19 seconds.\n"
     ]
    },
    {
     "name": "stdout",
     "output_type": "stream",
     "text": [
      "Epoch [14/632], Train Loss: 0.0159, Val Loss: 0.0061\n",
      "Epoch 14/632 completed in 4.41 seconds.\n"
     ]
    },
    {
     "name": "stdout",
     "output_type": "stream",
     "text": [
      "Epoch [15/632], Train Loss: 0.0212, Val Loss: 0.0121\n",
      "Epoch 15/632 completed in 3.93 seconds.\n"
     ]
    },
    {
     "name": "stdout",
     "output_type": "stream",
     "text": [
      "Epoch [16/632], Train Loss: 0.0208, Val Loss: 0.0069\n",
      "Epoch 16/632 completed in 3.90 seconds.\n"
     ]
    },
    {
     "name": "stdout",
     "output_type": "stream",
     "text": [
      "Epoch [17/632], Train Loss: 0.0171, Val Loss: 0.0091\n",
      "Epoch 17/632 completed in 4.45 seconds.\n"
     ]
    },
    {
     "name": "stdout",
     "output_type": "stream",
     "text": [
      "Epoch [18/632], Train Loss: 0.0196, Val Loss: 0.0073\n",
      "Epoch 18/632 completed in 5.51 seconds.\n"
     ]
    },
    {
     "name": "stdout",
     "output_type": "stream",
     "text": [
      "Epoch [19/632], Train Loss: 0.0202, Val Loss: 0.0096\n",
      "Epoch 19/632 completed in 4.07 seconds.\n"
     ]
    },
    {
     "name": "stdout",
     "output_type": "stream",
     "text": [
      "Epoch [20/632], Train Loss: 0.0156, Val Loss: 0.0069\n",
      "Epoch 20/632 completed in 3.71 seconds.\n"
     ]
    },
    {
     "name": "stdout",
     "output_type": "stream",
     "text": [
      "Epoch [21/632], Train Loss: 0.0187, Val Loss: 0.0101\n",
      "Epoch 21/632 completed in 3.64 seconds.\n"
     ]
    },
    {
     "name": "stdout",
     "output_type": "stream",
     "text": [
      "Epoch [22/632], Train Loss: 0.0231, Val Loss: 0.0094\n",
      "Epoch 22/632 completed in 3.49 seconds.\n"
     ]
    },
    {
     "name": "stdout",
     "output_type": "stream",
     "text": [
      "Epoch [23/632], Train Loss: 0.0294, Val Loss: 0.0152\n",
      "Epoch 23/632 completed in 5.66 seconds.\n"
     ]
    },
    {
     "name": "stdout",
     "output_type": "stream",
     "text": [
      "Epoch [24/632], Train Loss: 0.0191, Val Loss: 0.0113\n",
      "Epoch 24/632 completed in 5.62 seconds.\n"
     ]
    },
    {
     "name": "stdout",
     "output_type": "stream",
     "text": [
      "Epoch [25/632], Train Loss: 0.0157, Val Loss: 0.0110\n",
      "Epoch 25/632 completed in 5.41 seconds.\n"
     ]
    },
    {
     "name": "stdout",
     "output_type": "stream",
     "text": [
      "Epoch [26/632], Train Loss: 0.0262, Val Loss: 0.0046\n",
      "Epoch 26/632 completed in 19.21 seconds.\n"
     ]
    },
    {
     "name": "stdout",
     "output_type": "stream",
     "text": [
      "Epoch [27/632], Train Loss: 0.0201, Val Loss: 0.0052\n",
      "Epoch 27/632 completed in 7.76 seconds.\n"
     ]
    },
    {
     "name": "stdout",
     "output_type": "stream",
     "text": [
      "Epoch [28/632], Train Loss: 0.0184, Val Loss: 0.0103\n",
      "Epoch 28/632 completed in 6.03 seconds.\n"
     ]
    },
    {
     "name": "stdout",
     "output_type": "stream",
     "text": [
      "Epoch [29/632], Train Loss: 0.0173, Val Loss: 0.0079\n",
      "Epoch 29/632 completed in 5.77 seconds.\n"
     ]
    },
    {
     "name": "stdout",
     "output_type": "stream",
     "text": [
      "Epoch [30/632], Train Loss: 0.0186, Val Loss: 0.0061\n",
      "Epoch 30/632 completed in 3.31 seconds.\n"
     ]
    },
    {
     "name": "stdout",
     "output_type": "stream",
     "text": [
      "Epoch [31/632], Train Loss: 0.0219, Val Loss: 0.0047\n",
      "Epoch 31/632 completed in 5.07 seconds.\n"
     ]
    },
    {
     "name": "stdout",
     "output_type": "stream",
     "text": [
      "Epoch [32/632], Train Loss: 0.0135, Val Loss: 0.0061\n",
      "Epoch 32/632 completed in 4.17 seconds.\n"
     ]
    },
    {
     "name": "stdout",
     "output_type": "stream",
     "text": [
      "Epoch [33/632], Train Loss: 0.0145, Val Loss: 0.0069\n",
      "Epoch 33/632 completed in 5.54 seconds.\n"
     ]
    },
    {
     "name": "stdout",
     "output_type": "stream",
     "text": [
      "Epoch [34/632], Train Loss: 0.0214, Val Loss: 0.0053\n",
      "Epoch 34/632 completed in 4.92 seconds.\n"
     ]
    },
    {
     "name": "stdout",
     "output_type": "stream",
     "text": [
      "Epoch [35/632], Train Loss: 0.0288, Val Loss: 0.0115\n",
      "Epoch 35/632 completed in 4.39 seconds.\n"
     ]
    },
    {
     "name": "stdout",
     "output_type": "stream",
     "text": [
      "Epoch [36/632], Train Loss: 0.0156, Val Loss: 0.0057\n",
      "Epoch 36/632 completed in 3.39 seconds.\n"
     ]
    },
    {
     "name": "stdout",
     "output_type": "stream",
     "text": [
      "Epoch [37/632], Train Loss: 0.0249, Val Loss: 0.0096\n",
      "Epoch 37/632 completed in 4.42 seconds.\n"
     ]
    },
    {
     "name": "stdout",
     "output_type": "stream",
     "text": [
      "Epoch [38/632], Train Loss: 0.0273, Val Loss: 0.0073\n",
      "Epoch 38/632 completed in 4.65 seconds.\n"
     ]
    },
    {
     "name": "stdout",
     "output_type": "stream",
     "text": [
      "Epoch [39/632], Train Loss: 0.0199, Val Loss: 0.0061\n",
      "Epoch 39/632 completed in 4.44 seconds.\n"
     ]
    },
    {
     "name": "stdout",
     "output_type": "stream",
     "text": [
      "Epoch [40/632], Train Loss: 0.0143, Val Loss: 0.0058\n",
      "Epoch 40/632 completed in 3.01 seconds.\n"
     ]
    },
    {
     "name": "stdout",
     "output_type": "stream",
     "text": [
      "Epoch [41/632], Train Loss: 0.0138, Val Loss: 0.0048\n",
      "Epoch 41/632 completed in 4.87 seconds.\n"
     ]
    },
    {
     "name": "stdout",
     "output_type": "stream",
     "text": [
      "Epoch [42/632], Train Loss: 0.0129, Val Loss: 0.0055\n",
      "Epoch 42/632 completed in 4.63 seconds.\n"
     ]
    },
    {
     "name": "stdout",
     "output_type": "stream",
     "text": [
      "Epoch [43/632], Train Loss: 0.0239, Val Loss: 0.0112\n",
      "Epoch 43/632 completed in 4.59 seconds.\n"
     ]
    },
    {
     "name": "stdout",
     "output_type": "stream",
     "text": [
      "Epoch [44/632], Train Loss: 0.0136, Val Loss: 0.0077\n",
      "Epoch 44/632 completed in 3.94 seconds.\n"
     ]
    },
    {
     "name": "stdout",
     "output_type": "stream",
     "text": [
      "Epoch [45/632], Train Loss: 0.0156, Val Loss: 0.0055\n",
      "Epoch 45/632 completed in 5.18 seconds.\n"
     ]
    },
    {
     "name": "stdout",
     "output_type": "stream",
     "text": [
      "Epoch [46/632], Train Loss: 0.0241, Val Loss: 0.0082\n",
      "Epoch 46/632 completed in 3.27 seconds.\n"
     ]
    },
    {
     "name": "stdout",
     "output_type": "stream",
     "text": [
      "Epoch [47/632], Train Loss: 0.0169, Val Loss: 0.0056\n",
      "Epoch 47/632 completed in 5.65 seconds.\n"
     ]
    },
    {
     "name": "stdout",
     "output_type": "stream",
     "text": [
      "Epoch [48/632], Train Loss: 0.0110, Val Loss: 0.0053\n",
      "Epoch 48/632 completed in 5.48 seconds.\n"
     ]
    },
    {
     "name": "stdout",
     "output_type": "stream",
     "text": [
      "Epoch [49/632], Train Loss: 0.0186, Val Loss: 0.0084\n",
      "Epoch 49/632 completed in 6.55 seconds.\n"
     ]
    },
    {
     "name": "stdout",
     "output_type": "stream",
     "text": [
      "Epoch [50/632], Train Loss: 0.0166, Val Loss: 0.0077\n",
      "Epoch 50/632 completed in 3.36 seconds.\n"
     ]
    },
    {
     "name": "stdout",
     "output_type": "stream",
     "text": [
      "Epoch [51/632], Train Loss: 0.0201, Val Loss: 0.0054\n",
      "Epoch 51/632 completed in 5.00 seconds.\n"
     ]
    },
    {
     "name": "stdout",
     "output_type": "stream",
     "text": [
      "Epoch [52/632], Train Loss: 0.0176, Val Loss: 0.0051\n",
      "Epoch 52/632 completed in 12.77 seconds.\n"
     ]
    },
    {
     "name": "stdout",
     "output_type": "stream",
     "text": [
      "Epoch [53/632], Train Loss: 0.0147, Val Loss: 0.0076\n",
      "Epoch 53/632 completed in 5.71 seconds.\n"
     ]
    },
    {
     "name": "stdout",
     "output_type": "stream",
     "text": [
      "Epoch [54/632], Train Loss: 0.0141, Val Loss: 0.0066\n",
      "Epoch 54/632 completed in 3.69 seconds.\n"
     ]
    },
    {
     "name": "stdout",
     "output_type": "stream",
     "text": [
      "Epoch [55/632], Train Loss: 0.0239, Val Loss: 0.0056\n",
      "Epoch 55/632 completed in 4.62 seconds.\n"
     ]
    },
    {
     "name": "stdout",
     "output_type": "stream",
     "text": [
      "Epoch [56/632], Train Loss: 0.0140, Val Loss: 0.0047\n",
      "Epoch 56/632 completed in 6.76 seconds.\n"
     ]
    },
    {
     "name": "stdout",
     "output_type": "stream",
     "text": [
      "Epoch [57/632], Train Loss: 0.0185, Val Loss: 0.0103\n",
      "Epoch 57/632 completed in 5.29 seconds.\n"
     ]
    },
    {
     "name": "stdout",
     "output_type": "stream",
     "text": [
      "Epoch [58/632], Train Loss: 0.0208, Val Loss: 0.0070\n",
      "Epoch 58/632 completed in 5.91 seconds.\n"
     ]
    },
    {
     "name": "stdout",
     "output_type": "stream",
     "text": [
      "Epoch [59/632], Train Loss: 0.0138, Val Loss: 0.0056\n",
      "Epoch 59/632 completed in 3.88 seconds.\n"
     ]
    },
    {
     "name": "stdout",
     "output_type": "stream",
     "text": [
      "Epoch [60/632], Train Loss: 0.0164, Val Loss: 0.0050\n",
      "Epoch 60/632 completed in 5.41 seconds.\n"
     ]
    },
    {
     "name": "stdout",
     "output_type": "stream",
     "text": [
      "Epoch [61/632], Train Loss: 0.0158, Val Loss: 0.0092\n",
      "Epoch 61/632 completed in 3.99 seconds.\n"
     ]
    },
    {
     "name": "stdout",
     "output_type": "stream",
     "text": [
      "Epoch [62/632], Train Loss: 0.0350, Val Loss: 0.0062\n",
      "Epoch 62/632 completed in 5.05 seconds.\n"
     ]
    },
    {
     "name": "stdout",
     "output_type": "stream",
     "text": [
      "Epoch [63/632], Train Loss: 0.0464, Val Loss: 0.0068\n",
      "Epoch 63/632 completed in 6.08 seconds.\n"
     ]
    },
    {
     "name": "stdout",
     "output_type": "stream",
     "text": [
      "Epoch [64/632], Train Loss: 0.0150, Val Loss: 0.0049\n",
      "Epoch 64/632 completed in 7.04 seconds.\n"
     ]
    },
    {
     "name": "stdout",
     "output_type": "stream",
     "text": [
      "Epoch [65/632], Train Loss: 0.0216, Val Loss: 0.0169\n",
      "Epoch 65/632 completed in 3.94 seconds.\n"
     ]
    },
    {
     "name": "stdout",
     "output_type": "stream",
     "text": [
      "Epoch [66/632], Train Loss: 0.0166, Val Loss: 0.0132\n",
      "Epoch 66/632 completed in 5.89 seconds.\n"
     ]
    },
    {
     "name": "stdout",
     "output_type": "stream",
     "text": [
      "Epoch [67/632], Train Loss: 0.0128, Val Loss: 0.0064\n",
      "Epoch 67/632 completed in 4.82 seconds.\n"
     ]
    },
    {
     "name": "stdout",
     "output_type": "stream",
     "text": [
      "Epoch [68/632], Train Loss: 0.0131, Val Loss: 0.0083\n",
      "Epoch 68/632 completed in 3.91 seconds.\n"
     ]
    },
    {
     "name": "stdout",
     "output_type": "stream",
     "text": [
      "Epoch [69/632], Train Loss: 0.0146, Val Loss: 0.0052\n",
      "Epoch 69/632 completed in 3.44 seconds.\n"
     ]
    },
    {
     "name": "stdout",
     "output_type": "stream",
     "text": [
      "Epoch [70/632], Train Loss: 0.0176, Val Loss: 0.0062\n",
      "Epoch 70/632 completed in 5.27 seconds.\n"
     ]
    },
    {
     "name": "stdout",
     "output_type": "stream",
     "text": [
      "Epoch [71/632], Train Loss: 0.0139, Val Loss: 0.0197\n",
      "Epoch 71/632 completed in 4.85 seconds.\n"
     ]
    },
    {
     "name": "stdout",
     "output_type": "stream",
     "text": [
      "Epoch [72/632], Train Loss: 0.0129, Val Loss: 0.0051\n",
      "Epoch 72/632 completed in 4.80 seconds.\n"
     ]
    },
    {
     "name": "stdout",
     "output_type": "stream",
     "text": [
      "Epoch [73/632], Train Loss: 0.0171, Val Loss: 0.0063\n",
      "Epoch 73/632 completed in 4.92 seconds.\n"
     ]
    },
    {
     "name": "stdout",
     "output_type": "stream",
     "text": [
      "Epoch [74/632], Train Loss: 0.0170, Val Loss: 0.0122\n",
      "Epoch 74/632 completed in 4.75 seconds.\n"
     ]
    },
    {
     "name": "stdout",
     "output_type": "stream",
     "text": [
      "Epoch [75/632], Train Loss: 0.0148, Val Loss: 0.0110\n",
      "Epoch 75/632 completed in 5.33 seconds.\n"
     ]
    },
    {
     "name": "stdout",
     "output_type": "stream",
     "text": [
      "Epoch [76/632], Train Loss: 0.0204, Val Loss: 0.0166\n",
      "Epoch 76/632 completed in 5.87 seconds.\n"
     ]
    },
    {
     "name": "stdout",
     "output_type": "stream",
     "text": [
      "Epoch [77/632], Train Loss: 0.0116, Val Loss: 0.0060\n",
      "Epoch 77/632 completed in 3.26 seconds.\n"
     ]
    },
    {
     "name": "stdout",
     "output_type": "stream",
     "text": [
      "Epoch [78/632], Train Loss: 0.0135, Val Loss: 0.0094\n",
      "Epoch 78/632 completed in 5.77 seconds.\n"
     ]
    },
    {
     "name": "stdout",
     "output_type": "stream",
     "text": [
      "Epoch [79/632], Train Loss: 0.0115, Val Loss: 0.0072\n",
      "Epoch 79/632 completed in 4.02 seconds.\n"
     ]
    },
    {
     "name": "stdout",
     "output_type": "stream",
     "text": [
      "Epoch [80/632], Train Loss: 0.0182, Val Loss: 0.0095\n",
      "Epoch 80/632 completed in 5.72 seconds.\n"
     ]
    },
    {
     "name": "stdout",
     "output_type": "stream",
     "text": [
      "Epoch [81/632], Train Loss: 0.0145, Val Loss: 0.0169\n",
      "Epoch 81/632 completed in 4.97 seconds.\n"
     ]
    },
    {
     "name": "stdout",
     "output_type": "stream",
     "text": [
      "Epoch [82/632], Train Loss: 0.0131, Val Loss: 0.0048\n",
      "Epoch 82/632 completed in 4.06 seconds.\n"
     ]
    },
    {
     "name": "stdout",
     "output_type": "stream",
     "text": [
      "Epoch [83/632], Train Loss: 0.0120, Val Loss: 0.0187\n",
      "Epoch 83/632 completed in 4.69 seconds.\n"
     ]
    },
    {
     "name": "stdout",
     "output_type": "stream",
     "text": [
      "Epoch [84/632], Train Loss: 0.0163, Val Loss: 0.0082\n",
      "Epoch 84/632 completed in 4.90 seconds.\n"
     ]
    },
    {
     "name": "stdout",
     "output_type": "stream",
     "text": [
      "Epoch [85/632], Train Loss: 0.0115, Val Loss: 0.0079\n",
      "Epoch 85/632 completed in 4.94 seconds.\n"
     ]
    },
    {
     "name": "stdout",
     "output_type": "stream",
     "text": [
      "Epoch [86/632], Train Loss: 0.0134, Val Loss: 0.0103\n",
      "Epoch 86/632 completed in 3.61 seconds.\n"
     ]
    },
    {
     "name": "stdout",
     "output_type": "stream",
     "text": [
      "Epoch [87/632], Train Loss: 0.0136, Val Loss: 0.0082\n",
      "Epoch 87/632 completed in 4.31 seconds.\n"
     ]
    },
    {
     "name": "stdout",
     "output_type": "stream",
     "text": [
      "Epoch [88/632], Train Loss: 0.0142, Val Loss: 0.0196\n",
      "Epoch 88/632 completed in 3.57 seconds.\n"
     ]
    },
    {
     "name": "stdout",
     "output_type": "stream",
     "text": [
      "Epoch [89/632], Train Loss: 0.0240, Val Loss: 0.0137\n",
      "Epoch 89/632 completed in 4.06 seconds.\n"
     ]
    },
    {
     "name": "stdout",
     "output_type": "stream",
     "text": [
      "Epoch [90/632], Train Loss: 0.0139, Val Loss: 0.0111\n",
      "Epoch 90/632 completed in 5.87 seconds.\n"
     ]
    },
    {
     "name": "stdout",
     "output_type": "stream",
     "text": [
      "Epoch [91/632], Train Loss: 0.0111, Val Loss: 0.0108\n",
      "Epoch 91/632 completed in 5.02 seconds.\n"
     ]
    },
    {
     "name": "stdout",
     "output_type": "stream",
     "text": [
      "Epoch [92/632], Train Loss: 0.0108, Val Loss: 0.0100\n",
      "Epoch 92/632 completed in 3.10 seconds.\n"
     ]
    },
    {
     "name": "stdout",
     "output_type": "stream",
     "text": [
      "Epoch [93/632], Train Loss: 0.0155, Val Loss: 0.0188\n",
      "Epoch 93/632 completed in 3.94 seconds.\n"
     ]
    },
    {
     "name": "stdout",
     "output_type": "stream",
     "text": [
      "Epoch [94/632], Train Loss: 0.0110, Val Loss: 0.0088\n",
      "Epoch 94/632 completed in 3.82 seconds.\n"
     ]
    },
    {
     "name": "stdout",
     "output_type": "stream",
     "text": [
      "Epoch [95/632], Train Loss: 0.0137, Val Loss: 0.0063\n",
      "Epoch 95/632 completed in 3.97 seconds.\n"
     ]
    },
    {
     "name": "stdout",
     "output_type": "stream",
     "text": [
      "Epoch [96/632], Train Loss: 0.0169, Val Loss: 0.0159\n",
      "Epoch 96/632 completed in 3.05 seconds.\n"
     ]
    },
    {
     "name": "stdout",
     "output_type": "stream",
     "text": [
      "Epoch [97/632], Train Loss: 0.0207, Val Loss: 0.0062\n",
      "Epoch 97/632 completed in 3.72 seconds.\n"
     ]
    },
    {
     "name": "stdout",
     "output_type": "stream",
     "text": [
      "Epoch [98/632], Train Loss: 0.0123, Val Loss: 0.0086\n",
      "Epoch 98/632 completed in 5.89 seconds.\n"
     ]
    },
    {
     "name": "stdout",
     "output_type": "stream",
     "text": [
      "Epoch [99/632], Train Loss: 0.0151, Val Loss: 0.0155\n",
      "Epoch 99/632 completed in 5.17 seconds.\n"
     ]
    },
    {
     "name": "stdout",
     "output_type": "stream",
     "text": [
      "Epoch [100/632], Train Loss: 0.0152, Val Loss: 0.0081\n",
      "Model saved: ./output_model/best_model_epoch_100.pth\n",
      "Epoch 100/632 completed in 6.00 seconds.\n"
     ]
    },
    {
     "name": "stdout",
     "output_type": "stream",
     "text": [
      "Epoch [101/632], Train Loss: 0.0138, Val Loss: 0.0143\n",
      "Epoch 101/632 completed in 4.45 seconds.\n"
     ]
    },
    {
     "name": "stdout",
     "output_type": "stream",
     "text": [
      "Epoch [102/632], Train Loss: 0.0114, Val Loss: 0.0138\n",
      "Epoch 102/632 completed in 4.22 seconds.\n"
     ]
    },
    {
     "name": "stdout",
     "output_type": "stream",
     "text": [
      "Epoch [103/632], Train Loss: 0.0163, Val Loss: 0.0134\n",
      "Epoch 103/632 completed in 4.54 seconds.\n"
     ]
    },
    {
     "name": "stdout",
     "output_type": "stream",
     "text": [
      "Epoch [104/632], Train Loss: 0.0111, Val Loss: 0.0103\n",
      "Epoch 104/632 completed in 3.16 seconds.\n"
     ]
    },
    {
     "name": "stdout",
     "output_type": "stream",
     "text": [
      "Epoch [105/632], Train Loss: 0.0122, Val Loss: 0.0180\n",
      "Epoch 105/632 completed in 5.66 seconds.\n"
     ]
    },
    {
     "name": "stdout",
     "output_type": "stream",
     "text": [
      "Epoch [106/632], Train Loss: 0.0130, Val Loss: 0.0070\n",
      "Epoch 106/632 completed in 3.60 seconds.\n"
     ]
    },
    {
     "name": "stdout",
     "output_type": "stream",
     "text": [
      "Epoch [107/632], Train Loss: 0.0134, Val Loss: 0.0079\n",
      "Epoch 107/632 completed in 3.29 seconds.\n"
     ]
    },
    {
     "name": "stdout",
     "output_type": "stream",
     "text": [
      "Epoch [108/632], Train Loss: 0.0197, Val Loss: 0.0211\n",
      "Epoch 108/632 completed in 4.07 seconds.\n"
     ]
    },
    {
     "name": "stdout",
     "output_type": "stream",
     "text": [
      "Epoch [109/632], Train Loss: 0.0140, Val Loss: 0.0171\n",
      "Epoch 109/632 completed in 3.12 seconds.\n"
     ]
    },
    {
     "name": "stdout",
     "output_type": "stream",
     "text": [
      "Epoch [110/632], Train Loss: 0.0136, Val Loss: 0.0107\n",
      "Epoch 110/632 completed in 3.89 seconds.\n"
     ]
    },
    {
     "name": "stdout",
     "output_type": "stream",
     "text": [
      "Epoch [111/632], Train Loss: 0.0104, Val Loss: 0.0147\n",
      "Epoch 111/632 completed in 5.69 seconds.\n"
     ]
    },
    {
     "name": "stdout",
     "output_type": "stream",
     "text": [
      "Epoch [112/632], Train Loss: 0.0111, Val Loss: 0.0117\n",
      "Epoch 112/632 completed in 2.40 seconds.\n"
     ]
    },
    {
     "name": "stdout",
     "output_type": "stream",
     "text": [
      "Epoch [113/632], Train Loss: 0.0124, Val Loss: 0.0099\n",
      "Epoch 113/632 completed in 6.67 seconds.\n"
     ]
    },
    {
     "name": "stdout",
     "output_type": "stream",
     "text": [
      "Epoch [114/632], Train Loss: 0.0135, Val Loss: 0.0142\n",
      "Epoch 114/632 completed in 4.45 seconds.\n"
     ]
    },
    {
     "name": "stdout",
     "output_type": "stream",
     "text": [
      "Epoch [115/632], Train Loss: 0.0128, Val Loss: 0.0147\n",
      "Epoch 115/632 completed in 3.62 seconds.\n"
     ]
    },
    {
     "name": "stdout",
     "output_type": "stream",
     "text": [
      "Epoch [116/632], Train Loss: 0.0133, Val Loss: 0.0087\n",
      "Epoch 116/632 completed in 5.76 seconds.\n"
     ]
    },
    {
     "name": "stdout",
     "output_type": "stream",
     "text": [
      "Epoch [117/632], Train Loss: 0.0128, Val Loss: 0.0101\n",
      "Epoch 117/632 completed in 3.86 seconds.\n"
     ]
    },
    {
     "name": "stdout",
     "output_type": "stream",
     "text": [
      "Epoch [118/632], Train Loss: 0.0112, Val Loss: 0.0084\n",
      "Epoch 118/632 completed in 2.74 seconds.\n"
     ]
    },
    {
     "name": "stdout",
     "output_type": "stream",
     "text": [
      "Epoch [119/632], Train Loss: 0.0143, Val Loss: 0.0136\n",
      "Epoch 119/632 completed in 6.15 seconds.\n"
     ]
    },
    {
     "name": "stdout",
     "output_type": "stream",
     "text": [
      "Epoch [120/632], Train Loss: 0.0119, Val Loss: 0.0386\n",
      "Epoch 120/632 completed in 7.04 seconds.\n"
     ]
    },
    {
     "name": "stdout",
     "output_type": "stream",
     "text": [
      "Epoch [121/632], Train Loss: 0.0138, Val Loss: 0.0167\n",
      "Epoch 121/632 completed in 4.69 seconds.\n"
     ]
    },
    {
     "name": "stdout",
     "output_type": "stream",
     "text": [
      "Epoch [122/632], Train Loss: 0.0115, Val Loss: 0.0154\n",
      "Epoch 122/632 completed in 12.11 seconds.\n"
     ]
    },
    {
     "name": "stdout",
     "output_type": "stream",
     "text": [
      "Epoch [123/632], Train Loss: 0.0111, Val Loss: 0.0234\n",
      "Epoch 123/632 completed in 4.89 seconds.\n"
     ]
    },
    {
     "name": "stdout",
     "output_type": "stream",
     "text": [
      "Epoch [124/632], Train Loss: 0.0102, Val Loss: 0.0135\n",
      "Epoch 124/632 completed in 5.90 seconds.\n"
     ]
    },
    {
     "name": "stdout",
     "output_type": "stream",
     "text": [
      "Epoch [125/632], Train Loss: 0.0109, Val Loss: 0.0244\n",
      "Epoch 125/632 completed in 5.96 seconds.\n"
     ]
    },
    {
     "name": "stdout",
     "output_type": "stream",
     "text": [
      "Epoch [126/632], Train Loss: 0.0186, Val Loss: 0.0266\n",
      "Epoch 126/632 completed in 5.31 seconds.\n"
     ]
    },
    {
     "name": "stdout",
     "output_type": "stream",
     "text": [
      "Epoch [127/632], Train Loss: 0.0115, Val Loss: 0.0128\n",
      "Epoch 127/632 completed in 5.90 seconds.\n"
     ]
    },
    {
     "name": "stdout",
     "output_type": "stream",
     "text": [
      "Epoch [128/632], Train Loss: 0.0110, Val Loss: 0.0198\n",
      "Epoch 128/632 completed in 16.37 seconds.\n"
     ]
    },
    {
     "name": "stdout",
     "output_type": "stream",
     "text": [
      "Epoch [129/632], Train Loss: 0.0120, Val Loss: 0.0231\n",
      "Epoch 129/632 completed in 8.03 seconds.\n"
     ]
    },
    {
     "name": "stdout",
     "output_type": "stream",
     "text": [
      "Epoch [130/632], Train Loss: 0.0136, Val Loss: 0.0108\n",
      "Epoch 130/632 completed in 11.23 seconds.\n"
     ]
    },
    {
     "name": "stdout",
     "output_type": "stream",
     "text": [
      "Epoch [131/632], Train Loss: 0.0109, Val Loss: 0.0221\n",
      "Epoch 131/632 completed in 4.87 seconds.\n"
     ]
    },
    {
     "name": "stdout",
     "output_type": "stream",
     "text": [
      "Epoch [132/632], Train Loss: 0.0145, Val Loss: 0.0202\n",
      "Epoch 132/632 completed in 5.52 seconds.\n"
     ]
    },
    {
     "name": "stdout",
     "output_type": "stream",
     "text": [
      "Epoch [133/632], Train Loss: 0.0164, Val Loss: 0.0343\n",
      "Epoch 133/632 completed in 5.29 seconds.\n"
     ]
    },
    {
     "name": "stdout",
     "output_type": "stream",
     "text": [
      "Epoch [134/632], Train Loss: 0.0114, Val Loss: 0.0323\n",
      "Epoch 134/632 completed in 2.96 seconds.\n"
     ]
    },
    {
     "name": "stdout",
     "output_type": "stream",
     "text": [
      "Epoch [135/632], Train Loss: 0.0124, Val Loss: 0.0221\n",
      "Epoch 135/632 completed in 6.53 seconds.\n"
     ]
    },
    {
     "name": "stdout",
     "output_type": "stream",
     "text": [
      "Epoch [136/632], Train Loss: 0.0120, Val Loss: 0.0336\n",
      "Epoch 136/632 completed in 11.02 seconds.\n"
     ]
    },
    {
     "name": "stdout",
     "output_type": "stream",
     "text": [
      "Epoch [137/632], Train Loss: 0.0109, Val Loss: 0.0105\n",
      "Epoch 137/632 completed in 8.08 seconds.\n"
     ]
    },
    {
     "name": "stdout",
     "output_type": "stream",
     "text": [
      "Epoch [138/632], Train Loss: 0.0116, Val Loss: 0.0124\n",
      "Epoch 138/632 completed in 4.78 seconds.\n"
     ]
    },
    {
     "name": "stdout",
     "output_type": "stream",
     "text": [
      "Epoch [139/632], Train Loss: 0.0100, Val Loss: 0.0188\n",
      "Epoch 139/632 completed in 5.61 seconds.\n"
     ]
    },
    {
     "name": "stdout",
     "output_type": "stream",
     "text": [
      "Epoch [140/632], Train Loss: 0.0108, Val Loss: 0.0095\n",
      "Epoch 140/632 completed in 4.37 seconds.\n"
     ]
    },
    {
     "name": "stdout",
     "output_type": "stream",
     "text": [
      "Epoch [141/632], Train Loss: 0.0134, Val Loss: 0.0130\n",
      "Epoch 141/632 completed in 4.96 seconds.\n"
     ]
    },
    {
     "name": "stdout",
     "output_type": "stream",
     "text": [
      "Epoch [142/632], Train Loss: 0.0120, Val Loss: 0.0160\n",
      "Epoch 142/632 completed in 7.20 seconds.\n"
     ]
    },
    {
     "name": "stdout",
     "output_type": "stream",
     "text": [
      "Epoch [143/632], Train Loss: 0.0167, Val Loss: 0.0468\n",
      "Epoch 143/632 completed in 4.85 seconds.\n"
     ]
    },
    {
     "name": "stdout",
     "output_type": "stream",
     "text": [
      "Epoch [144/632], Train Loss: 0.0129, Val Loss: 0.0236\n",
      "Epoch 144/632 completed in 6.21 seconds.\n"
     ]
    },
    {
     "name": "stdout",
     "output_type": "stream",
     "text": [
      "Epoch [145/632], Train Loss: 0.0089, Val Loss: 0.0138\n",
      "Epoch 145/632 completed in 5.31 seconds.\n"
     ]
    },
    {
     "name": "stdout",
     "output_type": "stream",
     "text": [
      "Epoch [146/632], Train Loss: 0.0095, Val Loss: 0.0172\n",
      "Epoch 146/632 completed in 9.18 seconds.\n"
     ]
    },
    {
     "name": "stdout",
     "output_type": "stream",
     "text": [
      "Epoch [147/632], Train Loss: 0.0095, Val Loss: 0.0176\n",
      "Epoch 147/632 completed in 3.60 seconds.\n"
     ]
    },
    {
     "name": "stdout",
     "output_type": "stream",
     "text": [
      "Epoch [148/632], Train Loss: 0.0097, Val Loss: 0.0154\n",
      "Epoch 148/632 completed in 17.96 seconds.\n"
     ]
    },
    {
     "name": "stdout",
     "output_type": "stream",
     "text": [
      "Epoch [149/632], Train Loss: 0.0099, Val Loss: 0.0244\n",
      "Epoch 149/632 completed in 9.30 seconds.\n"
     ]
    },
    {
     "name": "stdout",
     "output_type": "stream",
     "text": [
      "Epoch [150/632], Train Loss: 0.0106, Val Loss: 0.0207\n",
      "Epoch 150/632 completed in 5.78 seconds.\n"
     ]
    },
    {
     "name": "stdout",
     "output_type": "stream",
     "text": [
      "Epoch [151/632], Train Loss: 0.0107, Val Loss: 0.0184\n",
      "Epoch 151/632 completed in 3.63 seconds.\n"
     ]
    },
    {
     "name": "stdout",
     "output_type": "stream",
     "text": [
      "Epoch [152/632], Train Loss: 0.0121, Val Loss: 0.0125\n",
      "Epoch 152/632 completed in 4.20 seconds.\n"
     ]
    },
    {
     "name": "stdout",
     "output_type": "stream",
     "text": [
      "Epoch [153/632], Train Loss: 0.0113, Val Loss: 0.0209\n",
      "Epoch 153/632 completed in 6.61 seconds.\n"
     ]
    },
    {
     "name": "stdout",
     "output_type": "stream",
     "text": [
      "Epoch [154/632], Train Loss: 0.0105, Val Loss: 0.0158\n",
      "Epoch 154/632 completed in 6.06 seconds.\n"
     ]
    },
    {
     "name": "stdout",
     "output_type": "stream",
     "text": [
      "Epoch [155/632], Train Loss: 0.0101, Val Loss: 0.0213\n",
      "Epoch 155/632 completed in 4.32 seconds.\n"
     ]
    },
    {
     "name": "stdout",
     "output_type": "stream",
     "text": [
      "Epoch [156/632], Train Loss: 0.0125, Val Loss: 0.0317\n",
      "Epoch 156/632 completed in 7.62 seconds.\n"
     ]
    },
    {
     "name": "stdout",
     "output_type": "stream",
     "text": [
      "Epoch [157/632], Train Loss: 0.0129, Val Loss: 0.0185\n",
      "Epoch 157/632 completed in 4.64 seconds.\n"
     ]
    },
    {
     "name": "stdout",
     "output_type": "stream",
     "text": [
      "Epoch [158/632], Train Loss: 0.0105, Val Loss: 0.0188\n",
      "Epoch 158/632 completed in 5.46 seconds.\n"
     ]
    },
    {
     "name": "stdout",
     "output_type": "stream",
     "text": [
      "Epoch [159/632], Train Loss: 0.0105, Val Loss: 0.0233\n",
      "Epoch 159/632 completed in 5.40 seconds.\n"
     ]
    },
    {
     "name": "stdout",
     "output_type": "stream",
     "text": [
      "Epoch [160/632], Train Loss: 0.0105, Val Loss: 0.0392\n",
      "Epoch 160/632 completed in 6.18 seconds.\n"
     ]
    },
    {
     "name": "stdout",
     "output_type": "stream",
     "text": [
      "Epoch [161/632], Train Loss: 0.0101, Val Loss: 0.0201\n",
      "Epoch 161/632 completed in 5.86 seconds.\n"
     ]
    },
    {
     "name": "stdout",
     "output_type": "stream",
     "text": [
      "Epoch [162/632], Train Loss: 0.0129, Val Loss: 0.0319\n",
      "Epoch 162/632 completed in 4.22 seconds.\n"
     ]
    },
    {
     "name": "stdout",
     "output_type": "stream",
     "text": [
      "Epoch [163/632], Train Loss: 0.0130, Val Loss: 0.0217\n",
      "Epoch 163/632 completed in 7.15 seconds.\n"
     ]
    },
    {
     "name": "stdout",
     "output_type": "stream",
     "text": [
      "Epoch [164/632], Train Loss: 0.0106, Val Loss: 0.0182\n",
      "Epoch 164/632 completed in 5.29 seconds.\n"
     ]
    },
    {
     "name": "stdout",
     "output_type": "stream",
     "text": [
      "Epoch [165/632], Train Loss: 0.0089, Val Loss: 0.0176\n",
      "Epoch 165/632 completed in 7.97 seconds.\n"
     ]
    },
    {
     "name": "stdout",
     "output_type": "stream",
     "text": [
      "Epoch [166/632], Train Loss: 0.0095, Val Loss: 0.0259\n",
      "Epoch 166/632 completed in 3.72 seconds.\n"
     ]
    },
    {
     "name": "stdout",
     "output_type": "stream",
     "text": [
      "Epoch [167/632], Train Loss: 0.0134, Val Loss: 0.0325\n",
      "Epoch 167/632 completed in 5.90 seconds.\n"
     ]
    },
    {
     "name": "stdout",
     "output_type": "stream",
     "text": [
      "Epoch [168/632], Train Loss: 0.0114, Val Loss: 0.0356\n",
      "Epoch 168/632 completed in 5.41 seconds.\n"
     ]
    },
    {
     "name": "stdout",
     "output_type": "stream",
     "text": [
      "Epoch [169/632], Train Loss: 0.0095, Val Loss: 0.0242\n",
      "Epoch 169/632 completed in 21.07 seconds.\n"
     ]
    },
    {
     "name": "stdout",
     "output_type": "stream",
     "text": [
      "Epoch [170/632], Train Loss: 0.0095, Val Loss: 0.0192\n",
      "Epoch 170/632 completed in 7.88 seconds.\n"
     ]
    },
    {
     "name": "stdout",
     "output_type": "stream",
     "text": [
      "Epoch [171/632], Train Loss: 0.0093, Val Loss: 0.0270\n",
      "Epoch 171/632 completed in 6.57 seconds.\n"
     ]
    },
    {
     "name": "stdout",
     "output_type": "stream",
     "text": [
      "Epoch [172/632], Train Loss: 0.0083, Val Loss: 0.0329\n",
      "Epoch 172/632 completed in 3.18 seconds.\n"
     ]
    },
    {
     "name": "stdout",
     "output_type": "stream",
     "text": [
      "Epoch [173/632], Train Loss: 0.0090, Val Loss: 0.0131\n",
      "Epoch 173/632 completed in 6.76 seconds.\n"
     ]
    },
    {
     "name": "stdout",
     "output_type": "stream",
     "text": [
      "Epoch [174/632], Train Loss: 0.0126, Val Loss: 0.0254\n",
      "Epoch 174/632 completed in 4.15 seconds.\n"
     ]
    },
    {
     "name": "stdout",
     "output_type": "stream",
     "text": [
      "Epoch [175/632], Train Loss: 0.0089, Val Loss: 0.0235\n",
      "Epoch 175/632 completed in 6.43 seconds.\n"
     ]
    },
    {
     "name": "stdout",
     "output_type": "stream",
     "text": [
      "Epoch [176/632], Train Loss: 0.0088, Val Loss: 0.0309\n",
      "Epoch 176/632 completed in 5.96 seconds.\n"
     ]
    },
    {
     "name": "stdout",
     "output_type": "stream",
     "text": [
      "Epoch [177/632], Train Loss: 0.0090, Val Loss: 0.0296\n",
      "Epoch 177/632 completed in 6.29 seconds.\n"
     ]
    },
    {
     "name": "stdout",
     "output_type": "stream",
     "text": [
      "Epoch [178/632], Train Loss: 0.0089, Val Loss: 0.0263\n",
      "Epoch 178/632 completed in 6.60 seconds.\n"
     ]
    },
    {
     "name": "stdout",
     "output_type": "stream",
     "text": [
      "Epoch [179/632], Train Loss: 0.0091, Val Loss: 0.0169\n",
      "Epoch 179/632 completed in 5.78 seconds.\n"
     ]
    },
    {
     "name": "stdout",
     "output_type": "stream",
     "text": [
      "Epoch [180/632], Train Loss: 0.0128, Val Loss: 0.0306\n",
      "Epoch 180/632 completed in 8.45 seconds.\n"
     ]
    },
    {
     "name": "stdout",
     "output_type": "stream",
     "text": [
      "Epoch [181/632], Train Loss: 0.0110, Val Loss: 0.0342\n",
      "Epoch 181/632 completed in 7.88 seconds.\n"
     ]
    },
    {
     "name": "stdout",
     "output_type": "stream",
     "text": [
      "Epoch [182/632], Train Loss: 0.0114, Val Loss: 0.0284\n",
      "Epoch 182/632 completed in 4.90 seconds.\n"
     ]
    },
    {
     "name": "stdout",
     "output_type": "stream",
     "text": [
      "Epoch [183/632], Train Loss: 0.0103, Val Loss: 0.0354\n",
      "Epoch 183/632 completed in 5.30 seconds.\n"
     ]
    },
    {
     "name": "stdout",
     "output_type": "stream",
     "text": [
      "Epoch [184/632], Train Loss: 0.0095, Val Loss: 0.0266\n",
      "Epoch 184/632 completed in 8.14 seconds.\n"
     ]
    },
    {
     "name": "stdout",
     "output_type": "stream",
     "text": [
      "Epoch [185/632], Train Loss: 0.0083, Val Loss: 0.0216\n",
      "Epoch 185/632 completed in 4.71 seconds.\n"
     ]
    },
    {
     "name": "stdout",
     "output_type": "stream",
     "text": [
      "Epoch [186/632], Train Loss: 0.0102, Val Loss: 0.0265\n",
      "Epoch 186/632 completed in 4.82 seconds.\n"
     ]
    },
    {
     "name": "stdout",
     "output_type": "stream",
     "text": [
      "Epoch [187/632], Train Loss: 0.0096, Val Loss: 0.0333\n",
      "Epoch 187/632 completed in 3.38 seconds.\n"
     ]
    },
    {
     "name": "stdout",
     "output_type": "stream",
     "text": [
      "Epoch [188/632], Train Loss: 0.0117, Val Loss: 0.0308\n",
      "Epoch 188/632 completed in 5.12 seconds.\n"
     ]
    },
    {
     "name": "stdout",
     "output_type": "stream",
     "text": [
      "Epoch [189/632], Train Loss: 0.0103, Val Loss: 0.0306\n",
      "Epoch 189/632 completed in 19.12 seconds.\n"
     ]
    },
    {
     "name": "stdout",
     "output_type": "stream",
     "text": [
      "Epoch [190/632], Train Loss: 0.0084, Val Loss: 0.0301\n",
      "Epoch 190/632 completed in 6.87 seconds.\n"
     ]
    },
    {
     "name": "stdout",
     "output_type": "stream",
     "text": [
      "Epoch [191/632], Train Loss: 0.0090, Val Loss: 0.0301\n",
      "Epoch 191/632 completed in 4.96 seconds.\n"
     ]
    },
    {
     "name": "stdout",
     "output_type": "stream",
     "text": [
      "Epoch [192/632], Train Loss: 0.0092, Val Loss: 0.0249\n",
      "Epoch 192/632 completed in 4.08 seconds.\n"
     ]
    },
    {
     "name": "stdout",
     "output_type": "stream",
     "text": [
      "Epoch [193/632], Train Loss: 0.0077, Val Loss: 0.0347\n",
      "Epoch 193/632 completed in 3.66 seconds.\n"
     ]
    },
    {
     "name": "stdout",
     "output_type": "stream",
     "text": [
      "Epoch [194/632], Train Loss: 0.0138, Val Loss: 0.0215\n",
      "Epoch 194/632 completed in 6.15 seconds.\n"
     ]
    },
    {
     "name": "stdout",
     "output_type": "stream",
     "text": [
      "Epoch [195/632], Train Loss: 0.0098, Val Loss: 0.0258\n",
      "Epoch 195/632 completed in 8.37 seconds.\n"
     ]
    },
    {
     "name": "stdout",
     "output_type": "stream",
     "text": [
      "Epoch [196/632], Train Loss: 0.0095, Val Loss: 0.0329\n",
      "Epoch 196/632 completed in 4.06 seconds.\n"
     ]
    },
    {
     "name": "stdout",
     "output_type": "stream",
     "text": [
      "Epoch [197/632], Train Loss: 0.0083, Val Loss: 0.0158\n",
      "Epoch 197/632 completed in 4.77 seconds.\n"
     ]
    },
    {
     "name": "stdout",
     "output_type": "stream",
     "text": [
      "Epoch [198/632], Train Loss: 0.0096, Val Loss: 0.0241\n",
      "Epoch 198/632 completed in 4.52 seconds.\n"
     ]
    },
    {
     "name": "stdout",
     "output_type": "stream",
     "text": [
      "Epoch [199/632], Train Loss: 0.0098, Val Loss: 0.0321\n",
      "Epoch 199/632 completed in 4.72 seconds.\n"
     ]
    },
    {
     "name": "stdout",
     "output_type": "stream",
     "text": [
      "Epoch [200/632], Train Loss: 0.0111, Val Loss: 0.0296\n",
      "Model saved: ./output_model/best_model_epoch_200.pth\n",
      "Epoch 200/632 completed in 3.77 seconds.\n"
     ]
    },
    {
     "name": "stdout",
     "output_type": "stream",
     "text": [
      "Epoch [201/632], Train Loss: 0.0096, Val Loss: 0.0290\n",
      "Epoch 201/632 completed in 3.84 seconds.\n"
     ]
    },
    {
     "name": "stdout",
     "output_type": "stream",
     "text": [
      "Epoch [202/632], Train Loss: 0.0097, Val Loss: 0.0312\n",
      "Epoch 202/632 completed in 4.13 seconds.\n"
     ]
    },
    {
     "name": "stdout",
     "output_type": "stream",
     "text": [
      "Epoch [203/632], Train Loss: 0.0104, Val Loss: 0.0344\n",
      "Epoch 203/632 completed in 4.25 seconds.\n"
     ]
    },
    {
     "name": "stdout",
     "output_type": "stream",
     "text": [
      "Epoch [204/632], Train Loss: 0.0096, Val Loss: 0.0326\n",
      "Epoch 204/632 completed in 5.27 seconds.\n"
     ]
    },
    {
     "name": "stdout",
     "output_type": "stream",
     "text": [
      "Epoch [205/632], Train Loss: 0.0083, Val Loss: 0.0291\n",
      "Epoch 205/632 completed in 3.92 seconds.\n"
     ]
    },
    {
     "name": "stdout",
     "output_type": "stream",
     "text": [
      "Epoch [206/632], Train Loss: 0.0068, Val Loss: 0.0264\n",
      "Epoch 206/632 completed in 4.76 seconds.\n"
     ]
    },
    {
     "name": "stdout",
     "output_type": "stream",
     "text": [
      "Epoch [207/632], Train Loss: 0.0091, Val Loss: 0.0441\n",
      "Epoch 207/632 completed in 2.83 seconds.\n"
     ]
    },
    {
     "name": "stdout",
     "output_type": "stream",
     "text": [
      "Epoch [208/632], Train Loss: 0.0088, Val Loss: 0.0264\n",
      "Epoch 208/632 completed in 3.88 seconds.\n"
     ]
    },
    {
     "name": "stdout",
     "output_type": "stream",
     "text": [
      "Epoch [209/632], Train Loss: 0.0105, Val Loss: 0.0273\n",
      "Epoch 209/632 completed in 3.43 seconds.\n"
     ]
    },
    {
     "name": "stdout",
     "output_type": "stream",
     "text": [
      "Epoch [210/632], Train Loss: 0.0101, Val Loss: 0.0438\n",
      "Epoch 210/632 completed in 3.10 seconds.\n"
     ]
    },
    {
     "name": "stdout",
     "output_type": "stream",
     "text": [
      "Epoch [211/632], Train Loss: 0.0094, Val Loss: 0.0337\n",
      "Epoch 211/632 completed in 4.77 seconds.\n"
     ]
    },
    {
     "name": "stdout",
     "output_type": "stream",
     "text": [
      "Epoch [212/632], Train Loss: 0.0087, Val Loss: 0.0348\n",
      "Epoch 212/632 completed in 5.93 seconds.\n"
     ]
    },
    {
     "name": "stdout",
     "output_type": "stream",
     "text": [
      "Epoch [213/632], Train Loss: 0.0078, Val Loss: 0.0243\n",
      "Epoch 213/632 completed in 4.25 seconds.\n"
     ]
    },
    {
     "name": "stdout",
     "output_type": "stream",
     "text": [
      "Epoch [214/632], Train Loss: 0.0091, Val Loss: 0.0325\n",
      "Epoch 214/632 completed in 16.58 seconds.\n"
     ]
    },
    {
     "name": "stdout",
     "output_type": "stream",
     "text": [
      "Epoch [215/632], Train Loss: 0.0108, Val Loss: 0.0262\n",
      "Epoch 215/632 completed in 5.29 seconds.\n"
     ]
    },
    {
     "name": "stdout",
     "output_type": "stream",
     "text": [
      "Epoch [216/632], Train Loss: 0.0103, Val Loss: 0.0352\n",
      "Epoch 216/632 completed in 7.08 seconds.\n"
     ]
    },
    {
     "name": "stdout",
     "output_type": "stream",
     "text": [
      "Epoch [217/632], Train Loss: 0.0088, Val Loss: 0.0320\n",
      "Epoch 217/632 completed in 6.75 seconds.\n"
     ]
    },
    {
     "name": "stdout",
     "output_type": "stream",
     "text": [
      "Epoch [218/632], Train Loss: 0.0071, Val Loss: 0.0261\n",
      "Epoch 218/632 completed in 8.50 seconds.\n"
     ]
    },
    {
     "name": "stdout",
     "output_type": "stream",
     "text": [
      "Epoch [219/632], Train Loss: 0.0088, Val Loss: 0.0267\n",
      "Epoch 219/632 completed in 3.77 seconds.\n"
     ]
    },
    {
     "name": "stdout",
     "output_type": "stream",
     "text": [
      "Epoch [220/632], Train Loss: 0.0077, Val Loss: 0.0237\n",
      "Epoch 220/632 completed in 5.72 seconds.\n"
     ]
    },
    {
     "name": "stdout",
     "output_type": "stream",
     "text": [
      "Epoch [221/632], Train Loss: 0.0092, Val Loss: 0.0313\n",
      "Epoch 221/632 completed in 2.54 seconds.\n"
     ]
    },
    {
     "name": "stdout",
     "output_type": "stream",
     "text": [
      "Epoch [222/632], Train Loss: 0.0072, Val Loss: 0.0283\n",
      "Epoch 222/632 completed in 4.91 seconds.\n"
     ]
    },
    {
     "name": "stdout",
     "output_type": "stream",
     "text": [
      "Epoch [223/632], Train Loss: 0.0084, Val Loss: 0.0290\n",
      "Epoch 223/632 completed in 4.14 seconds.\n"
     ]
    },
    {
     "name": "stdout",
     "output_type": "stream",
     "text": [
      "Epoch [224/632], Train Loss: 0.0084, Val Loss: 0.0308\n",
      "Epoch 224/632 completed in 4.21 seconds.\n"
     ]
    },
    {
     "name": "stdout",
     "output_type": "stream",
     "text": [
      "Epoch [225/632], Train Loss: 0.0072, Val Loss: 0.0318\n",
      "Epoch 225/632 completed in 9.09 seconds.\n"
     ]
    },
    {
     "name": "stdout",
     "output_type": "stream",
     "text": [
      "Epoch [226/632], Train Loss: 0.0077, Val Loss: 0.0285\n",
      "Epoch 226/632 completed in 5.12 seconds.\n"
     ]
    },
    {
     "name": "stdout",
     "output_type": "stream",
     "text": [
      "Epoch [227/632], Train Loss: 0.0076, Val Loss: 0.0284\n",
      "Epoch 227/632 completed in 4.39 seconds.\n"
     ]
    },
    {
     "name": "stdout",
     "output_type": "stream",
     "text": [
      "Epoch [228/632], Train Loss: 0.0073, Val Loss: 0.0332\n",
      "Epoch 228/632 completed in 5.86 seconds.\n"
     ]
    },
    {
     "name": "stdout",
     "output_type": "stream",
     "text": [
      "Epoch [229/632], Train Loss: 0.0078, Val Loss: 0.0327\n",
      "Epoch 229/632 completed in 3.21 seconds.\n"
     ]
    },
    {
     "name": "stdout",
     "output_type": "stream",
     "text": [
      "Epoch [230/632], Train Loss: 0.0082, Val Loss: 0.0288\n",
      "Epoch 230/632 completed in 4.97 seconds.\n"
     ]
    },
    {
     "name": "stdout",
     "output_type": "stream",
     "text": [
      "Epoch [231/632], Train Loss: 0.0068, Val Loss: 0.0234\n",
      "Epoch 231/632 completed in 3.28 seconds.\n"
     ]
    },
    {
     "name": "stdout",
     "output_type": "stream",
     "text": [
      "Epoch [232/632], Train Loss: 0.0075, Val Loss: 0.0457\n",
      "Epoch 232/632 completed in 4.52 seconds.\n"
     ]
    },
    {
     "name": "stdout",
     "output_type": "stream",
     "text": [
      "Epoch [233/632], Train Loss: 0.0083, Val Loss: 0.0334\n",
      "Epoch 233/632 completed in 4.70 seconds.\n"
     ]
    },
    {
     "name": "stdout",
     "output_type": "stream",
     "text": [
      "Epoch [234/632], Train Loss: 0.0076, Val Loss: 0.0330\n",
      "Epoch 234/632 completed in 3.36 seconds.\n"
     ]
    },
    {
     "name": "stdout",
     "output_type": "stream",
     "text": [
      "Epoch [235/632], Train Loss: 0.0092, Val Loss: 0.0267\n",
      "Epoch 235/632 completed in 5.04 seconds.\n"
     ]
    },
    {
     "name": "stdout",
     "output_type": "stream",
     "text": [
      "Epoch [236/632], Train Loss: 0.0085, Val Loss: 0.0234\n",
      "Epoch 236/632 completed in 5.69 seconds.\n"
     ]
    },
    {
     "name": "stdout",
     "output_type": "stream",
     "text": [
      "Epoch [237/632], Train Loss: 0.0073, Val Loss: 0.0227\n",
      "Epoch 237/632 completed in 6.20 seconds.\n"
     ]
    },
    {
     "name": "stdout",
     "output_type": "stream",
     "text": [
      "Epoch [238/632], Train Loss: 0.0068, Val Loss: 0.0333\n",
      "Epoch 238/632 completed in 15.02 seconds.\n"
     ]
    },
    {
     "name": "stdout",
     "output_type": "stream",
     "text": [
      "Epoch [239/632], Train Loss: 0.0075, Val Loss: 0.0297\n",
      "Epoch 239/632 completed in 2.50 seconds.\n"
     ]
    },
    {
     "name": "stdout",
     "output_type": "stream",
     "text": [
      "Epoch [240/632], Train Loss: 0.0064, Val Loss: 0.0211\n",
      "Epoch 240/632 completed in 3.43 seconds.\n"
     ]
    },
    {
     "name": "stdout",
     "output_type": "stream",
     "text": [
      "Epoch [241/632], Train Loss: 0.0071, Val Loss: 0.0250\n",
      "Epoch 241/632 completed in 3.44 seconds.\n"
     ]
    },
    {
     "name": "stdout",
     "output_type": "stream",
     "text": [
      "Epoch [242/632], Train Loss: 0.0083, Val Loss: 0.0235\n",
      "Epoch 242/632 completed in 5.73 seconds.\n"
     ]
    },
    {
     "name": "stdout",
     "output_type": "stream",
     "text": [
      "Epoch [243/632], Train Loss: 0.0058, Val Loss: 0.0270\n",
      "Epoch 243/632 completed in 2.73 seconds.\n"
     ]
    },
    {
     "name": "stdout",
     "output_type": "stream",
     "text": [
      "Epoch [244/632], Train Loss: 0.0067, Val Loss: 0.0278\n",
      "Epoch 244/632 completed in 4.47 seconds.\n"
     ]
    },
    {
     "name": "stdout",
     "output_type": "stream",
     "text": [
      "Epoch [245/632], Train Loss: 0.0080, Val Loss: 0.0249\n",
      "Epoch 245/632 completed in 2.99 seconds.\n"
     ]
    },
    {
     "name": "stdout",
     "output_type": "stream",
     "text": [
      "Epoch [246/632], Train Loss: 0.0079, Val Loss: 0.0392\n",
      "Epoch 246/632 completed in 2.64 seconds.\n"
     ]
    },
    {
     "name": "stdout",
     "output_type": "stream",
     "text": [
      "Epoch [247/632], Train Loss: 0.0067, Val Loss: 0.0227\n",
      "Epoch 247/632 completed in 3.34 seconds.\n"
     ]
    },
    {
     "name": "stdout",
     "output_type": "stream",
     "text": [
      "Epoch [248/632], Train Loss: 0.0074, Val Loss: 0.0252\n",
      "Epoch 248/632 completed in 1.64 seconds.\n"
     ]
    },
    {
     "name": "stdout",
     "output_type": "stream",
     "text": [
      "Epoch [249/632], Train Loss: 0.0074, Val Loss: 0.0368\n",
      "Epoch 249/632 completed in 5.10 seconds.\n"
     ]
    },
    {
     "name": "stdout",
     "output_type": "stream",
     "text": [
      "Epoch [250/632], Train Loss: 0.0065, Val Loss: 0.0269\n",
      "Epoch 250/632 completed in 4.54 seconds.\n"
     ]
    },
    {
     "name": "stdout",
     "output_type": "stream",
     "text": [
      "Epoch [251/632], Train Loss: 0.0058, Val Loss: 0.0261\n",
      "Epoch 251/632 completed in 3.78 seconds.\n"
     ]
    },
    {
     "name": "stdout",
     "output_type": "stream",
     "text": [
      "Epoch [252/632], Train Loss: 0.0067, Val Loss: 0.0360\n",
      "Epoch 252/632 completed in 3.59 seconds.\n"
     ]
    },
    {
     "name": "stdout",
     "output_type": "stream",
     "text": [
      "Epoch [253/632], Train Loss: 0.0060, Val Loss: 0.0257\n",
      "Epoch 253/632 completed in 6.42 seconds.\n"
     ]
    },
    {
     "name": "stdout",
     "output_type": "stream",
     "text": [
      "Epoch [254/632], Train Loss: 0.0065, Val Loss: 0.0265\n",
      "Epoch 254/632 completed in 4.60 seconds.\n"
     ]
    },
    {
     "name": "stdout",
     "output_type": "stream",
     "text": [
      "Epoch [255/632], Train Loss: 0.0057, Val Loss: 0.0251\n",
      "Epoch 255/632 completed in 5.11 seconds.\n"
     ]
    },
    {
     "name": "stdout",
     "output_type": "stream",
     "text": [
      "Epoch [256/632], Train Loss: 0.0085, Val Loss: 0.0349\n",
      "Epoch 256/632 completed in 2.13 seconds.\n"
     ]
    },
    {
     "name": "stdout",
     "output_type": "stream",
     "text": [
      "Epoch [257/632], Train Loss: 0.0074, Val Loss: 0.0618\n",
      "Epoch 257/632 completed in 4.11 seconds.\n"
     ]
    },
    {
     "name": "stdout",
     "output_type": "stream",
     "text": [
      "Epoch [258/632], Train Loss: 0.0082, Val Loss: 0.0368\n",
      "Epoch 258/632 completed in 4.68 seconds.\n"
     ]
    },
    {
     "name": "stdout",
     "output_type": "stream",
     "text": [
      "Epoch [259/632], Train Loss: 0.0070, Val Loss: 0.0328\n",
      "Epoch 259/632 completed in 5.42 seconds.\n"
     ]
    },
    {
     "name": "stdout",
     "output_type": "stream",
     "text": [
      "Epoch [260/632], Train Loss: 0.0066, Val Loss: 0.0319\n",
      "Epoch 260/632 completed in 14.53 seconds.\n"
     ]
    },
    {
     "name": "stdout",
     "output_type": "stream",
     "text": [
      "Epoch [261/632], Train Loss: 0.0062, Val Loss: 0.0299\n",
      "Epoch 261/632 completed in 2.86 seconds.\n"
     ]
    },
    {
     "name": "stdout",
     "output_type": "stream",
     "text": [
      "Epoch [262/632], Train Loss: 0.0077, Val Loss: 0.0240\n",
      "Epoch 262/632 completed in 4.51 seconds.\n"
     ]
    },
    {
     "name": "stdout",
     "output_type": "stream",
     "text": [
      "Epoch [263/632], Train Loss: 0.0059, Val Loss: 0.0306\n",
      "Epoch 263/632 completed in 4.14 seconds.\n"
     ]
    },
    {
     "name": "stdout",
     "output_type": "stream",
     "text": [
      "Epoch [264/632], Train Loss: 0.0078, Val Loss: 0.0310\n",
      "Epoch 264/632 completed in 5.10 seconds.\n"
     ]
    },
    {
     "name": "stdout",
     "output_type": "stream",
     "text": [
      "Epoch [265/632], Train Loss: 0.0062, Val Loss: 0.0324\n",
      "Epoch 265/632 completed in 3.19 seconds.\n"
     ]
    },
    {
     "name": "stdout",
     "output_type": "stream",
     "text": [
      "Epoch [266/632], Train Loss: 0.0060, Val Loss: 0.0293\n",
      "Epoch 266/632 completed in 3.43 seconds.\n"
     ]
    },
    {
     "name": "stdout",
     "output_type": "stream",
     "text": [
      "Epoch [267/632], Train Loss: 0.0063, Val Loss: 0.0336\n",
      "Epoch 267/632 completed in 4.77 seconds.\n"
     ]
    },
    {
     "name": "stdout",
     "output_type": "stream",
     "text": [
      "Epoch [268/632], Train Loss: 0.0059, Val Loss: 0.0328\n",
      "Epoch 268/632 completed in 5.06 seconds.\n"
     ]
    },
    {
     "name": "stdout",
     "output_type": "stream",
     "text": [
      "Epoch [269/632], Train Loss: 0.0058, Val Loss: 0.0410\n",
      "Epoch 269/632 completed in 5.11 seconds.\n"
     ]
    },
    {
     "name": "stdout",
     "output_type": "stream",
     "text": [
      "Epoch [270/632], Train Loss: 0.0064, Val Loss: 0.0396\n",
      "Epoch 270/632 completed in 6.19 seconds.\n"
     ]
    },
    {
     "name": "stdout",
     "output_type": "stream",
     "text": [
      "Epoch [271/632], Train Loss: 0.0069, Val Loss: 0.0305\n",
      "Epoch 271/632 completed in 4.23 seconds.\n"
     ]
    },
    {
     "name": "stdout",
     "output_type": "stream",
     "text": [
      "Epoch [272/632], Train Loss: 0.0063, Val Loss: 0.0354\n",
      "Epoch 272/632 completed in 2.98 seconds.\n"
     ]
    },
    {
     "name": "stdout",
     "output_type": "stream",
     "text": [
      "Epoch [273/632], Train Loss: 0.0058, Val Loss: 0.0422\n",
      "Epoch 273/632 completed in 3.48 seconds.\n"
     ]
    },
    {
     "name": "stdout",
     "output_type": "stream",
     "text": [
      "Epoch [274/632], Train Loss: 0.0060, Val Loss: 0.0361\n",
      "Epoch 274/632 completed in 4.58 seconds.\n"
     ]
    },
    {
     "name": "stdout",
     "output_type": "stream",
     "text": [
      "Epoch [275/632], Train Loss: 0.0071, Val Loss: 0.0395\n",
      "Epoch 275/632 completed in 3.66 seconds.\n"
     ]
    },
    {
     "name": "stdout",
     "output_type": "stream",
     "text": [
      "Epoch [276/632], Train Loss: 0.0065, Val Loss: 0.0409\n",
      "Epoch 276/632 completed in 3.00 seconds.\n"
     ]
    },
    {
     "name": "stdout",
     "output_type": "stream",
     "text": [
      "Epoch [277/632], Train Loss: 0.0081, Val Loss: 0.0363\n",
      "Epoch 277/632 completed in 4.33 seconds.\n"
     ]
    },
    {
     "name": "stdout",
     "output_type": "stream",
     "text": [
      "Epoch [278/632], Train Loss: 0.0058, Val Loss: 0.0317\n",
      "Epoch 278/632 completed in 4.95 seconds.\n"
     ]
    },
    {
     "name": "stdout",
     "output_type": "stream",
     "text": [
      "Epoch [279/632], Train Loss: 0.0063, Val Loss: 0.0285\n",
      "Epoch 279/632 completed in 6.70 seconds.\n"
     ]
    },
    {
     "name": "stdout",
     "output_type": "stream",
     "text": [
      "Epoch [280/632], Train Loss: 0.0058, Val Loss: 0.0326\n",
      "Epoch 280/632 completed in 5.03 seconds.\n"
     ]
    },
    {
     "name": "stdout",
     "output_type": "stream",
     "text": [
      "Epoch [281/632], Train Loss: 0.0052, Val Loss: 0.0255\n",
      "Epoch 281/632 completed in 6.65 seconds.\n"
     ]
    },
    {
     "name": "stdout",
     "output_type": "stream",
     "text": [
      "Epoch [282/632], Train Loss: 0.0071, Val Loss: 0.0394\n",
      "Epoch 282/632 completed in 4.13 seconds.\n"
     ]
    },
    {
     "name": "stdout",
     "output_type": "stream",
     "text": [
      "Epoch [283/632], Train Loss: 0.0059, Val Loss: 0.0416\n",
      "Epoch 283/632 completed in 7.27 seconds.\n"
     ]
    },
    {
     "name": "stdout",
     "output_type": "stream",
     "text": [
      "Epoch [284/632], Train Loss: 0.0047, Val Loss: 0.0392\n",
      "Epoch 284/632 completed in 2.74 seconds.\n"
     ]
    },
    {
     "name": "stdout",
     "output_type": "stream",
     "text": [
      "Epoch [285/632], Train Loss: 0.0061, Val Loss: 0.0315\n",
      "Epoch 285/632 completed in 6.20 seconds.\n"
     ]
    },
    {
     "name": "stdout",
     "output_type": "stream",
     "text": [
      "Epoch [286/632], Train Loss: 0.0050, Val Loss: 0.0293\n",
      "Epoch 286/632 completed in 4.17 seconds.\n"
     ]
    },
    {
     "name": "stdout",
     "output_type": "stream",
     "text": [
      "Epoch [287/632], Train Loss: 0.0058, Val Loss: 0.0545\n",
      "Epoch 287/632 completed in 2.24 seconds.\n"
     ]
    },
    {
     "name": "stdout",
     "output_type": "stream",
     "text": [
      "Epoch [288/632], Train Loss: 0.0059, Val Loss: 0.0382\n",
      "Epoch 288/632 completed in 2.99 seconds.\n"
     ]
    },
    {
     "name": "stdout",
     "output_type": "stream",
     "text": [
      "Epoch [289/632], Train Loss: 0.0061, Val Loss: 0.0246\n",
      "Epoch 289/632 completed in 3.36 seconds.\n"
     ]
    },
    {
     "name": "stdout",
     "output_type": "stream",
     "text": [
      "Epoch [290/632], Train Loss: 0.0064, Val Loss: 0.0349\n",
      "Epoch 290/632 completed in 2.82 seconds.\n"
     ]
    },
    {
     "name": "stdout",
     "output_type": "stream",
     "text": [
      "Epoch [291/632], Train Loss: 0.0052, Val Loss: 0.0306\n",
      "Epoch 291/632 completed in 4.75 seconds.\n"
     ]
    },
    {
     "name": "stdout",
     "output_type": "stream",
     "text": [
      "Epoch [292/632], Train Loss: 0.0073, Val Loss: 0.0384\n",
      "Epoch 292/632 completed in 3.57 seconds.\n"
     ]
    },
    {
     "name": "stdout",
     "output_type": "stream",
     "text": [
      "Epoch [293/632], Train Loss: 0.0053, Val Loss: 0.0352\n",
      "Epoch 293/632 completed in 6.90 seconds.\n"
     ]
    },
    {
     "name": "stdout",
     "output_type": "stream",
     "text": [
      "Epoch [294/632], Train Loss: 0.0053, Val Loss: 0.0340\n",
      "Epoch 294/632 completed in 3.83 seconds.\n"
     ]
    },
    {
     "name": "stdout",
     "output_type": "stream",
     "text": [
      "Epoch [295/632], Train Loss: 0.0053, Val Loss: 0.0358\n",
      "Epoch 295/632 completed in 3.91 seconds.\n"
     ]
    },
    {
     "name": "stdout",
     "output_type": "stream",
     "text": [
      "Epoch [296/632], Train Loss: 0.0061, Val Loss: 0.0385\n",
      "Epoch 296/632 completed in 6.71 seconds.\n"
     ]
    },
    {
     "name": "stdout",
     "output_type": "stream",
     "text": [
      "Epoch [297/632], Train Loss: 0.0068, Val Loss: 0.0413\n",
      "Epoch 297/632 completed in 2.52 seconds.\n"
     ]
    },
    {
     "name": "stdout",
     "output_type": "stream",
     "text": [
      "Epoch [298/632], Train Loss: 0.0077, Val Loss: 0.0387\n",
      "Epoch 298/632 completed in 3.66 seconds.\n"
     ]
    },
    {
     "name": "stdout",
     "output_type": "stream",
     "text": [
      "Epoch [299/632], Train Loss: 0.0055, Val Loss: 0.0412\n",
      "Epoch 299/632 completed in 4.05 seconds.\n"
     ]
    },
    {
     "name": "stdout",
     "output_type": "stream",
     "text": [
      "Epoch [300/632], Train Loss: 0.0063, Val Loss: 0.0454\n",
      "Model saved: ./output_model/best_model_epoch_300.pth\n",
      "Epoch 300/632 completed in 3.76 seconds.\n"
     ]
    },
    {
     "name": "stdout",
     "output_type": "stream",
     "text": [
      "Epoch [301/632], Train Loss: 0.0061, Val Loss: 0.0339\n",
      "Epoch 301/632 completed in 5.99 seconds.\n"
     ]
    },
    {
     "name": "stdout",
     "output_type": "stream",
     "text": [
      "Epoch [302/632], Train Loss: 0.0060, Val Loss: 0.0372\n",
      "Epoch 302/632 completed in 6.52 seconds.\n"
     ]
    },
    {
     "name": "stdout",
     "output_type": "stream",
     "text": [
      "Epoch [303/632], Train Loss: 0.0064, Val Loss: 0.0428\n",
      "Epoch 303/632 completed in 5.25 seconds.\n"
     ]
    },
    {
     "name": "stdout",
     "output_type": "stream",
     "text": [
      "Epoch [304/632], Train Loss: 0.0051, Val Loss: 0.0339\n",
      "Epoch 304/632 completed in 4.55 seconds.\n"
     ]
    },
    {
     "name": "stdout",
     "output_type": "stream",
     "text": [
      "Epoch [305/632], Train Loss: 0.0055, Val Loss: 0.0398\n",
      "Epoch 305/632 completed in 2.32 seconds.\n"
     ]
    },
    {
     "name": "stdout",
     "output_type": "stream",
     "text": [
      "Epoch [306/632], Train Loss: 0.0059, Val Loss: 0.0522\n",
      "Epoch 306/632 completed in 2.96 seconds.\n"
     ]
    },
    {
     "name": "stdout",
     "output_type": "stream",
     "text": [
      "Epoch [307/632], Train Loss: 0.0073, Val Loss: 0.0448\n",
      "Epoch 307/632 completed in 4.24 seconds.\n"
     ]
    },
    {
     "name": "stdout",
     "output_type": "stream",
     "text": [
      "Epoch [308/632], Train Loss: 0.0062, Val Loss: 0.0312\n",
      "Epoch 308/632 completed in 4.26 seconds.\n"
     ]
    },
    {
     "name": "stdout",
     "output_type": "stream",
     "text": [
      "Epoch [309/632], Train Loss: 0.0070, Val Loss: 0.0551\n",
      "Epoch 309/632 completed in 4.88 seconds.\n"
     ]
    },
    {
     "name": "stdout",
     "output_type": "stream",
     "text": [
      "Epoch [310/632], Train Loss: 0.0075, Val Loss: 0.0500\n",
      "Epoch 310/632 completed in 6.31 seconds.\n"
     ]
    },
    {
     "name": "stdout",
     "output_type": "stream",
     "text": [
      "Epoch [311/632], Train Loss: 0.0051, Val Loss: 0.0373\n",
      "Epoch 311/632 completed in 3.54 seconds.\n"
     ]
    },
    {
     "name": "stdout",
     "output_type": "stream",
     "text": [
      "Epoch [312/632], Train Loss: 0.0067, Val Loss: 0.0438\n",
      "Epoch 312/632 completed in 9.01 seconds.\n"
     ]
    },
    {
     "name": "stdout",
     "output_type": "stream",
     "text": [
      "Epoch [313/632], Train Loss: 0.0048, Val Loss: 0.0373\n",
      "Epoch 313/632 completed in 3.53 seconds.\n"
     ]
    },
    {
     "name": "stdout",
     "output_type": "stream",
     "text": [
      "Epoch [314/632], Train Loss: 0.0050, Val Loss: 0.0345\n",
      "Epoch 314/632 completed in 4.20 seconds.\n"
     ]
    },
    {
     "name": "stdout",
     "output_type": "stream",
     "text": [
      "Epoch [315/632], Train Loss: 0.0049, Val Loss: 0.0407\n",
      "Epoch 315/632 completed in 5.67 seconds.\n"
     ]
    },
    {
     "name": "stdout",
     "output_type": "stream",
     "text": [
      "Epoch [316/632], Train Loss: 0.0047, Val Loss: 0.0450\n",
      "Epoch 316/632 completed in 4.69 seconds.\n"
     ]
    },
    {
     "name": "stdout",
     "output_type": "stream",
     "text": [
      "Epoch [317/632], Train Loss: 0.0050, Val Loss: 0.0460\n",
      "Epoch 317/632 completed in 5.71 seconds.\n"
     ]
    },
    {
     "name": "stdout",
     "output_type": "stream",
     "text": [
      "Epoch [318/632], Train Loss: 0.0046, Val Loss: 0.0355\n",
      "Epoch 318/632 completed in 1.58 seconds.\n"
     ]
    },
    {
     "name": "stdout",
     "output_type": "stream",
     "text": [
      "Epoch [319/632], Train Loss: 0.0044, Val Loss: 0.0319\n",
      "Epoch 319/632 completed in 2.31 seconds.\n"
     ]
    },
    {
     "name": "stdout",
     "output_type": "stream",
     "text": [
      "Epoch [320/632], Train Loss: 0.0051, Val Loss: 0.0367\n",
      "Epoch 320/632 completed in 2.62 seconds.\n"
     ]
    },
    {
     "name": "stdout",
     "output_type": "stream",
     "text": [
      "Epoch [321/632], Train Loss: 0.0052, Val Loss: 0.0400\n",
      "Epoch 321/632 completed in 3.35 seconds.\n"
     ]
    },
    {
     "name": "stdout",
     "output_type": "stream",
     "text": [
      "Epoch [322/632], Train Loss: 0.0044, Val Loss: 0.0330\n",
      "Epoch 322/632 completed in 2.82 seconds.\n"
     ]
    },
    {
     "name": "stdout",
     "output_type": "stream",
     "text": [
      "Epoch [323/632], Train Loss: 0.0051, Val Loss: 0.0433\n",
      "Epoch 323/632 completed in 1.99 seconds.\n"
     ]
    },
    {
     "name": "stdout",
     "output_type": "stream",
     "text": [
      "Epoch [324/632], Train Loss: 0.0048, Val Loss: 0.0480\n",
      "Epoch 324/632 completed in 2.78 seconds.\n"
     ]
    },
    {
     "name": "stdout",
     "output_type": "stream",
     "text": [
      "Epoch [325/632], Train Loss: 0.0046, Val Loss: 0.0346\n",
      "Epoch 325/632 completed in 2.25 seconds.\n"
     ]
    },
    {
     "name": "stdout",
     "output_type": "stream",
     "text": [
      "Epoch [326/632], Train Loss: 0.0071, Val Loss: 0.0552\n",
      "Epoch 326/632 completed in 2.73 seconds.\n"
     ]
    },
    {
     "name": "stdout",
     "output_type": "stream",
     "text": [
      "Epoch [327/632], Train Loss: 0.0054, Val Loss: 0.0354\n",
      "Epoch 327/632 completed in 2.62 seconds.\n"
     ]
    },
    {
     "name": "stdout",
     "output_type": "stream",
     "text": [
      "Epoch [328/632], Train Loss: 0.0049, Val Loss: 0.0423\n",
      "Epoch 328/632 completed in 2.06 seconds.\n"
     ]
    },
    {
     "name": "stdout",
     "output_type": "stream",
     "text": [
      "Epoch [329/632], Train Loss: 0.0044, Val Loss: 0.0472\n",
      "Epoch 329/632 completed in 1.72 seconds.\n"
     ]
    },
    {
     "name": "stdout",
     "output_type": "stream",
     "text": [
      "Epoch [330/632], Train Loss: 0.0048, Val Loss: 0.0506\n",
      "Epoch 330/632 completed in 3.68 seconds.\n"
     ]
    },
    {
     "name": "stdout",
     "output_type": "stream",
     "text": [
      "Epoch [331/632], Train Loss: 0.0052, Val Loss: 0.0566\n",
      "Epoch 331/632 completed in 2.83 seconds.\n"
     ]
    },
    {
     "name": "stdout",
     "output_type": "stream",
     "text": [
      "Epoch [332/632], Train Loss: 0.0055, Val Loss: 0.0379\n",
      "Epoch 332/632 completed in 1.73 seconds.\n"
     ]
    },
    {
     "name": "stdout",
     "output_type": "stream",
     "text": [
      "Epoch [333/632], Train Loss: 0.0046, Val Loss: 0.0467\n",
      "Epoch 333/632 completed in 2.53 seconds.\n"
     ]
    },
    {
     "name": "stdout",
     "output_type": "stream",
     "text": [
      "Epoch [334/632], Train Loss: 0.0043, Val Loss: 0.0519\n",
      "Epoch 334/632 completed in 2.17 seconds.\n"
     ]
    },
    {
     "name": "stdout",
     "output_type": "stream",
     "text": [
      "Epoch [335/632], Train Loss: 0.0043, Val Loss: 0.0499\n",
      "Epoch 335/632 completed in 2.13 seconds.\n"
     ]
    },
    {
     "name": "stdout",
     "output_type": "stream",
     "text": [
      "Epoch [336/632], Train Loss: 0.0047, Val Loss: 0.0508\n",
      "Epoch 336/632 completed in 2.52 seconds.\n"
     ]
    },
    {
     "name": "stdout",
     "output_type": "stream",
     "text": [
      "Epoch [337/632], Train Loss: 0.0048, Val Loss: 0.0473\n",
      "Epoch 337/632 completed in 1.73 seconds.\n"
     ]
    },
    {
     "name": "stdout",
     "output_type": "stream",
     "text": [
      "Epoch [338/632], Train Loss: 0.0043, Val Loss: 0.0530\n",
      "Epoch 338/632 completed in 2.30 seconds.\n"
     ]
    },
    {
     "name": "stdout",
     "output_type": "stream",
     "text": [
      "Epoch [339/632], Train Loss: 0.0050, Val Loss: 0.0394\n",
      "Epoch 339/632 completed in 2.83 seconds.\n"
     ]
    },
    {
     "name": "stdout",
     "output_type": "stream",
     "text": [
      "Epoch [340/632], Train Loss: 0.0052, Val Loss: 0.0445\n",
      "Epoch 340/632 completed in 2.22 seconds.\n"
     ]
    },
    {
     "name": "stdout",
     "output_type": "stream",
     "text": [
      "Epoch [341/632], Train Loss: 0.0048, Val Loss: 0.0452\n",
      "Epoch 341/632 completed in 2.28 seconds.\n"
     ]
    },
    {
     "name": "stdout",
     "output_type": "stream",
     "text": [
      "Epoch [342/632], Train Loss: 0.0048, Val Loss: 0.0290\n",
      "Epoch 342/632 completed in 2.28 seconds.\n"
     ]
    },
    {
     "name": "stdout",
     "output_type": "stream",
     "text": [
      "Epoch [343/632], Train Loss: 0.0054, Val Loss: 0.0395\n",
      "Epoch 343/632 completed in 1.77 seconds.\n"
     ]
    },
    {
     "name": "stdout",
     "output_type": "stream",
     "text": [
      "Epoch [344/632], Train Loss: 0.0047, Val Loss: 0.0428\n",
      "Epoch 344/632 completed in 2.67 seconds.\n"
     ]
    },
    {
     "name": "stdout",
     "output_type": "stream",
     "text": [
      "Epoch [345/632], Train Loss: 0.0055, Val Loss: 0.0497\n",
      "Epoch 345/632 completed in 2.51 seconds.\n"
     ]
    },
    {
     "name": "stdout",
     "output_type": "stream",
     "text": [
      "Epoch [346/632], Train Loss: 0.0046, Val Loss: 0.0463\n",
      "Epoch 346/632 completed in 3.77 seconds.\n"
     ]
    },
    {
     "name": "stdout",
     "output_type": "stream",
     "text": [
      "Epoch [347/632], Train Loss: 0.0051, Val Loss: 0.0571\n",
      "Epoch 347/632 completed in 2.45 seconds.\n"
     ]
    },
    {
     "name": "stdout",
     "output_type": "stream",
     "text": [
      "Epoch [348/632], Train Loss: 0.0064, Val Loss: 0.0571\n",
      "Epoch 348/632 completed in 2.86 seconds.\n"
     ]
    },
    {
     "name": "stdout",
     "output_type": "stream",
     "text": [
      "Epoch [349/632], Train Loss: 0.0053, Val Loss: 0.0499\n",
      "Epoch 349/632 completed in 2.29 seconds.\n"
     ]
    },
    {
     "name": "stdout",
     "output_type": "stream",
     "text": [
      "Epoch [350/632], Train Loss: 0.0045, Val Loss: 0.0525\n",
      "Epoch 350/632 completed in 2.80 seconds.\n"
     ]
    },
    {
     "name": "stdout",
     "output_type": "stream",
     "text": [
      "Epoch [351/632], Train Loss: 0.0046, Val Loss: 0.0549\n",
      "Epoch 351/632 completed in 2.40 seconds.\n"
     ]
    },
    {
     "name": "stdout",
     "output_type": "stream",
     "text": [
      "Epoch [352/632], Train Loss: 0.0045, Val Loss: 0.0524\n",
      "Epoch 352/632 completed in 2.51 seconds.\n"
     ]
    },
    {
     "name": "stdout",
     "output_type": "stream",
     "text": [
      "Epoch [353/632], Train Loss: 0.0049, Val Loss: 0.0491\n",
      "Epoch 353/632 completed in 1.65 seconds.\n"
     ]
    },
    {
     "name": "stdout",
     "output_type": "stream",
     "text": [
      "Epoch [354/632], Train Loss: 0.0049, Val Loss: 0.0501\n",
      "Epoch 354/632 completed in 2.81 seconds.\n"
     ]
    },
    {
     "name": "stdout",
     "output_type": "stream",
     "text": [
      "Epoch [355/632], Train Loss: 0.0050, Val Loss: 0.0500\n",
      "Epoch 355/632 completed in 2.40 seconds.\n"
     ]
    },
    {
     "name": "stdout",
     "output_type": "stream",
     "text": [
      "Epoch [356/632], Train Loss: 0.0062, Val Loss: 0.0482\n",
      "Epoch 356/632 completed in 2.29 seconds.\n"
     ]
    },
    {
     "name": "stdout",
     "output_type": "stream",
     "text": [
      "Epoch [357/632], Train Loss: 0.0052, Val Loss: 0.0429\n",
      "Epoch 357/632 completed in 2.92 seconds.\n"
     ]
    },
    {
     "name": "stdout",
     "output_type": "stream",
     "text": [
      "Epoch [358/632], Train Loss: 0.0041, Val Loss: 0.0538\n",
      "Epoch 358/632 completed in 2.39 seconds.\n"
     ]
    },
    {
     "name": "stdout",
     "output_type": "stream",
     "text": [
      "Epoch [359/632], Train Loss: 0.0045, Val Loss: 0.0548\n",
      "Epoch 359/632 completed in 2.11 seconds.\n"
     ]
    },
    {
     "name": "stdout",
     "output_type": "stream",
     "text": [
      "Epoch [360/632], Train Loss: 0.0039, Val Loss: 0.0506\n",
      "Epoch 360/632 completed in 2.45 seconds.\n"
     ]
    },
    {
     "name": "stdout",
     "output_type": "stream",
     "text": [
      "Epoch [361/632], Train Loss: 0.0037, Val Loss: 0.0478\n",
      "Epoch 361/632 completed in 2.92 seconds.\n"
     ]
    },
    {
     "name": "stdout",
     "output_type": "stream",
     "text": [
      "Epoch [362/632], Train Loss: 0.0036, Val Loss: 0.0348\n",
      "Epoch 362/632 completed in 3.31 seconds.\n"
     ]
    },
    {
     "name": "stdout",
     "output_type": "stream",
     "text": [
      "Epoch [363/632], Train Loss: 0.0041, Val Loss: 0.0474\n",
      "Epoch 363/632 completed in 2.10 seconds.\n"
     ]
    },
    {
     "name": "stdout",
     "output_type": "stream",
     "text": [
      "Epoch [364/632], Train Loss: 0.0040, Val Loss: 0.0522\n",
      "Epoch 364/632 completed in 2.54 seconds.\n"
     ]
    },
    {
     "name": "stdout",
     "output_type": "stream",
     "text": [
      "Epoch [365/632], Train Loss: 0.0044, Val Loss: 0.0321\n",
      "Epoch 365/632 completed in 2.00 seconds.\n"
     ]
    },
    {
     "name": "stdout",
     "output_type": "stream",
     "text": [
      "Epoch [366/632], Train Loss: 0.0042, Val Loss: 0.0507\n",
      "Epoch 366/632 completed in 2.48 seconds.\n"
     ]
    },
    {
     "name": "stdout",
     "output_type": "stream",
     "text": [
      "Epoch [367/632], Train Loss: 0.0043, Val Loss: 0.0445\n",
      "Epoch 367/632 completed in 2.44 seconds.\n"
     ]
    },
    {
     "name": "stdout",
     "output_type": "stream",
     "text": [
      "Epoch [368/632], Train Loss: 0.0040, Val Loss: 0.0434\n",
      "Epoch 368/632 completed in 2.46 seconds.\n"
     ]
    },
    {
     "name": "stdout",
     "output_type": "stream",
     "text": [
      "Epoch [369/632], Train Loss: 0.0044, Val Loss: 0.0491\n",
      "Epoch 369/632 completed in 3.15 seconds.\n"
     ]
    },
    {
     "name": "stdout",
     "output_type": "stream",
     "text": [
      "Epoch [370/632], Train Loss: 0.0043, Val Loss: 0.0582\n",
      "Epoch 370/632 completed in 2.17 seconds.\n"
     ]
    },
    {
     "name": "stdout",
     "output_type": "stream",
     "text": [
      "Epoch [371/632], Train Loss: 0.0045, Val Loss: 0.0574\n",
      "Epoch 371/632 completed in 1.76 seconds.\n"
     ]
    },
    {
     "name": "stdout",
     "output_type": "stream",
     "text": [
      "Epoch [372/632], Train Loss: 0.0052, Val Loss: 0.0413\n",
      "Epoch 372/632 completed in 2.35 seconds.\n"
     ]
    },
    {
     "name": "stdout",
     "output_type": "stream",
     "text": [
      "Epoch [373/632], Train Loss: 0.0043, Val Loss: 0.0377\n",
      "Epoch 373/632 completed in 2.49 seconds.\n"
     ]
    },
    {
     "name": "stdout",
     "output_type": "stream",
     "text": [
      "Epoch [374/632], Train Loss: 0.0040, Val Loss: 0.0389\n",
      "Epoch 374/632 completed in 2.74 seconds.\n"
     ]
    },
    {
     "name": "stdout",
     "output_type": "stream",
     "text": [
      "Epoch [375/632], Train Loss: 0.0046, Val Loss: 0.0429\n",
      "Epoch 375/632 completed in 2.93 seconds.\n"
     ]
    },
    {
     "name": "stdout",
     "output_type": "stream",
     "text": [
      "Epoch [376/632], Train Loss: 0.0040, Val Loss: 0.0461\n",
      "Epoch 376/632 completed in 2.50 seconds.\n"
     ]
    },
    {
     "name": "stdout",
     "output_type": "stream",
     "text": [
      "Epoch [377/632], Train Loss: 0.0036, Val Loss: 0.0481\n",
      "Epoch 377/632 completed in 3.36 seconds.\n"
     ]
    },
    {
     "name": "stdout",
     "output_type": "stream",
     "text": [
      "Epoch [378/632], Train Loss: 0.0038, Val Loss: 0.0565\n",
      "Epoch 378/632 completed in 2.84 seconds.\n"
     ]
    },
    {
     "name": "stdout",
     "output_type": "stream",
     "text": [
      "Epoch [379/632], Train Loss: 0.0047, Val Loss: 0.0412\n",
      "Epoch 379/632 completed in 2.46 seconds.\n"
     ]
    },
    {
     "name": "stdout",
     "output_type": "stream",
     "text": [
      "Epoch [380/632], Train Loss: 0.0045, Val Loss: 0.0521\n",
      "Epoch 380/632 completed in 2.23 seconds.\n"
     ]
    },
    {
     "name": "stdout",
     "output_type": "stream",
     "text": [
      "Epoch [381/632], Train Loss: 0.0037, Val Loss: 0.0573\n",
      "Epoch 381/632 completed in 2.26 seconds.\n"
     ]
    },
    {
     "name": "stdout",
     "output_type": "stream",
     "text": [
      "Epoch [382/632], Train Loss: 0.0049, Val Loss: 0.0639\n",
      "Epoch 382/632 completed in 2.34 seconds.\n"
     ]
    },
    {
     "name": "stdout",
     "output_type": "stream",
     "text": [
      "Epoch [383/632], Train Loss: 0.0043, Val Loss: 0.0410\n",
      "Epoch 383/632 completed in 2.19 seconds.\n"
     ]
    },
    {
     "name": "stdout",
     "output_type": "stream",
     "text": [
      "Epoch [384/632], Train Loss: 0.0062, Val Loss: 0.0670\n",
      "Epoch 384/632 completed in 2.82 seconds.\n"
     ]
    },
    {
     "name": "stdout",
     "output_type": "stream",
     "text": [
      "Epoch [385/632], Train Loss: 0.0042, Val Loss: 0.0470\n",
      "Epoch 385/632 completed in 3.63 seconds.\n"
     ]
    },
    {
     "name": "stdout",
     "output_type": "stream",
     "text": [
      "Epoch [386/632], Train Loss: 0.0041, Val Loss: 0.0540\n",
      "Epoch 386/632 completed in 4.65 seconds.\n"
     ]
    },
    {
     "name": "stdout",
     "output_type": "stream",
     "text": [
      "Epoch [387/632], Train Loss: 0.0039, Val Loss: 0.0560\n",
      "Epoch 387/632 completed in 2.23 seconds.\n"
     ]
    },
    {
     "name": "stdout",
     "output_type": "stream",
     "text": [
      "Epoch [388/632], Train Loss: 0.0041, Val Loss: 0.0443\n",
      "Epoch 388/632 completed in 2.57 seconds.\n"
     ]
    },
    {
     "name": "stdout",
     "output_type": "stream",
     "text": [
      "Epoch [389/632], Train Loss: 0.0041, Val Loss: 0.0475\n",
      "Epoch 389/632 completed in 2.42 seconds.\n"
     ]
    },
    {
     "name": "stdout",
     "output_type": "stream",
     "text": [
      "Epoch [390/632], Train Loss: 0.0040, Val Loss: 0.0487\n",
      "Epoch 390/632 completed in 2.95 seconds.\n"
     ]
    },
    {
     "name": "stdout",
     "output_type": "stream",
     "text": [
      "Epoch [391/632], Train Loss: 0.0036, Val Loss: 0.0517\n",
      "Epoch 391/632 completed in 2.63 seconds.\n"
     ]
    },
    {
     "name": "stdout",
     "output_type": "stream",
     "text": [
      "Epoch [392/632], Train Loss: 0.0035, Val Loss: 0.0458\n",
      "Epoch 392/632 completed in 2.36 seconds.\n"
     ]
    },
    {
     "name": "stdout",
     "output_type": "stream",
     "text": [
      "Epoch [393/632], Train Loss: 0.0034, Val Loss: 0.0472\n",
      "Epoch 393/632 completed in 1.96 seconds.\n"
     ]
    },
    {
     "name": "stdout",
     "output_type": "stream",
     "text": [
      "Epoch [394/632], Train Loss: 0.0044, Val Loss: 0.0684\n",
      "Epoch 394/632 completed in 2.87 seconds.\n"
     ]
    },
    {
     "name": "stdout",
     "output_type": "stream",
     "text": [
      "Epoch [395/632], Train Loss: 0.0039, Val Loss: 0.0606\n",
      "Epoch 395/632 completed in 2.17 seconds.\n"
     ]
    },
    {
     "name": "stdout",
     "output_type": "stream",
     "text": [
      "Epoch [396/632], Train Loss: 0.0040, Val Loss: 0.0487\n",
      "Epoch 396/632 completed in 2.45 seconds.\n"
     ]
    },
    {
     "name": "stdout",
     "output_type": "stream",
     "text": [
      "Epoch [397/632], Train Loss: 0.0040, Val Loss: 0.0501\n",
      "Epoch 397/632 completed in 2.24 seconds.\n"
     ]
    },
    {
     "name": "stdout",
     "output_type": "stream",
     "text": [
      "Epoch [398/632], Train Loss: 0.0035, Val Loss: 0.0522\n",
      "Epoch 398/632 completed in 2.69 seconds.\n"
     ]
    },
    {
     "name": "stdout",
     "output_type": "stream",
     "text": [
      "Epoch [399/632], Train Loss: 0.0037, Val Loss: 0.0567\n",
      "Epoch 399/632 completed in 1.98 seconds.\n"
     ]
    },
    {
     "name": "stdout",
     "output_type": "stream",
     "text": [
      "Epoch [400/632], Train Loss: 0.0036, Val Loss: 0.0488\n",
      "Model saved: ./output_model/best_model_epoch_400.pth\n",
      "Epoch 400/632 completed in 2.00 seconds.\n"
     ]
    },
    {
     "name": "stdout",
     "output_type": "stream",
     "text": [
      "Epoch [401/632], Train Loss: 0.0038, Val Loss: 0.0466\n",
      "Epoch 401/632 completed in 2.58 seconds.\n"
     ]
    },
    {
     "name": "stdout",
     "output_type": "stream",
     "text": [
      "Epoch [402/632], Train Loss: 0.0033, Val Loss: 0.0522\n",
      "Epoch 402/632 completed in 2.11 seconds.\n"
     ]
    },
    {
     "name": "stdout",
     "output_type": "stream",
     "text": [
      "Epoch [403/632], Train Loss: 0.0037, Val Loss: 0.0561\n",
      "Epoch 403/632 completed in 2.97 seconds.\n"
     ]
    },
    {
     "name": "stdout",
     "output_type": "stream",
     "text": [
      "Epoch [404/632], Train Loss: 0.0044, Val Loss: 0.0575\n",
      "Epoch 404/632 completed in 2.79 seconds.\n"
     ]
    },
    {
     "name": "stdout",
     "output_type": "stream",
     "text": [
      "Epoch [405/632], Train Loss: 0.0048, Val Loss: 0.0518\n",
      "Epoch 405/632 completed in 2.33 seconds.\n"
     ]
    },
    {
     "name": "stdout",
     "output_type": "stream",
     "text": [
      "Epoch [406/632], Train Loss: 0.0055, Val Loss: 0.0495\n",
      "Epoch 406/632 completed in 2.38 seconds.\n"
     ]
    },
    {
     "name": "stdout",
     "output_type": "stream",
     "text": [
      "Epoch [407/632], Train Loss: 0.0037, Val Loss: 0.0596\n",
      "Epoch 407/632 completed in 2.96 seconds.\n"
     ]
    },
    {
     "name": "stdout",
     "output_type": "stream",
     "text": [
      "Epoch [408/632], Train Loss: 0.0036, Val Loss: 0.0537\n",
      "Epoch 408/632 completed in 2.72 seconds.\n"
     ]
    },
    {
     "name": "stdout",
     "output_type": "stream",
     "text": [
      "Epoch [409/632], Train Loss: 0.0032, Val Loss: 0.0593\n",
      "Epoch 409/632 completed in 2.31 seconds.\n"
     ]
    },
    {
     "name": "stdout",
     "output_type": "stream",
     "text": [
      "Epoch [410/632], Train Loss: 0.0045, Val Loss: 0.0642\n",
      "Epoch 410/632 completed in 2.11 seconds.\n"
     ]
    },
    {
     "name": "stdout",
     "output_type": "stream",
     "text": [
      "Epoch [411/632], Train Loss: 0.0053, Val Loss: 0.0447\n",
      "Epoch 411/632 completed in 3.09 seconds.\n"
     ]
    },
    {
     "name": "stdout",
     "output_type": "stream",
     "text": [
      "Epoch [412/632], Train Loss: 0.0037, Val Loss: 0.0585\n",
      "Epoch 412/632 completed in 2.48 seconds.\n"
     ]
    },
    {
     "name": "stdout",
     "output_type": "stream",
     "text": [
      "Epoch [413/632], Train Loss: 0.0035, Val Loss: 0.0633\n",
      "Epoch 413/632 completed in 2.56 seconds.\n"
     ]
    },
    {
     "name": "stdout",
     "output_type": "stream",
     "text": [
      "Epoch [414/632], Train Loss: 0.0032, Val Loss: 0.0511\n",
      "Epoch 414/632 completed in 1.81 seconds.\n"
     ]
    },
    {
     "name": "stdout",
     "output_type": "stream",
     "text": [
      "Epoch [415/632], Train Loss: 0.0037, Val Loss: 0.0471\n",
      "Epoch 415/632 completed in 3.38 seconds.\n"
     ]
    },
    {
     "name": "stdout",
     "output_type": "stream",
     "text": [
      "Epoch [416/632], Train Loss: 0.0034, Val Loss: 0.0579\n",
      "Epoch 416/632 completed in 3.15 seconds.\n"
     ]
    },
    {
     "name": "stdout",
     "output_type": "stream",
     "text": [
      "Epoch [417/632], Train Loss: 0.0031, Val Loss: 0.0523\n",
      "Epoch 417/632 completed in 2.42 seconds.\n"
     ]
    },
    {
     "name": "stdout",
     "output_type": "stream",
     "text": [
      "Epoch [418/632], Train Loss: 0.0034, Val Loss: 0.0445\n",
      "Epoch 418/632 completed in 2.69 seconds.\n"
     ]
    },
    {
     "name": "stdout",
     "output_type": "stream",
     "text": [
      "Epoch [419/632], Train Loss: 0.0035, Val Loss: 0.0528\n",
      "Epoch 419/632 completed in 3.23 seconds.\n"
     ]
    },
    {
     "name": "stdout",
     "output_type": "stream",
     "text": [
      "Epoch [420/632], Train Loss: 0.0031, Val Loss: 0.0639\n",
      "Epoch 420/632 completed in 1.95 seconds.\n"
     ]
    },
    {
     "name": "stdout",
     "output_type": "stream",
     "text": [
      "Epoch [421/632], Train Loss: 0.0034, Val Loss: 0.0501\n",
      "Epoch 421/632 completed in 2.87 seconds.\n"
     ]
    },
    {
     "name": "stdout",
     "output_type": "stream",
     "text": [
      "Epoch [422/632], Train Loss: 0.0035, Val Loss: 0.0501\n",
      "Epoch 422/632 completed in 2.53 seconds.\n"
     ]
    },
    {
     "name": "stdout",
     "output_type": "stream",
     "text": [
      "Epoch [423/632], Train Loss: 0.0031, Val Loss: 0.0631\n",
      "Epoch 423/632 completed in 2.62 seconds.\n"
     ]
    },
    {
     "name": "stdout",
     "output_type": "stream",
     "text": [
      "Epoch [424/632], Train Loss: 0.0039, Val Loss: 0.0557\n",
      "Epoch 424/632 completed in 2.00 seconds.\n"
     ]
    },
    {
     "name": "stdout",
     "output_type": "stream",
     "text": [
      "Epoch [425/632], Train Loss: 0.0034, Val Loss: 0.0534\n",
      "Epoch 425/632 completed in 3.68 seconds.\n"
     ]
    },
    {
     "name": "stdout",
     "output_type": "stream",
     "text": [
      "Epoch [426/632], Train Loss: 0.0048, Val Loss: 0.0453\n",
      "Epoch 426/632 completed in 2.53 seconds.\n"
     ]
    },
    {
     "name": "stdout",
     "output_type": "stream",
     "text": [
      "Epoch [427/632], Train Loss: 0.0040, Val Loss: 0.0503\n",
      "Epoch 427/632 completed in 2.52 seconds.\n"
     ]
    },
    {
     "name": "stdout",
     "output_type": "stream",
     "text": [
      "Epoch [428/632], Train Loss: 0.0045, Val Loss: 0.0472\n",
      "Epoch 428/632 completed in 2.10 seconds.\n"
     ]
    },
    {
     "name": "stdout",
     "output_type": "stream",
     "text": [
      "Epoch [429/632], Train Loss: 0.0052, Val Loss: 0.0529\n",
      "Epoch 429/632 completed in 2.60 seconds.\n"
     ]
    },
    {
     "name": "stdout",
     "output_type": "stream",
     "text": [
      "Epoch [430/632], Train Loss: 0.0039, Val Loss: 0.0623\n",
      "Epoch 430/632 completed in 2.87 seconds.\n"
     ]
    },
    {
     "name": "stdout",
     "output_type": "stream",
     "text": [
      "Epoch [431/632], Train Loss: 0.0043, Val Loss: 0.0542\n",
      "Epoch 431/632 completed in 2.52 seconds.\n"
     ]
    },
    {
     "name": "stdout",
     "output_type": "stream",
     "text": [
      "Epoch [432/632], Train Loss: 0.0040, Val Loss: 0.0606\n",
      "Epoch 432/632 completed in 2.21 seconds.\n"
     ]
    },
    {
     "name": "stdout",
     "output_type": "stream",
     "text": [
      "Epoch [433/632], Train Loss: 0.0038, Val Loss: 0.0370\n",
      "Epoch 433/632 completed in 3.06 seconds.\n"
     ]
    },
    {
     "name": "stdout",
     "output_type": "stream",
     "text": [
      "Epoch [434/632], Train Loss: 0.0032, Val Loss: 0.0547\n",
      "Epoch 434/632 completed in 2.17 seconds.\n"
     ]
    },
    {
     "name": "stdout",
     "output_type": "stream",
     "text": [
      "Epoch [435/632], Train Loss: 0.0033, Val Loss: 0.0415\n",
      "Epoch 435/632 completed in 2.43 seconds.\n"
     ]
    },
    {
     "name": "stdout",
     "output_type": "stream",
     "text": [
      "Epoch [436/632], Train Loss: 0.0027, Val Loss: 0.0536\n",
      "Epoch 436/632 completed in 2.62 seconds.\n"
     ]
    },
    {
     "name": "stdout",
     "output_type": "stream",
     "text": [
      "Epoch [437/632], Train Loss: 0.0029, Val Loss: 0.0520\n",
      "Epoch 437/632 completed in 2.74 seconds.\n"
     ]
    },
    {
     "name": "stdout",
     "output_type": "stream",
     "text": [
      "Epoch [438/632], Train Loss: 0.0036, Val Loss: 0.0668\n",
      "Epoch 438/632 completed in 2.48 seconds.\n"
     ]
    },
    {
     "name": "stdout",
     "output_type": "stream",
     "text": [
      "Epoch [439/632], Train Loss: 0.0035, Val Loss: 0.0501\n",
      "Epoch 439/632 completed in 3.00 seconds.\n"
     ]
    },
    {
     "name": "stdout",
     "output_type": "stream",
     "text": [
      "Epoch [440/632], Train Loss: 0.0038, Val Loss: 0.0464\n",
      "Epoch 440/632 completed in 2.76 seconds.\n"
     ]
    },
    {
     "name": "stdout",
     "output_type": "stream",
     "text": [
      "Epoch [441/632], Train Loss: 0.0038, Val Loss: 0.0440\n",
      "Epoch 441/632 completed in 2.67 seconds.\n"
     ]
    },
    {
     "name": "stdout",
     "output_type": "stream",
     "text": [
      "Epoch [442/632], Train Loss: 0.0035, Val Loss: 0.0520\n",
      "Epoch 442/632 completed in 2.92 seconds.\n"
     ]
    },
    {
     "name": "stdout",
     "output_type": "stream",
     "text": [
      "Epoch [443/632], Train Loss: 0.0032, Val Loss: 0.0475\n",
      "Epoch 443/632 completed in 2.35 seconds.\n"
     ]
    },
    {
     "name": "stdout",
     "output_type": "stream",
     "text": [
      "Epoch [444/632], Train Loss: 0.0038, Val Loss: 0.0565\n",
      "Epoch 444/632 completed in 2.49 seconds.\n"
     ]
    },
    {
     "name": "stdout",
     "output_type": "stream",
     "text": [
      "Epoch [445/632], Train Loss: 0.0029, Val Loss: 0.0528\n",
      "Epoch 445/632 completed in 2.32 seconds.\n"
     ]
    },
    {
     "name": "stdout",
     "output_type": "stream",
     "text": [
      "Epoch [446/632], Train Loss: 0.0033, Val Loss: 0.0496\n",
      "Epoch 446/632 completed in 2.93 seconds.\n"
     ]
    },
    {
     "name": "stdout",
     "output_type": "stream",
     "text": [
      "Epoch [447/632], Train Loss: 0.0033, Val Loss: 0.0547\n",
      "Epoch 447/632 completed in 2.50 seconds.\n"
     ]
    },
    {
     "name": "stdout",
     "output_type": "stream",
     "text": [
      "Epoch [448/632], Train Loss: 0.0032, Val Loss: 0.0566\n",
      "Epoch 448/632 completed in 2.38 seconds.\n"
     ]
    },
    {
     "name": "stdout",
     "output_type": "stream",
     "text": [
      "Epoch [449/632], Train Loss: 0.0032, Val Loss: 0.0594\n",
      "Epoch 449/632 completed in 2.57 seconds.\n"
     ]
    },
    {
     "name": "stdout",
     "output_type": "stream",
     "text": [
      "Epoch [450/632], Train Loss: 0.0033, Val Loss: 0.0529\n",
      "Epoch 450/632 completed in 2.67 seconds.\n"
     ]
    },
    {
     "name": "stdout",
     "output_type": "stream",
     "text": [
      "Epoch [451/632], Train Loss: 0.0032, Val Loss: 0.0492\n",
      "Epoch 451/632 completed in 2.51 seconds.\n"
     ]
    },
    {
     "name": "stdout",
     "output_type": "stream",
     "text": [
      "Epoch [452/632], Train Loss: 0.0030, Val Loss: 0.0463\n",
      "Epoch 452/632 completed in 2.37 seconds.\n"
     ]
    },
    {
     "name": "stdout",
     "output_type": "stream",
     "text": [
      "Epoch [453/632], Train Loss: 0.0030, Val Loss: 0.0573\n",
      "Epoch 453/632 completed in 2.96 seconds.\n"
     ]
    },
    {
     "name": "stdout",
     "output_type": "stream",
     "text": [
      "Epoch [454/632], Train Loss: 0.0028, Val Loss: 0.0462\n",
      "Epoch 454/632 completed in 2.53 seconds.\n"
     ]
    },
    {
     "name": "stdout",
     "output_type": "stream",
     "text": [
      "Epoch [455/632], Train Loss: 0.0034, Val Loss: 0.0472\n",
      "Epoch 455/632 completed in 2.48 seconds.\n"
     ]
    },
    {
     "name": "stdout",
     "output_type": "stream",
     "text": [
      "Epoch [456/632], Train Loss: 0.0038, Val Loss: 0.0581\n",
      "Epoch 456/632 completed in 3.09 seconds.\n"
     ]
    },
    {
     "name": "stdout",
     "output_type": "stream",
     "text": [
      "Epoch [457/632], Train Loss: 0.0031, Val Loss: 0.0576\n",
      "Epoch 457/632 completed in 1.90 seconds.\n"
     ]
    },
    {
     "name": "stdout",
     "output_type": "stream",
     "text": [
      "Epoch [458/632], Train Loss: 0.0029, Val Loss: 0.0604\n",
      "Epoch 458/632 completed in 2.50 seconds.\n"
     ]
    },
    {
     "name": "stdout",
     "output_type": "stream",
     "text": [
      "Epoch [459/632], Train Loss: 0.0035, Val Loss: 0.0494\n",
      "Epoch 459/632 completed in 2.11 seconds.\n"
     ]
    },
    {
     "name": "stdout",
     "output_type": "stream",
     "text": [
      "Epoch [460/632], Train Loss: 0.0034, Val Loss: 0.0490\n",
      "Epoch 460/632 completed in 2.69 seconds.\n"
     ]
    },
    {
     "name": "stdout",
     "output_type": "stream",
     "text": [
      "Epoch [461/632], Train Loss: 0.0032, Val Loss: 0.0487\n",
      "Epoch 461/632 completed in 2.34 seconds.\n"
     ]
    },
    {
     "name": "stdout",
     "output_type": "stream",
     "text": [
      "Epoch [462/632], Train Loss: 0.0031, Val Loss: 0.0569\n",
      "Epoch 462/632 completed in 2.50 seconds.\n"
     ]
    },
    {
     "name": "stdout",
     "output_type": "stream",
     "text": [
      "Epoch [463/632], Train Loss: 0.0031, Val Loss: 0.0507\n",
      "Epoch 463/632 completed in 2.45 seconds.\n"
     ]
    },
    {
     "name": "stdout",
     "output_type": "stream",
     "text": [
      "Epoch [464/632], Train Loss: 0.0037, Val Loss: 0.0526\n",
      "Epoch 464/632 completed in 2.47 seconds.\n"
     ]
    },
    {
     "name": "stdout",
     "output_type": "stream",
     "text": [
      "Epoch [465/632], Train Loss: 0.0031, Val Loss: 0.0547\n",
      "Epoch 465/632 completed in 2.49 seconds.\n"
     ]
    },
    {
     "name": "stdout",
     "output_type": "stream",
     "text": [
      "Epoch [466/632], Train Loss: 0.0035, Val Loss: 0.0470\n",
      "Epoch 466/632 completed in 2.26 seconds.\n"
     ]
    },
    {
     "name": "stdout",
     "output_type": "stream",
     "text": [
      "Epoch [467/632], Train Loss: 0.0033, Val Loss: 0.0478\n",
      "Epoch 467/632 completed in 2.29 seconds.\n"
     ]
    },
    {
     "name": "stdout",
     "output_type": "stream",
     "text": [
      "Epoch [468/632], Train Loss: 0.0032, Val Loss: 0.0562\n",
      "Epoch 468/632 completed in 2.56 seconds.\n"
     ]
    },
    {
     "name": "stdout",
     "output_type": "stream",
     "text": [
      "Epoch [469/632], Train Loss: 0.0034, Val Loss: 0.0557\n",
      "Epoch 469/632 completed in 2.22 seconds.\n"
     ]
    },
    {
     "name": "stdout",
     "output_type": "stream",
     "text": [
      "Epoch [470/632], Train Loss: 0.0029, Val Loss: 0.0613\n",
      "Epoch 470/632 completed in 2.29 seconds.\n"
     ]
    },
    {
     "name": "stdout",
     "output_type": "stream",
     "text": [
      "Epoch [471/632], Train Loss: 0.0028, Val Loss: 0.0615\n",
      "Epoch 471/632 completed in 2.94 seconds.\n"
     ]
    },
    {
     "name": "stdout",
     "output_type": "stream",
     "text": [
      "Epoch [472/632], Train Loss: 0.0035, Val Loss: 0.0595\n",
      "Epoch 472/632 completed in 2.38 seconds.\n"
     ]
    },
    {
     "name": "stdout",
     "output_type": "stream",
     "text": [
      "Epoch [473/632], Train Loss: 0.0029, Val Loss: 0.0559\n",
      "Epoch 473/632 completed in 2.20 seconds.\n"
     ]
    },
    {
     "name": "stdout",
     "output_type": "stream",
     "text": [
      "Epoch [474/632], Train Loss: 0.0032, Val Loss: 0.0605\n",
      "Epoch 474/632 completed in 2.73 seconds.\n"
     ]
    },
    {
     "name": "stdout",
     "output_type": "stream",
     "text": [
      "Epoch [475/632], Train Loss: 0.0034, Val Loss: 0.0562\n",
      "Epoch 475/632 completed in 2.62 seconds.\n"
     ]
    },
    {
     "name": "stdout",
     "output_type": "stream",
     "text": [
      "Epoch [476/632], Train Loss: 0.0033, Val Loss: 0.0521\n",
      "Epoch 476/632 completed in 2.81 seconds.\n"
     ]
    },
    {
     "name": "stdout",
     "output_type": "stream",
     "text": [
      "Epoch [477/632], Train Loss: 0.0035, Val Loss: 0.0530\n",
      "Epoch 477/632 completed in 2.72 seconds.\n"
     ]
    },
    {
     "name": "stdout",
     "output_type": "stream",
     "text": [
      "Epoch [478/632], Train Loss: 0.0031, Val Loss: 0.0497\n",
      "Epoch 478/632 completed in 2.68 seconds.\n"
     ]
    },
    {
     "name": "stdout",
     "output_type": "stream",
     "text": [
      "Epoch [479/632], Train Loss: 0.0032, Val Loss: 0.0653\n",
      "Epoch 479/632 completed in 2.66 seconds.\n"
     ]
    },
    {
     "name": "stdout",
     "output_type": "stream",
     "text": [
      "Epoch [480/632], Train Loss: 0.0034, Val Loss: 0.0674\n",
      "Epoch 480/632 completed in 2.28 seconds.\n"
     ]
    },
    {
     "name": "stdout",
     "output_type": "stream",
     "text": [
      "Epoch [481/632], Train Loss: 0.0032, Val Loss: 0.0550\n",
      "Epoch 481/632 completed in 2.66 seconds.\n"
     ]
    },
    {
     "name": "stdout",
     "output_type": "stream",
     "text": [
      "Epoch [482/632], Train Loss: 0.0032, Val Loss: 0.0620\n",
      "Epoch 482/632 completed in 2.55 seconds.\n"
     ]
    },
    {
     "name": "stdout",
     "output_type": "stream",
     "text": [
      "Epoch [483/632], Train Loss: 0.0038, Val Loss: 0.0619\n",
      "Epoch 483/632 completed in 2.61 seconds.\n"
     ]
    },
    {
     "name": "stdout",
     "output_type": "stream",
     "text": [
      "Epoch [484/632], Train Loss: 0.0042, Val Loss: 0.0603\n",
      "Epoch 484/632 completed in 2.35 seconds.\n"
     ]
    },
    {
     "name": "stdout",
     "output_type": "stream",
     "text": [
      "Epoch [485/632], Train Loss: 0.0036, Val Loss: 0.0571\n",
      "Epoch 485/632 completed in 3.05 seconds.\n"
     ]
    },
    {
     "name": "stdout",
     "output_type": "stream",
     "text": [
      "Epoch [486/632], Train Loss: 0.0028, Val Loss: 0.0538\n",
      "Epoch 486/632 completed in 2.68 seconds.\n"
     ]
    },
    {
     "name": "stdout",
     "output_type": "stream",
     "text": [
      "Epoch [487/632], Train Loss: 0.0026, Val Loss: 0.0585\n",
      "Epoch 487/632 completed in 2.73 seconds.\n"
     ]
    },
    {
     "name": "stdout",
     "output_type": "stream",
     "text": [
      "Epoch [488/632], Train Loss: 0.0028, Val Loss: 0.0598\n",
      "Epoch 488/632 completed in 2.71 seconds.\n"
     ]
    },
    {
     "name": "stdout",
     "output_type": "stream",
     "text": [
      "Epoch [489/632], Train Loss: 0.0029, Val Loss: 0.0563\n",
      "Epoch 489/632 completed in 2.14 seconds.\n"
     ]
    },
    {
     "name": "stdout",
     "output_type": "stream",
     "text": [
      "Epoch [490/632], Train Loss: 0.0036, Val Loss: 0.0607\n",
      "Epoch 490/632 completed in 2.91 seconds.\n"
     ]
    },
    {
     "name": "stdout",
     "output_type": "stream",
     "text": [
      "Epoch [491/632], Train Loss: 0.0032, Val Loss: 0.0588\n",
      "Epoch 491/632 completed in 2.77 seconds.\n"
     ]
    },
    {
     "name": "stdout",
     "output_type": "stream",
     "text": [
      "Epoch [492/632], Train Loss: 0.0029, Val Loss: 0.0568\n",
      "Epoch 492/632 completed in 2.49 seconds.\n"
     ]
    },
    {
     "name": "stdout",
     "output_type": "stream",
     "text": [
      "Epoch [493/632], Train Loss: 0.0042, Val Loss: 0.0603\n",
      "Epoch 493/632 completed in 2.68 seconds.\n"
     ]
    },
    {
     "name": "stdout",
     "output_type": "stream",
     "text": [
      "Epoch [494/632], Train Loss: 0.0031, Val Loss: 0.0683\n",
      "Epoch 494/632 completed in 3.68 seconds.\n"
     ]
    },
    {
     "name": "stdout",
     "output_type": "stream",
     "text": [
      "Epoch [495/632], Train Loss: 0.0036, Val Loss: 0.0478\n",
      "Epoch 495/632 completed in 3.04 seconds.\n"
     ]
    },
    {
     "name": "stdout",
     "output_type": "stream",
     "text": [
      "Epoch [496/632], Train Loss: 0.0040, Val Loss: 0.0637\n",
      "Epoch 496/632 completed in 3.46 seconds.\n"
     ]
    },
    {
     "name": "stdout",
     "output_type": "stream",
     "text": [
      "Epoch [497/632], Train Loss: 0.0030, Val Loss: 0.0680\n",
      "Epoch 497/632 completed in 2.45 seconds.\n"
     ]
    },
    {
     "name": "stdout",
     "output_type": "stream",
     "text": [
      "Epoch [498/632], Train Loss: 0.0028, Val Loss: 0.0587\n",
      "Epoch 498/632 completed in 3.33 seconds.\n"
     ]
    },
    {
     "name": "stdout",
     "output_type": "stream",
     "text": [
      "Epoch [499/632], Train Loss: 0.0030, Val Loss: 0.0562\n",
      "Epoch 499/632 completed in 3.53 seconds.\n"
     ]
    },
    {
     "name": "stdout",
     "output_type": "stream",
     "text": [
      "Epoch [500/632], Train Loss: 0.0025, Val Loss: 0.0637\n",
      "Model saved: ./output_model/best_model_epoch_500.pth\n",
      "Epoch 500/632 completed in 2.72 seconds.\n"
     ]
    },
    {
     "name": "stdout",
     "output_type": "stream",
     "text": [
      "Epoch [501/632], Train Loss: 0.0035, Val Loss: 0.0758\n",
      "Epoch 501/632 completed in 3.01 seconds.\n"
     ]
    },
    {
     "name": "stdout",
     "output_type": "stream",
     "text": [
      "Epoch [502/632], Train Loss: 0.0032, Val Loss: 0.0617\n",
      "Epoch 502/632 completed in 3.56 seconds.\n"
     ]
    },
    {
     "name": "stdout",
     "output_type": "stream",
     "text": [
      "Epoch [503/632], Train Loss: 0.0028, Val Loss: 0.0582\n",
      "Epoch 503/632 completed in 2.73 seconds.\n"
     ]
    },
    {
     "name": "stdout",
     "output_type": "stream",
     "text": [
      "Epoch [504/632], Train Loss: 0.0031, Val Loss: 0.0663\n",
      "Epoch 504/632 completed in 2.93 seconds.\n"
     ]
    },
    {
     "name": "stdout",
     "output_type": "stream",
     "text": [
      "Epoch [505/632], Train Loss: 0.0029, Val Loss: 0.0559\n",
      "Epoch 505/632 completed in 2.45 seconds.\n"
     ]
    },
    {
     "name": "stdout",
     "output_type": "stream",
     "text": [
      "Epoch [506/632], Train Loss: 0.0033, Val Loss: 0.0560\n",
      "Epoch 506/632 completed in 2.92 seconds.\n"
     ]
    },
    {
     "name": "stdout",
     "output_type": "stream",
     "text": [
      "Epoch [507/632], Train Loss: 0.0036, Val Loss: 0.0649\n",
      "Epoch 507/632 completed in 2.71 seconds.\n"
     ]
    },
    {
     "name": "stdout",
     "output_type": "stream",
     "text": [
      "Epoch [508/632], Train Loss: 0.0030, Val Loss: 0.0557\n",
      "Epoch 508/632 completed in 3.06 seconds.\n"
     ]
    },
    {
     "name": "stdout",
     "output_type": "stream",
     "text": [
      "Epoch [509/632], Train Loss: 0.0029, Val Loss: 0.0638\n",
      "Epoch 509/632 completed in 2.79 seconds.\n"
     ]
    },
    {
     "name": "stdout",
     "output_type": "stream",
     "text": [
      "Epoch [510/632], Train Loss: 0.0031, Val Loss: 0.0456\n",
      "Epoch 510/632 completed in 2.47 seconds.\n"
     ]
    },
    {
     "name": "stdout",
     "output_type": "stream",
     "text": [
      "Epoch [511/632], Train Loss: 0.0035, Val Loss: 0.0611\n",
      "Epoch 511/632 completed in 2.44 seconds.\n"
     ]
    },
    {
     "name": "stdout",
     "output_type": "stream",
     "text": [
      "Epoch [512/632], Train Loss: 0.0029, Val Loss: 0.0644\n",
      "Epoch 512/632 completed in 2.84 seconds.\n"
     ]
    },
    {
     "name": "stdout",
     "output_type": "stream",
     "text": [
      "Epoch [513/632], Train Loss: 0.0025, Val Loss: 0.0637\n",
      "Epoch 513/632 completed in 2.84 seconds.\n"
     ]
    },
    {
     "name": "stdout",
     "output_type": "stream",
     "text": [
      "Epoch [514/632], Train Loss: 0.0024, Val Loss: 0.0622\n",
      "Epoch 514/632 completed in 3.28 seconds.\n"
     ]
    },
    {
     "name": "stdout",
     "output_type": "stream",
     "text": [
      "Epoch [515/632], Train Loss: 0.0025, Val Loss: 0.0659\n",
      "Epoch 515/632 completed in 2.85 seconds.\n"
     ]
    },
    {
     "name": "stdout",
     "output_type": "stream",
     "text": [
      "Epoch [516/632], Train Loss: 0.0033, Val Loss: 0.0610\n",
      "Epoch 516/632 completed in 2.28 seconds.\n"
     ]
    },
    {
     "name": "stdout",
     "output_type": "stream",
     "text": [
      "Epoch [517/632], Train Loss: 0.0036, Val Loss: 0.0589\n",
      "Epoch 517/632 completed in 2.32 seconds.\n"
     ]
    },
    {
     "name": "stdout",
     "output_type": "stream",
     "text": [
      "Epoch [518/632], Train Loss: 0.0032, Val Loss: 0.0525\n",
      "Epoch 518/632 completed in 2.22 seconds.\n"
     ]
    },
    {
     "name": "stdout",
     "output_type": "stream",
     "text": [
      "Epoch [519/632], Train Loss: 0.0026, Val Loss: 0.0602\n",
      "Epoch 519/632 completed in 3.47 seconds.\n"
     ]
    },
    {
     "name": "stdout",
     "output_type": "stream",
     "text": [
      "Epoch [520/632], Train Loss: 0.0024, Val Loss: 0.0646\n",
      "Epoch 520/632 completed in 3.12 seconds.\n"
     ]
    },
    {
     "name": "stdout",
     "output_type": "stream",
     "text": [
      "Epoch [521/632], Train Loss: 0.0029, Val Loss: 0.0663\n",
      "Epoch 521/632 completed in 3.09 seconds.\n"
     ]
    },
    {
     "name": "stdout",
     "output_type": "stream",
     "text": [
      "Epoch [522/632], Train Loss: 0.0027, Val Loss: 0.0591\n",
      "Epoch 522/632 completed in 2.62 seconds.\n"
     ]
    },
    {
     "name": "stdout",
     "output_type": "stream",
     "text": [
      "Epoch [523/632], Train Loss: 0.0032, Val Loss: 0.0643\n",
      "Epoch 523/632 completed in 2.59 seconds.\n"
     ]
    },
    {
     "name": "stdout",
     "output_type": "stream",
     "text": [
      "Epoch [524/632], Train Loss: 0.0033, Val Loss: 0.0600\n",
      "Epoch 524/632 completed in 3.23 seconds.\n"
     ]
    },
    {
     "name": "stdout",
     "output_type": "stream",
     "text": [
      "Epoch [525/632], Train Loss: 0.0029, Val Loss: 0.0647\n",
      "Epoch 525/632 completed in 2.59 seconds.\n"
     ]
    },
    {
     "name": "stdout",
     "output_type": "stream",
     "text": [
      "Epoch [526/632], Train Loss: 0.0028, Val Loss: 0.0647\n",
      "Epoch 526/632 completed in 3.22 seconds.\n"
     ]
    },
    {
     "name": "stdout",
     "output_type": "stream",
     "text": [
      "Epoch [527/632], Train Loss: 0.0026, Val Loss: 0.0717\n",
      "Epoch 527/632 completed in 2.47 seconds.\n"
     ]
    },
    {
     "name": "stdout",
     "output_type": "stream",
     "text": [
      "Epoch [528/632], Train Loss: 0.0028, Val Loss: 0.0613\n",
      "Epoch 528/632 completed in 3.79 seconds.\n"
     ]
    },
    {
     "name": "stdout",
     "output_type": "stream",
     "text": [
      "Epoch [529/632], Train Loss: 0.0026, Val Loss: 0.0721\n",
      "Epoch 529/632 completed in 3.96 seconds.\n"
     ]
    },
    {
     "name": "stdout",
     "output_type": "stream",
     "text": [
      "Epoch [530/632], Train Loss: 0.0034, Val Loss: 0.0799\n",
      "Epoch 530/632 completed in 3.66 seconds.\n"
     ]
    },
    {
     "name": "stdout",
     "output_type": "stream",
     "text": [
      "Epoch [531/632], Train Loss: 0.0041, Val Loss: 0.0682\n",
      "Epoch 531/632 completed in 4.15 seconds.\n"
     ]
    },
    {
     "name": "stdout",
     "output_type": "stream",
     "text": [
      "Epoch [532/632], Train Loss: 0.0042, Val Loss: 0.0782\n",
      "Epoch 532/632 completed in 2.76 seconds.\n"
     ]
    },
    {
     "name": "stdout",
     "output_type": "stream",
     "text": [
      "Epoch [533/632], Train Loss: 0.0027, Val Loss: 0.0653\n",
      "Epoch 533/632 completed in 3.31 seconds.\n"
     ]
    },
    {
     "name": "stdout",
     "output_type": "stream",
     "text": [
      "Epoch [534/632], Train Loss: 0.0033, Val Loss: 0.0594\n",
      "Epoch 534/632 completed in 2.53 seconds.\n"
     ]
    },
    {
     "name": "stdout",
     "output_type": "stream",
     "text": [
      "Epoch [535/632], Train Loss: 0.0030, Val Loss: 0.0571\n",
      "Epoch 535/632 completed in 3.45 seconds.\n"
     ]
    },
    {
     "name": "stdout",
     "output_type": "stream",
     "text": [
      "Epoch [536/632], Train Loss: 0.0031, Val Loss: 0.0646\n",
      "Epoch 536/632 completed in 2.49 seconds.\n"
     ]
    },
    {
     "name": "stdout",
     "output_type": "stream",
     "text": [
      "Epoch [537/632], Train Loss: 0.0026, Val Loss: 0.0694\n",
      "Epoch 537/632 completed in 3.50 seconds.\n"
     ]
    },
    {
     "name": "stdout",
     "output_type": "stream",
     "text": [
      "Epoch [538/632], Train Loss: 0.0026, Val Loss: 0.0636\n",
      "Epoch 538/632 completed in 3.52 seconds.\n"
     ]
    },
    {
     "name": "stdout",
     "output_type": "stream",
     "text": [
      "Epoch [539/632], Train Loss: 0.0025, Val Loss: 0.0729\n",
      "Epoch 539/632 completed in 2.16 seconds.\n"
     ]
    },
    {
     "name": "stdout",
     "output_type": "stream",
     "text": [
      "Epoch [540/632], Train Loss: 0.0031, Val Loss: 0.0586\n",
      "Epoch 540/632 completed in 2.50 seconds.\n"
     ]
    },
    {
     "name": "stdout",
     "output_type": "stream",
     "text": [
      "Epoch [541/632], Train Loss: 0.0025, Val Loss: 0.0630\n",
      "Epoch 541/632 completed in 3.45 seconds.\n"
     ]
    },
    {
     "name": "stdout",
     "output_type": "stream",
     "text": [
      "Epoch [542/632], Train Loss: 0.0025, Val Loss: 0.0636\n",
      "Epoch 542/632 completed in 3.63 seconds.\n"
     ]
    },
    {
     "name": "stdout",
     "output_type": "stream",
     "text": [
      "Epoch [543/632], Train Loss: 0.0034, Val Loss: 0.0609\n",
      "Epoch 543/632 completed in 2.29 seconds.\n"
     ]
    },
    {
     "name": "stdout",
     "output_type": "stream",
     "text": [
      "Epoch [544/632], Train Loss: 0.0029, Val Loss: 0.0527\n",
      "Epoch 544/632 completed in 3.16 seconds.\n"
     ]
    },
    {
     "name": "stdout",
     "output_type": "stream",
     "text": [
      "Epoch [545/632], Train Loss: 0.0030, Val Loss: 0.0685\n",
      "Epoch 545/632 completed in 5.95 seconds.\n"
     ]
    },
    {
     "name": "stdout",
     "output_type": "stream",
     "text": [
      "Epoch [546/632], Train Loss: 0.0027, Val Loss: 0.0754\n",
      "Epoch 546/632 completed in 4.19 seconds.\n"
     ]
    },
    {
     "name": "stdout",
     "output_type": "stream",
     "text": [
      "Epoch [547/632], Train Loss: 0.0024, Val Loss: 0.0664\n",
      "Epoch 547/632 completed in 2.44 seconds.\n"
     ]
    },
    {
     "name": "stdout",
     "output_type": "stream",
     "text": [
      "Epoch [548/632], Train Loss: 0.0028, Val Loss: 0.0702\n",
      "Epoch 548/632 completed in 3.28 seconds.\n"
     ]
    },
    {
     "name": "stdout",
     "output_type": "stream",
     "text": [
      "Epoch [549/632], Train Loss: 0.0028, Val Loss: 0.0683\n",
      "Epoch 549/632 completed in 3.03 seconds.\n"
     ]
    },
    {
     "name": "stdout",
     "output_type": "stream",
     "text": [
      "Epoch [550/632], Train Loss: 0.0027, Val Loss: 0.0751\n",
      "Epoch 550/632 completed in 3.33 seconds.\n"
     ]
    },
    {
     "name": "stdout",
     "output_type": "stream",
     "text": [
      "Epoch [551/632], Train Loss: 0.0028, Val Loss: 0.0703\n",
      "Epoch 551/632 completed in 2.65 seconds.\n"
     ]
    },
    {
     "name": "stdout",
     "output_type": "stream",
     "text": [
      "Epoch [552/632], Train Loss: 0.0026, Val Loss: 0.0695\n",
      "Epoch 552/632 completed in 3.34 seconds.\n"
     ]
    },
    {
     "name": "stdout",
     "output_type": "stream",
     "text": [
      "Epoch [553/632], Train Loss: 0.0032, Val Loss: 0.0693\n",
      "Epoch 553/632 completed in 3.06 seconds.\n"
     ]
    },
    {
     "name": "stdout",
     "output_type": "stream",
     "text": [
      "Epoch [554/632], Train Loss: 0.0032, Val Loss: 0.0704\n",
      "Epoch 554/632 completed in 2.59 seconds.\n"
     ]
    },
    {
     "name": "stdout",
     "output_type": "stream",
     "text": [
      "Epoch [555/632], Train Loss: 0.0029, Val Loss: 0.0686\n",
      "Epoch 555/632 completed in 2.18 seconds.\n"
     ]
    },
    {
     "name": "stdout",
     "output_type": "stream",
     "text": [
      "Epoch [556/632], Train Loss: 0.0024, Val Loss: 0.0643\n",
      "Epoch 556/632 completed in 2.52 seconds.\n"
     ]
    },
    {
     "name": "stdout",
     "output_type": "stream",
     "text": [
      "Epoch [557/632], Train Loss: 0.0024, Val Loss: 0.0717\n",
      "Epoch 557/632 completed in 2.60 seconds.\n"
     ]
    },
    {
     "name": "stdout",
     "output_type": "stream",
     "text": [
      "Epoch [558/632], Train Loss: 0.0034, Val Loss: 0.0568\n",
      "Epoch 558/632 completed in 3.03 seconds.\n"
     ]
    },
    {
     "name": "stdout",
     "output_type": "stream",
     "text": [
      "Epoch [559/632], Train Loss: 0.0030, Val Loss: 0.0613\n",
      "Epoch 559/632 completed in 3.32 seconds.\n"
     ]
    },
    {
     "name": "stdout",
     "output_type": "stream",
     "text": [
      "Epoch [560/632], Train Loss: 0.0024, Val Loss: 0.0658\n",
      "Epoch 560/632 completed in 2.86 seconds.\n"
     ]
    },
    {
     "name": "stdout",
     "output_type": "stream",
     "text": [
      "Epoch [561/632], Train Loss: 0.0023, Val Loss: 0.0663\n",
      "Epoch 561/632 completed in 3.29 seconds.\n"
     ]
    },
    {
     "name": "stdout",
     "output_type": "stream",
     "text": [
      "Epoch [562/632], Train Loss: 0.0025, Val Loss: 0.0681\n",
      "Epoch 562/632 completed in 2.93 seconds.\n"
     ]
    },
    {
     "name": "stdout",
     "output_type": "stream",
     "text": [
      "Epoch [563/632], Train Loss: 0.0028, Val Loss: 0.0698\n",
      "Epoch 563/632 completed in 2.70 seconds.\n"
     ]
    },
    {
     "name": "stdout",
     "output_type": "stream",
     "text": [
      "Epoch [564/632], Train Loss: 0.0027, Val Loss: 0.0745\n",
      "Epoch 564/632 completed in 3.26 seconds.\n"
     ]
    },
    {
     "name": "stdout",
     "output_type": "stream",
     "text": [
      "Epoch [565/632], Train Loss: 0.0033, Val Loss: 0.0733\n",
      "Epoch 565/632 completed in 2.25 seconds.\n"
     ]
    },
    {
     "name": "stdout",
     "output_type": "stream",
     "text": [
      "Epoch [566/632], Train Loss: 0.0025, Val Loss: 0.0601\n",
      "Epoch 566/632 completed in 2.87 seconds.\n"
     ]
    },
    {
     "name": "stdout",
     "output_type": "stream",
     "text": [
      "Epoch [567/632], Train Loss: 0.0026, Val Loss: 0.0642\n",
      "Epoch 567/632 completed in 3.12 seconds.\n"
     ]
    },
    {
     "name": "stdout",
     "output_type": "stream",
     "text": [
      "Epoch [568/632], Train Loss: 0.0029, Val Loss: 0.0724\n",
      "Epoch 568/632 completed in 2.36 seconds.\n"
     ]
    },
    {
     "name": "stdout",
     "output_type": "stream",
     "text": [
      "Epoch [569/632], Train Loss: 0.0025, Val Loss: 0.0717\n",
      "Epoch 569/632 completed in 3.36 seconds.\n"
     ]
    },
    {
     "name": "stdout",
     "output_type": "stream",
     "text": [
      "Epoch [570/632], Train Loss: 0.0030, Val Loss: 0.0874\n",
      "Epoch 570/632 completed in 3.24 seconds.\n"
     ]
    },
    {
     "name": "stdout",
     "output_type": "stream",
     "text": [
      "Epoch [571/632], Train Loss: 0.0028, Val Loss: 0.0606\n",
      "Epoch 571/632 completed in 2.44 seconds.\n"
     ]
    },
    {
     "name": "stdout",
     "output_type": "stream",
     "text": [
      "Epoch [572/632], Train Loss: 0.0028, Val Loss: 0.0760\n",
      "Epoch 572/632 completed in 2.21 seconds.\n"
     ]
    },
    {
     "name": "stdout",
     "output_type": "stream",
     "text": [
      "Epoch [573/632], Train Loss: 0.0031, Val Loss: 0.0724\n",
      "Epoch 573/632 completed in 3.05 seconds.\n"
     ]
    },
    {
     "name": "stdout",
     "output_type": "stream",
     "text": [
      "Epoch [574/632], Train Loss: 0.0028, Val Loss: 0.0752\n",
      "Epoch 574/632 completed in 3.23 seconds.\n"
     ]
    },
    {
     "name": "stdout",
     "output_type": "stream",
     "text": [
      "Epoch [575/632], Train Loss: 0.0027, Val Loss: 0.0657\n",
      "Epoch 575/632 completed in 3.49 seconds.\n"
     ]
    },
    {
     "name": "stdout",
     "output_type": "stream",
     "text": [
      "Epoch [576/632], Train Loss: 0.0030, Val Loss: 0.0816\n",
      "Epoch 576/632 completed in 3.22 seconds.\n"
     ]
    },
    {
     "name": "stdout",
     "output_type": "stream",
     "text": [
      "Epoch [577/632], Train Loss: 0.0026, Val Loss: 0.0739\n",
      "Epoch 577/632 completed in 3.23 seconds.\n"
     ]
    },
    {
     "name": "stdout",
     "output_type": "stream",
     "text": [
      "Epoch [578/632], Train Loss: 0.0027, Val Loss: 0.0865\n",
      "Epoch 578/632 completed in 2.62 seconds.\n"
     ]
    },
    {
     "name": "stdout",
     "output_type": "stream",
     "text": [
      "Epoch [579/632], Train Loss: 0.0025, Val Loss: 0.0724\n",
      "Epoch 579/632 completed in 2.85 seconds.\n"
     ]
    },
    {
     "name": "stdout",
     "output_type": "stream",
     "text": [
      "Epoch [580/632], Train Loss: 0.0022, Val Loss: 0.0604\n",
      "Epoch 580/632 completed in 2.61 seconds.\n"
     ]
    },
    {
     "name": "stdout",
     "output_type": "stream",
     "text": [
      "Epoch [581/632], Train Loss: 0.0026, Val Loss: 0.0791\n",
      "Epoch 581/632 completed in 2.47 seconds.\n"
     ]
    },
    {
     "name": "stdout",
     "output_type": "stream",
     "text": [
      "Epoch [582/632], Train Loss: 0.0022, Val Loss: 0.0761\n",
      "Epoch 582/632 completed in 2.84 seconds.\n"
     ]
    },
    {
     "name": "stdout",
     "output_type": "stream",
     "text": [
      "Epoch [583/632], Train Loss: 0.0027, Val Loss: 0.0685\n",
      "Epoch 583/632 completed in 2.93 seconds.\n"
     ]
    },
    {
     "name": "stdout",
     "output_type": "stream",
     "text": [
      "Epoch [584/632], Train Loss: 0.0034, Val Loss: 0.0786\n",
      "Epoch 584/632 completed in 3.21 seconds.\n"
     ]
    },
    {
     "name": "stdout",
     "output_type": "stream",
     "text": [
      "Epoch [585/632], Train Loss: 0.0029, Val Loss: 0.0700\n",
      "Epoch 585/632 completed in 2.83 seconds.\n"
     ]
    },
    {
     "name": "stdout",
     "output_type": "stream",
     "text": [
      "Epoch [586/632], Train Loss: 0.0030, Val Loss: 0.0674\n",
      "Epoch 586/632 completed in 3.28 seconds.\n"
     ]
    },
    {
     "name": "stdout",
     "output_type": "stream",
     "text": [
      "Epoch [587/632], Train Loss: 0.0029, Val Loss: 0.0743\n",
      "Epoch 587/632 completed in 3.02 seconds.\n"
     ]
    },
    {
     "name": "stdout",
     "output_type": "stream",
     "text": [
      "Epoch [588/632], Train Loss: 0.0024, Val Loss: 0.0664\n",
      "Epoch 588/632 completed in 3.92 seconds.\n"
     ]
    },
    {
     "name": "stdout",
     "output_type": "stream",
     "text": [
      "Epoch [589/632], Train Loss: 0.0027, Val Loss: 0.0794\n",
      "Epoch 589/632 completed in 2.95 seconds.\n"
     ]
    },
    {
     "name": "stdout",
     "output_type": "stream",
     "text": [
      "Epoch [590/632], Train Loss: 0.0026, Val Loss: 0.0795\n",
      "Epoch 590/632 completed in 3.22 seconds.\n"
     ]
    },
    {
     "name": "stdout",
     "output_type": "stream",
     "text": [
      "Epoch [591/632], Train Loss: 0.0022, Val Loss: 0.0775\n",
      "Epoch 591/632 completed in 3.91 seconds.\n"
     ]
    },
    {
     "name": "stdout",
     "output_type": "stream",
     "text": [
      "Epoch [592/632], Train Loss: 0.0020, Val Loss: 0.0787\n",
      "Epoch 592/632 completed in 4.49 seconds.\n"
     ]
    },
    {
     "name": "stdout",
     "output_type": "stream",
     "text": [
      "Epoch [593/632], Train Loss: 0.0023, Val Loss: 0.0674\n",
      "Epoch 593/632 completed in 12.03 seconds.\n"
     ]
    },
    {
     "name": "stdout",
     "output_type": "stream",
     "text": [
      "Epoch [594/632], Train Loss: 0.0026, Val Loss: 0.0660\n",
      "Epoch 594/632 completed in 2.33 seconds.\n"
     ]
    },
    {
     "name": "stdout",
     "output_type": "stream",
     "text": [
      "Epoch [595/632], Train Loss: 0.0026, Val Loss: 0.0710\n",
      "Epoch 595/632 completed in 2.28 seconds.\n"
     ]
    },
    {
     "name": "stdout",
     "output_type": "stream",
     "text": [
      "Epoch [596/632], Train Loss: 0.0028, Val Loss: 0.0722\n",
      "Epoch 596/632 completed in 2.86 seconds.\n"
     ]
    },
    {
     "name": "stdout",
     "output_type": "stream",
     "text": [
      "Epoch [597/632], Train Loss: 0.0023, Val Loss: 0.0798\n",
      "Epoch 597/632 completed in 2.88 seconds.\n"
     ]
    },
    {
     "name": "stdout",
     "output_type": "stream",
     "text": [
      "Epoch [598/632], Train Loss: 0.0023, Val Loss: 0.0732\n",
      "Epoch 598/632 completed in 5.23 seconds.\n"
     ]
    },
    {
     "name": "stdout",
     "output_type": "stream",
     "text": [
      "Epoch [599/632], Train Loss: 0.0020, Val Loss: 0.0664\n",
      "Epoch 599/632 completed in 5.23 seconds.\n"
     ]
    },
    {
     "name": "stdout",
     "output_type": "stream",
     "text": [
      "Epoch [600/632], Train Loss: 0.0026, Val Loss: 0.0612\n",
      "Model saved: ./output_model/best_model_epoch_600.pth\n",
      "Epoch 600/632 completed in 3.07 seconds.\n"
     ]
    },
    {
     "name": "stdout",
     "output_type": "stream",
     "text": [
      "Epoch [601/632], Train Loss: 0.0026, Val Loss: 0.0736\n",
      "Epoch 601/632 completed in 3.31 seconds.\n"
     ]
    },
    {
     "name": "stdout",
     "output_type": "stream",
     "text": [
      "Epoch [602/632], Train Loss: 0.0023, Val Loss: 0.0740\n",
      "Epoch 602/632 completed in 4.07 seconds.\n"
     ]
    },
    {
     "name": "stdout",
     "output_type": "stream",
     "text": [
      "Epoch [603/632], Train Loss: 0.0028, Val Loss: 0.0712\n",
      "Epoch 603/632 completed in 3.40 seconds.\n"
     ]
    },
    {
     "name": "stdout",
     "output_type": "stream",
     "text": [
      "Epoch [604/632], Train Loss: 0.0028, Val Loss: 0.0657\n",
      "Epoch 604/632 completed in 2.53 seconds.\n"
     ]
    },
    {
     "name": "stdout",
     "output_type": "stream",
     "text": [
      "Epoch [605/632], Train Loss: 0.0029, Val Loss: 0.0755\n",
      "Epoch 605/632 completed in 3.92 seconds.\n"
     ]
    },
    {
     "name": "stdout",
     "output_type": "stream",
     "text": [
      "Epoch [606/632], Train Loss: 0.0024, Val Loss: 0.0819\n",
      "Epoch 606/632 completed in 2.69 seconds.\n"
     ]
    },
    {
     "name": "stdout",
     "output_type": "stream",
     "text": [
      "Epoch [607/632], Train Loss: 0.0031, Val Loss: 0.0696\n",
      "Epoch 607/632 completed in 2.18 seconds.\n"
     ]
    },
    {
     "name": "stdout",
     "output_type": "stream",
     "text": [
      "Epoch [608/632], Train Loss: 0.0033, Val Loss: 0.0798\n",
      "Epoch 608/632 completed in 3.51 seconds.\n"
     ]
    },
    {
     "name": "stdout",
     "output_type": "stream",
     "text": [
      "Epoch [609/632], Train Loss: 0.0023, Val Loss: 0.0734\n",
      "Epoch 609/632 completed in 2.55 seconds.\n"
     ]
    },
    {
     "name": "stdout",
     "output_type": "stream",
     "text": [
      "Epoch [610/632], Train Loss: 0.0027, Val Loss: 0.0743\n",
      "Epoch 610/632 completed in 3.54 seconds.\n"
     ]
    },
    {
     "name": "stdout",
     "output_type": "stream",
     "text": [
      "Epoch [611/632], Train Loss: 0.0026, Val Loss: 0.0809\n",
      "Epoch 611/632 completed in 2.96 seconds.\n"
     ]
    },
    {
     "name": "stdout",
     "output_type": "stream",
     "text": [
      "Epoch [612/632], Train Loss: 0.0022, Val Loss: 0.0816\n",
      "Epoch 612/632 completed in 3.50 seconds.\n"
     ]
    },
    {
     "name": "stdout",
     "output_type": "stream",
     "text": [
      "Epoch [613/632], Train Loss: 0.0021, Val Loss: 0.0745\n",
      "Epoch 613/632 completed in 2.98 seconds.\n"
     ]
    },
    {
     "name": "stdout",
     "output_type": "stream",
     "text": [
      "Epoch [614/632], Train Loss: 0.0022, Val Loss: 0.0696\n",
      "Epoch 614/632 completed in 3.36 seconds.\n"
     ]
    },
    {
     "name": "stdout",
     "output_type": "stream",
     "text": [
      "Epoch [615/632], Train Loss: 0.0020, Val Loss: 0.0752\n",
      "Epoch 615/632 completed in 2.97 seconds.\n"
     ]
    },
    {
     "name": "stdout",
     "output_type": "stream",
     "text": [
      "Epoch [616/632], Train Loss: 0.0020, Val Loss: 0.0768\n",
      "Epoch 616/632 completed in 3.09 seconds.\n"
     ]
    },
    {
     "name": "stdout",
     "output_type": "stream",
     "text": [
      "Epoch [617/632], Train Loss: 0.0022, Val Loss: 0.0725\n",
      "Epoch 617/632 completed in 2.88 seconds.\n"
     ]
    },
    {
     "name": "stdout",
     "output_type": "stream",
     "text": [
      "Epoch [618/632], Train Loss: 0.0024, Val Loss: 0.0768\n",
      "Epoch 618/632 completed in 2.42 seconds.\n"
     ]
    },
    {
     "name": "stdout",
     "output_type": "stream",
     "text": [
      "Epoch [619/632], Train Loss: 0.0023, Val Loss: 0.0718\n",
      "Epoch 619/632 completed in 2.85 seconds.\n"
     ]
    },
    {
     "name": "stdout",
     "output_type": "stream",
     "text": [
      "Epoch [620/632], Train Loss: 0.0022, Val Loss: 0.0833\n",
      "Epoch 620/632 completed in 2.96 seconds.\n"
     ]
    },
    {
     "name": "stdout",
     "output_type": "stream",
     "text": [
      "Epoch [621/632], Train Loss: 0.0029, Val Loss: 0.0626\n",
      "Epoch 621/632 completed in 3.24 seconds.\n"
     ]
    },
    {
     "name": "stdout",
     "output_type": "stream",
     "text": [
      "Epoch [622/632], Train Loss: 0.0025, Val Loss: 0.0762\n",
      "Epoch 622/632 completed in 2.97 seconds.\n"
     ]
    },
    {
     "name": "stdout",
     "output_type": "stream",
     "text": [
      "Epoch [623/632], Train Loss: 0.0035, Val Loss: 0.0734\n",
      "Epoch 623/632 completed in 3.11 seconds.\n"
     ]
    },
    {
     "name": "stdout",
     "output_type": "stream",
     "text": [
      "Epoch [624/632], Train Loss: 0.0029, Val Loss: 0.0759\n",
      "Epoch 624/632 completed in 3.73 seconds.\n"
     ]
    },
    {
     "name": "stdout",
     "output_type": "stream",
     "text": [
      "Epoch [625/632], Train Loss: 0.0027, Val Loss: 0.0842\n",
      "Epoch 625/632 completed in 2.76 seconds.\n"
     ]
    },
    {
     "name": "stdout",
     "output_type": "stream",
     "text": [
      "Epoch [626/632], Train Loss: 0.0028, Val Loss: 0.0715\n",
      "Epoch 626/632 completed in 3.96 seconds.\n"
     ]
    },
    {
     "name": "stdout",
     "output_type": "stream",
     "text": [
      "Epoch [627/632], Train Loss: 0.0030, Val Loss: 0.0769\n",
      "Epoch 627/632 completed in 2.92 seconds.\n"
     ]
    },
    {
     "name": "stdout",
     "output_type": "stream",
     "text": [
      "Epoch [628/632], Train Loss: 0.0023, Val Loss: 0.0942\n",
      "Epoch 628/632 completed in 3.75 seconds.\n"
     ]
    },
    {
     "name": "stdout",
     "output_type": "stream",
     "text": [
      "Epoch [629/632], Train Loss: 0.0025, Val Loss: 0.0876\n",
      "Epoch 629/632 completed in 2.88 seconds.\n"
     ]
    },
    {
     "name": "stdout",
     "output_type": "stream",
     "text": [
      "Epoch [630/632], Train Loss: 0.0021, Val Loss: 0.0854\n",
      "Epoch 630/632 completed in 3.39 seconds.\n"
     ]
    },
    {
     "name": "stdout",
     "output_type": "stream",
     "text": [
      "Epoch [631/632], Train Loss: 0.0023, Val Loss: 0.0761\n",
      "Epoch 631/632 completed in 3.49 seconds.\n"
     ]
    },
    {
     "name": "stdout",
     "output_type": "stream",
     "text": [
      "Epoch [632/632], Train Loss: 0.0022, Val Loss: 0.0764\n",
      "Model saved: ./output_model/best_model_epoch_632.pth\n",
      "Epoch 632/632 completed in 2.75 seconds.\n",
      "Total training time: 2543.36 seconds.\n"
     ]
    }
   ],
   "source": [
    "import time\n",
    "import torch\n",
    "\n",
    "# 학습 및 검증 손실을 기록할 리스트\n",
    "train_losses = []\n",
    "val_losses = []\n",
    "\n",
    "best_model.train()\n",
    "total_train_time = 0  # 총 학습 시간 기록 변수\n",
    "\n",
    "for epoch in range(num_epochs):  # 최종 모델 학습\n",
    "    best_model.train()\n",
    "    train_loss = 0.0\n",
    "    epoch_start_time = time.time()  # 에포크 시작 시간 기록\n",
    "    for batch_x, batch_y in train_loader:\n",
    "        batch_x = batch_x.to(device)  # 입력 데이터 차원 조정\n",
    "        batch_y = batch_y.to(device)\n",
    "        optimizer.zero_grad()\n",
    "        output = best_model(batch_x)\n",
    "        loss = criterion(output, batch_y)\n",
    "        loss.backward()\n",
    "        optimizer.step()\n",
    "        train_loss += loss.item()\n",
    "\n",
    "    epoch_end_time = time.time()  # 에포크 종료 시간 기록\n",
    "    epoch_duration = epoch_end_time - epoch_start_time  # 한 에포크의 학습 시간\n",
    "    total_train_time += epoch_duration  # 총 학습 시간에 추가\n",
    "\n",
    "    # Validation set에서 성능 측정\n",
    "    best_model.eval()\n",
    "    val_loss = 0\n",
    "    with torch.no_grad():\n",
    "        for batch_x, batch_y in val_loader:\n",
    "            batch_x = batch_x.to(device)  # 입력 데이터 차원 조정\n",
    "            batch_y = batch_y.to(device)\n",
    "            output = best_model(batch_x)\n",
    "            loss = criterion(output, batch_y)\n",
    "            val_loss += loss.item()\n",
    "\n",
    "    # 평균 손실 계산 및 저장\n",
    "    train_losses.append(train_loss / len(train_loader))\n",
    "    val_losses.append(val_loss / len(val_loader))\n",
    "\n",
    "    print(f'Epoch [{epoch+1}/{num_epochs}], Train Loss: {train_loss:.4f}, Val Loss: {val_loss:.4f}')\n",
    "\n",
    "    # 모델 저장\n",
    "    if (epoch + 1) % 100 == 0 or epoch + 1 == 632:\n",
    "\n",
    "      # Model Save\n",
    "      model_save_path = f\"./output_model/best_model_epoch_{epoch+1}.pth\"\n",
    "      torch.save({\n",
    "        'model_state_dict': best_model.state_dict(),\n",
    "        'train_losses': train_losses,\n",
    "        'val_losses': val_losses\n",
    "      }, model_save_path)\n",
    "      print(f\"Model saved: {model_save_path}\")\n",
    "\n",
    "    print(f\"Epoch {epoch+1}/{num_epochs} completed in {epoch_duration:.2f} seconds.\")\n",
    "\n",
    "print(f\"Total training time: {total_train_time:.2f} seconds.\")\n"
   ]
  },
  {
   "cell_type": "markdown",
   "metadata": {
    "id": "AGPG9wMU66vB"
   },
   "source": [
    "### 3. 모델 요약 내용 출력"
   ]
  },
  {
   "cell_type": "code",
   "execution_count": 23,
   "metadata": {
    "colab": {
     "base_uri": "https://localhost:8080/"
    },
    "execution": {
     "iopub.execute_input": "2024-10-23T09:57:52.171241Z",
     "iopub.status.busy": "2024-10-23T09:57:52.170850Z",
     "iopub.status.idle": "2024-10-23T09:57:52.209563Z",
     "shell.execute_reply": "2024-10-23T09:57:52.208796Z"
    },
    "id": "dtvUWEC8pdJb",
    "outputId": "2318b98f-e977-451b-cbbb-df397ec4ae75"
   },
   "outputs": [
    {
     "data": {
      "text/plain": [
       "===============================================================================================\n",
       "Layer (type:depth-idx)                        Output Shape              Param #\n",
       "===============================================================================================\n",
       "TransformerModel                              [1, 3]                    --\n",
       "├─Linear: 1-1                                 [1, 10, 136]              544\n",
       "├─PositionalEncoding: 1-2                     [1, 10, 136]              --\n",
       "│    └─Dropout: 2-1                           [1, 10, 136]              --\n",
       "├─TransformerEncoder: 1-3                     [1, 10, 136]              --\n",
       "│    └─ModuleList: 2-2                        --                        --\n",
       "│    │    └─TransformerEncoderLayer: 3-1      [1, 10, 136]              150,010\n",
       "├─Linear: 1-4                                 [1, 10, 3]                411\n",
       "===============================================================================================\n",
       "Total params: 150,965\n",
       "Trainable params: 150,965\n",
       "Non-trainable params: 0\n",
       "Total mult-adds (M): 0.00\n",
       "===============================================================================================\n",
       "Input size (MB): 0.00\n",
       "Forward/backward pass size (MB): 0.01\n",
       "Params size (MB): 0.00\n",
       "Estimated Total Size (MB): 0.02\n",
       "==============================================================================================="
      ]
     },
     "execution_count": 23,
     "metadata": {},
     "output_type": "execute_result"
    }
   ],
   "source": [
    "from torchinfo import summary\n",
    "\n",
    "summary(best_model, (1, 10, 3), device=device)"
   ]
  },
  {
   "cell_type": "markdown",
   "metadata": {
    "id": "niiMUsYNy2Xy"
   },
   "source": [
    "## 테스트"
   ]
  },
  {
   "cell_type": "markdown",
   "metadata": {
    "id": "5-lJAmjGyx4w"
   },
   "source": [
    "### 1. 테스트 결과 생성"
   ]
  },
  {
   "cell_type": "code",
   "execution_count": 24,
   "metadata": {
    "colab": {
     "base_uri": "https://localhost:8080/"
    },
    "execution": {
     "iopub.execute_input": "2024-10-23T09:57:52.212443Z",
     "iopub.status.busy": "2024-10-23T09:57:52.212175Z",
     "iopub.status.idle": "2024-10-23T09:57:52.317731Z",
     "shell.execute_reply": "2024-10-23T09:57:52.316815Z"
    },
    "id": "jZx_NHjT8ugM",
    "outputId": "b610322b-3d09-4a59-917d-28eb1428a0fe"
   },
   "outputs": [
    {
     "name": "stdout",
     "output_type": "stream",
     "text": [
      "Mean Squared Error (MSE): 0.003304228186607361\n",
      "Mean Absolute Error (MAE): 0.04586297273635864\n",
      "Accuracy: 0.0000%\n",
      "Total Prediction Time: 0.0923 seconds\n"
     ]
    }
   ],
   "source": [
    "import numpy as np\n",
    "from sklearn.metrics import mean_squared_error, mean_absolute_error\n",
    "import torch\n",
    "import time\n",
    "\n",
    "# 모델 예측 및 성능 평가\n",
    "best_model.eval()\n",
    "device = torch.device('cuda' if torch.cuda.is_available() else 'cpu')\n",
    "\n",
    "test_loss = 0\n",
    "y_true_list = []\n",
    "y_pred_list = []\n",
    "total_correct = 0\n",
    "total_samples = 0\n",
    "\n",
    "threshold = 0.01  # Accuracy를 계산할 때 사용할 임계값 (오차 허용 범위)\n",
    "\n",
    "start_time = time.time()  # 예측 시작 시간 기록\n",
    "\n",
    "with torch.no_grad():\n",
    "    for batch_x, batch_y in test_loader:\n",
    "        batch_x = batch_x.to(device)\n",
    "        batch_y = batch_y.to(device)\n",
    "\n",
    "        # 예측 수행\n",
    "        output = best_model(batch_x)\n",
    "\n",
    "        # 손실 계산\n",
    "        loss = criterion(output, batch_y)\n",
    "        test_loss += loss.item()\n",
    "\n",
    "        # 예측값과 실제값 저장\n",
    "        y_pred_list.append(output.cpu().numpy())  # 예측값을 CPU로 이동하여 numpy 배열로 변환\n",
    "        y_true_list.append(batch_y.cpu().numpy())  # 실제값을 CPU로 이동하여 numpy 배열로 변환\n",
    "\n",
    "        # Accuracy 계산 (오차가 threshold 이하인 경우 correct로 간주)\n",
    "        y_pred_cpu = output.cpu().numpy()\n",
    "        y_true_cpu = batch_y.cpu().numpy()\n",
    "        correct = np.sum(np.linalg.norm(y_pred_cpu - y_true_cpu, axis=1) < threshold)\n",
    "        total_correct += correct\n",
    "        total_samples += len(batch_y)\n",
    "\n",
    "end_time = time.time()  # 예측 종료 시간 기록\n",
    "\n",
    "# 리스트를 numpy 배열로 변환\n",
    "y_pred = np.concatenate(y_pred_list, axis=0)\n",
    "y_true = np.concatenate(y_true_list, axis=0)\n",
    "\n",
    "# 성능 평가\n",
    "mse = mean_squared_error(y_true, y_pred)\n",
    "mae = mean_absolute_error(y_true, y_pred)\n",
    "accuracy = total_correct / total_samples\n",
    "\n",
    "# 예측 시간 계산\n",
    "prediction_time = end_time - start_time\n",
    "\n",
    "print(f'Mean Squared Error (MSE): {mse}')\n",
    "print(f'Mean Absolute Error (MAE): {mae}')\n",
    "print(f'Accuracy: {accuracy * 100:.4f}%')\n",
    "print(f'Total Prediction Time: {prediction_time:.4f} seconds')"
   ]
  },
  {
   "cell_type": "markdown",
   "metadata": {
    "id": "vet2WrIsdUL_"
   },
   "source": [
    "### 2. 결과 시각화"
   ]
  },
  {
   "cell_type": "code",
   "execution_count": 25,
   "metadata": {
    "colab": {
     "base_uri": "https://localhost:8080/",
     "height": 675
    },
    "execution": {
     "iopub.execute_input": "2024-10-23T09:57:52.320619Z",
     "iopub.status.busy": "2024-10-23T09:57:52.320285Z",
     "iopub.status.idle": "2024-10-23T09:57:52.766757Z",
     "shell.execute_reply": "2024-10-23T09:57:52.765779Z"
    },
    "id": "xc_TdEFadJRk",
    "outputId": "088bf5da-f127-4933-da73-5293ec1a7ed7"
   },
   "outputs": [
    {
     "data": {
      "image/png": "[encoded data removed]",
      "text/plain": [
       "<Figure size 1200x800 with 1 Axes>"
      ]
     },
     "metadata": {},
     "output_type": "display_data"
    }
   ],
   "source": [
    "prediction_visualization(y_true, y_pred)"
   ]
  },
  {
   "cell_type": "markdown",
   "metadata": {
    "id": "F_CgxYsm9cJS"
   },
   "source": [
    "#### 3. raw 데이터와 predict 데이터 비교"
   ]
  },
  {
   "cell_type": "code",
   "execution_count": 26,
   "metadata": {
    "colab": {
     "base_uri": "https://localhost:8080/",
     "height": 675
    },
    "execution": {
     "iopub.execute_input": "2024-10-23T09:57:52.773725Z",
     "iopub.status.busy": "2024-10-23T09:57:52.773358Z",
     "iopub.status.idle": "2024-10-23T09:57:53.158418Z",
     "shell.execute_reply": "2024-10-23T09:57:53.157303Z"
    },
    "id": "HTosdwF2-dBe",
    "outputId": "17af0549-b6c4-4697-d038-d35a0d699f4b"
   },
   "outputs": [
    {
     "data": {
      "image/png": "[encoded data removed]",
      "text/plain": [
       "<Figure size 1200x800 with 1 Axes>"
      ]
     },
     "metadata": {},
     "output_type": "display_data"
    }
   ],
   "source": [
    "y_pred_original = scaler.inverse_transform(y_pred)\n",
    "\n",
    "y_test_original = scaler.inverse_transform(y_true.reshape(-1, 3))\n",
    "\n",
    "prediction_visualization(y_test_original, y_pred_original)"
   ]
  },
  {
   "cell_type": "code",
   "execution_count": 27,
   "metadata": {
    "execution": {
     "iopub.execute_input": "2024-10-23T09:57:53.163083Z",
     "iopub.status.busy": "2024-10-23T09:57:53.162639Z",
     "iopub.status.idle": "2024-10-23T09:57:53.167402Z",
     "shell.execute_reply": "2024-10-23T09:57:53.166445Z"
    },
    "id": "uUxl3o630igS"
   },
   "outputs": [],
   "source": [
    "# plot_trajectory(train_data, val_data, test_data)"
   ]
  },
  {
   "cell_type": "markdown",
   "metadata": {
    "id": "Tvfx-SH-m0xI"
   },
   "source": [
    "## Compare Models\n"
   ]
  },
  {
   "cell_type": "markdown",
   "metadata": {
    "id": "wdW6xDBIoDB9"
   },
   "source": [
    "### Model 비교 그래프"
   ]
  },
  {
   "cell_type": "code",
   "execution_count": 28,
   "metadata": {
    "execution": {
     "iopub.execute_input": "2024-10-23T09:57:53.171244Z",
     "iopub.status.busy": "2024-10-23T09:57:53.170835Z",
     "iopub.status.idle": "2024-10-23T09:57:53.189294Z",
     "shell.execute_reply": "2024-10-23T09:57:53.188036Z"
    },
    "id": "xrCYnEP8nvH9"
   },
   "outputs": [],
   "source": [
    "import matplotlib.pyplot as plt\n",
    "import pandas as pd\n",
    "\n",
    "def plot_model_comparison(df, num_epochs, y_limits = [0, 0.01]):\n",
    "\n",
    "    # 그래프 설정\n",
    "    if num_epochs == 50:\n",
    "        xticks_interval = 10\n",
    "    elif num_epochs == 100:\n",
    "        xticks_interval = 20\n",
    "    elif num_epochs == 150:\n",
    "        xticks_interval = 30\n",
    "    else:\n",
    "        xticks_interval = num_epochs // 5  # 에포크 수에 따라 5개로 구분\n",
    "\n",
    "    # 색상 지정\n",
    "    colors = ['#1f77b4', '#ff7f0e', '#2ca02c']\n",
    "\n",
    "    fig, axs = plt.subplots(1, 2, figsize=(20, 6))\n",
    "\n",
    "    # Plot Train Loss\n",
    "    axs[0].plot(df['epoch'], df['train_loss_1'], label='LSTM', color=colors[0], marker='o', markevery=[-1])\n",
    "    axs[0].plot(df['epoch'], df['train_loss_2'], label='GRU', color=colors[1], marker='o', markevery=[-1])\n",
    "    axs[0].plot(df['epoch'], df['train_loss_3'], label='Transformer', color=colors[2], marker='o', markevery=[-1])\n",
    "    axs[0].set_title('Train Loss')\n",
    "    axs[0].set_xlabel('epochs')\n",
    "    axs[0].set_ylabel('Loss')\n",
    "    axs[0].set_xticks(range(0, num_epochs + 1, xticks_interval))  # x축 tick 설정\n",
    "    axs[0].legend()\n",
    "    axs[0].yaxis.grid(False)  # 가로줄 끄기\n",
    "    axs[0].xaxis.grid(False)  # 세로줄 끄기\n",
    "\n",
    "    # Y축 수동 설정\n",
    "    if y_limits:\n",
    "        axs[0].set_ylim(y_limits[0], y_limits[1])\n",
    "\n",
    "    # Plot Valid Loss\n",
    "    axs[1].plot(df['epoch'], df['valid_loss_1'], label='LSTM', color=colors[0], marker='o', markevery=[-1])\n",
    "    axs[1].plot(df['epoch'], df['valid_loss_2'], label='GRU', color=colors[1], marker='o', markevery=[-1])\n",
    "    axs[1].plot(df['epoch'], df['valid_loss_3'], label='Transformer', color=colors[2], marker='o', markevery=[-1])\n",
    "    axs[1].set_title('Valid Loss')\n",
    "    axs[1].set_xlabel('epochs')\n",
    "    axs[1].set_ylabel('Loss')\n",
    "    axs[1].set_xticks(range(0, num_epochs + 1, xticks_interval))\n",
    "    axs[1].legend()\n",
    "    axs[1].yaxis.grid(False)  # 가로줄 끄기\n",
    "    axs[1].xaxis.grid(False)  # 세로줄 끄기\n",
    "\n",
    "    # Y축 수동 설정\n",
    "    if y_limits:\n",
    "        axs[1].set_ylim(y_limits[0], y_limits[1])\n",
    "\n",
    "    # Adjust layout\n",
    "    plt.tight_layout()\n",
    "    plt.show()"
   ]
  },
  {
   "cell_type": "markdown",
   "metadata": {
    "id": "8DvGrbPV5K8q"
   },
   "source": [
    "### 모델 불러오기"
   ]
  },
  {
   "cell_type": "code",
   "execution_count": 29,
   "metadata": {
    "colab": {
     "base_uri": "https://localhost:8080/"
    },
    "execution": {
     "iopub.execute_input": "2024-10-23T09:57:53.192546Z",
     "iopub.status.busy": "2024-10-23T09:57:53.192077Z",
     "iopub.status.idle": "2024-10-23T09:57:53.204853Z",
     "shell.execute_reply": "2024-10-23T09:57:53.203797Z"
    },
    "id": "-CQZqxjzm22p",
    "outputId": "f07da137-3134-4130-b22e-726921a57908"
   },
   "outputs": [
    {
     "name": "stdout",
     "output_type": "stream",
     "text": [
      "dict_keys(['model_state_dict', 'train_losses', 'val_losses'])\n"
     ]
    },
    {
     "name": "stderr",
     "output_type": "stream",
     "text": [
      "/tmp/ipykernel_30442/338600238.py:1: FutureWarning: You are using `torch.load` with `weights_only=False` (the current default value), which uses the default pickle module implicitly. It is possible to construct malicious pickle data which will execute arbitrary code during unpickling (See https://github.com/pytorch/pytorch/blob/main/SECURITY.md#untrusted-models for more details). In a future release, the default value for `weights_only` will be flipped to `True`. This limits the functions that could be executed during unpickling. Arbitrary objects will no longer be allowed to be loaded via this mode unless they are explicitly allowlisted by the user via `torch.serialization.add_safe_globals`. We recommend you start setting `weights_only=True` for any use case where you don't have full control of the loaded file. Please open an issue on GitHub for any issues related to this experimental feature.\n",
      "  checkpoint = torch.load('./output_model/best_model_epoch_632.pth')\n"
     ]
    }
   ],
   "source": [
    "checkpoint = torch.load('./output_model/best_model_epoch_632.pth')\n",
    "print(checkpoint.keys())\n",
    "\n",
    "transformer_train_losses = checkpoint['train_losses']\n",
    "transformer_val_losses = checkpoint['val_losses']\n",
    "\n",
    "# 손실 값 확인\n",
    "# print(f\"Train Losses: {transformer_train_losses[:5]}\")\n",
    "# print(f\"Validation Losses: {transformer_val_losses[:5]}\")"
   ]
  },
  {
   "cell_type": "markdown",
   "metadata": {
    "id": "VhWiMGuoHp76"
   },
   "source": [
    "### Val, Test data LOSS"
   ]
  },
  {
   "cell_type": "code",
   "execution_count": 30,
   "metadata": {
    "execution": {
     "iopub.execute_input": "2024-10-23T09:57:53.208854Z",
     "iopub.status.busy": "2024-10-23T09:57:53.208436Z",
     "iopub.status.idle": "2024-10-23T09:57:53.217218Z",
     "shell.execute_reply": "2024-10-23T09:57:53.215739Z"
    },
    "id": "QtPKcwVhHv9f"
   },
   "outputs": [],
   "source": [
    "import matplotlib.pyplot as plt\n",
    "\n",
    "def plot_losses(train_losses, val_losses, y_limits=None):\n",
    "    epochs = range(1, len(train_losses) + 1)\n",
    "\n",
    "    plt.figure(figsize=(10, 6))\n",
    "\n",
    "    # Y축 수동 설정 (옵션)\n",
    "    if y_limits:\n",
    "        plt.ylim(y_limits[0], y_limits[1])\n",
    "\n",
    "    plt.plot(epochs, train_losses, label='Training Loss')\n",
    "    plt.plot(epochs, val_losses, label='Validation Loss')\n",
    "\n",
    "    plt.xlabel('Epochs', fontsize=12)\n",
    "    plt.ylabel('Loss', fontsize=12)\n",
    "    plt.title('Training and Validation Loss per Epoch', fontsize=14)\n",
    "    plt.legend()\n",
    "\n",
    "    plt.grid(True)\n",
    "\n",
    "    plt.tight_layout()\n",
    "    plt.show()\n"
   ]
  },
  {
   "cell_type": "code",
   "execution_count": 31,
   "metadata": {
    "execution": {
     "iopub.execute_input": "2024-10-23T09:57:53.220863Z",
     "iopub.status.busy": "2024-10-23T09:57:53.220508Z",
     "iopub.status.idle": "2024-10-23T09:57:53.224877Z",
     "shell.execute_reply": "2024-10-23T09:57:53.223945Z"
    },
    "id": "0Y8KFZrUMV7a"
   },
   "outputs": [],
   "source": [
    "# plt.plot(range(5, num_epochs + 1), transformer_train_losses[4:], label='Train Loss')\n",
    "# plt.plot(range(5, num_epochs + 1), transformer_val_losses[4:], label='Validation Loss')\n",
    "# plt.xlabel('Epoch')\n",
    "# plt.ylabel('Loss')\n",
    "# plt.title('Train and Validation Loss')\n",
    "# plt.legend()\n",
    "# plt.show()"
   ]
  },
  {
   "cell_type": "markdown",
   "metadata": {
    "id": "3D37GP8N-7fs"
   },
   "source": []
  },
  {
   "cell_type": "code",
   "execution_count": 32,
   "metadata": {
    "colab": {
     "base_uri": "https://localhost:8080/",
     "height": 463
    },
    "execution": {
     "iopub.execute_input": "2024-10-23T09:57:53.227853Z",
     "iopub.status.busy": "2024-10-23T09:57:53.227517Z",
     "iopub.status.idle": "2024-10-23T09:57:53.231455Z",
     "shell.execute_reply": "2024-10-23T09:57:53.230595Z"
    },
    "id": "4QKvdrmgJN6v",
    "outputId": "97e8e822-3f8f-434c-f126-1310e53927bb"
   },
   "outputs": [],
   "source": [
    "# plot_losses(transformer_train_losses, transformer_val_losses, y_limits = (0, 0.001))\n"
   ]
  },
  {
   "cell_type": "code",
   "execution_count": 33,
   "metadata": {
    "colab": {
     "base_uri": "https://localhost:8080/"
    },
    "execution": {
     "iopub.execute_input": "2024-10-23T09:57:53.234731Z",
     "iopub.status.busy": "2024-10-23T09:57:53.234390Z",
     "iopub.status.idle": "2024-10-23T09:57:53.239948Z",
     "shell.execute_reply": "2024-10-23T09:57:53.238980Z"
    },
    "id": "mf1h9WH7_-vI",
    "outputId": "6c44551c-5a8c-491e-e10c-5bad5c289204"
   },
   "outputs": [
    {
     "name": "stdout",
     "output_type": "stream",
     "text": [
      "minimun 0.0002888594572141301\n",
      "Best epoch: 25, Validation Loss: 0.0002888594572141301\n"
     ]
    }
   ],
   "source": [
    "print(\"minimun\", min(transformer_val_losses))\n",
    "\n",
    "# val_losses = history['val_loss']\n",
    "best_epoch = np.argmin(transformer_val_losses)  # 검증 손실이 가장 낮았던 epoch 찾기\n",
    "print(f\"Best epoch: {best_epoch}, Validation Loss: {transformer_val_losses[best_epoch]}\")"
   ]
  },
  {
   "cell_type": "markdown",
   "metadata": {
    "id": "XuYG9tLc5NPj"
   },
   "source": [
    "### 데이터 수집"
   ]
  },
  {
   "cell_type": "code",
   "execution_count": 34,
   "metadata": {
    "execution": {
     "iopub.execute_input": "2024-10-23T09:57:53.243654Z",
     "iopub.status.busy": "2024-10-23T09:57:53.242765Z",
     "iopub.status.idle": "2024-10-23T09:57:53.247355Z",
     "shell.execute_reply": "2024-10-23T09:57:53.246527Z"
    },
    "id": "2W9JXDDi1CdE"
   },
   "outputs": [],
   "source": [
    "# data = {\n",
    "#     'epoch': list(range(1, num_epochs + 1)),  # 실제 에포크 수만큼\n",
    "#     'train_loss_1': [x * 1.3 for x in train_losses],\n",
    "#     'train_loss_2': [x * 0.2 for x in train_losses],\n",
    "#     'train_loss_3': transformer_train_losses,\n",
    "#     'valid_loss_1': [x * 1.3 for x in val_losses],\n",
    "#     'valid_loss_2': [x * 0 for x in val_losses],\n",
    "#     'valid_loss_3': transformer_val_losses\n",
    "# }"
   ]
  },
  {
   "cell_type": "markdown",
   "metadata": {
    "id": "dQoZ6VmA5PU2"
   },
   "source": [
    "### 모델 비교 그래프 그리기"
   ]
  },
  {
   "cell_type": "code",
   "execution_count": 35,
   "metadata": {
    "execution": {
     "iopub.execute_input": "2024-10-23T09:57:53.250512Z",
     "iopub.status.busy": "2024-10-23T09:57:53.250083Z",
     "iopub.status.idle": "2024-10-23T09:57:53.255200Z",
     "shell.execute_reply": "2024-10-23T09:57:53.253537Z"
    },
    "id": "9vVLZ3Zh1VIY"
   },
   "outputs": [],
   "source": [
    "# df = pd.DataFrame(data)\n",
    "\n",
    "# 그래프 그리기\n",
    "# plot_model_comparison(df, num_epochs)"
   ]
  }
 ],
 "metadata": {
  "accelerator": "GPU",
  "colab": {
   "gpuType": "T4",
   "provenance": []
  },
  "kernelspec": {
   "display_name": "Python 3",
   "name": "python3"
  },
  "language_info": {
   "codemirror_mode": {
    "name": "ipython",
    "version": 3
   },
   "file_extension": ".py",
   "mimetype": "text/x-python",
   "name": "python",
   "nbconvert_exporter": "python",
   "pygments_lexer": "ipython3",
   "version": "3.10.12"
  }
 },
 "nbformat": 4,
 "nbformat_minor": 0
}
