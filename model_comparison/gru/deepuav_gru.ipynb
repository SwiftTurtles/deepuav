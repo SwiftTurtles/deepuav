{
 "cells": [
  {
   "cell_type": "markdown",
   "metadata": {
    "id": "G_Y5diT0_CK5"
   },
   "source": [
    "## 전체 공통 함수"
   ]
  },
  {
   "cell_type": "markdown",
   "metadata": {
    "id": "Ng0CFeAZyxl2"
   },
   "source": [
    "### 1. 데이터 보간 함수"
   ]
  },
  {
   "cell_type": "markdown",
   "metadata": {
    "id": "hmVXdPpXDQRx"
   },
   "source": [
    "- 데이터의 시간 간격을 0.5초의 등간격으로 맞추고 그에 따른 좌표 값을 보간함\n",
    "- 가장 많이 사용되는 3차 스플라인 보간 적용"
   ]
  },
  {
   "cell_type": "code",
   "execution_count": 1,
   "metadata": {
    "execution": {
     "iopub.execute_input": "2024-10-21T02:51:14.992454Z",
     "iopub.status.busy": "2024-10-21T02:51:14.991917Z",
     "iopub.status.idle": "2024-10-21T02:51:15.806892Z",
     "shell.execute_reply": "2024-10-21T02:51:15.805994Z"
    },
    "id": "MbOt2kIkQg_7"
   },
   "outputs": [],
   "source": [
    "from scipy.interpolate import interp1d\n",
    "import numpy as np\n",
    "import matplotlib.pyplot as plt\n",
    "\n",
    "# 데이터 보간 - 위도, 고도, 경도 값을 0.5초 시간 간격으로 보간\n",
    "def spline_interpolation(x, y):\n",
    "    # x: 보간할 데이터의 x 값 (시간)\n",
    "    # y: 보간할 데이터의 y 값 (위도, 고도, 경도)\n",
    "\n",
    "    # 3차 스플라인 보간 함수 생성\n",
    "    f = interp1d(x, y, kind='cubic')\n",
    "\n",
    "    # 시간 범위 설정\n",
    "    start_time = min(x)\n",
    "    end_time = max(x)\n",
    "\n",
    "    # 0.5초 간격의 시간 배열을 생성\n",
    "    new_x = np.arange(start_time, end_time, 0.5)\n",
    "\n",
    "    # 위도, 경도, 고도 보간\n",
    "    new_y = f(new_x)\n",
    "\n",
    "    return new_x, new_y"
   ]
  },
  {
   "cell_type": "markdown",
   "metadata": {
    "id": "1LTSh1vXy1fg"
   },
   "source": [
    "### 2. 시퀀스 나누는 함수"
   ]
  },
  {
   "cell_type": "markdown",
   "metadata": {
    "id": "8507i6-XDWFa"
   },
   "source": [
    "- 학습을 위해 데이터를 시퀀스 형태로 나눔\n",
    "- look back과 forward에 따라 학습에 사용될 x값의 구간과 y값을 반환함\n",
    "- 초기 look back은 10, forward는 0이다."
   ]
  },
  {
   "cell_type": "code",
   "execution_count": 2,
   "metadata": {
    "execution": {
     "iopub.execute_input": "2024-10-21T02:51:15.811758Z",
     "iopub.status.busy": "2024-10-21T02:51:15.811309Z",
     "iopub.status.idle": "2024-10-21T02:51:15.817821Z",
     "shell.execute_reply": "2024-10-21T02:51:15.817082Z"
    },
    "id": "_kmQ-_EyGFpW"
   },
   "outputs": [],
   "source": [
    "# 시퀀스 생성 함수\n",
    "# look back : 10 (5초간의 위도, 고도, 경도 데이터를 x값으로 사용)\n",
    "# forward : 0 (0.5초 뒤의 위도, 고도, 경도 데이터를 y값으로 사용)\n",
    "def create_sequences(df, look_back=10, forward=0):\n",
    "    xs = []\n",
    "    ys = []\n",
    "    for i in range(len(df) - look_back - forward):\n",
    "        x = df.iloc[i:(i+look_back)].values\n",
    "        y = df.iloc[i+look_back+forward].values\n",
    "        xs.append(x)\n",
    "        ys.append(y)\n",
    "    return np.array(xs), np.array(ys)"
   ]
  },
  {
   "cell_type": "markdown",
   "metadata": {
    "id": "eOFln2pmy4pt"
   },
   "source": [
    "### 3. 시간 소수점 절사 함수"
   ]
  },
  {
   "cell_type": "markdown",
   "metadata": {
    "id": "ouIEhw21DdJT"
   },
   "source": [
    "- 불필요한 시간 소수점 제거"
   ]
  },
  {
   "cell_type": "code",
   "execution_count": 3,
   "metadata": {
    "execution": {
     "iopub.execute_input": "2024-10-21T02:51:15.821728Z",
     "iopub.status.busy": "2024-10-21T02:51:15.821403Z",
     "iopub.status.idle": "2024-10-21T02:51:15.826611Z",
     "shell.execute_reply": "2024-10-21T02:51:15.825675Z"
    },
    "id": "CFiscMuBSycb"
   },
   "outputs": [],
   "source": [
    "import math\n",
    "\n",
    "# 시간 소수점 절사 함수\n",
    "def truncation(df):\n",
    "    new_time = []\n",
    "\n",
    "    for a in df['time']:\n",
    "      new_time.append(math.floor(a * 10) / 10)\n",
    "\n",
    "    df['time'] = new_time\n",
    "\n",
    "    return df"
   ]
  },
  {
   "cell_type": "markdown",
   "metadata": {
    "id": "-rOFnV17y8Q-"
   },
   "source": [
    "### 4. 스케일링 함수"
   ]
  },
  {
   "cell_type": "markdown",
   "metadata": {
    "id": "126Kg6A4DiOJ"
   },
   "source": [
    "- MinMaxScaling 적용 함수\n"
   ]
  },
  {
   "cell_type": "code",
   "execution_count": 4,
   "metadata": {
    "execution": {
     "iopub.execute_input": "2024-10-21T02:51:15.830285Z",
     "iopub.status.busy": "2024-10-21T02:51:15.829893Z",
     "iopub.status.idle": "2024-10-21T02:51:16.131077Z",
     "shell.execute_reply": "2024-10-21T02:51:16.130273Z"
    },
    "id": "zR9B-lKYNgs8"
   },
   "outputs": [],
   "source": [
    "from sklearn.preprocessing import MinMaxScaler\n",
    "\n",
    "# MinMaxScaling 적용 함수\n",
    "def min_max_scaling(df):\n",
    "\n",
    "    # time 삭제 df 생성\n",
    "    mid_df=df.drop(columns='time')\n",
    "\n",
    "    min_max_scaler = MinMaxScaler()\n",
    "    min_max_scaler.fit(mid_df)\n",
    "\n",
    "    min_max_data = min_max_scaler.transform(mid_df)\n",
    "\n",
    "    new_data = pd.DataFrame(min_max_data)\n",
    "\n",
    "    # time 추가\n",
    "    new_data.insert(0, 'time', df['time'])\n",
    "\n",
    "    # 나머지 열의 이름 가져오기\n",
    "    column_names = mid_df.columns.tolist()\n",
    "\n",
    "    column_names.insert(0, 'time')\n",
    "\n",
    "    print(column_names)\n",
    "\n",
    "    # 새로운 데이터프레임에 열 이름 설정\n",
    "    new_data.columns = column_names\n",
    "\n",
    "    return min_max_scaler, new_data"
   ]
  },
  {
   "cell_type": "markdown",
   "metadata": {
    "id": "Sa6ydGidy_CI"
   },
   "source": [
    "### 5. train/validation/test 분리 함수"
   ]
  },
  {
   "cell_type": "markdown",
   "metadata": {
    "id": "waPM3vrQDrQ2"
   },
   "source": [
    "- Train, Validation, Test 데이터셋을 분리하는 함수이다.\n",
    "- 각각의 비율은 6:2:2 이다."
   ]
  },
  {
   "cell_type": "code",
   "execution_count": 5,
   "metadata": {
    "execution": {
     "iopub.execute_input": "2024-10-21T02:51:16.135753Z",
     "iopub.status.busy": "2024-10-21T02:51:16.135243Z",
     "iopub.status.idle": "2024-10-21T02:51:16.140629Z",
     "shell.execute_reply": "2024-10-21T02:51:16.139919Z"
    },
    "id": "no1HpUH6hAVa"
   },
   "outputs": [],
   "source": [
    "# train/validation/test 분리 함수 (시계열 데이터용, 6:2:2 비율)\n",
    "def split_train_val_test(df):\n",
    "    n = len(df)\n",
    "\n",
    "    # 데이터셋 크기 계산\n",
    "    train_end = int(0.6 * n)\n",
    "    val_end = int(0.8 * n)  # 0.6 + 0.2\n",
    "\n",
    "    # 순차적으로 데이터 분할\n",
    "    train_data = df[:train_end]     # 처음 60%는 train 데이터\n",
    "    val_data = df[train_end:val_end] # 그 다음 20%는 validation 데이터\n",
    "    test_data = df[val_end:]        # 마지막 20%는 test 데이터\n",
    "\n",
    "    # 데이터 크기 출력 (원한다면)\n",
    "    # print(\"Train set:\", train_data.shape)\n",
    "    # print(\"Validation set:\", val_data.shape)\n",
    "    # print(\"Test set:\", test_data.shape)\n",
    "\n",
    "    return train_data, val_data, test_data"
   ]
  },
  {
   "cell_type": "markdown",
   "metadata": {
    "id": "0oWOIZRhDvhN"
   },
   "source": [
    "### 6. 경로 시각화 함수"
   ]
  },
  {
   "cell_type": "markdown",
   "metadata": {
    "id": "43WFjE0eDxMg"
   },
   "source": [
    "- 실제 경로와 예측 경로를 각각 그래프로 생성"
   ]
  },
  {
   "cell_type": "code",
   "execution_count": 6,
   "metadata": {
    "execution": {
     "iopub.execute_input": "2024-10-21T02:51:16.144740Z",
     "iopub.status.busy": "2024-10-21T02:51:16.144356Z",
     "iopub.status.idle": "2024-10-21T02:51:16.151699Z",
     "shell.execute_reply": "2024-10-21T02:51:16.150911Z"
    },
    "id": "wL-6lVUTD3xz"
   },
   "outputs": [],
   "source": [
    "import matplotlib.pyplot as plt\n",
    "\n",
    "# 경로 시각화 함수\n",
    "def prediction_visualization(y_test, y_pred):\n",
    "    # 시각화를 위해 위도, 경도, 고도 분리\n",
    "    y_test_lat = y_test[:, 0]\n",
    "    y_test_lon = y_test[:, 1]\n",
    "    y_test_alt = y_test[:, 2]\n",
    "\n",
    "    y_pred_lat = y_pred[:, 0]\n",
    "    y_pred_lon = y_pred[:, 1]\n",
    "    y_pred_alt = y_pred[:, 2]\n",
    "\n",
    "    # 3D 그래프 생성\n",
    "    fig = plt.figure(figsize=(12, 8))\n",
    "    ax = fig.add_subplot(111, projection='3d')\n",
    "\n",
    "    # 실제 값 플롯\n",
    "    ax.scatter(y_test_lat, y_test_lon, y_test_alt, c='b', marker='o', label='Actual')\n",
    "\n",
    "    # 예측 값 플롯\n",
    "    ax.scatter(y_pred_lat, y_pred_lon, y_pred_alt, c='r', marker='^', label='Predicted')\n",
    "\n",
    "    # 그래프 제목 및 축 레이블 설정\n",
    "    ax.set_title('Actual vs Predicted')\n",
    "    ax.set_xlabel('Latitude')\n",
    "    ax.set_ylabel('Longitude')\n",
    "    ax.set_zlabel('Altitude')\n",
    "\n",
    "    # 범례\n",
    "    ax.legend()\n",
    "\n",
    "    # 그래프를 화면에 출력\n",
    "    plt.show()"
   ]
  },
  {
   "cell_type": "markdown",
   "metadata": {
    "id": "fGM9fBqBfwu5"
   },
   "source": [
    "### 성능 테스트 함수"
   ]
  },
  {
   "cell_type": "code",
   "execution_count": 7,
   "metadata": {
    "execution": {
     "iopub.execute_input": "2024-10-21T02:51:16.155507Z",
     "iopub.status.busy": "2024-10-21T02:51:16.155088Z",
     "iopub.status.idle": "2024-10-21T02:51:16.184489Z",
     "shell.execute_reply": "2024-10-21T02:51:16.183553Z"
    },
    "id": "qlvRddZbf1VR"
   },
   "outputs": [],
   "source": [
    "from sklearn.metrics import mean_squared_error, mean_absolute_error\n",
    "\n",
    "def evaluation(y_test, y_pred):\n",
    "\n",
    "    # MSE (Mean Squared Error) 계산\n",
    "    mse = mean_squared_error(y_test, y_pred)\n",
    "    print(f\"Mean Squared Error: {mse}\")\n",
    "\n",
    "    # MAE (Mean Absolute Error) 계산\n",
    "    mae = mean_absolute_error(y_test, y_pred)\n",
    "    print(f\"Mean Absolute Error: {mae}\")\n",
    "\n",
    "    # 예측 결과와 실제 값을 비교하는 샘플 출력\n",
    "    for i in range(5):  # 예시로 첫 5개만 출력\n",
    "        print(f\"Actual: {y_test[i]}, Predicted: {y_pred[i]}\")"
   ]
  },
  {
   "cell_type": "markdown",
   "metadata": {
    "id": "RsoiT-rUcsbi"
   },
   "source": [
    "## 전처리"
   ]
  },
  {
   "cell_type": "markdown",
   "metadata": {
    "id": "94Vn_8PqFAuF"
   },
   "source": [
    "### 1. 데이터셋 가져오기"
   ]
  },
  {
   "cell_type": "code",
   "execution_count": 8,
   "metadata": {
    "execution": {
     "iopub.execute_input": "2024-10-21T02:51:16.188967Z",
     "iopub.status.busy": "2024-10-21T02:51:16.188556Z",
     "iopub.status.idle": "2024-10-21T02:51:16.582421Z",
     "shell.execute_reply": "2024-10-21T02:51:16.581224Z"
    },
    "id": "MuunCpw0crPo"
   },
   "outputs": [],
   "source": [
    "import pandas as pd\n",
    "\n",
    "# 데이터셋 가져오기 (필요시 저장 경로 수정)\n",
    "raw = pd.read_csv(\"OnboardGPS.csv\")"
   ]
  },
  {
   "cell_type": "markdown",
   "metadata": {
    "id": "sQIT3EF3FMuN"
   },
   "source": [
    "### 2. 데이터셋 전처리"
   ]
  },
  {
   "cell_type": "markdown",
   "metadata": {
    "id": "qQ85b8_jFO8N"
   },
   "source": [
    "- 데이터셋 보간\n",
    "- 소수점 절사\n",
    "- MinMaxScaling 적용\n"
   ]
  },
  {
   "cell_type": "code",
   "execution_count": 9,
   "metadata": {
    "colab": {
     "base_uri": "https://localhost:8080/"
    },
    "execution": {
     "iopub.execute_input": "2024-10-21T02:51:16.588363Z",
     "iopub.status.busy": "2024-10-21T02:51:16.587534Z",
     "iopub.status.idle": "2024-10-21T02:51:16.709652Z",
     "shell.execute_reply": "2024-10-21T02:51:16.708665Z"
    },
    "id": "0M4Mw46Ge5dr",
    "outputId": "88875373-f792-43d7-93a3-55285056cd73"
   },
   "outputs": [
    {
     "name": "stdout",
     "output_type": "stream",
     "text": [
      "['time', 'lat', 'lon', 'alt']\n"
     ]
    }
   ],
   "source": [
    "df = raw[['Timpstemp', ' lat', ' lon', ' alt']]\n",
    "\n",
    "new_x, lat = spline_interpolation(df['Timpstemp'] / 1e6 , df[' lat'])\n",
    "new_x, lon = spline_interpolation(df['Timpstemp'] / 1e6 , df[' lon'])\n",
    "new_x, alt = spline_interpolation(df['Timpstemp'] / 1e6 , df[' alt'])\n",
    "\n",
    "df = pd.DataFrame({\"time\":new_x, \"lat\":lat, \"lon\":lon, \"alt\":alt})\n",
    "\n",
    "df = truncation(df)\n",
    "scaler, df = min_max_scaling(df)"
   ]
  },
  {
   "cell_type": "markdown",
   "metadata": {
    "id": "KTLo_y-8e_vk"
   },
   "source": [
    "## 모델 선언"
   ]
  },
  {
   "cell_type": "markdown",
   "metadata": {
    "id": "aww71vYBFd42"
   },
   "source": [
    "### 1. 모델 클래스 선언\n",
    "- GRU를 사용한 모델 클래스 선언\n",
    "- 구조 : GRU + Fully Connected Layer"
   ]
  },
  {
   "cell_type": "code",
   "execution_count": 10,
   "metadata": {
    "execution": {
     "iopub.execute_input": "2024-10-21T02:51:16.767720Z",
     "iopub.status.busy": "2024-10-21T02:51:16.767354Z",
     "iopub.status.idle": "2024-10-21T02:51:18.802920Z",
     "shell.execute_reply": "2024-10-21T02:51:18.801892Z"
    },
    "id": "RjzKiSMhn7eY"
   },
   "outputs": [],
   "source": [
    "import torch\n",
    "import time\n",
    "import torch.nn as nn\n",
    "import torch.optim as optim\n",
    "from torch.utils.data import DataLoader, TensorDataset\n",
    "from sklearn.model_selection import train_test_split\n",
    "\n",
    "# 하이퍼파라미터와 모델 정의\n",
    "class GRUModel(nn.Module):\n",
    "    def __init__(self, input_size, hidden_units, output_size, num_layers):\n",
    "        super(GRUModel, self).__init__()\n",
    "        self.gru = nn.GRU(input_size, hidden_units, num_layers, batch_first=True)\n",
    "        self.fc = nn.Linear(hidden_units, output_size)\n",
    "\n",
    "    def forward(self, x):\n",
    "        out, _ = self.gru(x)\n",
    "        out = self.fc(out[:, -1, :])  # 마지막 타임스텝의 출력만 사용\n",
    "        return out"
   ]
  },
  {
   "cell_type": "code",
   "execution_count": 11,
   "metadata": {
    "execution": {
     "iopub.execute_input": "2024-10-21T02:51:18.807472Z",
     "iopub.status.busy": "2024-10-21T02:51:18.807097Z",
     "iopub.status.idle": "2024-10-21T02:51:18.813736Z",
     "shell.execute_reply": "2024-10-21T02:51:18.812776Z"
    },
    "id": "7xd1Of5bElQ1"
   },
   "outputs": [],
   "source": [
    "# 모델 학습 함수\n",
    "def train_model(model, criterion, optimizer, loader, device, history):\n",
    "    model.train()\n",
    "    total_loss = 0\n",
    "    for batch_x, batch_y in loader:\n",
    "        batch_x, batch_y = batch_x.to(device), batch_y.to(device)\n",
    "        optimizer.zero_grad()\n",
    "        output = model(batch_x)\n",
    "        loss = criterion(output, batch_y)\n",
    "        loss.backward()\n",
    "        optimizer.step()\n",
    "        total_loss += loss.item()\n",
    "\n",
    "    avg_loss = total_loss / len(loader)\n",
    "\n",
    "    # history가 주어지면 학습 손실 기록\n",
    "    if history is not None:\n",
    "        history['train_loss'].append(avg_loss)\n",
    "\n",
    "    return avg_loss"
   ]
  },
  {
   "cell_type": "code",
   "execution_count": 12,
   "metadata": {
    "execution": {
     "iopub.execute_input": "2024-10-21T02:51:18.818171Z",
     "iopub.status.busy": "2024-10-21T02:51:18.817753Z",
     "iopub.status.idle": "2024-10-21T02:51:18.826035Z",
     "shell.execute_reply": "2024-10-21T02:51:18.825115Z"
    },
    "id": "8JXnvwhBEnYc"
   },
   "outputs": [],
   "source": [
    "# 검증 및 테스트 함수\n",
    "def evaluate_model(model, criterion, loader, device, history):\n",
    "    model.eval()\n",
    "    total_loss = 0\n",
    "    true_values = []\n",
    "    predictions = []\n",
    "\n",
    "    start_time = time.time()  # 예측 시작 시간 기록\n",
    "\n",
    "    with torch.no_grad():\n",
    "        for batch_x, batch_y in loader:\n",
    "            batch_x, batch_y = batch_x.to(device), batch_y.to(device)\n",
    "            output = model(batch_x)\n",
    "            loss = criterion(output, batch_y)\n",
    "            total_loss += loss.item()\n",
    "            true_values.append(batch_y.cpu().numpy())\n",
    "            predictions.append(output.cpu().numpy())\n",
    "\n",
    "    end_time = time.time()  # 예측 종료 시간 기록\n",
    "    total_inference_time = end_time - start_time\n",
    "\n",
    "    # print(f\"Total Inference Time: {total_inference_time:.2f} seconds\")\n",
    "\n",
    "    avg_loss = total_loss / len(loader)\n",
    "\n",
    "    # history가 주어지면 검증 손실 기록\n",
    "    if history is not None:\n",
    "        history['val_loss'].append(avg_loss)\n",
    "\n",
    "    return avg_loss, true_values, predictions"
   ]
  },
  {
   "cell_type": "code",
   "execution_count": 13,
   "metadata": {
    "execution": {
     "iopub.execute_input": "2024-10-21T02:51:18.829298Z",
     "iopub.status.busy": "2024-10-21T02:51:18.828957Z",
     "iopub.status.idle": "2024-10-21T02:51:18.838077Z",
     "shell.execute_reply": "2024-10-21T02:51:18.837164Z"
    },
    "id": "isYX92PXyqwR"
   },
   "outputs": [],
   "source": [
    "# 데이터 로더 생성 함수\n",
    "def prepare_dataloader(df, batch_size, look_back=10, forward=0):\n",
    "\n",
    "  # train, validation, test 분리\n",
    "  train_data, val_data, test_data = split_train_val_test(df)\n",
    "\n",
    "  # 각 데이터셋에서 시퀀스 생성\n",
    "  X_train, y_train = create_sequences(train_data[['lat', 'lon', 'alt']], look_back, forward)\n",
    "  X_val, y_val = create_sequences(val_data[['lat', 'lon', 'alt']], look_back, forward)\n",
    "  X_test, y_test = create_sequences(test_data[['lat', 'lon', 'alt']], look_back, forward)\n",
    "\n",
    "  X_train = torch.tensor(X_train, dtype=torch.float32)\n",
    "  y_train = torch.tensor(y_train, dtype=torch.float32)\n",
    "  X_val = torch.tensor(X_val, dtype=torch.float32)\n",
    "  y_val = torch.tensor(y_val, dtype=torch.float32)\n",
    "  X_test = torch.tensor(X_test, dtype=torch.float32)\n",
    "  y_test = torch.tensor(y_test, dtype=torch.float32)\n",
    "\n",
    "  train_dataset = TensorDataset(X_train, y_train)\n",
    "  validation_dataset = TensorDataset(X_val, y_val)\n",
    "  test_dataset = TensorDataset(X_test, y_test)\n",
    "\n",
    "  # 데이터 로더 생성\n",
    "  train_loader = DataLoader(train_dataset, batch_size=batch_size, shuffle=True)\n",
    "  val_loader = DataLoader(validation_dataset, batch_size=batch_size, shuffle=False)\n",
    "  test_loader = DataLoader(test_dataset, batch_size=batch_size, shuffle=False)\n",
    "\n",
    "  return train_loader, val_loader, test_loader"
   ]
  },
  {
   "cell_type": "markdown",
   "metadata": {
    "id": "-Iwv_BBBLnPP"
   },
   "source": [
    "### 2. 하이퍼파라미터 불러오기"
   ]
  },
  {
   "cell_type": "code",
   "execution_count": 14,
   "metadata": {
    "colab": {
     "base_uri": "https://localhost:8080/"
    },
    "execution": {
     "iopub.execute_input": "2024-10-21T02:51:18.842176Z",
     "iopub.status.busy": "2024-10-21T02:51:18.841841Z",
     "iopub.status.idle": "2024-10-21T02:51:18.847420Z",
     "shell.execute_reply": "2024-10-21T02:51:18.846653Z"
    },
    "id": "tuTdbIjcLnPP",
    "outputId": "18bdaa7e-44dc-44eb-a91d-7dc4cbd24096"
   },
   "outputs": [
    {
     "name": "stdout",
     "output_type": "stream",
     "text": [
      "Loaded best hyperparameters: {'n_layers': 1, 'n_units_l0': 117, 'learning_rate': 0.0024064401794910207, 'batch_size': 26}\n"
     ]
    }
   ],
   "source": [
    "import json\n",
    "\n",
    "# 1. 저장된 하이퍼파라미터 불러오기\n",
    "with open(\"best_hyperparameters_gru.json\", \"r\") as f:\n",
    "    best_params = json.load(f)\n",
    "\n",
    "print(\"Loaded best hyperparameters:\", best_params)"
   ]
  },
  {
   "cell_type": "markdown",
   "metadata": {
    "id": "tP9R8oULh--X"
   },
   "source": [
    "## 학습"
   ]
  },
  {
   "cell_type": "markdown",
   "metadata": {
    "id": "DmWr8tC7F_PF"
   },
   "source": [
    "1. 시퀀스 생성\n",
    "2. Train, Validation, Test 분리\n",
    "3. DataLoader에 load"
   ]
  },
  {
   "cell_type": "markdown",
   "metadata": {
    "id": "perB1VoIHLKP"
   },
   "source": [
    "### 1. 최적의 파라미터로 모델 학습"
   ]
  },
  {
   "cell_type": "code",
   "execution_count": 15,
   "metadata": {
    "execution": {
     "iopub.execute_input": "2024-10-21T02:51:18.851885Z",
     "iopub.status.busy": "2024-10-21T02:51:18.851495Z",
     "iopub.status.idle": "2024-10-21T02:51:20.094239Z",
     "shell.execute_reply": "2024-10-21T02:51:20.092859Z"
    },
    "id": "54FjP83XHXbc"
   },
   "outputs": [
    {
     "name": "stderr",
     "output_type": "stream",
     "text": [
      "/home/202004182/anaconda3/envs/env0/lib/python3.10/site-packages/torch/cuda/__init__.py:128: UserWarning: CUDA initialization: The NVIDIA driver on your system is too old (found version 11050). Please update your GPU driver by downloading and installing a new version from the URL: http://www.nvidia.com/Download/index.aspx Alternatively, go to: https://pytorch.org to install a PyTorch version that has been compiled with your version of the CUDA driver. (Triggered internally at /opt/conda/conda-bld/pytorch_1720538459595/work/c10/cuda/CUDAFunctions.cpp:108.)\n",
      "  return torch._C._cuda_getDeviceCount() > 0\n"
     ]
    }
   ],
   "source": [
    "# 최적의 모델 학습\n",
    "# best_params = study.best_params\n",
    "\n",
    "train_loader, val_loader, test_loader = prepare_dataloader(df, best_params['batch_size'])\n",
    "\n",
    "best_model = GRUModel(input_size=3, hidden_units=best_params['n_units_l0'], output_size=3, num_layers=best_params['n_layers'])\n",
    "device = torch.device('cuda' if torch.cuda.is_available() else 'cpu')\n",
    "best_model = best_model.to(device)\n",
    "\n",
    "optimizer = torch.optim.Adam(best_model.parameters(), lr=best_params['learning_rate'])\n",
    "criterion = torch.nn.MSELoss()"
   ]
  },
  {
   "cell_type": "code",
   "execution_count": 16,
   "metadata": {
    "colab": {
     "base_uri": "https://localhost:8080/"
    },
    "execution": {
     "iopub.execute_input": "2024-10-21T02:51:20.099359Z",
     "iopub.status.busy": "2024-10-21T02:51:20.098796Z",
     "iopub.status.idle": "2024-10-21T02:56:42.830390Z",
     "shell.execute_reply": "2024-10-21T02:56:42.829409Z"
    },
    "id": "qxArMqFGHxUu",
    "outputId": "25ba1de2-b515-4eb8-a486-0b2210c5b93f"
   },
   "outputs": [
    {
     "name": "stdout",
     "output_type": "stream",
     "text": [
      "Epoch [1/300], Train Loss: 2.2244, Val Loss: 0.0193\n",
      "Epoch 1/300 completed in 1.17 seconds.\n"
     ]
    },
    {
     "name": "stdout",
     "output_type": "stream",
     "text": [
      "Epoch [2/300], Train Loss: 0.0352, Val Loss: 0.0042\n",
      "Epoch 2/300 completed in 1.01 seconds.\n"
     ]
    },
    {
     "name": "stdout",
     "output_type": "stream",
     "text": [
      "Epoch [3/300], Train Loss: 0.0125, Val Loss: 0.0034\n",
      "Epoch 3/300 completed in 1.10 seconds.\n"
     ]
    },
    {
     "name": "stdout",
     "output_type": "stream",
     "text": [
      "Epoch [4/300], Train Loss: 0.0113, Val Loss: 0.0037\n",
      "Epoch 4/300 completed in 0.92 seconds.\n"
     ]
    },
    {
     "name": "stdout",
     "output_type": "stream",
     "text": [
      "Epoch [5/300], Train Loss: 0.0097, Val Loss: 0.0042\n",
      "Epoch 5/300 completed in 0.91 seconds.\n"
     ]
    },
    {
     "name": "stdout",
     "output_type": "stream",
     "text": [
      "Epoch [6/300], Train Loss: 0.0082, Val Loss: 0.0021\n",
      "Epoch 6/300 completed in 0.94 seconds.\n"
     ]
    },
    {
     "name": "stdout",
     "output_type": "stream",
     "text": [
      "Epoch [7/300], Train Loss: 0.0075, Val Loss: 0.0020\n",
      "Epoch 7/300 completed in 0.92 seconds.\n"
     ]
    },
    {
     "name": "stdout",
     "output_type": "stream",
     "text": [
      "Epoch [8/300], Train Loss: 0.0063, Val Loss: 0.0026\n",
      "Epoch 8/300 completed in 0.93 seconds.\n"
     ]
    },
    {
     "name": "stdout",
     "output_type": "stream",
     "text": [
      "Epoch [9/300], Train Loss: 0.0066, Val Loss: 0.0017\n",
      "Epoch 9/300 completed in 0.90 seconds.\n"
     ]
    },
    {
     "name": "stdout",
     "output_type": "stream",
     "text": [
      "Epoch [10/300], Train Loss: 0.0058, Val Loss: 0.0016\n",
      "Epoch 10/300 completed in 0.87 seconds.\n"
     ]
    },
    {
     "name": "stdout",
     "output_type": "stream",
     "text": [
      "Epoch [11/300], Train Loss: 0.0063, Val Loss: 0.0018\n",
      "Epoch 11/300 completed in 1.13 seconds.\n"
     ]
    },
    {
     "name": "stdout",
     "output_type": "stream",
     "text": [
      "Epoch [12/300], Train Loss: 0.0052, Val Loss: 0.0015\n",
      "Epoch 12/300 completed in 0.93 seconds.\n"
     ]
    },
    {
     "name": "stdout",
     "output_type": "stream",
     "text": [
      "Epoch [13/300], Train Loss: 0.0047, Val Loss: 0.0017\n",
      "Epoch 13/300 completed in 0.92 seconds.\n"
     ]
    },
    {
     "name": "stdout",
     "output_type": "stream",
     "text": [
      "Epoch [14/300], Train Loss: 0.0043, Val Loss: 0.0013\n",
      "Epoch 14/300 completed in 1.04 seconds.\n"
     ]
    },
    {
     "name": "stdout",
     "output_type": "stream",
     "text": [
      "Epoch [15/300], Train Loss: 0.0041, Val Loss: 0.0011\n",
      "Epoch 15/300 completed in 0.93 seconds.\n"
     ]
    },
    {
     "name": "stdout",
     "output_type": "stream",
     "text": [
      "Epoch [16/300], Train Loss: 0.0042, Val Loss: 0.0016\n",
      "Epoch 16/300 completed in 0.89 seconds.\n"
     ]
    },
    {
     "name": "stdout",
     "output_type": "stream",
     "text": [
      "Epoch [17/300], Train Loss: 0.0049, Val Loss: 0.0025\n",
      "Epoch 17/300 completed in 0.88 seconds.\n"
     ]
    },
    {
     "name": "stdout",
     "output_type": "stream",
     "text": [
      "Epoch [18/300], Train Loss: 0.0045, Val Loss: 0.0029\n",
      "Epoch 18/300 completed in 0.92 seconds.\n"
     ]
    },
    {
     "name": "stdout",
     "output_type": "stream",
     "text": [
      "Epoch [19/300], Train Loss: 0.0034, Val Loss: 0.0011\n",
      "Epoch 19/300 completed in 0.91 seconds.\n"
     ]
    },
    {
     "name": "stdout",
     "output_type": "stream",
     "text": [
      "Epoch [20/300], Train Loss: 0.0068, Val Loss: 0.0018\n",
      "Epoch 20/300 completed in 0.90 seconds.\n"
     ]
    },
    {
     "name": "stdout",
     "output_type": "stream",
     "text": [
      "Epoch [21/300], Train Loss: 0.0042, Val Loss: 0.0012\n",
      "Epoch 21/300 completed in 0.86 seconds.\n"
     ]
    },
    {
     "name": "stdout",
     "output_type": "stream",
     "text": [
      "Epoch [22/300], Train Loss: 0.0041, Val Loss: 0.0031\n",
      "Epoch 22/300 completed in 0.93 seconds.\n"
     ]
    },
    {
     "name": "stdout",
     "output_type": "stream",
     "text": [
      "Epoch [23/300], Train Loss: 0.0045, Val Loss: 0.0014\n",
      "Epoch 23/300 completed in 1.00 seconds.\n"
     ]
    },
    {
     "name": "stdout",
     "output_type": "stream",
     "text": [
      "Epoch [24/300], Train Loss: 0.0031, Val Loss: 0.0013\n",
      "Epoch 24/300 completed in 0.84 seconds.\n"
     ]
    },
    {
     "name": "stdout",
     "output_type": "stream",
     "text": [
      "Epoch [25/300], Train Loss: 0.0048, Val Loss: 0.0016\n",
      "Epoch 25/300 completed in 0.98 seconds.\n"
     ]
    },
    {
     "name": "stdout",
     "output_type": "stream",
     "text": [
      "Epoch [26/300], Train Loss: 0.0038, Val Loss: 0.0009\n",
      "Epoch 26/300 completed in 0.84 seconds.\n"
     ]
    },
    {
     "name": "stdout",
     "output_type": "stream",
     "text": [
      "Epoch [27/300], Train Loss: 0.0034, Val Loss: 0.0027\n",
      "Epoch 27/300 completed in 0.95 seconds.\n"
     ]
    },
    {
     "name": "stdout",
     "output_type": "stream",
     "text": [
      "Epoch [28/300], Train Loss: 0.0050, Val Loss: 0.0012\n",
      "Epoch 28/300 completed in 1.05 seconds.\n"
     ]
    },
    {
     "name": "stdout",
     "output_type": "stream",
     "text": [
      "Epoch [29/300], Train Loss: 0.0038, Val Loss: 0.0009\n",
      "Epoch 29/300 completed in 0.83 seconds.\n"
     ]
    },
    {
     "name": "stdout",
     "output_type": "stream",
     "text": [
      "Epoch [30/300], Train Loss: 0.0034, Val Loss: 0.0019\n",
      "Epoch 30/300 completed in 0.90 seconds.\n"
     ]
    },
    {
     "name": "stdout",
     "output_type": "stream",
     "text": [
      "Epoch [31/300], Train Loss: 0.0038, Val Loss: 0.0013\n",
      "Epoch 31/300 completed in 0.87 seconds.\n"
     ]
    },
    {
     "name": "stdout",
     "output_type": "stream",
     "text": [
      "Epoch [32/300], Train Loss: 0.0032, Val Loss: 0.0011\n",
      "Epoch 32/300 completed in 0.84 seconds.\n"
     ]
    },
    {
     "name": "stdout",
     "output_type": "stream",
     "text": [
      "Epoch [33/300], Train Loss: 0.0035, Val Loss: 0.0020\n",
      "Epoch 33/300 completed in 1.02 seconds.\n"
     ]
    },
    {
     "name": "stdout",
     "output_type": "stream",
     "text": [
      "Epoch [34/300], Train Loss: 0.0039, Val Loss: 0.0012\n",
      "Epoch 34/300 completed in 0.86 seconds.\n"
     ]
    },
    {
     "name": "stdout",
     "output_type": "stream",
     "text": [
      "Epoch [35/300], Train Loss: 0.0046, Val Loss: 0.0010\n",
      "Epoch 35/300 completed in 0.90 seconds.\n"
     ]
    },
    {
     "name": "stdout",
     "output_type": "stream",
     "text": [
      "Epoch [36/300], Train Loss: 0.0038, Val Loss: 0.0015\n",
      "Epoch 36/300 completed in 1.03 seconds.\n"
     ]
    },
    {
     "name": "stdout",
     "output_type": "stream",
     "text": [
      "Epoch [37/300], Train Loss: 0.0034, Val Loss: 0.0015\n",
      "Epoch 37/300 completed in 0.90 seconds.\n"
     ]
    },
    {
     "name": "stdout",
     "output_type": "stream",
     "text": [
      "Epoch [38/300], Train Loss: 0.0039, Val Loss: 0.0009\n",
      "Epoch 38/300 completed in 1.05 seconds.\n"
     ]
    },
    {
     "name": "stdout",
     "output_type": "stream",
     "text": [
      "Epoch [39/300], Train Loss: 0.0025, Val Loss: 0.0008\n",
      "Epoch 39/300 completed in 0.92 seconds.\n"
     ]
    },
    {
     "name": "stdout",
     "output_type": "stream",
     "text": [
      "Epoch [40/300], Train Loss: 0.0027, Val Loss: 0.0018\n",
      "Epoch 40/300 completed in 1.07 seconds.\n"
     ]
    },
    {
     "name": "stdout",
     "output_type": "stream",
     "text": [
      "Epoch [41/300], Train Loss: 0.0034, Val Loss: 0.0008\n",
      "Epoch 41/300 completed in 0.88 seconds.\n"
     ]
    },
    {
     "name": "stdout",
     "output_type": "stream",
     "text": [
      "Epoch [42/300], Train Loss: 0.0027, Val Loss: 0.0008\n",
      "Epoch 42/300 completed in 1.10 seconds.\n"
     ]
    },
    {
     "name": "stdout",
     "output_type": "stream",
     "text": [
      "Epoch [43/300], Train Loss: 0.0032, Val Loss: 0.0013\n",
      "Epoch 43/300 completed in 1.13 seconds.\n"
     ]
    },
    {
     "name": "stdout",
     "output_type": "stream",
     "text": [
      "Epoch [44/300], Train Loss: 0.0063, Val Loss: 0.0015\n",
      "Epoch 44/300 completed in 0.99 seconds.\n"
     ]
    },
    {
     "name": "stdout",
     "output_type": "stream",
     "text": [
      "Epoch [45/300], Train Loss: 0.0025, Val Loss: 0.0007\n",
      "Epoch 45/300 completed in 0.95 seconds.\n"
     ]
    },
    {
     "name": "stdout",
     "output_type": "stream",
     "text": [
      "Epoch [46/300], Train Loss: 0.0029, Val Loss: 0.0014\n",
      "Epoch 46/300 completed in 0.89 seconds.\n"
     ]
    },
    {
     "name": "stdout",
     "output_type": "stream",
     "text": [
      "Epoch [47/300], Train Loss: 0.0027, Val Loss: 0.0008\n",
      "Epoch 47/300 completed in 1.14 seconds.\n"
     ]
    },
    {
     "name": "stdout",
     "output_type": "stream",
     "text": [
      "Epoch [48/300], Train Loss: 0.0029, Val Loss: 0.0008\n",
      "Epoch 48/300 completed in 0.93 seconds.\n"
     ]
    },
    {
     "name": "stdout",
     "output_type": "stream",
     "text": [
      "Epoch [49/300], Train Loss: 0.0033, Val Loss: 0.0009\n",
      "Epoch 49/300 completed in 0.88 seconds.\n"
     ]
    },
    {
     "name": "stdout",
     "output_type": "stream",
     "text": [
      "Epoch [50/300], Train Loss: 0.0028, Val Loss: 0.0010\n",
      "Model saved: ./output_model/best_model_epoch_50.pth\n",
      "Epoch 50/300 completed in 0.94 seconds.\n"
     ]
    },
    {
     "name": "stdout",
     "output_type": "stream",
     "text": [
      "Epoch [51/300], Train Loss: 0.0029, Val Loss: 0.0008\n",
      "Epoch 51/300 completed in 1.04 seconds.\n"
     ]
    },
    {
     "name": "stdout",
     "output_type": "stream",
     "text": [
      "Epoch [52/300], Train Loss: 0.0037, Val Loss: 0.0010\n",
      "Epoch 52/300 completed in 1.01 seconds.\n"
     ]
    },
    {
     "name": "stdout",
     "output_type": "stream",
     "text": [
      "Epoch [53/300], Train Loss: 0.0025, Val Loss: 0.0008\n",
      "Epoch 53/300 completed in 1.12 seconds.\n"
     ]
    },
    {
     "name": "stdout",
     "output_type": "stream",
     "text": [
      "Epoch [54/300], Train Loss: 0.0028, Val Loss: 0.0008\n",
      "Epoch 54/300 completed in 0.91 seconds.\n"
     ]
    },
    {
     "name": "stdout",
     "output_type": "stream",
     "text": [
      "Epoch [55/300], Train Loss: 0.0026, Val Loss: 0.0012\n",
      "Epoch 55/300 completed in 1.09 seconds.\n"
     ]
    },
    {
     "name": "stdout",
     "output_type": "stream",
     "text": [
      "Epoch [56/300], Train Loss: 0.0031, Val Loss: 0.0009\n",
      "Epoch 56/300 completed in 1.07 seconds.\n"
     ]
    },
    {
     "name": "stdout",
     "output_type": "stream",
     "text": [
      "Epoch [57/300], Train Loss: 0.0036, Val Loss: 0.0021\n",
      "Epoch 57/300 completed in 1.13 seconds.\n"
     ]
    },
    {
     "name": "stdout",
     "output_type": "stream",
     "text": [
      "Epoch [58/300], Train Loss: 0.0028, Val Loss: 0.0011\n",
      "Epoch 58/300 completed in 1.10 seconds.\n"
     ]
    },
    {
     "name": "stdout",
     "output_type": "stream",
     "text": [
      "Epoch [59/300], Train Loss: 0.0026, Val Loss: 0.0008\n",
      "Epoch 59/300 completed in 0.88 seconds.\n"
     ]
    },
    {
     "name": "stdout",
     "output_type": "stream",
     "text": [
      "Epoch [60/300], Train Loss: 0.0030, Val Loss: 0.0015\n",
      "Epoch 60/300 completed in 1.03 seconds.\n"
     ]
    },
    {
     "name": "stdout",
     "output_type": "stream",
     "text": [
      "Epoch [61/300], Train Loss: 0.0029, Val Loss: 0.0008\n",
      "Epoch 61/300 completed in 0.98 seconds.\n"
     ]
    },
    {
     "name": "stdout",
     "output_type": "stream",
     "text": [
      "Epoch [62/300], Train Loss: 0.0024, Val Loss: 0.0009\n",
      "Epoch 62/300 completed in 1.09 seconds.\n"
     ]
    },
    {
     "name": "stdout",
     "output_type": "stream",
     "text": [
      "Epoch [63/300], Train Loss: 0.0028, Val Loss: 0.0008\n",
      "Epoch 63/300 completed in 1.23 seconds.\n"
     ]
    },
    {
     "name": "stdout",
     "output_type": "stream",
     "text": [
      "Epoch [64/300], Train Loss: 0.0026, Val Loss: 0.0015\n",
      "Epoch 64/300 completed in 0.95 seconds.\n"
     ]
    },
    {
     "name": "stdout",
     "output_type": "stream",
     "text": [
      "Epoch [65/300], Train Loss: 0.0026, Val Loss: 0.0014\n",
      "Epoch 65/300 completed in 1.12 seconds.\n"
     ]
    },
    {
     "name": "stdout",
     "output_type": "stream",
     "text": [
      "Epoch [66/300], Train Loss: 0.0028, Val Loss: 0.0016\n",
      "Epoch 66/300 completed in 0.91 seconds.\n"
     ]
    },
    {
     "name": "stdout",
     "output_type": "stream",
     "text": [
      "Epoch [67/300], Train Loss: 0.0039, Val Loss: 0.0012\n",
      "Epoch 67/300 completed in 1.01 seconds.\n"
     ]
    },
    {
     "name": "stdout",
     "output_type": "stream",
     "text": [
      "Epoch [68/300], Train Loss: 0.0035, Val Loss: 0.0010\n",
      "Epoch 68/300 completed in 0.89 seconds.\n"
     ]
    },
    {
     "name": "stdout",
     "output_type": "stream",
     "text": [
      "Epoch [69/300], Train Loss: 0.0026, Val Loss: 0.0014\n",
      "Epoch 69/300 completed in 0.89 seconds.\n"
     ]
    },
    {
     "name": "stdout",
     "output_type": "stream",
     "text": [
      "Epoch [70/300], Train Loss: 0.0023, Val Loss: 0.0007\n",
      "Epoch 70/300 completed in 1.02 seconds.\n"
     ]
    },
    {
     "name": "stdout",
     "output_type": "stream",
     "text": [
      "Epoch [71/300], Train Loss: 0.0024, Val Loss: 0.0013\n",
      "Epoch 71/300 completed in 0.94 seconds.\n"
     ]
    },
    {
     "name": "stdout",
     "output_type": "stream",
     "text": [
      "Epoch [72/300], Train Loss: 0.0025, Val Loss: 0.0007\n",
      "Epoch 72/300 completed in 0.90 seconds.\n"
     ]
    },
    {
     "name": "stdout",
     "output_type": "stream",
     "text": [
      "Epoch [73/300], Train Loss: 0.0024, Val Loss: 0.0013\n",
      "Epoch 73/300 completed in 0.99 seconds.\n"
     ]
    },
    {
     "name": "stdout",
     "output_type": "stream",
     "text": [
      "Epoch [74/300], Train Loss: 0.0053, Val Loss: 0.0010\n",
      "Epoch 74/300 completed in 1.13 seconds.\n"
     ]
    },
    {
     "name": "stdout",
     "output_type": "stream",
     "text": [
      "Epoch [75/300], Train Loss: 0.0028, Val Loss: 0.0007\n",
      "Epoch 75/300 completed in 1.18 seconds.\n"
     ]
    },
    {
     "name": "stdout",
     "output_type": "stream",
     "text": [
      "Epoch [76/300], Train Loss: 0.0023, Val Loss: 0.0015\n",
      "Epoch 76/300 completed in 1.13 seconds.\n"
     ]
    },
    {
     "name": "stdout",
     "output_type": "stream",
     "text": [
      "Epoch [77/300], Train Loss: 0.0031, Val Loss: 0.0021\n",
      "Epoch 77/300 completed in 0.93 seconds.\n"
     ]
    },
    {
     "name": "stdout",
     "output_type": "stream",
     "text": [
      "Epoch [78/300], Train Loss: 0.0023, Val Loss: 0.0008\n",
      "Epoch 78/300 completed in 0.93 seconds.\n"
     ]
    },
    {
     "name": "stdout",
     "output_type": "stream",
     "text": [
      "Epoch [79/300], Train Loss: 0.0022, Val Loss: 0.0010\n",
      "Epoch 79/300 completed in 1.10 seconds.\n"
     ]
    },
    {
     "name": "stdout",
     "output_type": "stream",
     "text": [
      "Epoch [80/300], Train Loss: 0.0022, Val Loss: 0.0008\n",
      "Epoch 80/300 completed in 0.93 seconds.\n"
     ]
    },
    {
     "name": "stdout",
     "output_type": "stream",
     "text": [
      "Epoch [81/300], Train Loss: 0.0026, Val Loss: 0.0011\n",
      "Epoch 81/300 completed in 0.84 seconds.\n"
     ]
    },
    {
     "name": "stdout",
     "output_type": "stream",
     "text": [
      "Epoch [82/300], Train Loss: 0.0024, Val Loss: 0.0007\n",
      "Epoch 82/300 completed in 0.94 seconds.\n"
     ]
    },
    {
     "name": "stdout",
     "output_type": "stream",
     "text": [
      "Epoch [83/300], Train Loss: 0.0023, Val Loss: 0.0009\n",
      "Epoch 83/300 completed in 0.91 seconds.\n"
     ]
    },
    {
     "name": "stdout",
     "output_type": "stream",
     "text": [
      "Epoch [84/300], Train Loss: 0.0035, Val Loss: 0.0014\n",
      "Epoch 84/300 completed in 0.84 seconds.\n"
     ]
    },
    {
     "name": "stdout",
     "output_type": "stream",
     "text": [
      "Epoch [85/300], Train Loss: 0.0024, Val Loss: 0.0011\n",
      "Epoch 85/300 completed in 0.91 seconds.\n"
     ]
    },
    {
     "name": "stdout",
     "output_type": "stream",
     "text": [
      "Epoch [86/300], Train Loss: 0.0023, Val Loss: 0.0012\n",
      "Epoch 86/300 completed in 0.86 seconds.\n"
     ]
    },
    {
     "name": "stdout",
     "output_type": "stream",
     "text": [
      "Epoch [87/300], Train Loss: 0.0025, Val Loss: 0.0014\n",
      "Epoch 87/300 completed in 1.11 seconds.\n"
     ]
    },
    {
     "name": "stdout",
     "output_type": "stream",
     "text": [
      "Epoch [88/300], Train Loss: 0.0024, Val Loss: 0.0012\n",
      "Epoch 88/300 completed in 0.92 seconds.\n"
     ]
    },
    {
     "name": "stdout",
     "output_type": "stream",
     "text": [
      "Epoch [89/300], Train Loss: 0.0024, Val Loss: 0.0012\n",
      "Epoch 89/300 completed in 1.03 seconds.\n"
     ]
    },
    {
     "name": "stdout",
     "output_type": "stream",
     "text": [
      "Epoch [90/300], Train Loss: 0.0025, Val Loss: 0.0008\n",
      "Epoch 90/300 completed in 0.87 seconds.\n"
     ]
    },
    {
     "name": "stdout",
     "output_type": "stream",
     "text": [
      "Epoch [91/300], Train Loss: 0.0022, Val Loss: 0.0015\n",
      "Epoch 91/300 completed in 1.02 seconds.\n"
     ]
    },
    {
     "name": "stdout",
     "output_type": "stream",
     "text": [
      "Epoch [92/300], Train Loss: 0.0022, Val Loss: 0.0017\n",
      "Epoch 92/300 completed in 0.89 seconds.\n"
     ]
    },
    {
     "name": "stdout",
     "output_type": "stream",
     "text": [
      "Epoch [93/300], Train Loss: 0.0022, Val Loss: 0.0008\n",
      "Epoch 93/300 completed in 1.01 seconds.\n"
     ]
    },
    {
     "name": "stdout",
     "output_type": "stream",
     "text": [
      "Epoch [94/300], Train Loss: 0.0025, Val Loss: 0.0015\n",
      "Epoch 94/300 completed in 0.85 seconds.\n"
     ]
    },
    {
     "name": "stdout",
     "output_type": "stream",
     "text": [
      "Epoch [95/300], Train Loss: 0.0025, Val Loss: 0.0008\n",
      "Epoch 95/300 completed in 0.89 seconds.\n"
     ]
    },
    {
     "name": "stdout",
     "output_type": "stream",
     "text": [
      "Epoch [96/300], Train Loss: 0.0020, Val Loss: 0.0010\n",
      "Epoch 96/300 completed in 0.96 seconds.\n"
     ]
    },
    {
     "name": "stdout",
     "output_type": "stream",
     "text": [
      "Epoch [97/300], Train Loss: 0.0025, Val Loss: 0.0013\n",
      "Epoch 97/300 completed in 0.89 seconds.\n"
     ]
    },
    {
     "name": "stdout",
     "output_type": "stream",
     "text": [
      "Epoch [98/300], Train Loss: 0.0020, Val Loss: 0.0011\n",
      "Epoch 98/300 completed in 1.03 seconds.\n"
     ]
    },
    {
     "name": "stdout",
     "output_type": "stream",
     "text": [
      "Epoch [99/300], Train Loss: 0.0024, Val Loss: 0.0008\n",
      "Epoch 99/300 completed in 1.02 seconds.\n"
     ]
    },
    {
     "name": "stdout",
     "output_type": "stream",
     "text": [
      "Epoch [100/300], Train Loss: 0.0022, Val Loss: 0.0009\n",
      "Model saved: ./output_model/best_model_epoch_100.pth\n",
      "Epoch 100/300 completed in 0.88 seconds.\n"
     ]
    },
    {
     "name": "stdout",
     "output_type": "stream",
     "text": [
      "Epoch [101/300], Train Loss: 0.0034, Val Loss: 0.0012\n",
      "Epoch 101/300 completed in 1.04 seconds.\n"
     ]
    },
    {
     "name": "stdout",
     "output_type": "stream",
     "text": [
      "Epoch [102/300], Train Loss: 0.0022, Val Loss: 0.0010\n",
      "Epoch 102/300 completed in 0.85 seconds.\n"
     ]
    },
    {
     "name": "stdout",
     "output_type": "stream",
     "text": [
      "Epoch [103/300], Train Loss: 0.0026, Val Loss: 0.0010\n",
      "Epoch 103/300 completed in 1.04 seconds.\n"
     ]
    },
    {
     "name": "stdout",
     "output_type": "stream",
     "text": [
      "Epoch [104/300], Train Loss: 0.0028, Val Loss: 0.0010\n",
      "Epoch 104/300 completed in 0.87 seconds.\n"
     ]
    },
    {
     "name": "stdout",
     "output_type": "stream",
     "text": [
      "Epoch [105/300], Train Loss: 0.0022, Val Loss: 0.0007\n",
      "Epoch 105/300 completed in 1.11 seconds.\n"
     ]
    },
    {
     "name": "stdout",
     "output_type": "stream",
     "text": [
      "Epoch [106/300], Train Loss: 0.0021, Val Loss: 0.0014\n",
      "Epoch 106/300 completed in 1.05 seconds.\n"
     ]
    },
    {
     "name": "stdout",
     "output_type": "stream",
     "text": [
      "Epoch [107/300], Train Loss: 0.0020, Val Loss: 0.0007\n",
      "Epoch 107/300 completed in 1.13 seconds.\n"
     ]
    },
    {
     "name": "stdout",
     "output_type": "stream",
     "text": [
      "Epoch [108/300], Train Loss: 0.0021, Val Loss: 0.0008\n",
      "Epoch 108/300 completed in 0.84 seconds.\n"
     ]
    },
    {
     "name": "stdout",
     "output_type": "stream",
     "text": [
      "Epoch [109/300], Train Loss: 0.0029, Val Loss: 0.0019\n",
      "Epoch 109/300 completed in 0.91 seconds.\n"
     ]
    },
    {
     "name": "stdout",
     "output_type": "stream",
     "text": [
      "Epoch [110/300], Train Loss: 0.0027, Val Loss: 0.0011\n",
      "Epoch 110/300 completed in 0.88 seconds.\n"
     ]
    },
    {
     "name": "stdout",
     "output_type": "stream",
     "text": [
      "Epoch [111/300], Train Loss: 0.0020, Val Loss: 0.0009\n",
      "Epoch 111/300 completed in 1.04 seconds.\n"
     ]
    },
    {
     "name": "stdout",
     "output_type": "stream",
     "text": [
      "Epoch [112/300], Train Loss: 0.0022, Val Loss: 0.0010\n",
      "Epoch 112/300 completed in 1.38 seconds.\n"
     ]
    },
    {
     "name": "stdout",
     "output_type": "stream",
     "text": [
      "Epoch [113/300], Train Loss: 0.0018, Val Loss: 0.0018\n",
      "Epoch 113/300 completed in 0.87 seconds.\n"
     ]
    },
    {
     "name": "stdout",
     "output_type": "stream",
     "text": [
      "Epoch [114/300], Train Loss: 0.0022, Val Loss: 0.0012\n",
      "Epoch 114/300 completed in 1.08 seconds.\n"
     ]
    },
    {
     "name": "stdout",
     "output_type": "stream",
     "text": [
      "Epoch [115/300], Train Loss: 0.0021, Val Loss: 0.0015\n",
      "Epoch 115/300 completed in 0.91 seconds.\n"
     ]
    },
    {
     "name": "stdout",
     "output_type": "stream",
     "text": [
      "Epoch [116/300], Train Loss: 0.0025, Val Loss: 0.0020\n",
      "Epoch 116/300 completed in 1.19 seconds.\n"
     ]
    },
    {
     "name": "stdout",
     "output_type": "stream",
     "text": [
      "Epoch [117/300], Train Loss: 0.0023, Val Loss: 0.0008\n",
      "Epoch 117/300 completed in 0.99 seconds.\n"
     ]
    },
    {
     "name": "stdout",
     "output_type": "stream",
     "text": [
      "Epoch [118/300], Train Loss: 0.0024, Val Loss: 0.0010\n",
      "Epoch 118/300 completed in 0.96 seconds.\n"
     ]
    },
    {
     "name": "stdout",
     "output_type": "stream",
     "text": [
      "Epoch [119/300], Train Loss: 0.0023, Val Loss: 0.0016\n",
      "Epoch 119/300 completed in 0.92 seconds.\n"
     ]
    },
    {
     "name": "stdout",
     "output_type": "stream",
     "text": [
      "Epoch [120/300], Train Loss: 0.0025, Val Loss: 0.0008\n",
      "Epoch 120/300 completed in 0.93 seconds.\n"
     ]
    },
    {
     "name": "stdout",
     "output_type": "stream",
     "text": [
      "Epoch [121/300], Train Loss: 0.0022, Val Loss: 0.0008\n",
      "Epoch 121/300 completed in 0.92 seconds.\n"
     ]
    },
    {
     "name": "stdout",
     "output_type": "stream",
     "text": [
      "Epoch [122/300], Train Loss: 0.0020, Val Loss: 0.0008\n",
      "Epoch 122/300 completed in 1.13 seconds.\n"
     ]
    },
    {
     "name": "stdout",
     "output_type": "stream",
     "text": [
      "Epoch [123/300], Train Loss: 0.0022, Val Loss: 0.0011\n",
      "Epoch 123/300 completed in 0.87 seconds.\n"
     ]
    },
    {
     "name": "stdout",
     "output_type": "stream",
     "text": [
      "Epoch [124/300], Train Loss: 0.0019, Val Loss: 0.0012\n",
      "Epoch 124/300 completed in 1.25 seconds.\n"
     ]
    },
    {
     "name": "stdout",
     "output_type": "stream",
     "text": [
      "Epoch [125/300], Train Loss: 0.0023, Val Loss: 0.0014\n",
      "Epoch 125/300 completed in 0.87 seconds.\n"
     ]
    },
    {
     "name": "stdout",
     "output_type": "stream",
     "text": [
      "Epoch [126/300], Train Loss: 0.0025, Val Loss: 0.0014\n",
      "Epoch 126/300 completed in 1.00 seconds.\n"
     ]
    },
    {
     "name": "stdout",
     "output_type": "stream",
     "text": [
      "Epoch [127/300], Train Loss: 0.0021, Val Loss: 0.0015\n",
      "Epoch 127/300 completed in 1.29 seconds.\n"
     ]
    },
    {
     "name": "stdout",
     "output_type": "stream",
     "text": [
      "Epoch [128/300], Train Loss: 0.0023, Val Loss: 0.0008\n",
      "Epoch 128/300 completed in 1.11 seconds.\n"
     ]
    },
    {
     "name": "stdout",
     "output_type": "stream",
     "text": [
      "Epoch [129/300], Train Loss: 0.0020, Val Loss: 0.0013\n",
      "Epoch 129/300 completed in 1.10 seconds.\n"
     ]
    },
    {
     "name": "stdout",
     "output_type": "stream",
     "text": [
      "Epoch [130/300], Train Loss: 0.0022, Val Loss: 0.0010\n",
      "Epoch 130/300 completed in 1.31 seconds.\n"
     ]
    },
    {
     "name": "stdout",
     "output_type": "stream",
     "text": [
      "Epoch [131/300], Train Loss: 0.0019, Val Loss: 0.0016\n",
      "Epoch 131/300 completed in 1.10 seconds.\n"
     ]
    },
    {
     "name": "stdout",
     "output_type": "stream",
     "text": [
      "Epoch [132/300], Train Loss: 0.0020, Val Loss: 0.0009\n",
      "Epoch 132/300 completed in 0.98 seconds.\n"
     ]
    },
    {
     "name": "stdout",
     "output_type": "stream",
     "text": [
      "Epoch [133/300], Train Loss: 0.0020, Val Loss: 0.0008\n",
      "Epoch 133/300 completed in 0.86 seconds.\n"
     ]
    },
    {
     "name": "stdout",
     "output_type": "stream",
     "text": [
      "Epoch [134/300], Train Loss: 0.0022, Val Loss: 0.0010\n",
      "Epoch 134/300 completed in 0.86 seconds.\n"
     ]
    },
    {
     "name": "stdout",
     "output_type": "stream",
     "text": [
      "Epoch [135/300], Train Loss: 0.0023, Val Loss: 0.0013\n",
      "Epoch 135/300 completed in 1.06 seconds.\n"
     ]
    },
    {
     "name": "stdout",
     "output_type": "stream",
     "text": [
      "Epoch [136/300], Train Loss: 0.0019, Val Loss: 0.0009\n",
      "Epoch 136/300 completed in 0.92 seconds.\n"
     ]
    },
    {
     "name": "stdout",
     "output_type": "stream",
     "text": [
      "Epoch [137/300], Train Loss: 0.0022, Val Loss: 0.0018\n",
      "Epoch 137/300 completed in 1.05 seconds.\n"
     ]
    },
    {
     "name": "stdout",
     "output_type": "stream",
     "text": [
      "Epoch [138/300], Train Loss: 0.0020, Val Loss: 0.0014\n",
      "Epoch 138/300 completed in 0.91 seconds.\n"
     ]
    },
    {
     "name": "stdout",
     "output_type": "stream",
     "text": [
      "Epoch [139/300], Train Loss: 0.0023, Val Loss: 0.0009\n",
      "Epoch 139/300 completed in 0.91 seconds.\n"
     ]
    },
    {
     "name": "stdout",
     "output_type": "stream",
     "text": [
      "Epoch [140/300], Train Loss: 0.0021, Val Loss: 0.0008\n",
      "Epoch 140/300 completed in 1.06 seconds.\n"
     ]
    },
    {
     "name": "stdout",
     "output_type": "stream",
     "text": [
      "Epoch [141/300], Train Loss: 0.0022, Val Loss: 0.0009\n",
      "Epoch 141/300 completed in 0.91 seconds.\n"
     ]
    },
    {
     "name": "stdout",
     "output_type": "stream",
     "text": [
      "Epoch [142/300], Train Loss: 0.0020, Val Loss: 0.0010\n",
      "Epoch 142/300 completed in 1.17 seconds.\n"
     ]
    },
    {
     "name": "stdout",
     "output_type": "stream",
     "text": [
      "Epoch [143/300], Train Loss: 0.0019, Val Loss: 0.0010\n",
      "Epoch 143/300 completed in 1.21 seconds.\n"
     ]
    },
    {
     "name": "stdout",
     "output_type": "stream",
     "text": [
      "Epoch [144/300], Train Loss: 0.0019, Val Loss: 0.0008\n",
      "Epoch 144/300 completed in 1.13 seconds.\n"
     ]
    },
    {
     "name": "stdout",
     "output_type": "stream",
     "text": [
      "Epoch [145/300], Train Loss: 0.0021, Val Loss: 0.0012\n",
      "Epoch 145/300 completed in 1.42 seconds.\n"
     ]
    },
    {
     "name": "stdout",
     "output_type": "stream",
     "text": [
      "Epoch [146/300], Train Loss: 0.0020, Val Loss: 0.0016\n",
      "Epoch 146/300 completed in 1.13 seconds.\n"
     ]
    },
    {
     "name": "stdout",
     "output_type": "stream",
     "text": [
      "Epoch [147/300], Train Loss: 0.0018, Val Loss: 0.0012\n",
      "Epoch 147/300 completed in 0.96 seconds.\n"
     ]
    },
    {
     "name": "stdout",
     "output_type": "stream",
     "text": [
      "Epoch [148/300], Train Loss: 0.0022, Val Loss: 0.0009\n",
      "Epoch 148/300 completed in 1.13 seconds.\n"
     ]
    },
    {
     "name": "stdout",
     "output_type": "stream",
     "text": [
      "Epoch [149/300], Train Loss: 0.0018, Val Loss: 0.0011\n",
      "Epoch 149/300 completed in 0.92 seconds.\n"
     ]
    },
    {
     "name": "stdout",
     "output_type": "stream",
     "text": [
      "Epoch [150/300], Train Loss: 0.0018, Val Loss: 0.0014\n",
      "Model saved: ./output_model/best_model_epoch_150.pth\n",
      "Epoch 150/300 completed in 0.92 seconds.\n"
     ]
    },
    {
     "name": "stdout",
     "output_type": "stream",
     "text": [
      "Epoch [151/300], Train Loss: 0.0022, Val Loss: 0.0011\n",
      "Epoch 151/300 completed in 1.12 seconds.\n"
     ]
    },
    {
     "name": "stdout",
     "output_type": "stream",
     "text": [
      "Epoch [152/300], Train Loss: 0.0021, Val Loss: 0.0010\n",
      "Epoch 152/300 completed in 0.86 seconds.\n"
     ]
    },
    {
     "name": "stdout",
     "output_type": "stream",
     "text": [
      "Epoch [153/300], Train Loss: 0.0023, Val Loss: 0.0009\n",
      "Epoch 153/300 completed in 1.15 seconds.\n"
     ]
    },
    {
     "name": "stdout",
     "output_type": "stream",
     "text": [
      "Epoch [154/300], Train Loss: 0.0022, Val Loss: 0.0009\n",
      "Epoch 154/300 completed in 1.10 seconds.\n"
     ]
    },
    {
     "name": "stdout",
     "output_type": "stream",
     "text": [
      "Epoch [155/300], Train Loss: 0.0025, Val Loss: 0.0012\n",
      "Epoch 155/300 completed in 1.15 seconds.\n"
     ]
    },
    {
     "name": "stdout",
     "output_type": "stream",
     "text": [
      "Epoch [156/300], Train Loss: 0.0023, Val Loss: 0.0017\n",
      "Epoch 156/300 completed in 0.95 seconds.\n"
     ]
    },
    {
     "name": "stdout",
     "output_type": "stream",
     "text": [
      "Epoch [157/300], Train Loss: 0.0020, Val Loss: 0.0020\n",
      "Epoch 157/300 completed in 1.15 seconds.\n"
     ]
    },
    {
     "name": "stdout",
     "output_type": "stream",
     "text": [
      "Epoch [158/300], Train Loss: 0.0019, Val Loss: 0.0010\n",
      "Epoch 158/300 completed in 1.28 seconds.\n"
     ]
    },
    {
     "name": "stdout",
     "output_type": "stream",
     "text": [
      "Epoch [159/300], Train Loss: 0.0018, Val Loss: 0.0014\n",
      "Epoch 159/300 completed in 0.95 seconds.\n"
     ]
    },
    {
     "name": "stdout",
     "output_type": "stream",
     "text": [
      "Epoch [160/300], Train Loss: 0.0020, Val Loss: 0.0025\n",
      "Epoch 160/300 completed in 1.13 seconds.\n"
     ]
    },
    {
     "name": "stdout",
     "output_type": "stream",
     "text": [
      "Epoch [161/300], Train Loss: 0.0022, Val Loss: 0.0010\n",
      "Epoch 161/300 completed in 1.13 seconds.\n"
     ]
    },
    {
     "name": "stdout",
     "output_type": "stream",
     "text": [
      "Epoch [162/300], Train Loss: 0.0020, Val Loss: 0.0012\n",
      "Epoch 162/300 completed in 1.07 seconds.\n"
     ]
    },
    {
     "name": "stdout",
     "output_type": "stream",
     "text": [
      "Epoch [163/300], Train Loss: 0.0019, Val Loss: 0.0012\n",
      "Epoch 163/300 completed in 1.02 seconds.\n"
     ]
    },
    {
     "name": "stdout",
     "output_type": "stream",
     "text": [
      "Epoch [164/300], Train Loss: 0.0018, Val Loss: 0.0022\n",
      "Epoch 164/300 completed in 1.05 seconds.\n"
     ]
    },
    {
     "name": "stdout",
     "output_type": "stream",
     "text": [
      "Epoch [165/300], Train Loss: 0.0022, Val Loss: 0.0009\n",
      "Epoch 165/300 completed in 0.95 seconds.\n"
     ]
    },
    {
     "name": "stdout",
     "output_type": "stream",
     "text": [
      "Epoch [166/300], Train Loss: 0.0018, Val Loss: 0.0011\n",
      "Epoch 166/300 completed in 1.36 seconds.\n"
     ]
    },
    {
     "name": "stdout",
     "output_type": "stream",
     "text": [
      "Epoch [167/300], Train Loss: 0.0022, Val Loss: 0.0011\n",
      "Epoch 167/300 completed in 0.95 seconds.\n"
     ]
    },
    {
     "name": "stdout",
     "output_type": "stream",
     "text": [
      "Epoch [168/300], Train Loss: 0.0020, Val Loss: 0.0013\n",
      "Epoch 168/300 completed in 1.04 seconds.\n"
     ]
    },
    {
     "name": "stdout",
     "output_type": "stream",
     "text": [
      "Epoch [169/300], Train Loss: 0.0018, Val Loss: 0.0010\n",
      "Epoch 169/300 completed in 0.85 seconds.\n"
     ]
    },
    {
     "name": "stdout",
     "output_type": "stream",
     "text": [
      "Epoch [170/300], Train Loss: 0.0022, Val Loss: 0.0012\n",
      "Epoch 170/300 completed in 0.95 seconds.\n"
     ]
    },
    {
     "name": "stdout",
     "output_type": "stream",
     "text": [
      "Epoch [171/300], Train Loss: 0.0019, Val Loss: 0.0010\n",
      "Epoch 171/300 completed in 1.03 seconds.\n"
     ]
    },
    {
     "name": "stdout",
     "output_type": "stream",
     "text": [
      "Epoch [172/300], Train Loss: 0.0022, Val Loss: 0.0014\n",
      "Epoch 172/300 completed in 0.86 seconds.\n"
     ]
    },
    {
     "name": "stdout",
     "output_type": "stream",
     "text": [
      "Epoch [173/300], Train Loss: 0.0018, Val Loss: 0.0010\n",
      "Epoch 173/300 completed in 0.94 seconds.\n"
     ]
    },
    {
     "name": "stdout",
     "output_type": "stream",
     "text": [
      "Epoch [174/300], Train Loss: 0.0017, Val Loss: 0.0012\n",
      "Epoch 174/300 completed in 0.96 seconds.\n"
     ]
    },
    {
     "name": "stdout",
     "output_type": "stream",
     "text": [
      "Epoch [175/300], Train Loss: 0.0023, Val Loss: 0.0025\n",
      "Epoch 175/300 completed in 0.93 seconds.\n"
     ]
    },
    {
     "name": "stdout",
     "output_type": "stream",
     "text": [
      "Epoch [176/300], Train Loss: 0.0020, Val Loss: 0.0011\n",
      "Epoch 176/300 completed in 0.91 seconds.\n"
     ]
    },
    {
     "name": "stdout",
     "output_type": "stream",
     "text": [
      "Epoch [177/300], Train Loss: 0.0019, Val Loss: 0.0024\n",
      "Epoch 177/300 completed in 1.08 seconds.\n"
     ]
    },
    {
     "name": "stdout",
     "output_type": "stream",
     "text": [
      "Epoch [178/300], Train Loss: 0.0019, Val Loss: 0.0017\n",
      "Epoch 178/300 completed in 0.91 seconds.\n"
     ]
    },
    {
     "name": "stdout",
     "output_type": "stream",
     "text": [
      "Epoch [179/300], Train Loss: 0.0019, Val Loss: 0.0015\n",
      "Epoch 179/300 completed in 0.95 seconds.\n"
     ]
    },
    {
     "name": "stdout",
     "output_type": "stream",
     "text": [
      "Epoch [180/300], Train Loss: 0.0019, Val Loss: 0.0017\n",
      "Epoch 180/300 completed in 1.07 seconds.\n"
     ]
    },
    {
     "name": "stdout",
     "output_type": "stream",
     "text": [
      "Epoch [181/300], Train Loss: 0.0017, Val Loss: 0.0024\n",
      "Epoch 181/300 completed in 1.13 seconds.\n"
     ]
    },
    {
     "name": "stdout",
     "output_type": "stream",
     "text": [
      "Epoch [182/300], Train Loss: 0.0019, Val Loss: 0.0013\n",
      "Epoch 182/300 completed in 0.91 seconds.\n"
     ]
    },
    {
     "name": "stdout",
     "output_type": "stream",
     "text": [
      "Epoch [183/300], Train Loss: 0.0021, Val Loss: 0.0013\n",
      "Epoch 183/300 completed in 0.94 seconds.\n"
     ]
    },
    {
     "name": "stdout",
     "output_type": "stream",
     "text": [
      "Epoch [184/300], Train Loss: 0.0020, Val Loss: 0.0010\n",
      "Epoch 184/300 completed in 1.09 seconds.\n"
     ]
    },
    {
     "name": "stdout",
     "output_type": "stream",
     "text": [
      "Epoch [185/300], Train Loss: 0.0017, Val Loss: 0.0011\n",
      "Epoch 185/300 completed in 1.00 seconds.\n"
     ]
    },
    {
     "name": "stdout",
     "output_type": "stream",
     "text": [
      "Epoch [186/300], Train Loss: 0.0021, Val Loss: 0.0017\n",
      "Epoch 186/300 completed in 1.02 seconds.\n"
     ]
    },
    {
     "name": "stdout",
     "output_type": "stream",
     "text": [
      "Epoch [187/300], Train Loss: 0.0021, Val Loss: 0.0019\n",
      "Epoch 187/300 completed in 0.96 seconds.\n"
     ]
    },
    {
     "name": "stdout",
     "output_type": "stream",
     "text": [
      "Epoch [188/300], Train Loss: 0.0022, Val Loss: 0.0022\n",
      "Epoch 188/300 completed in 1.08 seconds.\n"
     ]
    },
    {
     "name": "stdout",
     "output_type": "stream",
     "text": [
      "Epoch [189/300], Train Loss: 0.0017, Val Loss: 0.0021\n",
      "Epoch 189/300 completed in 0.94 seconds.\n"
     ]
    },
    {
     "name": "stdout",
     "output_type": "stream",
     "text": [
      "Epoch [190/300], Train Loss: 0.0018, Val Loss: 0.0019\n",
      "Epoch 190/300 completed in 1.11 seconds.\n"
     ]
    },
    {
     "name": "stdout",
     "output_type": "stream",
     "text": [
      "Epoch [191/300], Train Loss: 0.0018, Val Loss: 0.0017\n",
      "Epoch 191/300 completed in 1.02 seconds.\n"
     ]
    },
    {
     "name": "stdout",
     "output_type": "stream",
     "text": [
      "Epoch [192/300], Train Loss: 0.0019, Val Loss: 0.0020\n",
      "Epoch 192/300 completed in 0.86 seconds.\n"
     ]
    },
    {
     "name": "stdout",
     "output_type": "stream",
     "text": [
      "Epoch [193/300], Train Loss: 0.0018, Val Loss: 0.0016\n",
      "Epoch 193/300 completed in 1.11 seconds.\n"
     ]
    },
    {
     "name": "stdout",
     "output_type": "stream",
     "text": [
      "Epoch [194/300], Train Loss: 0.0019, Val Loss: 0.0018\n",
      "Epoch 194/300 completed in 0.88 seconds.\n"
     ]
    },
    {
     "name": "stdout",
     "output_type": "stream",
     "text": [
      "Epoch [195/300], Train Loss: 0.0020, Val Loss: 0.0013\n",
      "Epoch 195/300 completed in 0.87 seconds.\n"
     ]
    },
    {
     "name": "stdout",
     "output_type": "stream",
     "text": [
      "Epoch [196/300], Train Loss: 0.0019, Val Loss: 0.0015\n",
      "Epoch 196/300 completed in 0.88 seconds.\n"
     ]
    },
    {
     "name": "stdout",
     "output_type": "stream",
     "text": [
      "Epoch [197/300], Train Loss: 0.0020, Val Loss: 0.0016\n",
      "Epoch 197/300 completed in 0.98 seconds.\n"
     ]
    },
    {
     "name": "stdout",
     "output_type": "stream",
     "text": [
      "Epoch [198/300], Train Loss: 0.0019, Val Loss: 0.0016\n",
      "Epoch 198/300 completed in 1.05 seconds.\n"
     ]
    },
    {
     "name": "stdout",
     "output_type": "stream",
     "text": [
      "Epoch [199/300], Train Loss: 0.0017, Val Loss: 0.0012\n",
      "Epoch 199/300 completed in 0.90 seconds.\n"
     ]
    },
    {
     "name": "stdout",
     "output_type": "stream",
     "text": [
      "Epoch [200/300], Train Loss: 0.0020, Val Loss: 0.0020\n",
      "Model saved: ./output_model/best_model_epoch_200.pth\n",
      "Epoch 200/300 completed in 0.89 seconds.\n"
     ]
    },
    {
     "name": "stdout",
     "output_type": "stream",
     "text": [
      "Epoch [201/300], Train Loss: 0.0019, Val Loss: 0.0013\n",
      "Epoch 201/300 completed in 1.04 seconds.\n"
     ]
    },
    {
     "name": "stdout",
     "output_type": "stream",
     "text": [
      "Epoch [202/300], Train Loss: 0.0017, Val Loss: 0.0015\n",
      "Epoch 202/300 completed in 1.14 seconds.\n"
     ]
    },
    {
     "name": "stdout",
     "output_type": "stream",
     "text": [
      "Epoch [203/300], Train Loss: 0.0018, Val Loss: 0.0018\n",
      "Epoch 203/300 completed in 1.05 seconds.\n"
     ]
    },
    {
     "name": "stdout",
     "output_type": "stream",
     "text": [
      "Epoch [204/300], Train Loss: 0.0017, Val Loss: 0.0013\n",
      "Epoch 204/300 completed in 0.93 seconds.\n"
     ]
    },
    {
     "name": "stdout",
     "output_type": "stream",
     "text": [
      "Epoch [205/300], Train Loss: 0.0020, Val Loss: 0.0015\n",
      "Epoch 205/300 completed in 1.00 seconds.\n"
     ]
    },
    {
     "name": "stdout",
     "output_type": "stream",
     "text": [
      "Epoch [206/300], Train Loss: 0.0021, Val Loss: 0.0018\n",
      "Epoch 206/300 completed in 0.89 seconds.\n"
     ]
    },
    {
     "name": "stdout",
     "output_type": "stream",
     "text": [
      "Epoch [207/300], Train Loss: 0.0033, Val Loss: 0.0035\n",
      "Epoch 207/300 completed in 1.00 seconds.\n"
     ]
    },
    {
     "name": "stdout",
     "output_type": "stream",
     "text": [
      "Epoch [208/300], Train Loss: 0.0019, Val Loss: 0.0015\n",
      "Epoch 208/300 completed in 0.86 seconds.\n"
     ]
    },
    {
     "name": "stdout",
     "output_type": "stream",
     "text": [
      "Epoch [209/300], Train Loss: 0.0017, Val Loss: 0.0016\n",
      "Epoch 209/300 completed in 0.85 seconds.\n"
     ]
    },
    {
     "name": "stdout",
     "output_type": "stream",
     "text": [
      "Epoch [210/300], Train Loss: 0.0019, Val Loss: 0.0028\n",
      "Epoch 210/300 completed in 1.07 seconds.\n"
     ]
    },
    {
     "name": "stdout",
     "output_type": "stream",
     "text": [
      "Epoch [211/300], Train Loss: 0.0017, Val Loss: 0.0019\n",
      "Epoch 211/300 completed in 0.84 seconds.\n"
     ]
    },
    {
     "name": "stdout",
     "output_type": "stream",
     "text": [
      "Epoch [212/300], Train Loss: 0.0021, Val Loss: 0.0023\n",
      "Epoch 212/300 completed in 1.06 seconds.\n"
     ]
    },
    {
     "name": "stdout",
     "output_type": "stream",
     "text": [
      "Epoch [213/300], Train Loss: 0.0018, Val Loss: 0.0014\n",
      "Epoch 213/300 completed in 0.88 seconds.\n"
     ]
    },
    {
     "name": "stdout",
     "output_type": "stream",
     "text": [
      "Epoch [214/300], Train Loss: 0.0018, Val Loss: 0.0017\n",
      "Epoch 214/300 completed in 1.03 seconds.\n"
     ]
    },
    {
     "name": "stdout",
     "output_type": "stream",
     "text": [
      "Epoch [215/300], Train Loss: 0.0017, Val Loss: 0.0013\n",
      "Epoch 215/300 completed in 0.87 seconds.\n"
     ]
    },
    {
     "name": "stdout",
     "output_type": "stream",
     "text": [
      "Epoch [216/300], Train Loss: 0.0020, Val Loss: 0.0019\n",
      "Epoch 216/300 completed in 1.00 seconds.\n"
     ]
    },
    {
     "name": "stdout",
     "output_type": "stream",
     "text": [
      "Epoch [217/300], Train Loss: 0.0018, Val Loss: 0.0026\n",
      "Epoch 217/300 completed in 0.95 seconds.\n"
     ]
    },
    {
     "name": "stdout",
     "output_type": "stream",
     "text": [
      "Epoch [218/300], Train Loss: 0.0017, Val Loss: 0.0013\n",
      "Epoch 218/300 completed in 0.88 seconds.\n"
     ]
    },
    {
     "name": "stdout",
     "output_type": "stream",
     "text": [
      "Epoch [219/300], Train Loss: 0.0018, Val Loss: 0.0014\n",
      "Epoch 219/300 completed in 1.06 seconds.\n"
     ]
    },
    {
     "name": "stdout",
     "output_type": "stream",
     "text": [
      "Epoch [220/300], Train Loss: 0.0018, Val Loss: 0.0017\n",
      "Epoch 220/300 completed in 0.91 seconds.\n"
     ]
    },
    {
     "name": "stdout",
     "output_type": "stream",
     "text": [
      "Epoch [221/300], Train Loss: 0.0018, Val Loss: 0.0014\n",
      "Epoch 221/300 completed in 0.97 seconds.\n"
     ]
    },
    {
     "name": "stdout",
     "output_type": "stream",
     "text": [
      "Epoch [222/300], Train Loss: 0.0017, Val Loss: 0.0032\n",
      "Epoch 222/300 completed in 1.13 seconds.\n"
     ]
    },
    {
     "name": "stdout",
     "output_type": "stream",
     "text": [
      "Epoch [223/300], Train Loss: 0.0019, Val Loss: 0.0016\n",
      "Epoch 223/300 completed in 0.91 seconds.\n"
     ]
    },
    {
     "name": "stdout",
     "output_type": "stream",
     "text": [
      "Epoch [224/300], Train Loss: 0.0018, Val Loss: 0.0013\n",
      "Epoch 224/300 completed in 1.12 seconds.\n"
     ]
    },
    {
     "name": "stdout",
     "output_type": "stream",
     "text": [
      "Epoch [225/300], Train Loss: 0.0017, Val Loss: 0.0019\n",
      "Epoch 225/300 completed in 0.91 seconds.\n"
     ]
    },
    {
     "name": "stdout",
     "output_type": "stream",
     "text": [
      "Epoch [226/300], Train Loss: 0.0018, Val Loss: 0.0021\n",
      "Epoch 226/300 completed in 1.12 seconds.\n"
     ]
    },
    {
     "name": "stdout",
     "output_type": "stream",
     "text": [
      "Epoch [227/300], Train Loss: 0.0019, Val Loss: 0.0017\n",
      "Epoch 227/300 completed in 0.89 seconds.\n"
     ]
    },
    {
     "name": "stdout",
     "output_type": "stream",
     "text": [
      "Epoch [228/300], Train Loss: 0.0019, Val Loss: 0.0019\n",
      "Epoch 228/300 completed in 1.02 seconds.\n"
     ]
    },
    {
     "name": "stdout",
     "output_type": "stream",
     "text": [
      "Epoch [229/300], Train Loss: 0.0016, Val Loss: 0.0022\n",
      "Epoch 229/300 completed in 1.00 seconds.\n"
     ]
    },
    {
     "name": "stdout",
     "output_type": "stream",
     "text": [
      "Epoch [230/300], Train Loss: 0.0023, Val Loss: 0.0016\n",
      "Epoch 230/300 completed in 0.86 seconds.\n"
     ]
    },
    {
     "name": "stdout",
     "output_type": "stream",
     "text": [
      "Epoch [231/300], Train Loss: 0.0021, Val Loss: 0.0015\n",
      "Epoch 231/300 completed in 0.87 seconds.\n"
     ]
    },
    {
     "name": "stdout",
     "output_type": "stream",
     "text": [
      "Epoch [232/300], Train Loss: 0.0017, Val Loss: 0.0015\n",
      "Epoch 232/300 completed in 0.85 seconds.\n"
     ]
    },
    {
     "name": "stdout",
     "output_type": "stream",
     "text": [
      "Epoch [233/300], Train Loss: 0.0018, Val Loss: 0.0012\n",
      "Epoch 233/300 completed in 0.92 seconds.\n"
     ]
    },
    {
     "name": "stdout",
     "output_type": "stream",
     "text": [
      "Epoch [234/300], Train Loss: 0.0017, Val Loss: 0.0018\n",
      "Epoch 234/300 completed in 1.32 seconds.\n"
     ]
    },
    {
     "name": "stdout",
     "output_type": "stream",
     "text": [
      "Epoch [235/300], Train Loss: 0.0019, Val Loss: 0.0021\n",
      "Epoch 235/300 completed in 1.05 seconds.\n"
     ]
    },
    {
     "name": "stdout",
     "output_type": "stream",
     "text": [
      "Epoch [236/300], Train Loss: 0.0019, Val Loss: 0.0019\n",
      "Epoch 236/300 completed in 1.09 seconds.\n"
     ]
    },
    {
     "name": "stdout",
     "output_type": "stream",
     "text": [
      "Epoch [237/300], Train Loss: 0.0016, Val Loss: 0.0015\n",
      "Epoch 237/300 completed in 1.02 seconds.\n"
     ]
    },
    {
     "name": "stdout",
     "output_type": "stream",
     "text": [
      "Epoch [238/300], Train Loss: 0.0018, Val Loss: 0.0020\n",
      "Epoch 238/300 completed in 0.93 seconds.\n"
     ]
    },
    {
     "name": "stdout",
     "output_type": "stream",
     "text": [
      "Epoch [239/300], Train Loss: 0.0019, Val Loss: 0.0017\n",
      "Epoch 239/300 completed in 0.85 seconds.\n"
     ]
    },
    {
     "name": "stdout",
     "output_type": "stream",
     "text": [
      "Epoch [240/300], Train Loss: 0.0019, Val Loss: 0.0011\n",
      "Epoch 240/300 completed in 0.88 seconds.\n"
     ]
    },
    {
     "name": "stdout",
     "output_type": "stream",
     "text": [
      "Epoch [241/300], Train Loss: 0.0018, Val Loss: 0.0012\n",
      "Epoch 241/300 completed in 0.87 seconds.\n"
     ]
    },
    {
     "name": "stdout",
     "output_type": "stream",
     "text": [
      "Epoch [242/300], Train Loss: 0.0018, Val Loss: 0.0017\n",
      "Epoch 242/300 completed in 0.84 seconds.\n"
     ]
    },
    {
     "name": "stdout",
     "output_type": "stream",
     "text": [
      "Epoch [243/300], Train Loss: 0.0017, Val Loss: 0.0015\n",
      "Epoch 243/300 completed in 0.90 seconds.\n"
     ]
    },
    {
     "name": "stdout",
     "output_type": "stream",
     "text": [
      "Epoch [244/300], Train Loss: 0.0020, Val Loss: 0.0018\n",
      "Epoch 244/300 completed in 1.09 seconds.\n"
     ]
    },
    {
     "name": "stdout",
     "output_type": "stream",
     "text": [
      "Epoch [245/300], Train Loss: 0.0016, Val Loss: 0.0015\n",
      "Epoch 245/300 completed in 0.85 seconds.\n"
     ]
    },
    {
     "name": "stdout",
     "output_type": "stream",
     "text": [
      "Epoch [246/300], Train Loss: 0.0016, Val Loss: 0.0016\n",
      "Epoch 246/300 completed in 0.91 seconds.\n"
     ]
    },
    {
     "name": "stdout",
     "output_type": "stream",
     "text": [
      "Epoch [247/300], Train Loss: 0.0018, Val Loss: 0.0012\n",
      "Epoch 247/300 completed in 1.08 seconds.\n"
     ]
    },
    {
     "name": "stdout",
     "output_type": "stream",
     "text": [
      "Epoch [248/300], Train Loss: 0.0017, Val Loss: 0.0017\n",
      "Epoch 248/300 completed in 0.91 seconds.\n"
     ]
    },
    {
     "name": "stdout",
     "output_type": "stream",
     "text": [
      "Epoch [249/300], Train Loss: 0.0017, Val Loss: 0.0014\n",
      "Epoch 249/300 completed in 1.09 seconds.\n"
     ]
    },
    {
     "name": "stdout",
     "output_type": "stream",
     "text": [
      "Epoch [250/300], Train Loss: 0.0017, Val Loss: 0.0017\n",
      "Model saved: ./output_model/best_model_epoch_250.pth\n",
      "Epoch 250/300 completed in 0.91 seconds.\n"
     ]
    },
    {
     "name": "stdout",
     "output_type": "stream",
     "text": [
      "Epoch [251/300], Train Loss: 0.0017, Val Loss: 0.0021\n",
      "Epoch 251/300 completed in 0.91 seconds.\n"
     ]
    },
    {
     "name": "stdout",
     "output_type": "stream",
     "text": [
      "Epoch [252/300], Train Loss: 0.0018, Val Loss: 0.0018\n",
      "Epoch 252/300 completed in 0.93 seconds.\n"
     ]
    },
    {
     "name": "stdout",
     "output_type": "stream",
     "text": [
      "Epoch [253/300], Train Loss: 0.0020, Val Loss: 0.0020\n",
      "Epoch 253/300 completed in 1.06 seconds.\n"
     ]
    },
    {
     "name": "stdout",
     "output_type": "stream",
     "text": [
      "Epoch [254/300], Train Loss: 0.0016, Val Loss: 0.0025\n",
      "Epoch 254/300 completed in 0.93 seconds.\n"
     ]
    },
    {
     "name": "stdout",
     "output_type": "stream",
     "text": [
      "Epoch [255/300], Train Loss: 0.0017, Val Loss: 0.0015\n",
      "Epoch 255/300 completed in 0.89 seconds.\n"
     ]
    },
    {
     "name": "stdout",
     "output_type": "stream",
     "text": [
      "Epoch [256/300], Train Loss: 0.0019, Val Loss: 0.0013\n",
      "Epoch 256/300 completed in 1.18 seconds.\n"
     ]
    },
    {
     "name": "stdout",
     "output_type": "stream",
     "text": [
      "Epoch [257/300], Train Loss: 0.0020, Val Loss: 0.0013\n",
      "Epoch 257/300 completed in 1.14 seconds.\n"
     ]
    },
    {
     "name": "stdout",
     "output_type": "stream",
     "text": [
      "Epoch [258/300], Train Loss: 0.0018, Val Loss: 0.0016\n",
      "Epoch 258/300 completed in 1.12 seconds.\n"
     ]
    },
    {
     "name": "stdout",
     "output_type": "stream",
     "text": [
      "Epoch [259/300], Train Loss: 0.0016, Val Loss: 0.0016\n",
      "Epoch 259/300 completed in 1.13 seconds.\n"
     ]
    },
    {
     "name": "stdout",
     "output_type": "stream",
     "text": [
      "Epoch [260/300], Train Loss: 0.0018, Val Loss: 0.0012\n",
      "Epoch 260/300 completed in 0.92 seconds.\n"
     ]
    },
    {
     "name": "stdout",
     "output_type": "stream",
     "text": [
      "Epoch [261/300], Train Loss: 0.0018, Val Loss: 0.0018\n",
      "Epoch 261/300 completed in 1.13 seconds.\n"
     ]
    },
    {
     "name": "stdout",
     "output_type": "stream",
     "text": [
      "Epoch [262/300], Train Loss: 0.0017, Val Loss: 0.0013\n",
      "Epoch 262/300 completed in 0.89 seconds.\n"
     ]
    },
    {
     "name": "stdout",
     "output_type": "stream",
     "text": [
      "Epoch [263/300], Train Loss: 0.0018, Val Loss: 0.0014\n",
      "Epoch 263/300 completed in 1.09 seconds.\n"
     ]
    },
    {
     "name": "stdout",
     "output_type": "stream",
     "text": [
      "Epoch [264/300], Train Loss: 0.0018, Val Loss: 0.0020\n",
      "Epoch 264/300 completed in 0.86 seconds.\n"
     ]
    },
    {
     "name": "stdout",
     "output_type": "stream",
     "text": [
      "Epoch [265/300], Train Loss: 0.0018, Val Loss: 0.0016\n",
      "Epoch 265/300 completed in 1.06 seconds.\n"
     ]
    },
    {
     "name": "stdout",
     "output_type": "stream",
     "text": [
      "Epoch [266/300], Train Loss: 0.0018, Val Loss: 0.0015\n",
      "Epoch 266/300 completed in 0.95 seconds.\n"
     ]
    },
    {
     "name": "stdout",
     "output_type": "stream",
     "text": [
      "Epoch [267/300], Train Loss: 0.0018, Val Loss: 0.0012\n",
      "Epoch 267/300 completed in 0.86 seconds.\n"
     ]
    },
    {
     "name": "stdout",
     "output_type": "stream",
     "text": [
      "Epoch [268/300], Train Loss: 0.0018, Val Loss: 0.0013\n",
      "Epoch 268/300 completed in 1.01 seconds.\n"
     ]
    },
    {
     "name": "stdout",
     "output_type": "stream",
     "text": [
      "Epoch [269/300], Train Loss: 0.0017, Val Loss: 0.0014\n",
      "Epoch 269/300 completed in 0.90 seconds.\n"
     ]
    },
    {
     "name": "stdout",
     "output_type": "stream",
     "text": [
      "Epoch [270/300], Train Loss: 0.0018, Val Loss: 0.0012\n",
      "Epoch 270/300 completed in 1.05 seconds.\n"
     ]
    },
    {
     "name": "stdout",
     "output_type": "stream",
     "text": [
      "Epoch [271/300], Train Loss: 0.0019, Val Loss: 0.0016\n",
      "Epoch 271/300 completed in 0.84 seconds.\n"
     ]
    },
    {
     "name": "stdout",
     "output_type": "stream",
     "text": [
      "Epoch [272/300], Train Loss: 0.0016, Val Loss: 0.0017\n",
      "Epoch 272/300 completed in 1.06 seconds.\n"
     ]
    },
    {
     "name": "stdout",
     "output_type": "stream",
     "text": [
      "Epoch [273/300], Train Loss: 0.0017, Val Loss: 0.0015\n",
      "Epoch 273/300 completed in 0.90 seconds.\n"
     ]
    },
    {
     "name": "stdout",
     "output_type": "stream",
     "text": [
      "Epoch [274/300], Train Loss: 0.0018, Val Loss: 0.0013\n",
      "Epoch 274/300 completed in 1.13 seconds.\n"
     ]
    },
    {
     "name": "stdout",
     "output_type": "stream",
     "text": [
      "Epoch [275/300], Train Loss: 0.0019, Val Loss: 0.0012\n",
      "Epoch 275/300 completed in 0.89 seconds.\n"
     ]
    },
    {
     "name": "stdout",
     "output_type": "stream",
     "text": [
      "Epoch [276/300], Train Loss: 0.0018, Val Loss: 0.0020\n",
      "Epoch 276/300 completed in 1.13 seconds.\n"
     ]
    },
    {
     "name": "stdout",
     "output_type": "stream",
     "text": [
      "Epoch [277/300], Train Loss: 0.0017, Val Loss: 0.0018\n",
      "Epoch 277/300 completed in 0.86 seconds.\n"
     ]
    },
    {
     "name": "stdout",
     "output_type": "stream",
     "text": [
      "Epoch [278/300], Train Loss: 0.0016, Val Loss: 0.0015\n",
      "Epoch 278/300 completed in 0.92 seconds.\n"
     ]
    },
    {
     "name": "stdout",
     "output_type": "stream",
     "text": [
      "Epoch [279/300], Train Loss: 0.0017, Val Loss: 0.0015\n",
      "Epoch 279/300 completed in 1.07 seconds.\n"
     ]
    },
    {
     "name": "stdout",
     "output_type": "stream",
     "text": [
      "Epoch [280/300], Train Loss: 0.0017, Val Loss: 0.0016\n",
      "Epoch 280/300 completed in 0.88 seconds.\n"
     ]
    },
    {
     "name": "stdout",
     "output_type": "stream",
     "text": [
      "Epoch [281/300], Train Loss: 0.0018, Val Loss: 0.0013\n",
      "Epoch 281/300 completed in 0.92 seconds.\n"
     ]
    },
    {
     "name": "stdout",
     "output_type": "stream",
     "text": [
      "Epoch [282/300], Train Loss: 0.0018, Val Loss: 0.0015\n",
      "Epoch 282/300 completed in 1.05 seconds.\n"
     ]
    },
    {
     "name": "stdout",
     "output_type": "stream",
     "text": [
      "Epoch [283/300], Train Loss: 0.0017, Val Loss: 0.0018\n",
      "Epoch 283/300 completed in 0.84 seconds.\n"
     ]
    },
    {
     "name": "stdout",
     "output_type": "stream",
     "text": [
      "Epoch [284/300], Train Loss: 0.0017, Val Loss: 0.0017\n",
      "Epoch 284/300 completed in 1.05 seconds.\n"
     ]
    },
    {
     "name": "stdout",
     "output_type": "stream",
     "text": [
      "Epoch [285/300], Train Loss: 0.0020, Val Loss: 0.0020\n",
      "Epoch 285/300 completed in 0.83 seconds.\n"
     ]
    },
    {
     "name": "stdout",
     "output_type": "stream",
     "text": [
      "Epoch [286/300], Train Loss: 0.0021, Val Loss: 0.0017\n",
      "Epoch 286/300 completed in 1.05 seconds.\n"
     ]
    },
    {
     "name": "stdout",
     "output_type": "stream",
     "text": [
      "Epoch [287/300], Train Loss: 0.0016, Val Loss: 0.0015\n",
      "Epoch 287/300 completed in 0.85 seconds.\n"
     ]
    },
    {
     "name": "stdout",
     "output_type": "stream",
     "text": [
      "Epoch [288/300], Train Loss: 0.0017, Val Loss: 0.0013\n",
      "Epoch 288/300 completed in 0.86 seconds.\n"
     ]
    },
    {
     "name": "stdout",
     "output_type": "stream",
     "text": [
      "Epoch [289/300], Train Loss: 0.0019, Val Loss: 0.0021\n",
      "Epoch 289/300 completed in 1.00 seconds.\n"
     ]
    },
    {
     "name": "stdout",
     "output_type": "stream",
     "text": [
      "Epoch [290/300], Train Loss: 0.0016, Val Loss: 0.0015\n",
      "Epoch 290/300 completed in 0.83 seconds.\n"
     ]
    },
    {
     "name": "stdout",
     "output_type": "stream",
     "text": [
      "Epoch [291/300], Train Loss: 0.0018, Val Loss: 0.0014\n",
      "Epoch 291/300 completed in 0.85 seconds.\n"
     ]
    },
    {
     "name": "stdout",
     "output_type": "stream",
     "text": [
      "Epoch [292/300], Train Loss: 0.0018, Val Loss: 0.0016\n",
      "Epoch 292/300 completed in 0.83 seconds.\n"
     ]
    },
    {
     "name": "stdout",
     "output_type": "stream",
     "text": [
      "Epoch [293/300], Train Loss: 0.0018, Val Loss: 0.0019\n",
      "Epoch 293/300 completed in 0.88 seconds.\n"
     ]
    },
    {
     "name": "stdout",
     "output_type": "stream",
     "text": [
      "Epoch [294/300], Train Loss: 0.0018, Val Loss: 0.0016\n",
      "Epoch 294/300 completed in 0.86 seconds.\n"
     ]
    },
    {
     "name": "stdout",
     "output_type": "stream",
     "text": [
      "Epoch [295/300], Train Loss: 0.0016, Val Loss: 0.0015\n",
      "Epoch 295/300 completed in 1.03 seconds.\n"
     ]
    },
    {
     "name": "stdout",
     "output_type": "stream",
     "text": [
      "Epoch [296/300], Train Loss: 0.0017, Val Loss: 0.0015\n",
      "Epoch 296/300 completed in 0.83 seconds.\n"
     ]
    },
    {
     "name": "stdout",
     "output_type": "stream",
     "text": [
      "Epoch [297/300], Train Loss: 0.0017, Val Loss: 0.0015\n",
      "Epoch 297/300 completed in 1.01 seconds.\n"
     ]
    },
    {
     "name": "stdout",
     "output_type": "stream",
     "text": [
      "Epoch [298/300], Train Loss: 0.0018, Val Loss: 0.0013\n",
      "Epoch 298/300 completed in 0.88 seconds.\n"
     ]
    },
    {
     "name": "stdout",
     "output_type": "stream",
     "text": [
      "Epoch [299/300], Train Loss: 0.0020, Val Loss: 0.0013\n",
      "Epoch 299/300 completed in 1.04 seconds.\n"
     ]
    },
    {
     "name": "stdout",
     "output_type": "stream",
     "text": [
      "Epoch [300/300], Train Loss: 0.0017, Val Loss: 0.0014\n",
      "Model saved: ./output_model/best_model_epoch_300.pth\n",
      "Epoch 300/300 completed in 0.83 seconds.\n",
      "Total training time: 295.34 seconds.\n"
     ]
    }
   ],
   "source": [
    "import time\n",
    "import torch\n",
    "\n",
    "best_model.train()\n",
    "total_train_time = 0  # 총 학습 시간 기록 변수\n",
    "history = {'train_loss': [], 'val_loss': []}\n",
    "\n",
    "num_epochs = 300\n",
    "for epoch in range(num_epochs):  # 최종 모델 학습\n",
    "    best_model.train()\n",
    "    train_loss = 0.0\n",
    "    epoch_start_time = time.time()  # 에포크 시작 시간 기록\n",
    "    for batch_x, batch_y in train_loader:\n",
    "        batch_x = batch_x.to(device)  # 입력 데이터 차원 조정\n",
    "        batch_y = batch_y.to(device)\n",
    "        optimizer.zero_grad()\n",
    "\n",
    "        output = best_model(batch_x)\n",
    "        loss = criterion(output, batch_y)\n",
    "        loss.backward()\n",
    "        optimizer.step()\n",
    "        train_loss += loss.item()\n",
    "\n",
    "    # history가 주어지면 학습 손실 기록\n",
    "    history['train_loss'].append(train_loss / len(train_loader))\n",
    "\n",
    "    epoch_end_time = time.time()  # 에포크 종료 시간 기록\n",
    "    epoch_duration = epoch_end_time - epoch_start_time  # 한 에포크의 학습 시간\n",
    "    total_train_time += epoch_duration  # 총 학습 시간에 추가\n",
    "\n",
    "    # Validation set에서 성능 측정\n",
    "    best_model.eval()\n",
    "    val_loss = 0\n",
    "    with torch.no_grad():\n",
    "        for batch_x, batch_y in val_loader:\n",
    "            batch_x = batch_x.to(device)  # 입력 데이터 차원 조정\n",
    "            batch_y = batch_y.to(device)\n",
    "            output = best_model(batch_x)\n",
    "            loss = criterion(output, batch_y)\n",
    "            val_loss += loss.item()\n",
    "\n",
    "\n",
    "    # history가 주어지면 학습 손실 기록\n",
    "    history['val_loss'].append(val_loss / len(val_loader))\n",
    "\n",
    "    print(f'Epoch [{epoch+1}/{num_epochs}], Train Loss: {train_loss:.4f}, Val Loss: {val_loss:.4f}')\n",
    "\n",
    "    # 모델 저장\n",
    "    if (epoch + 1) % 50 == 0:\n",
    "      model_save_path = f\"./output_model/best_model_epoch_{epoch+1}.pth\"\n",
    "      torch.save({\n",
    "        'model_state_dict': best_model.state_dict(),\n",
    "        'train_losses': history['train_loss'],\n",
    "        'val_losses': history['val_loss']\n",
    "      }, model_save_path)\n",
    "      print(f\"Model saved: {model_save_path}\")\n",
    "\n",
    "    print(f\"Epoch {epoch+1}/{num_epochs} completed in {epoch_duration:.2f} seconds.\")\n",
    "\n",
    "print(f\"Total training time: {total_train_time:.2f} seconds.\")\n",
    "\n"
   ]
  },
  {
   "cell_type": "code",
   "execution_count": 17,
   "metadata": {
    "colab": {
     "base_uri": "https://localhost:8080/",
     "height": 564
    },
    "execution": {
     "iopub.execute_input": "2024-10-21T02:56:42.834402Z",
     "iopub.status.busy": "2024-10-21T02:56:42.834116Z",
     "iopub.status.idle": "2024-10-21T02:56:43.035501Z",
     "shell.execute_reply": "2024-10-21T02:56:43.034778Z"
    },
    "id": "G3KoW0moKX5j",
    "outputId": "2e276e97-4cc0-4ba0-fc4e-2fcb4e4c4324"
   },
   "outputs": [
    {
     "data": {
      "image/png": "[encoded data removed]",
      "text/plain": [
       "<Figure size 800x600 with 1 Axes>"
      ]
     },
     "metadata": {},
     "output_type": "display_data"
    }
   ],
   "source": [
    "import matplotlib.pyplot as plt\n",
    "import numpy as np\n",
    "\n",
    "# 학습 후 손실 그래프 그리기\n",
    "plt.figure(figsize=(8, 6))\n",
    "plt.plot(history['train_loss'], label='Train Loss', color='blue')\n",
    "plt.plot(history['val_loss'], label='Validation Loss', color='orange')\n",
    "plt.title('Train and Validation Loss')\n",
    "plt.xlabel('Epoch')\n",
    "plt.ylabel('Loss')\n",
    "\n",
    "# y축 범위 설정\n",
    "plt.ylim(0, 0.00035)\n",
    "\n",
    "# y축 눈금 설정 (0.0003까지 표시)\n",
    "plt.yticks(np.arange(0, 0.00031, 0.00005))\n",
    "\n",
    "# 격자 없애기\n",
    "plt.grid(False)\n",
    "\n",
    "plt.legend()\n",
    "plt.show()"
   ]
  },
  {
   "cell_type": "code",
   "execution_count": 18,
   "metadata": {
    "colab": {
     "base_uri": "https://localhost:8080/"
    },
    "execution": {
     "iopub.execute_input": "2024-10-21T02:56:43.038331Z",
     "iopub.status.busy": "2024-10-21T02:56:43.038072Z",
     "iopub.status.idle": "2024-10-21T02:56:43.049594Z",
     "shell.execute_reply": "2024-10-21T02:56:43.048887Z"
    },
    "id": "y0asv-gnH3Kz",
    "outputId": "204bd95e-107f-45b8-f8d9-80fd24b3b33d"
   },
   "outputs": [
    {
     "data": {
      "text/plain": [
       "==========================================================================================\n",
       "Layer (type:depth-idx)                   Output Shape              Param #\n",
       "==========================================================================================\n",
       "GRUModel                                 [1, 3]                    --\n",
       "├─GRU: 1-1                               [1, 10, 117]              42,822\n",
       "├─Linear: 1-2                            [1, 3]                    354\n",
       "==========================================================================================\n",
       "Total params: 43,176\n",
       "Trainable params: 43,176\n",
       "Non-trainable params: 0\n",
       "Total mult-adds (M): 0.43\n",
       "==========================================================================================\n",
       "Input size (MB): 0.00\n",
       "Forward/backward pass size (MB): 0.01\n",
       "Params size (MB): 0.17\n",
       "Estimated Total Size (MB): 0.18\n",
       "=========================================================================================="
      ]
     },
     "execution_count": 18,
     "metadata": {},
     "output_type": "execute_result"
    }
   ],
   "source": [
    "from torchinfo import summary\n",
    "\n",
    "summary(best_model, (1, 10, 3), device=device)"
   ]
  },
  {
   "cell_type": "markdown",
   "metadata": {
    "id": "DbgEfqLUH5py"
   },
   "source": [
    "## 테스트"
   ]
  },
  {
   "cell_type": "markdown",
   "metadata": {
    "id": "0MJepZORH6p-"
   },
   "source": [
    "### 1. 테스트 결과 생성"
   ]
  },
  {
   "cell_type": "markdown",
   "metadata": {
    "id": "3b5UM5eEJ8-l"
   },
   "source": [
    "#### .pth 에서 불러와서 사용할 때"
   ]
  },
  {
   "cell_type": "code",
   "execution_count": 19,
   "metadata": {
    "execution": {
     "iopub.execute_input": "2024-10-21T02:56:43.052870Z",
     "iopub.status.busy": "2024-10-21T02:56:43.052583Z",
     "iopub.status.idle": "2024-10-21T02:56:43.056406Z",
     "shell.execute_reply": "2024-10-21T02:56:43.055751Z"
    },
    "id": "dDPHqa85X1P1"
   },
   "outputs": [],
   "source": [
    "# # 모델 초기화 (저장할 때 사용한 것과 동일한 구조로)\n",
    "# model = GRUModel(input_size=3, hidden_units=best_params['n_units_l0'], output_size=3, num_layers=best_params['n_layers'])\n",
    "\n",
    "# # GPU 사용 가능 시 모델을 GPU로 이동\n",
    "# device = torch.device(\"cuda\" if torch.cuda.is_available() else \"cpu\")\n",
    "# model = model.to(device)\n",
    "\n",
    "# # 저장된 모델 가중치 불러오기\n",
    "# model.load_state_dict(torch.load(\"/content/drive/MyDrive/deep-uav/1014_lookback10_forward0/best_model_1014_epoch_300.pth\", map_location=device)[\"model_state_dict\"])\n",
    "\n",
    "# # 평가 모드로 전환 (dropout 등을 비활성화)\n",
    "# model.eval()"
   ]
  },
  {
   "cell_type": "code",
   "execution_count": 20,
   "metadata": {
    "execution": {
     "iopub.execute_input": "2024-10-21T02:56:43.059448Z",
     "iopub.status.busy": "2024-10-21T02:56:43.059169Z",
     "iopub.status.idle": "2024-10-21T02:56:43.062394Z",
     "shell.execute_reply": "2024-10-21T02:56:43.061813Z"
    },
    "id": "0x28v-ZqJ8-l"
   },
   "outputs": [],
   "source": [
    "# train_loader, val_loader, test_loader = prepare_dataloader(df, 17, 10)\n",
    "# criterion = torch.nn.MSELoss()"
   ]
  },
  {
   "cell_type": "markdown",
   "metadata": {
    "id": "8NlPUXWeJ8-m"
   },
   "source": [
    "#### pth 말고 학습하고 바로 사용할 때"
   ]
  },
  {
   "cell_type": "code",
   "execution_count": 21,
   "metadata": {
    "execution": {
     "iopub.execute_input": "2024-10-21T02:56:43.065778Z",
     "iopub.status.busy": "2024-10-21T02:56:43.065408Z",
     "iopub.status.idle": "2024-10-21T02:56:43.069581Z",
     "shell.execute_reply": "2024-10-21T02:56:43.068742Z"
    },
    "id": "a4lDLUkZYccq"
   },
   "outputs": [],
   "source": [
    "model = best_model"
   ]
  },
  {
   "cell_type": "code",
   "execution_count": 22,
   "metadata": {
    "colab": {
     "base_uri": "https://localhost:8080/"
    },
    "execution": {
     "iopub.execute_input": "2024-10-21T02:56:43.072440Z",
     "iopub.status.busy": "2024-10-21T02:56:43.072042Z",
     "iopub.status.idle": "2024-10-21T02:56:43.173265Z",
     "shell.execute_reply": "2024-10-21T02:56:43.172536Z"
    },
    "id": "vzaxhFYcH7yt",
    "outputId": "7686f812-4a4c-4ccc-c7ab-69c099f04e8e"
   },
   "outputs": [
    {
     "name": "stdout",
     "output_type": "stream",
     "text": [
      "Mean Squared Error (MSE): 1.6504840459674597e-05\n",
      "Mean Absolute Error (MAE): 0.0024152682162821293\n",
      "Accuracy: 91.36%\n",
      "Total Prediction Time: 0.0888 seconds\n"
     ]
    }
   ],
   "source": [
    "\n",
    "import numpy as np\n",
    "from sklearn.metrics import mean_squared_error, mean_absolute_error\n",
    "import torch\n",
    "import time\n",
    "\n",
    "# 모델 예측 및 성능 평가\n",
    "model.eval()\n",
    "device = torch.device('cuda' if torch.cuda.is_available() else 'cpu')\n",
    "\n",
    "test_loss = 0\n",
    "y_true_list = []\n",
    "y_pred_list = []\n",
    "total_correct = 0\n",
    "total_samples = 0\n",
    "\n",
    "threshold = 0.01  # Accuracy를 계산할 때 사용할 임계값 (오차 허용 범위)\n",
    "\n",
    "start_time = time.time()  # 예측 시작 시간 기록\n",
    "\n",
    "with torch.no_grad():\n",
    "    for batch_x, batch_y in test_loader:\n",
    "        batch_x = batch_x.to(device)\n",
    "        batch_y = batch_y.to(device)\n",
    "\n",
    "        # 예측 수행\n",
    "        output = model(batch_x)\n",
    "\n",
    "        # 손실 계산\n",
    "        loss = criterion(output, batch_y)\n",
    "        test_loss += loss.item()\n",
    "\n",
    "        # 예측값과 실제값 저장\n",
    "        y_pred_list.append(output.cpu().numpy())  # 예측값을 CPU로 이동하여 numpy 배열로 변환\n",
    "        y_true_list.append(batch_y.cpu().numpy())  # 실제값을 CPU로 이동하여 numpy 배열로 변환\n",
    "\n",
    "        # Accuracy 계산 (오차가 threshold 이하인 경우 correct로 간주)\n",
    "        y_pred_cpu = output.cpu().numpy()\n",
    "        y_true_cpu = batch_y.cpu().numpy()\n",
    "        correct = np.sum(np.linalg.norm(y_pred_cpu - y_true_cpu, axis=1) < threshold)\n",
    "        total_correct += correct\n",
    "        total_samples += len(batch_y)\n",
    "\n",
    "end_time = time.time()  # 예측 종료 시간 기록\n",
    "\n",
    "# 리스트를 numpy 배열로 변환\n",
    "y_pred = np.concatenate(y_pred_list, axis=0)\n",
    "y_true = np.concatenate(y_true_list, axis=0)\n",
    "\n",
    "# 성능 평가\n",
    "mse = mean_squared_error(y_true, y_pred)\n",
    "mae = mean_absolute_error(y_true, y_pred)\n",
    "accuracy = total_correct / total_samples\n",
    "\n",
    "# 예측 시간 계산\n",
    "prediction_time = end_time - start_time\n",
    "\n",
    "print(f'Mean Squared Error (MSE): {mse}')\n",
    "print(f'Mean Absolute Error (MAE): {mae}')\n",
    "print(f'Accuracy: {accuracy * 100:.2f}%')\n",
    "print(f'Total Prediction Time: {prediction_time:.4f} seconds')"
   ]
  },
  {
   "cell_type": "markdown",
   "metadata": {
    "id": "PG9qgq7XH-8L"
   },
   "source": [
    "### 2. 결과 시각화"
   ]
  },
  {
   "cell_type": "code",
   "execution_count": 23,
   "metadata": {
    "colab": {
     "base_uri": "https://localhost:8080/",
     "height": 675
    },
    "execution": {
     "iopub.execute_input": "2024-10-21T02:56:43.176948Z",
     "iopub.status.busy": "2024-10-21T02:56:43.176655Z",
     "iopub.status.idle": "2024-10-21T02:56:43.453218Z",
     "shell.execute_reply": "2024-10-21T02:56:43.452498Z"
    },
    "id": "wXfnDsFiIA2D",
    "outputId": "812300e3-bca9-47c7-8842-2eff8e61d17e"
   },
   "outputs": [
    {
     "data": {
      "image/png": "[encoded data removed]",
      "text/plain": [
       "<Figure size 1200x800 with 1 Axes>"
      ]
     },
     "metadata": {},
     "output_type": "display_data"
    }
   ],
   "source": [
    "prediction_visualization(y_true, y_pred)"
   ]
  },
  {
   "cell_type": "markdown",
   "metadata": {
    "id": "ptm8iw4nIEf4"
   },
   "source": [
    "#### 3. raw 데이터와 predict 데이터 비교"
   ]
  },
  {
   "cell_type": "code",
   "execution_count": 24,
   "metadata": {
    "colab": {
     "base_uri": "https://localhost:8080/",
     "height": 675
    },
    "execution": {
     "iopub.execute_input": "2024-10-21T02:56:43.460634Z",
     "iopub.status.busy": "2024-10-21T02:56:43.460307Z",
     "iopub.status.idle": "2024-10-21T02:56:43.727971Z",
     "shell.execute_reply": "2024-10-21T02:56:43.727138Z"
    },
    "id": "I3EwUG-hIGNd",
    "outputId": "668e30fb-1797-4b6c-fc9e-39f0991b7e4e"
   },
   "outputs": [
    {
     "data": {
      "image/png": "[encoded data removed]",
      "text/plain": [
       "<Figure size 1200x800 with 1 Axes>"
      ]
     },
     "metadata": {},
     "output_type": "display_data"
    }
   ],
   "source": [
    "y_pred_original = scaler.inverse_transform(y_pred)\n",
    "\n",
    "y_test_original = scaler.inverse_transform(y_true.reshape(-1, 3))\n",
    "\n",
    "prediction_visualization(y_test_original, y_pred_original)"
   ]
  }
 ],
 "metadata": {
  "accelerator": "GPU",
  "colab": {
   "collapsed_sections": [
    "G_Y5diT0_CK5",
    "Ng0CFeAZyxl2",
    "1LTSh1vXy1fg",
    "eOFln2pmy4pt",
    "-rOFnV17y8Q-",
    "Sa6ydGidy_CI",
    "0oWOIZRhDvhN",
    "fGM9fBqBfwu5",
    "RsoiT-rUcsbi",
    "94Vn_8PqFAuF",
    "sQIT3EF3FMuN",
    "KTLo_y-8e_vk"
   ],
   "gpuType": "T4",
   "provenance": []
  },
  "kernelspec": {
   "display_name": "Python 3",
   "name": "python3"
  },
  "language_info": {
   "codemirror_mode": {
    "name": "ipython",
    "version": 3
   },
   "file_extension": ".py",
   "mimetype": "text/x-python",
   "name": "python",
   "nbconvert_exporter": "python",
   "pygments_lexer": "ipython3",
   "version": "3.10.12"
  }
 },
 "nbformat": 4,
 "nbformat_minor": 0
}
